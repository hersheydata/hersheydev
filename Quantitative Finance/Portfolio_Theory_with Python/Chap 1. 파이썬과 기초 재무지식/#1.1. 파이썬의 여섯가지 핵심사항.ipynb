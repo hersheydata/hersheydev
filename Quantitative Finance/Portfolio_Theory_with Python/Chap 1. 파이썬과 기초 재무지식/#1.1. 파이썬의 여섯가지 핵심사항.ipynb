{
 "cells": [
  {
   "cell_type": "markdown",
   "metadata": {},
   "source": [
    "# Chap 1. 파이썬과 기초 재무지식"
   ]
  },
  {
   "cell_type": "markdown",
   "metadata": {},
   "source": [
    "# 1.1.4. 파이썬의 여섯 가지 핵심 사항\n",
    "> 1.1.1. ~ 1.1.3 생략\n",
    "\n",
    "* 1. 변수\n",
    "* 2. 데이터 객체 (자료구조)\n",
    "* 3. 연산자\n",
    "* 4. 흐름 제어\n",
    "* 5. 함수\n",
    "* 6. 모듈"
   ]
  },
  {
   "cell_type": "markdown",
   "metadata": {},
   "source": [
    "## 1. 변수\n",
    "\n",
    "변수는 숫자나 문자열 같은 값을 저장하는 프로그래밍 요소 중 하나다. 프로그램이 시작될 때, 변수가 만들어지고 값이 입력되면 **메모리가 할당된다.** 그리고 프로그램이 종료되면 할당된 메모리가 시스템에 반환된다.\n",
    "\n",
    "변수로 정의될 수 없는 명칭은 아래와 같다."
   ]
  },
  {
   "cell_type": "code",
   "execution_count": 2,
   "metadata": {},
   "outputs": [
    {
     "name": "stdout",
     "output_type": "stream",
     "text": [
      "['False', 'None', 'True', 'and', 'as', 'assert', 'async', 'await', 'break', 'class', 'continue', 'def', 'del', 'elif', 'else', 'except', 'finally', 'for', 'from', 'global', 'if', 'import', 'in', 'is', 'lambda', 'nonlocal', 'not', 'or', 'pass', 'raise', 'return', 'try', 'while', 'with', 'yield']\n"
     ]
    }
   ],
   "source": [
    "import keyword\n",
    "print(keyword.kwlist)"
   ]
  },
  {
   "cell_type": "code",
   "execution_count": null,
   "metadata": {},
   "outputs": [],
   "source": [
    "# 숫자형 변수\n",
    "a = 2020.24 ## type(a) = float\n",
    "a = 2020 ## type(a) = int\n",
    "\n",
    "# 문자형 변수 (string)\n",
    "a = \"Portfolio\"\n",
    "a = 'Portfolio' \n",
    "a = '\"Portfolio\"' ## print(a) => \"Portfolio\"\n",
    "a = \"'Portfolio'\" ## print(a) => 'Portfolio'\n",
    "a = '2020' ## 숫자가 아닌 문자열 2020을 가리킨다\n",
    "\n",
    "portfolio = 'Portfolio' # 변수, 그리고 변수에 할당되는 문자열"
   ]
  },
  {
   "cell_type": "markdown",
   "metadata": {},
   "source": [
    "## 2. 데이터 객체 (자료구조)\n",
    "\n",
    "파이썬은 데이터를 다루기 위한 여러가지 자료 구조를 제공한다. 데이터 객체는 하나 이상의 값을 다룰 때 편리하다. 리스트, 튜플, 딕셔너리, Set 총 4가지 주요 자료구조가 있지만 앞의 3가지를 가장 많이 활용한다. \n",
    "\n",
    "> https://towardsdatascience.com/4-must-know-python-data-structures-95bfc0844a06"
   ]
  },
  {
   "cell_type": "markdown",
   "metadata": {},
   "source": [
    "### 1) 리스트 (List)\n",
    "리스트는 여러 유형의 데이터를 한번에 저장하는 데에 사용하는 데이터 구조다. 리스트는 수정, 삭제, 추가 등과 같은 데이터 변경 작업을 자유롭게 할 수 있다. 리스트를 만들려면 대괄호([ ])를 사용하고 목록 내 원소는 콤마(,)로 구분한다."
   ]
  },
  {
   "cell_type": "markdown",
   "metadata": {},
   "source": [
    "#### 기본 정의"
   ]
  },
  {
   "cell_type": "code",
   "execution_count": 83,
   "metadata": {},
   "outputs": [],
   "source": [
    "# 비어있는 리스트 a 만들기\n",
    "a = []\n",
    "\n",
    "# 1,2,3,4,5라는 다섯 개의 항목이 들어있는 리스트 a를 만들기\n",
    "a = [1,2,3,4,5]\n",
    "\n",
    "#두 리스트 [1,2,3]과 [6,5,4]를 합쳐서 [1,2,3,6,5,4]를 만들기\n",
    "a = [1,2,3] + [6,5,4]\n",
    "\n",
    "# 리스트 [1,2,3]이 두 번 \"반복\"되는 리스트를 만들기 (상수배가 아니다 => 이건 Numpy.multiply로 진행 가능)\n",
    "a = [1,2,3] * 2"
   ]
  },
  {
   "cell_type": "markdown",
   "metadata": {},
   "source": [
    "#### 인덱싱 및 슬라이싱\n",
    "파이썬에서 리스트가 갖는 인덱싱은 아래와 같다 (순방향, 역방향)\n",
    "<img src = \"https://dschloe.github.io/img/python/basic_syntax/python-list-index.png\" width=\"60%\" height=\"60%\">"
   ]
  },
  {
   "cell_type": "code",
   "execution_count": 138,
   "metadata": {},
   "outputs": [
    {
     "name": "stdout",
     "output_type": "stream",
     "text": [
      "sample_list의 총 길이는 6이며, 순방향 기준으로 인덱스는 5까지 있습니다.\n"
     ]
    }
   ],
   "source": [
    "sample_list = [\"p\", \"y\",\"t\",\"h\",\"o\",\"n\"]\n",
    "\n",
    "print(f\"sample_list의 총 길이는 {len(sample_list)}이며, 순방향 기준으로 인덱스는 {len(sample_list)-1}까지 있습니다.\")"
   ]
  },
  {
   "cell_type": "code",
   "execution_count": 135,
   "metadata": {},
   "outputs": [
    {
     "data": {
      "text/plain": [
       "'p'"
      ]
     },
     "execution_count": 135,
     "metadata": {},
     "output_type": "execute_result"
    }
   ],
   "source": [
    "# 리스트에서 인덱스 값이 0인 첫번째 항목 p를 출력\n",
    "sample_list[0]"
   ]
  },
  {
   "cell_type": "code",
   "execution_count": 141,
   "metadata": {},
   "outputs": [
    {
     "name": "stdout",
     "output_type": "stream",
     "text": [
      "n\n"
     ]
    },
    {
     "data": {
      "text/plain": [
       "True"
      ]
     },
     "execution_count": 141,
     "metadata": {},
     "output_type": "execute_result"
    }
   ],
   "source": [
    "# 리스트에서 인덱스 값이 5인 첫번째 항목 p를 출력\n",
    "print(sample_list[5])\n",
    "\n",
    "# 중요한 것은, 순방향 기준 맨 마지막 인덱스이기 때문에 이는 곧 역방향 기준 맨 첫번째 인덱스와 같다\n",
    "sample_list[len(sample_list)-1] == sample_list[-1]"
   ]
  },
  {
   "cell_type": "code",
   "execution_count": 147,
   "metadata": {},
   "outputs": [
    {
     "data": {
      "text/plain": [
       "['p', 't', 'o']"
      ]
     },
     "execution_count": 147,
     "metadata": {},
     "output_type": "execute_result"
    }
   ],
   "source": [
    "# 슬라이싱은 인덱스를 기준으로 총 N개의 원소 중 i개의 원소만 뽑아내고자 할 때 사용한다 (단, i<=N)\n",
    "\n",
    "#전체 다 불러오기\n",
    "sample_list[:]\n",
    "\n",
    "#처음부터 3번째까지 불러오기 (range와는 다른 것이, [:3]이면 리스트의 3번째 원소를 포함해서 출력해줌)\n",
    "sample_list[:3]\n",
    "\n",
    "#특정 간격으로 불러오기\n",
    "sample_list[::2]"
   ]
  },
  {
   "cell_type": "code",
   "execution_count": 155,
   "metadata": {},
   "outputs": [
    {
     "name": "stdout",
     "output_type": "stream",
     "text": [
      "[0, 1, 2, 3, 4]\n"
     ]
    },
    {
     "data": {
      "text/plain": [
       "True"
      ]
     },
     "execution_count": 155,
     "metadata": {},
     "output_type": "execute_result"
    }
   ],
   "source": [
    "# 항목 변경(추가, 정렬, 역순 출력 등)과 삭제\n",
    "sample_list.append(\"!\") #맨 뒤에 밀어넣기\n",
    "sample_list.insert(0, \"!\") # insert(i,v) ; i번째 인덱스 위치에 v값을 밀어넣기 \n",
    "## => 인덱스 총 length가 1 늘어나면서, 기존 원소들의 인덱스들은 다 1씩 커짐 (오른쪽으로 밀림)\n",
    "\n",
    "sample_list.remove(\"p\") # remove는 원하는 원소 1개만을 삭제 가능 (중복되는 값들이 있을 경우 처음 1개만 삭제)\n",
    "sample_list.remove\n",
    "\n",
    "del (sample_list[2:5]) # 혹은 슬라이싱이나 인덱싱을 활용해서 del()로 삭제하는 것도 가능\n",
    "\n",
    "sample_list.pop() # pop은 default가 맨 뒤의 원소 하나를 삭제하는 것이고, 인자로 인덱스를 넣어줄 수 있음\n",
    "\n",
    "# 리스트와 리스트를 결합할 때 (+ 연산자말고 extend 메서드로 처리)\n",
    "a = [0, 1]\n",
    "b = [2, 3, 4]\n",
    "print(a+b) == a.extend(b)\n",
    "## 덧셈 연산자와 결과값은 동일하지만, 덧셈 연산자가 새로운 리스트를 생성하는 반면 extend()는 호출한 객체의 값이 변경됨."
   ]
  },
  {
   "cell_type": "code",
   "execution_count": 165,
   "metadata": {},
   "outputs": [
    {
     "name": "stdout",
     "output_type": "stream",
     "text": [
      "['y', 'p']\n",
      "['y', 'p']\n",
      "[1, 2, 3, 4, 5]\n",
      "[5, 4, 3, 2, 1]\n"
     ]
    },
    {
     "data": {
      "text/html": [
       "<div>\n",
       "<style scoped>\n",
       "    .dataframe tbody tr th:only-of-type {\n",
       "        vertical-align: middle;\n",
       "    }\n",
       "\n",
       "    .dataframe tbody tr th {\n",
       "        vertical-align: top;\n",
       "    }\n",
       "\n",
       "    .dataframe thead th {\n",
       "        text-align: right;\n",
       "    }\n",
       "</style>\n",
       "<table border=\"1\" class=\"dataframe\">\n",
       "  <thead>\n",
       "    <tr style=\"text-align: right;\">\n",
       "      <th></th>\n",
       "      <th>columns</th>\n",
       "    </tr>\n",
       "  </thead>\n",
       "  <tbody>\n",
       "    <tr>\n",
       "      <th>4</th>\n",
       "      <td>1</td>\n",
       "    </tr>\n",
       "    <tr>\n",
       "      <th>3</th>\n",
       "      <td>2</td>\n",
       "    </tr>\n",
       "    <tr>\n",
       "      <th>2</th>\n",
       "      <td>3</td>\n",
       "    </tr>\n",
       "    <tr>\n",
       "      <th>1</th>\n",
       "      <td>4</td>\n",
       "    </tr>\n",
       "    <tr>\n",
       "      <th>0</th>\n",
       "      <td>5</td>\n",
       "    </tr>\n",
       "  </tbody>\n",
       "</table>\n",
       "</div>"
      ],
      "text/plain": [
       "   columns\n",
       "4        1\n",
       "3        2\n",
       "2        3\n",
       "1        4\n",
       "0        5"
      ]
     },
     "execution_count": 165,
     "metadata": {},
     "output_type": "execute_result"
    }
   ],
   "source": [
    "# 기타 메서드 \n",
    "## 역순으로 리스트 원소 순서 변경\n",
    "sample_list = [\"p\", \"y\"]\n",
    "sample_list.reverse()\n",
    "print(sample_list)\n",
    "\n",
    "## 역순으로 새로운 리스트를 생성할 때는 슬라이싱을 활용 가능\n",
    "sample_list[::-1] ### 구조적으로 보면, 맨 뒤 인덱스부터 한개씩 그냥 쭉 출력하라는 의미임\n",
    "\n",
    "# 동일한 리스트를 새롭게 생성할 때는 copy()를 사용\n",
    "copy = sample_list.copy()\n",
    "print(copy)\n",
    "\n",
    "# 마지막은 정렬 !\n",
    "a = [3, 2, 1, 4, 5]\n",
    "a.sort()\n",
    "print(a)  # [1, 2, 3, 4, 5]\n",
    "\n",
    "a.sort(reverse=True)\n",
    "print(a)\n",
    "\n",
    "# pandas를 이용해서 정렬해볼 수도 있음\n",
    "import pandas as pd\n",
    "a_df = pd.DataFrame(a)\n",
    "a_df.columns = [\"columns\"]\n",
    "a_df.sort_values(by=\"columns\",ascending=False) #pd.sort_values(by=\"\",)는 default가 ascending임"
   ]
  },
  {
   "cell_type": "markdown",
   "metadata": {},
   "source": [
    "### 2) 튜플 (Tuple)\n",
    "튜플은 리스트와 비슷한 성격을 가진 자료 구조인데, 리스트와 달리 한번 지정이 되면 그 안의 원소를 변경하는 것이 불가능(immutable)하다.\n",
    "\n",
    "리스트는 [ ] (대괄호)를 사용하지만, 튜플은 ( )를 사용하며, ( )없이 콤마(,)로 값을 구분하기만 해도 튜플이 된다.\n",
    "\n",
    "변경이 불가능하다는 것은 단점처럼 보이지만, 장점일 수도 있다. 프로그램이 실행되는 동안 내용이 바뀌면 안되는 목록이 있다면 튜플을 사용하는 것이 좋다."
   ]
  },
  {
   "cell_type": "code",
   "execution_count": 3,
   "metadata": {},
   "outputs": [],
   "source": [
    "# 튜플 만들기\n",
    "a = ()\n",
    "a = (1,2,3,4,5)\n",
    "a = 1,2,3,4,5,6\n",
    "\n",
    "# 튜플도 리스트와 마찬가지로 인덱싱, 슬라이싱이 가능하며, 튜플끼리 더하거나 곱하거나 len() 함수를 이용해 길이를 구할 수 있다. "
   ]
  },
  {
   "cell_type": "markdown",
   "metadata": {},
   "source": [
    "### 3) 딕셔너리 (dictionary)\n",
    "딕셔너리는 리스트나 튜플과 많이 다른 데이터 객체다.\n",
    "\n",
    "\"사전\"이라는 이름처럼 키(key), 그리고 값(value) 한 쌍으로 데이터가 저장된다. 리스트나 튜플과 달리, 숫자로 된 인덱스가 아닌 \"키\"를 가지고 데이터를 인덱싱해야 할 경우 편리하다. (단, 키는 중복되면 안된다)"
   ]
  },
  {
   "cell_type": "code",
   "execution_count": 6,
   "metadata": {},
   "outputs": [
    {
     "name": "stdout",
     "output_type": "stream",
     "text": [
      "{'one': 1, 'two': 2, 'three': 3}\n"
     ]
    },
    {
     "data": {
      "text/plain": [
       "dict"
      ]
     },
     "execution_count": 6,
     "metadata": {},
     "output_type": "execute_result"
    }
   ],
   "source": [
    "# 딕셔너리는 {} 안에 {키: 값} 형태로 데이터가 저장된다\n",
    "a = {\"one\":1, \n",
    "     \"two\" : 2,\n",
    "    \"three\": 3}\n",
    "\n",
    "print(a)\n",
    "type(a)"
   ]
  },
  {
   "cell_type": "code",
   "execution_count": 7,
   "metadata": {},
   "outputs": [],
   "source": [
    "# 딕셔너리에 새로운 {키:값}을 추가하려면, 새로운 키를 딕셔너리에 넣고 값을 할당한다."
   ]
  },
  {
   "cell_type": "code",
   "execution_count": 10,
   "metadata": {},
   "outputs": [
    {
     "name": "stdout",
     "output_type": "stream",
     "text": [
      "{'one': 1, 'two': 2, 'three': 3, 'seven': 8}\n"
     ]
    }
   ],
   "source": [
    "a[\"seven\"] = 8 # 값을 새로 '할당'하는 것이지, 대수비교가 아니기 때문에 \"==\" 연산자는 사용하지 않는다.\n",
    "print(a)"
   ]
  },
  {
   "cell_type": "code",
   "execution_count": 11,
   "metadata": {},
   "outputs": [
    {
     "name": "stdout",
     "output_type": "stream",
     "text": [
      "{'one': 1, 'two': 2, 'three': 3, 'seven': 7}\n"
     ]
    }
   ],
   "source": [
    "# 딕셔너리를 수정하는 경우, 인덱스가 아닌 키를 사용한다. 딕셔너리에서는 키가 인덱스다.\n",
    "a[\"seven\"] = 7\n",
    "print(a)"
   ]
  },
  {
   "cell_type": "code",
   "execution_count": 12,
   "metadata": {},
   "outputs": [
    {
     "name": "stdout",
     "output_type": "stream",
     "text": [
      "{'two': 2, 'three': 3, 'seven': 7}\n"
     ]
    }
   ],
   "source": [
    "# 딕셔너리에 데이터를 추가하는 것 뿐만 아니라, 딕셔너리 항목을 삭제하는 경우에도 키를 사용한다\n",
    "del a[\"one\"]\n",
    "print(a)"
   ]
  },
  {
   "cell_type": "code",
   "execution_count": 15,
   "metadata": {},
   "outputs": [
    {
     "name": "stdout",
     "output_type": "stream",
     "text": [
      "{}\n"
     ]
    },
    {
     "data": {
      "text/plain": [
       "dict"
      ]
     },
     "execution_count": 15,
     "metadata": {},
     "output_type": "execute_result"
    }
   ],
   "source": [
    "# 모든 항목을 지우려면 clear 함수를 사용한다\n",
    "a.clear()\n",
    "print(a)\n",
    "type(a)"
   ]
  },
  {
   "cell_type": "markdown",
   "metadata": {},
   "source": [
    "딕셔너리는 키와 값을 다루기 위한 몇 가지 함수를 기본적으로 제공하고 있다."
   ]
  },
  {
   "cell_type": "code",
   "execution_count": 18,
   "metadata": {},
   "outputs": [],
   "source": [
    "a = {\"one\":1, \n",
    "     \"two\" : 2,\n",
    "    \"three\": 3}"
   ]
  },
  {
   "cell_type": "code",
   "execution_count": 23,
   "metadata": {},
   "outputs": [
    {
     "name": "stdout",
     "output_type": "stream",
     "text": [
      "one\n",
      "two\n",
      "three\n"
     ]
    }
   ],
   "source": [
    "# 딕셔너리의 키만을 모두 얻는 방법 : keys\n",
    "keys = a.keys()\n",
    "\n",
    "for k in keys:\n",
    "    print(k)"
   ]
  },
  {
   "cell_type": "code",
   "execution_count": 28,
   "metadata": {},
   "outputs": [
    {
     "name": "stdout",
     "output_type": "stream",
     "text": [
      "1\n",
      "2\n",
      "3\n"
     ]
    }
   ],
   "source": [
    "# 딕셔너리의 값만을 모두 얻는 방법 : values\n",
    "values = a.values()\n",
    "\n",
    "for v in values:\n",
    "    print(v)"
   ]
  },
  {
   "cell_type": "code",
   "execution_count": 30,
   "metadata": {},
   "outputs": [
    {
     "name": "stdout",
     "output_type": "stream",
     "text": [
      "one 1\n",
      "two 2\n",
      "three 3\n"
     ]
    }
   ],
   "source": [
    "# 반대로, 딕셔너리의 키와 값을 동시에 모두 얻으려면 items 함수를 사용한다\n",
    "items = a.items()\n",
    "\n",
    "for k, v in items:\n",
    "    print(k, v)"
   ]
  },
  {
   "cell_type": "code",
   "execution_count": 32,
   "metadata": {},
   "outputs": [
    {
     "name": "stdout",
     "output_type": "stream",
     "text": [
      "False\n",
      "True\n"
     ]
    }
   ],
   "source": [
    "# 딕셔너리 내에 키(not value)가 있는지 확인하려면 in을 사용한다\n",
    "six_bool = \"six\" in a\n",
    "print(six_bool)\n",
    "\n",
    "one_bool = \"one\" in a\n",
    "print(one_bool)"
   ]
  },
  {
   "cell_type": "markdown",
   "metadata": {},
   "source": [
    "### 이외 내용들\n",
    "* 3. 연산자\n",
    "* 4. 흐름 제어\n",
    "* 5. 함수\n",
    "\n",
    "위 내용은 너무 기초적인 내용이라서 기존 Github에 있는 내용으로 갈음 및 생략"
   ]
  },
  {
   "cell_type": "markdown",
   "metadata": {},
   "source": [
    "## 6. 모듈"
   ]
  },
  {
   "cell_type": "markdown",
   "metadata": {},
   "source": [
    "모듈은 함수나 변수, 또는 클래스를 모아둔 파일이며 다른 파이썬 프로그램에서 불러와 사용할 수 있다.\n",
    "\n",
    "파이썬의 기본 라이브러리도 모듈로 제공되고 있으며 Pandas, Numpy와 같은 유명 라이브러리도 모듈 형태로 제공된다. 물론 개발자가 스스로 만든 것 역시 모듈 형태로 사용할 수 있다.\n",
    "\n",
    "파이썬이 모듈을 사용하려면 모듈의 위치를 알아야 한다. 파이썬은 다음과 같은 순서로 모듈을 찾아 불러들인다 (이를 import라고 함)\n",
    "\n",
    "* 1st. 현재 디렉터리\n",
    "* 2nd. 환경변수 PYTHONPATH에 지정된 경로\n",
    "* 3rd. 파이선이 설치된 경로와 그 밑의 라이브러리 경로\n",
    "\n",
    "모듈을 사용하려면 import 또는 from ~ import 를 사용한다. 인지해야 할 것은 import는 **모듈 전체를 불러들이는 경우**이고, from ~ import는 **모듈 일부를 불러들일 경우** 사용한다.\n",
    "\n",
    "예시로 파이썬의 외장 함수 중 시간 관련 모듈 time과 달력 관련 모듈 calendar를 사용해보자."
   ]
  },
  {
   "cell_type": "code",
   "execution_count": 33,
   "metadata": {},
   "outputs": [
    {
     "data": {
      "text/plain": [
       "'Wed Nov 24 03:39:52 2021'"
      ]
     },
     "execution_count": 33,
     "metadata": {},
     "output_type": "execute_result"
    }
   ],
   "source": [
    "import time\n",
    "time.time() #1970년 1월 1일 0시 0분 0초 이후 지난 시간을 초 단위로 리턴한다\n",
    "time.ctime() # 항상 현재 시간만을 리턴한다 (current time)"
   ]
  },
  {
   "cell_type": "markdown",
   "metadata": {},
   "source": [
    "time.localtime은 time.time()에 의해 반환된 실숫값을 \"연도, 월, 일, 시, 분, 초\"의 형태로 바꿔주는 함수다."
   ]
  },
  {
   "cell_type": "code",
   "execution_count": 40,
   "metadata": {},
   "outputs": [
    {
     "data": {
      "text/plain": [
       "'Wed Nov 24 03:42:26 2021'"
      ]
     },
     "execution_count": 40,
     "metadata": {},
     "output_type": "execute_result"
    }
   ],
   "source": [
    "time.localtime(time.time())\n",
    "time.asctime(time.localtime(time.time()))\n",
    "# 튜플 형태로 연도, 월, 일, 요일, 시간을 표시한다"
   ]
  },
  {
   "cell_type": "code",
   "execution_count": 41,
   "metadata": {},
   "outputs": [
    {
     "data": {
      "text/plain": [
       "'                                  2020\\n\\n      January                   February                   March\\nMo Tu We Th Fr Sa Su      Mo Tu We Th Fr Sa Su      Mo Tu We Th Fr Sa Su\\n       1  2  3  4  5                      1  2                         1\\n 6  7  8  9 10 11 12       3  4  5  6  7  8  9       2  3  4  5  6  7  8\\n13 14 15 16 17 18 19      10 11 12 13 14 15 16       9 10 11 12 13 14 15\\n20 21 22 23 24 25 26      17 18 19 20 21 22 23      16 17 18 19 20 21 22\\n27 28 29 30 31            24 25 26 27 28 29         23 24 25 26 27 28 29\\n                                                    30 31\\n\\n       April                      May                       June\\nMo Tu We Th Fr Sa Su      Mo Tu We Th Fr Sa Su      Mo Tu We Th Fr Sa Su\\n       1  2  3  4  5                   1  2  3       1  2  3  4  5  6  7\\n 6  7  8  9 10 11 12       4  5  6  7  8  9 10       8  9 10 11 12 13 14\\n13 14 15 16 17 18 19      11 12 13 14 15 16 17      15 16 17 18 19 20 21\\n20 21 22 23 24 25 26      18 19 20 21 22 23 24      22 23 24 25 26 27 28\\n27 28 29 30               25 26 27 28 29 30 31      29 30\\n\\n        July                     August                  September\\nMo Tu We Th Fr Sa Su      Mo Tu We Th Fr Sa Su      Mo Tu We Th Fr Sa Su\\n       1  2  3  4  5                      1  2          1  2  3  4  5  6\\n 6  7  8  9 10 11 12       3  4  5  6  7  8  9       7  8  9 10 11 12 13\\n13 14 15 16 17 18 19      10 11 12 13 14 15 16      14 15 16 17 18 19 20\\n20 21 22 23 24 25 26      17 18 19 20 21 22 23      21 22 23 24 25 26 27\\n27 28 29 30 31            24 25 26 27 28 29 30      28 29 30\\n                          31\\n\\n      October                   November                  December\\nMo Tu We Th Fr Sa Su      Mo Tu We Th Fr Sa Su      Mo Tu We Th Fr Sa Su\\n          1  2  3  4                         1          1  2  3  4  5  6\\n 5  6  7  8  9 10 11       2  3  4  5  6  7  8       7  8  9 10 11 12 13\\n12 13 14 15 16 17 18       9 10 11 12 13 14 15      14 15 16 17 18 19 20\\n19 20 21 22 23 24 25      16 17 18 19 20 21 22      21 22 23 24 25 26 27\\n26 27 28 29 30 31         23 24 25 26 27 28 29      28 29 30 31\\n                          30\\n'"
      ]
     },
     "execution_count": 41,
     "metadata": {},
     "output_type": "execute_result"
    }
   ],
   "source": [
    "import calendar\n",
    "calendar.calendar(2020) #2020년 전체의 달력을 출력"
   ]
  },
  {
   "cell_type": "code",
   "execution_count": 42,
   "metadata": {},
   "outputs": [
    {
     "name": "stdout",
     "output_type": "stream",
     "text": [
      "    October 2020\n",
      "Mo Tu We Th Fr Sa Su\n",
      "          1  2  3  4\n",
      " 5  6  7  8  9 10 11\n",
      "12 13 14 15 16 17 18\n",
      "19 20 21 22 23 24 25\n",
      "26 27 28 29 30 31\n"
     ]
    }
   ],
   "source": [
    "calendar.prmonth(2020,10) #2020년 10월의 달력을 출력한다"
   ]
  },
  {
   "cell_type": "code",
   "execution_count": 44,
   "metadata": {},
   "outputs": [
    {
     "data": {
      "text/plain": [
       "1"
      ]
     },
     "execution_count": 44,
     "metadata": {},
     "output_type": "execute_result"
    }
   ],
   "source": [
    "calendar.weekday(2020,10,27) \n",
    "#2020년 10월 27일의 요일을 숫자로 출력한다"
   ]
  },
  {
   "cell_type": "markdown",
   "metadata": {},
   "source": [
    "위 weekday() 메서드에서 지정되어 있는 각 요일별 숫자는 다음과 같다. \n",
    "\n",
    "* 월요일은 0, 화요일은 1, ... 금요일은 4, 토요일은 5, 일요일은 6이다 \n",
    "* 마치 7개 데이터가 list에 담겨있고 이에 대한 인덱싱을 하고 있다고 보면 됨"
   ]
  },
  {
   "cell_type": "markdown",
   "metadata": {},
   "source": [
    "다음은 표준 라이브러리 중 math 모듈을 import하여 factorial() 함수를 사용하는 예시이다."
   ]
  },
  {
   "cell_type": "code",
   "execution_count": 45,
   "metadata": {},
   "outputs": [
    {
     "name": "stdout",
     "output_type": "stream",
     "text": [
      "120\n"
     ]
    }
   ],
   "source": [
    "import math\n",
    "print(math.factorial(5)) # 5!를 계산한다"
   ]
  },
  {
   "cell_type": "markdown",
   "metadata": {},
   "source": [
    "위의 예를 from ~ import 로 바꿔서, \"from 모듈명 import 함수명\" 형식으로 만들어보자"
   ]
  },
  {
   "cell_type": "code",
   "execution_count": 46,
   "metadata": {},
   "outputs": [
    {
     "name": "stdout",
     "output_type": "stream",
     "text": [
      "120\n"
     ]
    }
   ],
   "source": [
    "from math import factorial #math 모듈 가운데 factorial 함수만 사용한다\n",
    "print(factorial(5))"
   ]
  },
  {
   "cell_type": "markdown",
   "metadata": {},
   "source": [
    "as 를 사용하여 모듈명이나 함수명을 바꿔쓸 수 있다 (alias)"
   ]
  },
  {
   "cell_type": "code",
   "execution_count": 47,
   "metadata": {},
   "outputs": [
    {
     "name": "stdout",
     "output_type": "stream",
     "text": [
      "120\n"
     ]
    }
   ],
   "source": [
    "from math import factorial as fct\n",
    "\n",
    "print(fct(5))"
   ]
  }
 ],
 "metadata": {
  "kernelspec": {
   "display_name": "Python 3",
   "language": "python",
   "name": "python3"
  },
  "language_info": {
   "codemirror_mode": {
    "name": "ipython",
    "version": 3
   },
   "file_extension": ".py",
   "mimetype": "text/x-python",
   "name": "python",
   "nbconvert_exporter": "python",
   "pygments_lexer": "ipython3",
   "version": "3.7.2"
  }
 },
 "nbformat": 4,
 "nbformat_minor": 2
}
