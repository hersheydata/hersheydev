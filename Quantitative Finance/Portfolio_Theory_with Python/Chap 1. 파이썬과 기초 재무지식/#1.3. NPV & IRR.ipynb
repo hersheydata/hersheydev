{
 "cells": [
  {
   "cell_type": "markdown",
   "metadata": {},
   "source": [
    "## 1.3. NPV & IRR"
   ]
  },
  {
   "cell_type": "markdown",
   "metadata": {},
   "source": [
    "### 1.3.1. NPV"
   ]
  },
  {
   "cell_type": "markdown",
   "metadata": {},
   "source": [
    "$NPV$ = $-Investment$ + $\\sum_{i=1}^{n} \\cfrac{CF}{(1+r)^i}$"
   ]
  },
  {
   "cell_type": "markdown",
   "metadata": {},
   "source": [
    "NPV 양일 경우 투자 타당성 O"
   ]
  },
  {
   "cell_type": "code",
   "execution_count": 2,
   "metadata": {},
   "outputs": [],
   "source": [
    "import pandas as pd\n",
    "import numpy as np"
   ]
  },
  {
   "cell_type": "markdown",
   "metadata": {},
   "source": [
    "### NPV 함수 만들기"
   ]
  },
  {
   "cell_type": "code",
   "execution_count": 19,
   "metadata": {},
   "outputs": [
    {
     "name": "stdout",
     "output_type": "stream",
     "text": [
      "17516.929512135568\n"
     ]
    }
   ],
   "source": [
    "cashflows = [12000, 15000, 18000, 21000, 26000]\n",
    "i=0\n",
    "r =0.015\n",
    "\n",
    "inv = 70000\n",
    "\n",
    "pv_ls = []\n",
    "\n",
    "def npv(cashflows, i, r, inv):\n",
    "    for c in cashflows: \n",
    "        i = i+1\n",
    "        pv = c/(1+r)**i\n",
    "        pv_ls.append(pv)\n",
    "        npv = -inv + sum(pv_ls)\n",
    "    print(npv)\n",
    "\n",
    "npv_output = npv(cashflows, i, r, inv)\n",
    "npv_output"
   ]
  },
  {
   "cell_type": "markdown",
   "metadata": {},
   "source": [
    "### scipy 라이브러리로 쉽게 NPV 계산하기"
   ]
  },
  {
   "cell_type": "code",
   "execution_count": 6,
   "metadata": {},
   "outputs": [],
   "source": [
    "import scipy as sp"
   ]
  },
  {
   "cell_type": "code",
   "execution_count": 7,
   "metadata": {},
   "outputs": [],
   "source": [
    "cf = [-70000, 12000, 15000, 18000, 21000, 26000]\n",
    "r = 0.015"
   ]
  },
  {
   "cell_type": "code",
   "execution_count": 8,
   "metadata": {},
   "outputs": [
    {
     "name": "stderr",
     "output_type": "stream",
     "text": [
      "/usr/local/lib/python3.7/site-packages/ipykernel_launcher.py:1: DeprecationWarning: scipy.npv is deprecated and will be removed in SciPy 2.0.0, use numpy.npv instead\n",
      "  \"\"\"Entry point for launching an IPython kernel.\n"
     ]
    }
   ],
   "source": [
    "npv = sp.npv(r, cf)"
   ]
  },
  {
   "cell_type": "code",
   "execution_count": 9,
   "metadata": {},
   "outputs": [
    {
     "data": {
      "text/plain": [
       "17516.929512135568"
      ]
     },
     "execution_count": 9,
     "metadata": {},
     "output_type": "execute_result"
    }
   ],
   "source": [
    "npv"
   ]
  },
  {
   "cell_type": "markdown",
   "metadata": {},
   "source": [
    "### 1.3.2. IRR "
   ]
  },
  {
   "cell_type": "markdown",
   "metadata": {},
   "source": [
    "NPV는 이자율과 CF의 함수인 반면, IRR은 CF만의 함수이다"
   ]
  },
  {
   "cell_type": "markdown",
   "metadata": {},
   "source": [
    "$NPV$ $:=$ $f(r, CF)$  \n",
    "\n",
    "$IRR$ $:=$ $f(CF)$"
   ]
  },
  {
   "cell_type": "markdown",
   "metadata": {},
   "source": [
    "IRR 자체를 구하는 것은 단순히 NPV 구하는 것보다 어려우므로 보통 라이브러리를 쓴다"
   ]
  },
  {
   "cell_type": "code",
   "execution_count": 21,
   "metadata": {},
   "outputs": [
    {
     "name": "stderr",
     "output_type": "stream",
     "text": [
      "/usr/local/lib/python3.7/site-packages/ipykernel_launcher.py:3: DeprecationWarning: scipy.irr is deprecated and will be removed in SciPy 2.0.0, use numpy.irr instead\n",
      "  This is separate from the ipykernel package so we can avoid doing imports until\n"
     ]
    },
    {
     "data": {
      "text/plain": [
       "0.08663094803653149"
      ]
     },
     "execution_count": 21,
     "metadata": {},
     "output_type": "execute_result"
    }
   ],
   "source": [
    "cf = [-70000, 12000, 15000, 18000, 21000, 26000]\n",
    "\n",
    "irr = sp.irr(cf)\n",
    "\n",
    "irr"
   ]
  },
  {
   "cell_type": "code",
   "execution_count": 25,
   "metadata": {},
   "outputs": [
    {
     "name": "stderr",
     "output_type": "stream",
     "text": [
      "/usr/local/lib/python3.7/site-packages/ipykernel_launcher.py:1: DeprecationWarning: scipy.npv is deprecated and will be removed in SciPy 2.0.0, use numpy.npv instead\n",
      "  \"\"\"Entry point for launching an IPython kernel.\n"
     ]
    },
    {
     "data": {
      "text/plain": [
       "0.0"
      ]
     },
     "execution_count": 25,
     "metadata": {},
     "output_type": "execute_result"
    }
   ],
   "source": [
    "npv = sp.npv(irr, cf)\n",
    "\n",
    "round(npv, 2)"
   ]
  },
  {
   "cell_type": "markdown",
   "metadata": {},
   "source": [
    "즉, NPV를 구함에 있어서 rate을 IRR로 주면 NPV는 0이 된다. 다시 말해서, NPV를 0으로 만드는 할인율이 IRR이다."
   ]
  },
  {
   "cell_type": "code",
   "execution_count": null,
   "metadata": {},
   "outputs": [],
   "source": []
  }
 ],
 "metadata": {
  "kernelspec": {
   "display_name": "Python 3",
   "language": "python",
   "name": "python3"
  },
  "language_info": {
   "codemirror_mode": {
    "name": "ipython",
    "version": 3
   },
   "file_extension": ".py",
   "mimetype": "text/x-python",
   "name": "python",
   "nbconvert_exporter": "python",
   "pygments_lexer": "ipython3",
   "version": "3.7.2"
  }
 },
 "nbformat": 4,
 "nbformat_minor": 2
}
