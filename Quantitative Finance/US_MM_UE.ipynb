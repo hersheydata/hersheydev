{
 "cells": [
  {
   "cell_type": "markdown",
   "metadata": {},
   "source": [
    "## US Money Multiplier (Since 2019)"
   ]
  },
  {
   "cell_type": "code",
   "execution_count": 155,
   "metadata": {},
   "outputs": [
    {
     "data": {
      "text/plain": [
       "'/Users/heosangbeom/Desktop/data'"
      ]
     },
     "execution_count": 155,
     "metadata": {},
     "output_type": "execute_result"
    }
   ],
   "source": [
    "## real dataset\n",
    "import pandas as pd\n",
    "import sys\n",
    "import os\n",
    "os.getcwd()"
   ]
  },
  {
   "cell_type": "code",
   "execution_count": 156,
   "metadata": {},
   "outputs": [],
   "source": [
    "os.chdir('/Users/heosangbeom/Desktop/data')"
   ]
  },
  {
   "cell_type": "code",
   "execution_count": 157,
   "metadata": {},
   "outputs": [],
   "source": [
    "m1 = pd.read_csv('WM1NS.csv')\n",
    "m2 = pd.read_csv('WM2NS.csv')"
   ]
  },
  {
   "cell_type": "code",
   "execution_count": 158,
   "metadata": {},
   "outputs": [],
   "source": [
    "df_m1 = pd.DataFrame(m1)\n",
    "df_m2 = pd.DataFrame(m2)"
   ]
  },
  {
   "cell_type": "code",
   "execution_count": 231,
   "metadata": {},
   "outputs": [
    {
     "data": {
      "text/html": [
       "<div>\n",
       "<style scoped>\n",
       "    .dataframe tbody tr th:only-of-type {\n",
       "        vertical-align: middle;\n",
       "    }\n",
       "\n",
       "    .dataframe tbody tr th {\n",
       "        vertical-align: top;\n",
       "    }\n",
       "\n",
       "    .dataframe thead th {\n",
       "        text-align: right;\n",
       "    }\n",
       "</style>\n",
       "<table border=\"1\" class=\"dataframe\">\n",
       "  <thead>\n",
       "    <tr style=\"text-align: right;\">\n",
       "      <th></th>\n",
       "      <th>WM1NS</th>\n",
       "      <th>WM2NS</th>\n",
       "    </tr>\n",
       "    <tr>\n",
       "      <th>DATE</th>\n",
       "      <th></th>\n",
       "      <th></th>\n",
       "    </tr>\n",
       "  </thead>\n",
       "  <tbody>\n",
       "    <tr>\n",
       "      <th>1980-11-03</th>\n",
       "      <td>412.6</td>\n",
       "      <td>1595.2</td>\n",
       "    </tr>\n",
       "    <tr>\n",
       "      <th>1980-11-10</th>\n",
       "      <td>418.3</td>\n",
       "      <td>1601.2</td>\n",
       "    </tr>\n",
       "    <tr>\n",
       "      <th>1980-11-17</th>\n",
       "      <td>419.1</td>\n",
       "      <td>1602.9</td>\n",
       "    </tr>\n",
       "    <tr>\n",
       "      <th>1980-11-24</th>\n",
       "      <td>410.9</td>\n",
       "      <td>1594.8</td>\n",
       "    </tr>\n",
       "    <tr>\n",
       "      <th>1980-12-01</th>\n",
       "      <td>415.8</td>\n",
       "      <td>1599.8</td>\n",
       "    </tr>\n",
       "    <tr>\n",
       "      <th>1980-12-08</th>\n",
       "      <td>419.4</td>\n",
       "      <td>1605.3</td>\n",
       "    </tr>\n",
       "    <tr>\n",
       "      <th>1980-12-15</th>\n",
       "      <td>421.4</td>\n",
       "      <td>1606.3</td>\n",
       "    </tr>\n",
       "    <tr>\n",
       "      <th>1980-12-22</th>\n",
       "      <td>419.0</td>\n",
       "      <td>1602.5</td>\n",
       "    </tr>\n",
       "    <tr>\n",
       "      <th>1980-12-29</th>\n",
       "      <td>415.8</td>\n",
       "      <td>1601.8</td>\n",
       "    </tr>\n",
       "    <tr>\n",
       "      <th>1981-01-05</th>\n",
       "      <td>430.1</td>\n",
       "      <td>1620.7</td>\n",
       "    </tr>\n",
       "    <tr>\n",
       "      <th>1981-01-12</th>\n",
       "      <td>423.6</td>\n",
       "      <td>1616.7</td>\n",
       "    </tr>\n",
       "    <tr>\n",
       "      <th>1981-01-19</th>\n",
       "      <td>419.8</td>\n",
       "      <td>1614.4</td>\n",
       "    </tr>\n",
       "    <tr>\n",
       "      <th>1981-01-26</th>\n",
       "      <td>404.7</td>\n",
       "      <td>1599.8</td>\n",
       "    </tr>\n",
       "    <tr>\n",
       "      <th>1981-02-02</th>\n",
       "      <td>403.3</td>\n",
       "      <td>1601.0</td>\n",
       "    </tr>\n",
       "    <tr>\n",
       "      <th>1981-02-09</th>\n",
       "      <td>408.7</td>\n",
       "      <td>1610.7</td>\n",
       "    </tr>\n",
       "    <tr>\n",
       "      <th>1981-02-16</th>\n",
       "      <td>407.4</td>\n",
       "      <td>1611.8</td>\n",
       "    </tr>\n",
       "    <tr>\n",
       "      <th>1981-02-23</th>\n",
       "      <td>402.6</td>\n",
       "      <td>1609.0</td>\n",
       "    </tr>\n",
       "    <tr>\n",
       "      <th>1981-03-02</th>\n",
       "      <td>404.5</td>\n",
       "      <td>1615.7</td>\n",
       "    </tr>\n",
       "    <tr>\n",
       "      <th>1981-03-09</th>\n",
       "      <td>414.3</td>\n",
       "      <td>1629.4</td>\n",
       "    </tr>\n",
       "    <tr>\n",
       "      <th>1981-03-16</th>\n",
       "      <td>414.6</td>\n",
       "      <td>1633.5</td>\n",
       "    </tr>\n",
       "    <tr>\n",
       "      <th>1981-03-23</th>\n",
       "      <td>408.3</td>\n",
       "      <td>1630.9</td>\n",
       "    </tr>\n",
       "    <tr>\n",
       "      <th>1981-03-30</th>\n",
       "      <td>409.8</td>\n",
       "      <td>1637.5</td>\n",
       "    </tr>\n",
       "    <tr>\n",
       "      <th>1981-04-06</th>\n",
       "      <td>429.4</td>\n",
       "      <td>1663.6</td>\n",
       "    </tr>\n",
       "    <tr>\n",
       "      <th>1981-04-13</th>\n",
       "      <td>433.9</td>\n",
       "      <td>1669.5</td>\n",
       "    </tr>\n",
       "    <tr>\n",
       "      <th>1981-04-20</th>\n",
       "      <td>439.7</td>\n",
       "      <td>1672.1</td>\n",
       "    </tr>\n",
       "    <tr>\n",
       "      <th>1981-04-27</th>\n",
       "      <td>425.4</td>\n",
       "      <td>1657.1</td>\n",
       "    </tr>\n",
       "    <tr>\n",
       "      <th>1981-05-04</th>\n",
       "      <td>423.5</td>\n",
       "      <td>1657.3</td>\n",
       "    </tr>\n",
       "    <tr>\n",
       "      <th>1981-05-11</th>\n",
       "      <td>422.5</td>\n",
       "      <td>1659.1</td>\n",
       "    </tr>\n",
       "    <tr>\n",
       "      <th>1981-05-18</th>\n",
       "      <td>418.9</td>\n",
       "      <td>1655.8</td>\n",
       "    </tr>\n",
       "    <tr>\n",
       "      <th>1981-05-25</th>\n",
       "      <td>411.0</td>\n",
       "      <td>1648.4</td>\n",
       "    </tr>\n",
       "    <tr>\n",
       "      <th>...</th>\n",
       "      <td>...</td>\n",
       "      <td>...</td>\n",
       "    </tr>\n",
       "    <tr>\n",
       "      <th>2020-11-09</th>\n",
       "      <td>17583.7</td>\n",
       "      <td>18945.1</td>\n",
       "    </tr>\n",
       "    <tr>\n",
       "      <th>2020-11-16</th>\n",
       "      <td>17675.8</td>\n",
       "      <td>19029.4</td>\n",
       "    </tr>\n",
       "    <tr>\n",
       "      <th>2020-11-23</th>\n",
       "      <td>17661.5</td>\n",
       "      <td>19005.1</td>\n",
       "    </tr>\n",
       "    <tr>\n",
       "      <th>2020-11-30</th>\n",
       "      <td>17756.0</td>\n",
       "      <td>19086.4</td>\n",
       "    </tr>\n",
       "    <tr>\n",
       "      <th>2020-12-07</th>\n",
       "      <td>17872.6</td>\n",
       "      <td>19192.0</td>\n",
       "    </tr>\n",
       "    <tr>\n",
       "      <th>2020-12-14</th>\n",
       "      <td>17934.0</td>\n",
       "      <td>19244.9</td>\n",
       "    </tr>\n",
       "    <tr>\n",
       "      <th>2020-12-21</th>\n",
       "      <td>17994.1</td>\n",
       "      <td>19298.9</td>\n",
       "    </tr>\n",
       "    <tr>\n",
       "      <th>2020-12-28</th>\n",
       "      <td>18029.9</td>\n",
       "      <td>19334.1</td>\n",
       "    </tr>\n",
       "    <tr>\n",
       "      <th>2021-01-04</th>\n",
       "      <td>18102.9</td>\n",
       "      <td>19402.7</td>\n",
       "    </tr>\n",
       "    <tr>\n",
       "      <th>2021-01-11</th>\n",
       "      <td>18161.9</td>\n",
       "      <td>19467.2</td>\n",
       "    </tr>\n",
       "    <tr>\n",
       "      <th>2021-01-18</th>\n",
       "      <td>18142.2</td>\n",
       "      <td>19442.0</td>\n",
       "    </tr>\n",
       "    <tr>\n",
       "      <th>2021-01-25</th>\n",
       "      <td>18033.2</td>\n",
       "      <td>19324.4</td>\n",
       "    </tr>\n",
       "    <tr>\n",
       "      <th>2021-02-01</th>\n",
       "      <td>18151.4</td>\n",
       "      <td>19433.1</td>\n",
       "    </tr>\n",
       "    <tr>\n",
       "      <th>2021-02-08</th>\n",
       "      <td>18187.5</td>\n",
       "      <td>19469.4</td>\n",
       "    </tr>\n",
       "    <tr>\n",
       "      <th>2021-02-15</th>\n",
       "      <td>18309.3</td>\n",
       "      <td>19578.2</td>\n",
       "    </tr>\n",
       "    <tr>\n",
       "      <th>2021-02-22</th>\n",
       "      <td>18328.4</td>\n",
       "      <td>19588.3</td>\n",
       "    </tr>\n",
       "    <tr>\n",
       "      <th>2021-03-01</th>\n",
       "      <td>18429.3</td>\n",
       "      <td>19676.0</td>\n",
       "    </tr>\n",
       "    <tr>\n",
       "      <th>2021-03-08</th>\n",
       "      <td>18538.0</td>\n",
       "      <td>19773.6</td>\n",
       "    </tr>\n",
       "    <tr>\n",
       "      <th>2021-03-15</th>\n",
       "      <td>18676.2</td>\n",
       "      <td>19913.2</td>\n",
       "    </tr>\n",
       "    <tr>\n",
       "      <th>2021-03-22</th>\n",
       "      <td>18866.4</td>\n",
       "      <td>20090.1</td>\n",
       "    </tr>\n",
       "    <tr>\n",
       "      <th>2021-03-29</th>\n",
       "      <td>18949.6</td>\n",
       "      <td>20166.4</td>\n",
       "    </tr>\n",
       "    <tr>\n",
       "      <th>2021-04-05</th>\n",
       "      <td>19169.2</td>\n",
       "      <td>20375.7</td>\n",
       "    </tr>\n",
       "    <tr>\n",
       "      <th>2021-04-12</th>\n",
       "      <td>19113.1</td>\n",
       "      <td>20301.2</td>\n",
       "    </tr>\n",
       "    <tr>\n",
       "      <th>2021-04-19</th>\n",
       "      <td>19128.8</td>\n",
       "      <td>20304.1</td>\n",
       "    </tr>\n",
       "    <tr>\n",
       "      <th>2021-04-26</th>\n",
       "      <td>18985.6</td>\n",
       "      <td>20149.2</td>\n",
       "    </tr>\n",
       "    <tr>\n",
       "      <th>2021-05-03</th>\n",
       "      <td>19111.5</td>\n",
       "      <td>20267.3</td>\n",
       "    </tr>\n",
       "    <tr>\n",
       "      <th>2021-05-10</th>\n",
       "      <td>19198.8</td>\n",
       "      <td>20346.5</td>\n",
       "    </tr>\n",
       "    <tr>\n",
       "      <th>2021-05-17</th>\n",
       "      <td>19265.8</td>\n",
       "      <td>20404.9</td>\n",
       "    </tr>\n",
       "    <tr>\n",
       "      <th>2021-05-24</th>\n",
       "      <td>19096.9</td>\n",
       "      <td>20225.7</td>\n",
       "    </tr>\n",
       "    <tr>\n",
       "      <th>2021-05-31</th>\n",
       "      <td>19154.4</td>\n",
       "      <td>20278.4</td>\n",
       "    </tr>\n",
       "  </tbody>\n",
       "</table>\n",
       "<p>2118 rows × 2 columns</p>\n",
       "</div>"
      ],
      "text/plain": [
       "              WM1NS    WM2NS\n",
       "DATE                        \n",
       "1980-11-03    412.6   1595.2\n",
       "1980-11-10    418.3   1601.2\n",
       "1980-11-17    419.1   1602.9\n",
       "1980-11-24    410.9   1594.8\n",
       "1980-12-01    415.8   1599.8\n",
       "1980-12-08    419.4   1605.3\n",
       "1980-12-15    421.4   1606.3\n",
       "1980-12-22    419.0   1602.5\n",
       "1980-12-29    415.8   1601.8\n",
       "1981-01-05    430.1   1620.7\n",
       "1981-01-12    423.6   1616.7\n",
       "1981-01-19    419.8   1614.4\n",
       "1981-01-26    404.7   1599.8\n",
       "1981-02-02    403.3   1601.0\n",
       "1981-02-09    408.7   1610.7\n",
       "1981-02-16    407.4   1611.8\n",
       "1981-02-23    402.6   1609.0\n",
       "1981-03-02    404.5   1615.7\n",
       "1981-03-09    414.3   1629.4\n",
       "1981-03-16    414.6   1633.5\n",
       "1981-03-23    408.3   1630.9\n",
       "1981-03-30    409.8   1637.5\n",
       "1981-04-06    429.4   1663.6\n",
       "1981-04-13    433.9   1669.5\n",
       "1981-04-20    439.7   1672.1\n",
       "1981-04-27    425.4   1657.1\n",
       "1981-05-04    423.5   1657.3\n",
       "1981-05-11    422.5   1659.1\n",
       "1981-05-18    418.9   1655.8\n",
       "1981-05-25    411.0   1648.4\n",
       "...             ...      ...\n",
       "2020-11-09  17583.7  18945.1\n",
       "2020-11-16  17675.8  19029.4\n",
       "2020-11-23  17661.5  19005.1\n",
       "2020-11-30  17756.0  19086.4\n",
       "2020-12-07  17872.6  19192.0\n",
       "2020-12-14  17934.0  19244.9\n",
       "2020-12-21  17994.1  19298.9\n",
       "2020-12-28  18029.9  19334.1\n",
       "2021-01-04  18102.9  19402.7\n",
       "2021-01-11  18161.9  19467.2\n",
       "2021-01-18  18142.2  19442.0\n",
       "2021-01-25  18033.2  19324.4\n",
       "2021-02-01  18151.4  19433.1\n",
       "2021-02-08  18187.5  19469.4\n",
       "2021-02-15  18309.3  19578.2\n",
       "2021-02-22  18328.4  19588.3\n",
       "2021-03-01  18429.3  19676.0\n",
       "2021-03-08  18538.0  19773.6\n",
       "2021-03-15  18676.2  19913.2\n",
       "2021-03-22  18866.4  20090.1\n",
       "2021-03-29  18949.6  20166.4\n",
       "2021-04-05  19169.2  20375.7\n",
       "2021-04-12  19113.1  20301.2\n",
       "2021-04-19  19128.8  20304.1\n",
       "2021-04-26  18985.6  20149.2\n",
       "2021-05-03  19111.5  20267.3\n",
       "2021-05-10  19198.8  20346.5\n",
       "2021-05-17  19265.8  20404.9\n",
       "2021-05-24  19096.9  20225.7\n",
       "2021-05-31  19154.4  20278.4\n",
       "\n",
       "[2118 rows x 2 columns]"
      ]
     },
     "execution_count": 231,
     "metadata": {},
     "output_type": "execute_result"
    }
   ],
   "source": [
    "m1_m2 = pd.merge(df_m1,df_m2)\n",
    "m1m2 = m1_m2.set_index(\"DATE\")\n",
    "m1m2"
   ]
  },
  {
   "cell_type": "code",
   "execution_count": 160,
   "metadata": {},
   "outputs": [
    {
     "data": {
      "text/plain": [
       "<matplotlib.axes._subplots.AxesSubplot at 0x1189808d0>"
      ]
     },
     "execution_count": 160,
     "metadata": {},
     "output_type": "execute_result"
    },
    {
     "data": {
      "image/png": "[encoded data removed]",
      "text/plain": [
       "<Figure size 432x288 with 1 Axes>"
      ]
     },
     "metadata": {
      "needs_background": "light"
     },
     "output_type": "display_data"
    }
   ],
   "source": [
    "import matplotlib as plt\n",
    "m1m2.plot()"
   ]
  },
  {
   "cell_type": "code",
   "execution_count": 341,
   "metadata": {},
   "outputs": [
    {
     "data": {
      "text/plain": [
       "0   2019-01-07\n",
       "1   2019-01-14\n",
       "2   2019-01-21\n",
       "3   2019-01-28\n",
       "4   2019-02-04\n",
       "Name: DATE, dtype: datetime64[ns]"
      ]
     },
     "execution_count": 341,
     "metadata": {},
     "output_type": "execute_result"
    }
   ],
   "source": [
    "m1m2 = m1m2.reset_index()\n",
    "import datetime as dt\n",
    "pd.to_datetime(m1m2['DATE']).head()"
   ]
  },
  {
   "cell_type": "code",
   "execution_count": 238,
   "metadata": {},
   "outputs": [],
   "source": [
    "date = m1m2[m1m2['DATE']>=\"2019-01-01\"]\n",
    "m1m2 = date"
   ]
  },
  {
   "cell_type": "code",
   "execution_count": 246,
   "metadata": {},
   "outputs": [
    {
     "data": {
      "text/plain": [
       "<matplotlib.axes._subplots.AxesSubplot at 0x1194fd048>"
      ]
     },
     "execution_count": 246,
     "metadata": {},
     "output_type": "execute_result"
    },
    {
     "data": {
      "image/png": "[encoded data removed]",
      "text/plain": [
       "<Figure size 432x288 with 1 Axes>"
      ]
     },
     "metadata": {
      "needs_background": "light"
     },
     "output_type": "display_data"
    }
   ],
   "source": [
    "m1m2.plot(x=\"DATE\")"
   ]
  },
  {
   "cell_type": "code",
   "execution_count": 252,
   "metadata": {},
   "outputs": [
    {
     "data": {
      "text/html": [
       "<div>\n",
       "<style scoped>\n",
       "    .dataframe tbody tr th:only-of-type {\n",
       "        vertical-align: middle;\n",
       "    }\n",
       "\n",
       "    .dataframe tbody tr th {\n",
       "        vertical-align: top;\n",
       "    }\n",
       "\n",
       "    .dataframe thead th {\n",
       "        text-align: right;\n",
       "    }\n",
       "</style>\n",
       "<table border=\"1\" class=\"dataframe\">\n",
       "  <thead>\n",
       "    <tr style=\"text-align: right;\">\n",
       "      <th></th>\n",
       "      <th>WM1NS</th>\n",
       "      <th>WM2NS</th>\n",
       "    </tr>\n",
       "    <tr>\n",
       "      <th>DATE</th>\n",
       "      <th></th>\n",
       "      <th></th>\n",
       "    </tr>\n",
       "  </thead>\n",
       "  <tbody>\n",
       "    <tr>\n",
       "      <th>2019-01-07</th>\n",
       "      <td>3705.0</td>\n",
       "      <td>14556.7</td>\n",
       "    </tr>\n",
       "    <tr>\n",
       "      <th>2019-01-14</th>\n",
       "      <td>3620.6</td>\n",
       "      <td>14508.0</td>\n",
       "    </tr>\n",
       "    <tr>\n",
       "      <th>2019-01-21</th>\n",
       "      <td>3725.9</td>\n",
       "      <td>14416.3</td>\n",
       "    </tr>\n",
       "    <tr>\n",
       "      <th>2019-01-28</th>\n",
       "      <td>3864.2</td>\n",
       "      <td>14347.1</td>\n",
       "    </tr>\n",
       "    <tr>\n",
       "      <th>2019-02-04</th>\n",
       "      <td>3817.6</td>\n",
       "      <td>14411.8</td>\n",
       "    </tr>\n",
       "  </tbody>\n",
       "</table>\n",
       "</div>"
      ],
      "text/plain": [
       "             WM1NS    WM2NS\n",
       "DATE                       \n",
       "2019-01-07  3705.0  14556.7\n",
       "2019-01-14  3620.6  14508.0\n",
       "2019-01-21  3725.9  14416.3\n",
       "2019-01-28  3864.2  14347.1\n",
       "2019-02-04  3817.6  14411.8"
      ]
     },
     "execution_count": 252,
     "metadata": {},
     "output_type": "execute_result"
    }
   ],
   "source": [
    "m1m2.head()"
   ]
  },
  {
   "cell_type": "code",
   "execution_count": 261,
   "metadata": {},
   "outputs": [
    {
     "data": {
      "text/html": [
       "<div>\n",
       "<style scoped>\n",
       "    .dataframe tbody tr th:only-of-type {\n",
       "        vertical-align: middle;\n",
       "    }\n",
       "\n",
       "    .dataframe tbody tr th {\n",
       "        vertical-align: top;\n",
       "    }\n",
       "\n",
       "    .dataframe thead th {\n",
       "        text-align: right;\n",
       "    }\n",
       "</style>\n",
       "<table border=\"1\" class=\"dataframe\">\n",
       "  <thead>\n",
       "    <tr style=\"text-align: right;\">\n",
       "      <th></th>\n",
       "      <th>WM1NS</th>\n",
       "      <th>WM2NS</th>\n",
       "      <th>M2/M1</th>\n",
       "    </tr>\n",
       "    <tr>\n",
       "      <th>DATE</th>\n",
       "      <th></th>\n",
       "      <th></th>\n",
       "      <th></th>\n",
       "    </tr>\n",
       "  </thead>\n",
       "  <tbody>\n",
       "    <tr>\n",
       "      <th>2019-01-07</th>\n",
       "      <td>3705.0</td>\n",
       "      <td>14556.7</td>\n",
       "      <td>3.928934</td>\n",
       "    </tr>\n",
       "    <tr>\n",
       "      <th>2019-01-14</th>\n",
       "      <td>3620.6</td>\n",
       "      <td>14508.0</td>\n",
       "      <td>4.007071</td>\n",
       "    </tr>\n",
       "    <tr>\n",
       "      <th>2019-01-21</th>\n",
       "      <td>3725.9</td>\n",
       "      <td>14416.3</td>\n",
       "      <td>3.869213</td>\n",
       "    </tr>\n",
       "    <tr>\n",
       "      <th>2019-01-28</th>\n",
       "      <td>3864.2</td>\n",
       "      <td>14347.1</td>\n",
       "      <td>3.712825</td>\n",
       "    </tr>\n",
       "    <tr>\n",
       "      <th>2019-02-04</th>\n",
       "      <td>3817.6</td>\n",
       "      <td>14411.8</td>\n",
       "      <td>3.775094</td>\n",
       "    </tr>\n",
       "  </tbody>\n",
       "</table>\n",
       "</div>"
      ],
      "text/plain": [
       "             WM1NS    WM2NS     M2/M1\n",
       "DATE                                 \n",
       "2019-01-07  3705.0  14556.7  3.928934\n",
       "2019-01-14  3620.6  14508.0  4.007071\n",
       "2019-01-21  3725.9  14416.3  3.869213\n",
       "2019-01-28  3864.2  14347.1  3.712825\n",
       "2019-02-04  3817.6  14411.8  3.775094"
      ]
     },
     "execution_count": 261,
     "metadata": {},
     "output_type": "execute_result"
    }
   ],
   "source": [
    "m1m2[\"M2/M1\"]=m1m2[\"WM2NS\"]/m1m2[\"WM1NS\"]\n",
    "m1m2.head()"
   ]
  },
  {
   "cell_type": "code",
   "execution_count": 266,
   "metadata": {},
   "outputs": [
    {
     "data": {
      "text/html": [
       "<div>\n",
       "<style scoped>\n",
       "    .dataframe tbody tr th:only-of-type {\n",
       "        vertical-align: middle;\n",
       "    }\n",
       "\n",
       "    .dataframe tbody tr th {\n",
       "        vertical-align: top;\n",
       "    }\n",
       "\n",
       "    .dataframe thead th {\n",
       "        text-align: right;\n",
       "    }\n",
       "</style>\n",
       "<table border=\"1\" class=\"dataframe\">\n",
       "  <thead>\n",
       "    <tr style=\"text-align: right;\">\n",
       "      <th></th>\n",
       "      <th>M1</th>\n",
       "      <th>M2</th>\n",
       "      <th>M2/M1</th>\n",
       "    </tr>\n",
       "    <tr>\n",
       "      <th>DATE</th>\n",
       "      <th></th>\n",
       "      <th></th>\n",
       "      <th></th>\n",
       "    </tr>\n",
       "  </thead>\n",
       "  <tbody>\n",
       "    <tr>\n",
       "      <th>2019-01-07</th>\n",
       "      <td>3705.0</td>\n",
       "      <td>14556.7</td>\n",
       "      <td>3.928934</td>\n",
       "    </tr>\n",
       "    <tr>\n",
       "      <th>2019-01-14</th>\n",
       "      <td>3620.6</td>\n",
       "      <td>14508.0</td>\n",
       "      <td>4.007071</td>\n",
       "    </tr>\n",
       "    <tr>\n",
       "      <th>2019-01-21</th>\n",
       "      <td>3725.9</td>\n",
       "      <td>14416.3</td>\n",
       "      <td>3.869213</td>\n",
       "    </tr>\n",
       "    <tr>\n",
       "      <th>2019-01-28</th>\n",
       "      <td>3864.2</td>\n",
       "      <td>14347.1</td>\n",
       "      <td>3.712825</td>\n",
       "    </tr>\n",
       "    <tr>\n",
       "      <th>2019-02-04</th>\n",
       "      <td>3817.6</td>\n",
       "      <td>14411.8</td>\n",
       "      <td>3.775094</td>\n",
       "    </tr>\n",
       "  </tbody>\n",
       "</table>\n",
       "</div>"
      ],
      "text/plain": [
       "                M1       M2     M2/M1\n",
       "DATE                                 \n",
       "2019-01-07  3705.0  14556.7  3.928934\n",
       "2019-01-14  3620.6  14508.0  4.007071\n",
       "2019-01-21  3725.9  14416.3  3.869213\n",
       "2019-01-28  3864.2  14347.1  3.712825\n",
       "2019-02-04  3817.6  14411.8  3.775094"
      ]
     },
     "execution_count": 266,
     "metadata": {},
     "output_type": "execute_result"
    }
   ],
   "source": [
    "m1m2 = m1m2.rename(columns={\"WM1NS\" : \"M1\", \"WM2NS\" : \"M2\"})\n",
    "m1m2.head()"
   ]
  },
  {
   "cell_type": "code",
   "execution_count": 268,
   "metadata": {},
   "outputs": [
    {
     "data": {
      "text/plain": [
       "<matplotlib.axes._subplots.AxesSubplot at 0x119693198>"
      ]
     },
     "execution_count": 268,
     "metadata": {},
     "output_type": "execute_result"
    },
    {
     "data": {
      "image/png": "[encoded data removed]",
      "text/plain": [
       "<Figure size 432x288 with 1 Axes>"
      ]
     },
     "metadata": {
      "needs_background": "light"
     },
     "output_type": "display_data"
    }
   ],
   "source": [
    "m1m2[\"M2/M1\"].hist()"
   ]
  },
  {
   "cell_type": "code",
   "execution_count": 269,
   "metadata": {},
   "outputs": [
    {
     "data": {
      "text/plain": [
       "<matplotlib.axes._subplots.AxesSubplot at 0x119708a20>"
      ]
     },
     "execution_count": 269,
     "metadata": {},
     "output_type": "execute_result"
    },
    {
     "data": {
      "image/png": "[encoded data removed]",
      "text/plain": [
       "<Figure size 432x288 with 1 Axes>"
      ]
     },
     "metadata": {
      "needs_background": "light"
     },
     "output_type": "display_data"
    }
   ],
   "source": [
    "m1m2[\"M2/M1\"].plot()"
   ]
  },
  {
   "cell_type": "code",
   "execution_count": 294,
   "metadata": {},
   "outputs": [
    {
     "data": {
      "text/html": [
       "<div>\n",
       "<style scoped>\n",
       "    .dataframe tbody tr th:only-of-type {\n",
       "        vertical-align: middle;\n",
       "    }\n",
       "\n",
       "    .dataframe tbody tr th {\n",
       "        vertical-align: top;\n",
       "    }\n",
       "\n",
       "    .dataframe thead th {\n",
       "        text-align: right;\n",
       "    }\n",
       "</style>\n",
       "<table border=\"1\" class=\"dataframe\">\n",
       "  <thead>\n",
       "    <tr style=\"text-align: right;\">\n",
       "      <th></th>\n",
       "      <th>M2/M1</th>\n",
       "    </tr>\n",
       "  </thead>\n",
       "  <tbody>\n",
       "    <tr>\n",
       "      <th>count</th>\n",
       "      <td>126.000000</td>\n",
       "    </tr>\n",
       "    <tr>\n",
       "      <th>mean</th>\n",
       "      <td>2.592493</td>\n",
       "    </tr>\n",
       "    <tr>\n",
       "      <th>std</th>\n",
       "      <td>1.386195</td>\n",
       "    </tr>\n",
       "    <tr>\n",
       "      <th>min</th>\n",
       "      <td>1.058681</td>\n",
       "    </tr>\n",
       "    <tr>\n",
       "      <th>25%</th>\n",
       "      <td>1.079367</td>\n",
       "    </tr>\n",
       "    <tr>\n",
       "      <th>50%</th>\n",
       "      <td>3.655578</td>\n",
       "    </tr>\n",
       "    <tr>\n",
       "      <th>75%</th>\n",
       "      <td>3.883683</td>\n",
       "    </tr>\n",
       "    <tr>\n",
       "      <th>max</th>\n",
       "      <td>4.029591</td>\n",
       "    </tr>\n",
       "  </tbody>\n",
       "</table>\n",
       "</div>"
      ],
      "text/plain": [
       "            M2/M1\n",
       "count  126.000000\n",
       "mean     2.592493\n",
       "std      1.386195\n",
       "min      1.058681\n",
       "25%      1.079367\n",
       "50%      3.655578\n",
       "75%      3.883683\n",
       "max      4.029591"
      ]
     },
     "execution_count": 294,
     "metadata": {},
     "output_type": "execute_result"
    }
   ],
   "source": [
    "a = pd.DataFrame(m1m2[\"M2/M1\"].describe())\n",
    "a"
   ]
  },
  {
   "cell_type": "code",
   "execution_count": 342,
   "metadata": {},
   "outputs": [
    {
     "data": {
      "text/plain": [
       "126"
      ]
     },
     "execution_count": 342,
     "metadata": {},
     "output_type": "execute_result"
    },
    {
     "data": {
      "image/png": "[encoded data removed]",
      "text/plain": [
       "<Figure size 432x288 with 1 Axes>"
      ]
     },
     "metadata": {
      "needs_background": "light"
     },
     "output_type": "display_data"
    }
   ],
   "source": [
    "mm = m1m2[\"M2/M1\"]\n",
    "mm.hist()\n",
    "len(mm)"
   ]
  },
  {
   "cell_type": "code",
   "execution_count": 307,
   "metadata": {},
   "outputs": [],
   "source": [
    "ue = pd.read_csv(\"UNRATE.csv\")\n",
    "ue.head()\n",
    "pd.to_datetime(ue['DATE'])\n",
    "ue = ue[ue[\"DATE\"]>=\"2019-01-01\"]\n",
    "ue.head()\n",
    "\n",
    "ue = ue.set_index(\"DATE\")"
   ]
  },
  {
   "cell_type": "code",
   "execution_count": 321,
   "metadata": {},
   "outputs": [
    {
     "data": {
      "text/html": [
       "<div>\n",
       "<style scoped>\n",
       "    .dataframe tbody tr th:only-of-type {\n",
       "        vertical-align: middle;\n",
       "    }\n",
       "\n",
       "    .dataframe tbody tr th {\n",
       "        vertical-align: top;\n",
       "    }\n",
       "\n",
       "    .dataframe thead th {\n",
       "        text-align: right;\n",
       "    }\n",
       "</style>\n",
       "<table border=\"1\" class=\"dataframe\">\n",
       "  <thead>\n",
       "    <tr style=\"text-align: right;\">\n",
       "      <th></th>\n",
       "      <th>M1</th>\n",
       "      <th>M2</th>\n",
       "      <th>M2/M1</th>\n",
       "      <th>UNRATE</th>\n",
       "    </tr>\n",
       "    <tr>\n",
       "      <th>DATE</th>\n",
       "      <th></th>\n",
       "      <th></th>\n",
       "      <th></th>\n",
       "      <th></th>\n",
       "    </tr>\n",
       "  </thead>\n",
       "  <tbody>\n",
       "    <tr>\n",
       "      <th>2019-04-01</th>\n",
       "      <td>3945.6</td>\n",
       "      <td>14676.4</td>\n",
       "      <td>3.719688</td>\n",
       "      <td>3.7</td>\n",
       "    </tr>\n",
       "    <tr>\n",
       "      <th>2019-07-01</th>\n",
       "      <td>3976.9</td>\n",
       "      <td>14800.5</td>\n",
       "      <td>3.721617</td>\n",
       "      <td>3.6</td>\n",
       "    </tr>\n",
       "    <tr>\n",
       "      <th>2020-06-01</th>\n",
       "      <td>16346.1</td>\n",
       "      <td>17940.9</td>\n",
       "      <td>1.097565</td>\n",
       "      <td>11.1</td>\n",
       "    </tr>\n",
       "    <tr>\n",
       "      <th>2021-02-01</th>\n",
       "      <td>18151.4</td>\n",
       "      <td>19433.1</td>\n",
       "      <td>1.070612</td>\n",
       "      <td>6.2</td>\n",
       "    </tr>\n",
       "    <tr>\n",
       "      <th>2021-03-01</th>\n",
       "      <td>18429.3</td>\n",
       "      <td>19676.0</td>\n",
       "      <td>1.067648</td>\n",
       "      <td>6.0</td>\n",
       "    </tr>\n",
       "  </tbody>\n",
       "</table>\n",
       "</div>"
      ],
      "text/plain": [
       "                 M1       M2     M2/M1  UNRATE\n",
       "DATE                                          \n",
       "2019-04-01   3945.6  14676.4  3.719688     3.7\n",
       "2019-07-01   3976.9  14800.5  3.721617     3.6\n",
       "2020-06-01  16346.1  17940.9  1.097565    11.1\n",
       "2021-02-01  18151.4  19433.1  1.070612     6.2\n",
       "2021-03-01  18429.3  19676.0  1.067648     6.0"
      ]
     },
     "execution_count": 321,
     "metadata": {},
     "output_type": "execute_result"
    }
   ],
   "source": [
    "merged = pd.merge(m1m2, ue, how=\"inner\", on=\"DATE\")\n",
    "merged"
   ]
  },
  {
   "cell_type": "code",
   "execution_count": 323,
   "metadata": {},
   "outputs": [
    {
     "data": {
      "text/plain": [
       "<matplotlib.axes._subplots.AxesSubplot at 0x1199bb400>"
      ]
     },
     "execution_count": 323,
     "metadata": {},
     "output_type": "execute_result"
    },
    {
     "data": {
      "image/png": "[encoded data removed]",
      "text/plain": [
       "<Figure size 432x288 with 1 Axes>"
      ]
     },
     "metadata": {
      "needs_background": "light"
     },
     "output_type": "display_data"
    }
   ],
   "source": [
    "mm_ue = merged[[\"M2/M1\", \"UNRATE\"]]\n",
    "mm_ue.plot()"
   ]
  },
  {
   "cell_type": "code",
   "execution_count": null,
   "metadata": {},
   "outputs": [],
   "source": []
  }
 ],
 "metadata": {
  "kernelspec": {
   "display_name": "Python 3",
   "language": "python",
   "name": "python3"
  },
  "language_info": {
   "codemirror_mode": {
    "name": "ipython",
    "version": 3
   },
   "file_extension": ".py",
   "mimetype": "text/x-python",
   "name": "python",
   "nbconvert_exporter": "python",
   "pygments_lexer": "ipython3",
   "version": "3.7.2"
  }
 },
 "nbformat": 4,
 "nbformat_minor": 2
}
