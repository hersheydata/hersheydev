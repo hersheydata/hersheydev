{
 "cells": [
  {
   "cell_type": "markdown",
   "metadata": {},
   "source": [
    "## CAPM Model in Python"
   ]
  },
  {
   "cell_type": "markdown",
   "metadata": {},
   "source": [
    "### What is CAPM ?\n",
    "* The Capital Asset Pricing Model (CAPM) describes the relationship between the expected return of assets and the systematic risk of the market.\n",
    "\n",
    "* CAPM indicates that the expected return of an asset is equal to the risk-free return plus a risk premium.  The assumption of CAPM is that investors are rational and want to maximize return and reduce risk as much as possible. The goal of CAPM is thus **to calculate what return an investor can expect to make for a given risk premium** over the risk-free rate."
   ]
  },
  {
   "cell_type": "markdown",
   "metadata": {},
   "source": [
    "### Variables Definition\n",
    "#### Risk-Free Rate ($R_{f}$) \n",
    "CAPM also assumes there there exists a risk free($r_{f}$) asset with zero standard deviation. An example of a risk-free asset include Treasury Bills as they're backed by the U.S. government.\n",
    "\n",
    "#### Market Return ($R_{m}$) \n",
    "The market return is denoted as ($R_{m}$) and includes all securities in the market. A good representation of the U.S. market portfolio is the **S&P 500**, which is a market capitalization-weighted index of the 500 largest U.S. publicly traded companies.\n",
    "\n",
    "#### Beta ($\\beta$)\n",
    "Beta is a measure of a stock's volatility in relation to the overall market, for example the S&P 500. In other words, Beta represents **the slope of the regression line**, which is the market return vs. the individual stocks return.\n",
    "\n"
   ]
  },
  {
   "cell_type": "markdown",
   "metadata": {},
   "source": [
    "### CAPM Formula\n",
    "\n",
    "Mathematically, we can define CAPM formula as follows:\n",
    "\n",
    "$r_{i} = r_{f} + (r_{m}-r_{f})*\\beta_{i}$\n",
    "\n",
    "where:\n",
    "\n",
    " $r_{i}$ is the expected return of a security <br/> \n",
    " $r_{f}$ is the risk free rate <br/>\n",
    " $\\beta_{i}$ is the beta of the security relative to the market<br/>\n",
    " $r_{m}-r_{f}$ is the risk premium"
   ]
  },
  {
   "cell_type": "code",
   "execution_count": 3,
   "metadata": {},
   "outputs": [],
   "source": [
    "# Sample CAPM Modeling for Samsung Electronics for 2020\n",
    "import FinanceDataReader as fdr"
   ]
  },
  {
   "cell_type": "code",
   "execution_count": 14,
   "metadata": {},
   "outputs": [
    {
     "data": {
      "text/html": [
       "<div>\n",
       "<style scoped>\n",
       "    .dataframe tbody tr th:only-of-type {\n",
       "        vertical-align: middle;\n",
       "    }\n",
       "\n",
       "    .dataframe tbody tr th {\n",
       "        vertical-align: top;\n",
       "    }\n",
       "\n",
       "    .dataframe thead th {\n",
       "        text-align: right;\n",
       "    }\n",
       "</style>\n",
       "<table border=\"1\" class=\"dataframe\">\n",
       "  <thead>\n",
       "    <tr style=\"text-align: right;\">\n",
       "      <th></th>\n",
       "      <th>Open</th>\n",
       "      <th>High</th>\n",
       "      <th>Low</th>\n",
       "      <th>Close</th>\n",
       "      <th>Volume</th>\n",
       "      <th>Change</th>\n",
       "    </tr>\n",
       "    <tr>\n",
       "      <th>Date</th>\n",
       "      <th></th>\n",
       "      <th></th>\n",
       "      <th></th>\n",
       "      <th></th>\n",
       "      <th></th>\n",
       "      <th></th>\n",
       "    </tr>\n",
       "  </thead>\n",
       "  <tbody>\n",
       "    <tr>\n",
       "      <th>2020-01-02</th>\n",
       "      <td>55500</td>\n",
       "      <td>56000</td>\n",
       "      <td>55000</td>\n",
       "      <td>55200</td>\n",
       "      <td>12993228</td>\n",
       "      <td>-0.010753</td>\n",
       "    </tr>\n",
       "    <tr>\n",
       "      <th>2020-01-03</th>\n",
       "      <td>56000</td>\n",
       "      <td>56600</td>\n",
       "      <td>54900</td>\n",
       "      <td>55500</td>\n",
       "      <td>15422255</td>\n",
       "      <td>0.005435</td>\n",
       "    </tr>\n",
       "    <tr>\n",
       "      <th>2020-01-06</th>\n",
       "      <td>54900</td>\n",
       "      <td>55600</td>\n",
       "      <td>54600</td>\n",
       "      <td>55500</td>\n",
       "      <td>10278951</td>\n",
       "      <td>0.000000</td>\n",
       "    </tr>\n",
       "    <tr>\n",
       "      <th>2020-01-07</th>\n",
       "      <td>55700</td>\n",
       "      <td>56400</td>\n",
       "      <td>55600</td>\n",
       "      <td>55800</td>\n",
       "      <td>10009778</td>\n",
       "      <td>0.005405</td>\n",
       "    </tr>\n",
       "    <tr>\n",
       "      <th>2020-01-08</th>\n",
       "      <td>56200</td>\n",
       "      <td>57400</td>\n",
       "      <td>55900</td>\n",
       "      <td>56800</td>\n",
       "      <td>23501171</td>\n",
       "      <td>0.017921</td>\n",
       "    </tr>\n",
       "  </tbody>\n",
       "</table>\n",
       "</div>"
      ],
      "text/plain": [
       "             Open   High    Low  Close    Volume    Change\n",
       "Date                                                      \n",
       "2020-01-02  55500  56000  55000  55200  12993228 -0.010753\n",
       "2020-01-03  56000  56600  54900  55500  15422255  0.005435\n",
       "2020-01-06  54900  55600  54600  55500  10278951  0.000000\n",
       "2020-01-07  55700  56400  55600  55800  10009778  0.005405\n",
       "2020-01-08  56200  57400  55900  56800  23501171  0.017921"
      ]
     },
     "execution_count": 14,
     "metadata": {},
     "output_type": "execute_result"
    }
   ],
   "source": [
    "# 삼성전자 데이터 로드\n",
    "df = fdr.DataReader('005930', '2020-01-01', '2020-12-31')\n",
    "df.head()"
   ]
  },
  {
   "cell_type": "code",
   "execution_count": 15,
   "metadata": {},
   "outputs": [
    {
     "data": {
      "text/html": [
       "<div>\n",
       "<style scoped>\n",
       "    .dataframe tbody tr th:only-of-type {\n",
       "        vertical-align: middle;\n",
       "    }\n",
       "\n",
       "    .dataframe tbody tr th {\n",
       "        vertical-align: top;\n",
       "    }\n",
       "\n",
       "    .dataframe thead th {\n",
       "        text-align: right;\n",
       "    }\n",
       "</style>\n",
       "<table border=\"1\" class=\"dataframe\">\n",
       "  <thead>\n",
       "    <tr style=\"text-align: right;\">\n",
       "      <th></th>\n",
       "      <th>Close</th>\n",
       "      <th>Open</th>\n",
       "      <th>High</th>\n",
       "      <th>Low</th>\n",
       "      <th>Volume</th>\n",
       "      <th>Change</th>\n",
       "    </tr>\n",
       "    <tr>\n",
       "      <th>Date</th>\n",
       "      <th></th>\n",
       "      <th></th>\n",
       "      <th></th>\n",
       "      <th></th>\n",
       "      <th></th>\n",
       "      <th></th>\n",
       "    </tr>\n",
       "  </thead>\n",
       "  <tbody>\n",
       "    <tr>\n",
       "      <th>2020-01-02</th>\n",
       "      <td>2175.17</td>\n",
       "      <td>2201.21</td>\n",
       "      <td>2202.32</td>\n",
       "      <td>2171.84</td>\n",
       "      <td>494680000.0</td>\n",
       "      <td>-0.0102</td>\n",
       "    </tr>\n",
       "    <tr>\n",
       "      <th>2020-01-03</th>\n",
       "      <td>2176.46</td>\n",
       "      <td>2192.58</td>\n",
       "      <td>2203.38</td>\n",
       "      <td>2165.39</td>\n",
       "      <td>631560000.0</td>\n",
       "      <td>0.0006</td>\n",
       "    </tr>\n",
       "    <tr>\n",
       "      <th>2020-01-06</th>\n",
       "      <td>2155.07</td>\n",
       "      <td>2154.97</td>\n",
       "      <td>2164.42</td>\n",
       "      <td>2149.95</td>\n",
       "      <td>592670000.0</td>\n",
       "      <td>-0.0098</td>\n",
       "    </tr>\n",
       "    <tr>\n",
       "      <th>2020-01-07</th>\n",
       "      <td>2175.54</td>\n",
       "      <td>2166.60</td>\n",
       "      <td>2181.62</td>\n",
       "      <td>2164.27</td>\n",
       "      <td>568240000.0</td>\n",
       "      <td>0.0095</td>\n",
       "    </tr>\n",
       "    <tr>\n",
       "      <th>2020-01-08</th>\n",
       "      <td>2151.31</td>\n",
       "      <td>2156.27</td>\n",
       "      <td>2162.32</td>\n",
       "      <td>2137.72</td>\n",
       "      <td>913830000.0</td>\n",
       "      <td>-0.0111</td>\n",
       "    </tr>\n",
       "  </tbody>\n",
       "</table>\n",
       "</div>"
      ],
      "text/plain": [
       "              Close     Open     High      Low       Volume  Change\n",
       "Date                                                               \n",
       "2020-01-02  2175.17  2201.21  2202.32  2171.84  494680000.0 -0.0102\n",
       "2020-01-03  2176.46  2192.58  2203.38  2165.39  631560000.0  0.0006\n",
       "2020-01-06  2155.07  2154.97  2164.42  2149.95  592670000.0 -0.0098\n",
       "2020-01-07  2175.54  2166.60  2181.62  2164.27  568240000.0  0.0095\n",
       "2020-01-08  2151.31  2156.27  2162.32  2137.72  913830000.0 -0.0111"
      ]
     },
     "execution_count": 15,
     "metadata": {},
     "output_type": "execute_result"
    }
   ],
   "source": [
    "kospi = fdr.DataReader('KS11', '2020-01-01', '2020-12-31')\n",
    "kospi.head()"
   ]
  },
  {
   "cell_type": "code",
   "execution_count": 114,
   "metadata": {},
   "outputs": [],
   "source": [
    "Samsung_closed = df[[\"Close\"]]\n",
    "kospi_closed = kospi[[\"Close\"]]"
   ]
  },
  {
   "cell_type": "code",
   "execution_count": 118,
   "metadata": {},
   "outputs": [
    {
     "data": {
      "text/html": [
       "<div>\n",
       "<style scoped>\n",
       "    .dataframe tbody tr th:only-of-type {\n",
       "        vertical-align: middle;\n",
       "    }\n",
       "\n",
       "    .dataframe tbody tr th {\n",
       "        vertical-align: top;\n",
       "    }\n",
       "\n",
       "    .dataframe thead th {\n",
       "        text-align: right;\n",
       "    }\n",
       "</style>\n",
       "<table border=\"1\" class=\"dataframe\">\n",
       "  <thead>\n",
       "    <tr style=\"text-align: right;\">\n",
       "      <th></th>\n",
       "      <th>SAMSUNG</th>\n",
       "      <th>KOSPI</th>\n",
       "    </tr>\n",
       "    <tr>\n",
       "      <th>Date</th>\n",
       "      <th></th>\n",
       "      <th></th>\n",
       "    </tr>\n",
       "  </thead>\n",
       "  <tbody>\n",
       "    <tr>\n",
       "      <th>2020-01-02</th>\n",
       "      <td>55200</td>\n",
       "      <td>2175.17</td>\n",
       "    </tr>\n",
       "    <tr>\n",
       "      <th>2020-01-03</th>\n",
       "      <td>55500</td>\n",
       "      <td>2176.46</td>\n",
       "    </tr>\n",
       "    <tr>\n",
       "      <th>2020-01-06</th>\n",
       "      <td>55500</td>\n",
       "      <td>2155.07</td>\n",
       "    </tr>\n",
       "    <tr>\n",
       "      <th>2020-01-07</th>\n",
       "      <td>55800</td>\n",
       "      <td>2175.54</td>\n",
       "    </tr>\n",
       "    <tr>\n",
       "      <th>2020-01-08</th>\n",
       "      <td>56800</td>\n",
       "      <td>2151.31</td>\n",
       "    </tr>\n",
       "  </tbody>\n",
       "</table>\n",
       "</div>"
      ],
      "text/plain": [
       "            SAMSUNG    KOSPI\n",
       "Date                        \n",
       "2020-01-02    55200  2175.17\n",
       "2020-01-03    55500  2176.46\n",
       "2020-01-06    55500  2155.07\n",
       "2020-01-07    55800  2175.54\n",
       "2020-01-08    56800  2151.31"
      ]
     },
     "execution_count": 118,
     "metadata": {},
     "output_type": "execute_result"
    }
   ],
   "source": [
    "import pandas as pd\n",
    "value_merged = pd.merge(Samsung_closed, kospi_closed, # merge할 DataFrame 객체 이름\n",
    "             how='outer', # left, right, inner (default), outer\n",
    "             on='Date') # merge의 기준이 되는 Key 변수\n",
    "\n",
    "value_merged.columns = [\"Close_x\", \"Close_y\"]\n",
    "renamed = value_merged.rename(columns = {\"Close_x\" : \"SAMSUNG\", \"Close_y\":\"KOSPI\"})\n",
    "renamed.head()"
   ]
  },
  {
   "cell_type": "code",
   "execution_count": 155,
   "metadata": {},
   "outputs": [
    {
     "data": {
      "text/plain": [
       "<matplotlib.axes._subplots.AxesSubplot at 0x11c56af60>"
      ]
     },
     "execution_count": 155,
     "metadata": {},
     "output_type": "execute_result"
    },
    {
     "data": {
      "image/png": "[encoded data removed]",
      "text/plain": [
       "<Figure size 432x288 with 1 Axes>"
      ]
     },
     "metadata": {
      "needs_background": "light"
     },
     "output_type": "display_data"
    }
   ],
   "source": [
    "renamed.plot()"
   ]
  },
  {
   "cell_type": "code",
   "execution_count": 147,
   "metadata": {},
   "outputs": [],
   "source": [
    "import numpy as np\n",
    "beta, alpha = np.polyfit(renamed['SAMSUNG'], renamed['KOSPI'], 1)\n",
    "beta_ss = beta"
   ]
  },
  {
   "cell_type": "markdown",
   "metadata": {},
   "source": [
    "### Calculate CAPM of Samsung"
   ]
  },
  {
   "cell_type": "code",
   "execution_count": 163,
   "metadata": {},
   "outputs": [
    {
     "data": {
      "text/plain": [
       "1.4172484384021835"
      ]
     },
     "execution_count": 163,
     "metadata": {},
     "output_type": "execute_result"
    }
   ],
   "source": [
    "mean_ss = round(renamed['SAMSUNG'].mean())\n",
    "\n",
    "actual_return_to_mean = renamed[\"SAMSUNG\"][-1]/mean_ss\n",
    "actual_return_to_mean"
   ]
  },
  {
   "cell_type": "code",
   "execution_count": 164,
   "metadata": {
    "scrolled": true
   },
   "outputs": [
    {
     "data": {
      "text/plain": [
       "0.011543008703138978"
      ]
     },
     "execution_count": 164,
     "metadata": {},
     "output_type": "execute_result"
    }
   ],
   "source": [
    "rf = 0 \n",
    "rm = (renamed[\"KOSPI\"][-1]/renamed[\"KOSPI\"][1]-1)\n",
    "ER_samsung = rf + (beta_ss * (rm-rf))\n",
    "ER_samsung"
   ]
  },
  {
   "cell_type": "code",
   "execution_count": 186,
   "metadata": {},
   "outputs": [
    {
     "name": "stdout",
     "output_type": "stream",
     "text": [
      "기대수익률을 초과합니다\n"
     ]
    }
   ],
   "source": [
    "def excessive_return(x, y):\n",
    "    if x > y:\n",
    "        print(\"기대수익률을 초과합니다\")\n",
    "    else:\n",
    "        print(\"초과 수익이 아닙니다\")\n",
    "\n",
    "excessive_return(actual_return_to_mean, ER_samsung)"
   ]
  },
  {
   "cell_type": "code",
   "execution_count": null,
   "metadata": {},
   "outputs": [],
   "source": []
  }
 ],
 "metadata": {
  "kernelspec": {
   "display_name": "Python 3",
   "language": "python",
   "name": "python3"
  },
  "language_info": {
   "codemirror_mode": {
    "name": "ipython",
    "version": 3
   },
   "file_extension": ".py",
   "mimetype": "text/x-python",
   "name": "python",
   "nbconvert_exporter": "python",
   "pygments_lexer": "ipython3",
   "version": "3.7.2"
  }
 },
 "nbformat": 4,
 "nbformat_minor": 2
}
