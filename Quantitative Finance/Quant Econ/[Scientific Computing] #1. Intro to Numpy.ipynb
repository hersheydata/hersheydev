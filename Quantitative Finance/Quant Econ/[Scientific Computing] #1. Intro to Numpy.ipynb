{
 "cells": [
  {
   "cell_type": "markdown",
   "metadata": {},
   "source": [
    "## QuantEcon Study Material\n",
    "> Source : https://datascience.quantecon.org/scientific/index.html"
   ]
  },
  {
   "cell_type": "markdown",
   "metadata": {},
   "source": [
    "#### TL;DR \n",
    "Break down fundamental knowledge and skills of scientific computing methodology of Python"
   ]
  },
  {
   "cell_type": "markdown",
   "metadata": {},
   "source": [
    "----"
   ]
  },
  {
   "cell_type": "markdown",
   "metadata": {},
   "source": [
    "## Scientific Computing\n",
    "This section discusses several key aspects of scientific computing **that enable modern economics, data science, and statistics.**\n",
    "\n",
    "As the size of our data and the complexity of our models have increased (and continue doing so), we have become more reliant on computers to perform computations that we simply cannot do by hand.\n",
    "\n",
    "In this section, we will cover\n",
    "\n",
    "- Python’s main numerical library **numpy and how to work with its array type.**\n",
    "\n",
    "- A basic introduction to **visualizing data with matplotlib.**\n",
    "\n",
    "- A refresher on some **key linear algebra concepts.**\n",
    "\n",
    "- A review of **basic probability concepts and how to use simulation** in learning economics.\n",
    "\n",
    "- Using a computer to perform **optimization.**"
   ]
  },
  {
   "cell_type": "markdown",
   "metadata": {},
   "source": [
    "----"
   ]
  },
  {
   "cell_type": "markdown",
   "metadata": {},
   "source": [
    "# Introduction to Numpy"
   ]
  },
  {
   "cell_type": "markdown",
   "metadata": {},
   "source": [
    "## Outcomes\n",
    "- Understand basics about numpy arrays\n",
    "- Index into multi-dimensional arrays\n",
    "- Use universal functions/broadcasting to do element-wise operations on arrays"
   ]
  },
  {
   "cell_type": "markdown",
   "metadata": {},
   "source": [
    "The foundational library that helps us perform these computations is known as numpy (numerical Python).\n",
    "\n",
    "Numpy's core contribution is a new data-type called an **\"array\"**\n",
    "\n",
    "An array is similar to a list, but numpy imposes some additional restrictions on how the data inside is organized.\n",
    "\n",
    "These restrictions allow numpy to \n",
    "\n",
    "- 1. Be more efficient in performing mathematical and scientific computations.\n",
    "- 2. Expose functions that allow numpy to do the necessary linear algebra for machine learning and statistics."
   ]
  },
  {
   "cell_type": "code",
   "execution_count": 1,
   "metadata": {},
   "outputs": [],
   "source": [
    "import numpy as np"
   ]
  },
  {
   "cell_type": "markdown",
   "metadata": {},
   "source": [
    "### What is an Array ?"
   ]
  },
  {
   "cell_type": "markdown",
   "metadata": {},
   "source": [
    "An array is a multi-dimensional grid of values.\n",
    "\n",
    "What does this mean? It is easier to demonstrate than to explain.\n",
    "\n",
    "In this block of code, we build a 1-dimensional array"
   ]
  },
  {
   "cell_type": "code",
   "execution_count": 2,
   "metadata": {},
   "outputs": [
    {
     "name": "stdout",
     "output_type": "stream",
     "text": [
      "[1 2 3]\n"
     ]
    }
   ],
   "source": [
    "x_1d = np.array([1,2,3]) # one-dimensional array\n",
    "print(x_1d)"
   ]
  },
  {
   "cell_type": "markdown",
   "metadata": {},
   "source": [
    "You can think of a 1-dimensional array as a list of numbers"
   ]
  },
  {
   "cell_type": "code",
   "execution_count": 3,
   "metadata": {},
   "outputs": [
    {
     "name": "stdout",
     "output_type": "stream",
     "text": [
      "1\n",
      "[1 2]\n"
     ]
    }
   ],
   "source": [
    "print(x_1d[0])\n",
    "print(x_1d[0:2])"
   ]
  },
  {
   "cell_type": "markdown",
   "metadata": {},
   "source": [
    "Note that the range of indices does not include the end-point, that is"
   ]
  },
  {
   "cell_type": "code",
   "execution_count": 4,
   "metadata": {},
   "outputs": [
    {
     "name": "stdout",
     "output_type": "stream",
     "text": [
      "[ True  True  True]\n",
      "[1 2]\n"
     ]
    }
   ],
   "source": [
    "print(x_1d[0:3] == x_1d[:])\n",
    "print(x_1d[0:2]) # 맨 마지막 index 제외하고 출력하는 것, 즉 1번째 까지"
   ]
  },
  {
   "cell_type": "markdown",
   "metadata": {},
   "source": [
    "Next, we define a 2-dimensional array **(a matrix)**"
   ]
  },
  {
   "cell_type": "code",
   "execution_count": 5,
   "metadata": {},
   "outputs": [
    {
     "name": "stdout",
     "output_type": "stream",
     "text": [
      "[[1 2 3]\n",
      " [4 5 6]\n",
      " [7 8 9]]\n"
     ]
    }
   ],
   "source": [
    "x_2d = np.array([[1,2,3],\n",
    "               [4,5,6],\n",
    "               [7,8,9]\n",
    "                ])\n",
    "print(x_2d)"
   ]
  },
  {
   "cell_type": "markdown",
   "metadata": {},
   "source": [
    "Notice that the data is no longer represented as **something flat, but rather, as three rows and three columns of numbers**.\n",
    "\n",
    "The first question that you might ask yourself is: \"how do iI accss the values in this array?\"\n",
    "\n",
    "You access each element by specifying a row first and then a column. For example, if we wanted to access the 6, we would ask for the (1,2) element."
   ]
  },
  {
   "cell_type": "code",
   "execution_count": 6,
   "metadata": {},
   "outputs": [
    {
     "name": "stdout",
     "output_type": "stream",
     "text": [
      "6\n",
      "2\n"
     ]
    }
   ],
   "source": [
    "print(x_2d[1,2])\n",
    "print(x_2d[0,1]) #list indexing과 동일하게 실제 인덱스보다 -1로 처리"
   ]
  },
  {
   "cell_type": "markdown",
   "metadata": {},
   "source": [
    "To get the first, and then second rows..."
   ]
  },
  {
   "cell_type": "code",
   "execution_count": 7,
   "metadata": {},
   "outputs": [
    {
     "name": "stdout",
     "output_type": "stream",
     "text": [
      "[[1 2 3]\n",
      " [4 5 6]]\n"
     ]
    }
   ],
   "source": [
    "print(x_2d[0:2,])"
   ]
  },
  {
   "cell_type": "code",
   "execution_count": 8,
   "metadata": {},
   "outputs": [
    {
     "name": "stdout",
     "output_type": "stream",
     "text": [
      "[1 2 3]\n",
      "[4 5 6]\n"
     ]
    }
   ],
   "source": [
    "print(x_2d[0,:])\n",
    "print(x_2d[1,:])"
   ]
  },
  {
   "cell_type": "markdown",
   "metadata": {},
   "source": [
    "or the columns..."
   ]
  },
  {
   "cell_type": "code",
   "execution_count": 9,
   "metadata": {},
   "outputs": [
    {
     "name": "stdout",
     "output_type": "stream",
     "text": [
      "[1 4 7]\n",
      "[2 5 8]\n"
     ]
    }
   ],
   "source": [
    "print(x_2d[:, 0]) # 1번째 컬럼\n",
    "print(x_2d[:, 1]) # 2번째 컬럼"
   ]
  },
  {
   "cell_type": "markdown",
   "metadata": {},
   "source": [
    "This continues to generalize, since numpy gives us as many dimensions as we want in an array.\n",
    "\n",
    "For example, we build a 3-dimensional array below."
   ]
  },
  {
   "cell_type": "code",
   "execution_count": 10,
   "metadata": {},
   "outputs": [],
   "source": [
    "x_3d_list = [[[1,2,3], [4,5,6]],    \n",
    "             [[10,20,30], [40,50,60]]\n",
    "            ]\n",
    "\n",
    "x_3d = np.array(x_3d_list)"
   ]
  },
  {
   "cell_type": "code",
   "execution_count": 11,
   "metadata": {},
   "outputs": [
    {
     "name": "stdout",
     "output_type": "stream",
     "text": [
      "[[[ 1  2  3]\n",
      "  [ 4  5  6]]\n",
      "\n",
      " [[10 20 30]\n",
      "  [40 50 60]]]\n"
     ]
    }
   ],
   "source": [
    "print(x_3d)"
   ]
  },
  {
   "cell_type": "markdown",
   "metadata": {},
   "source": [
    "### Array indexing"
   ]
  },
  {
   "cell_type": "markdown",
   "metadata": {},
   "source": [
    "Now that there are multiple dimensions, indexing might feel somewhat non-obvious.\n",
    "\n",
    "do the rows or columns come first? In higher dimensions, what is the order of the index?\n",
    "\n",
    "Notice that the array is built using a list of lists (you could also use tuples).\n",
    "\n",
    "Indexing into the array will correspond to choosing elements from each list.\n",
    "\n",
    "First, notice that the **dimensions give two stacked matrices**, which we can access with"
   ]
  },
  {
   "cell_type": "code",
   "execution_count": 12,
   "metadata": {},
   "outputs": [
    {
     "name": "stdout",
     "output_type": "stream",
     "text": [
      "[[1 2 3]\n",
      " [4 5 6]]\n",
      "[[10 20 30]\n",
      " [40 50 60]]\n"
     ]
    }
   ],
   "source": [
    "print(x_3d[0]) # 3차원에서의 1행을 뽑아내면 행렬 하나가 나옴\n",
    "print(x_3d[1]) # 마찬가지"
   ]
  },
  {
   "cell_type": "code",
   "execution_count": 13,
   "metadata": {},
   "outputs": [
    {
     "name": "stdout",
     "output_type": "stream",
     "text": [
      "[[1 2 3]\n",
      " [4 5 6]]\n",
      "[[1 2 3]\n",
      " [4 5 6]]\n"
     ]
    }
   ],
   "source": [
    "print(x_3d[0, :, :])\n",
    "print(x_3d[0])\n",
    "# 똑같은 결과"
   ]
  },
  {
   "cell_type": "markdown",
   "metadata": {},
   "source": [
    "Let's work thru another example to further clarify this concept with our 3-dimensional array. Our goal will be to find the index that retrieves the `4` out of `x_3d`\n",
    "\n",
    "Recall that when we created x_3d, we used the list `[[[1, 2, 3], [4, 5, 6]], [[10, 20, 30], [40, 50, 60]]]`"
   ]
  },
  {
   "cell_type": "code",
   "execution_count": 14,
   "metadata": {},
   "outputs": [
    {
     "name": "stdout",
     "output_type": "stream",
     "text": [
      "The 0 element is [[1 2 3]\n",
      " [4 5 6]]\n",
      "The 1 element is [[10 20 30]\n",
      " [40 50 60]]\n"
     ]
    }
   ],
   "source": [
    "print(f\"The 0 element is {x_3d[0]}\") # 행렬 1개\n",
    "print(f\"The 1 element is {x_3d[1]}\") # 행렬 1개"
   ]
  },
  {
   "cell_type": "code",
   "execution_count": 15,
   "metadata": {},
   "outputs": [
    {
     "name": "stdout",
     "output_type": "stream",
     "text": [
      "The 0 element of the 0 element is [1 2 3]\n"
     ]
    }
   ],
   "source": [
    "print(f\"The 0 element of the 0 element is {x_3d[0][0]}\") # 행렬 1개 중 첫번째 행"
   ]
  },
  {
   "cell_type": "code",
   "execution_count": 16,
   "metadata": {},
   "outputs": [
    {
     "name": "stdout",
     "output_type": "stream",
     "text": [
      "The 1 element of the 0 element is [4 5 6]\n"
     ]
    }
   ],
   "source": [
    "print(f\"The 1 element of the 0 element is {x_3d[0][1]}\") # 행렬 1개 중 2번째 행"
   ]
  },
  {
   "cell_type": "code",
   "execution_count": 17,
   "metadata": {},
   "outputs": [
    {
     "name": "stdout",
     "output_type": "stream",
     "text": [
      "The 0 element of 1 element of the 0 element is 4\n"
     ]
    }
   ],
   "source": [
    "print(f\"The 0 element of 1 element of the 0 element is {x_3d[0][1][0]}\") # 행렬 1개 중 2번째 행의 1번째 원소"
   ]
  },
  {
   "cell_type": "code",
   "execution_count": 18,
   "metadata": {},
   "outputs": [
    {
     "name": "stdout",
     "output_type": "stream",
     "text": [
      "4\n"
     ]
    }
   ],
   "source": [
    "print(x_3d[0, 1, 0])\n",
    "# 3d array가 갖고있는 첫번째 행렬의 두번째 행의 첫번째 원소"
   ]
  },
  {
   "cell_type": "markdown",
   "metadata": {},
   "source": [
    "### Array Functionality\n",
    "\n",
    "#### Array Properties\n",
    "All numpy arrays have various useful properties. \n",
    "\n",
    "Properties are similar to methods in that they're accessed through the \"dot noation.\" However, they aren't a function, so we don't need parentheses."
   ]
  },
  {
   "cell_type": "markdown",
   "metadata": {},
   "source": [
    "The two most frequently used properties are `shape` and `dtype`.\n",
    "\n",
    "`shape` tells us how many elements are in each array dimension.\n",
    "\n",
    "`dtype` tells us the types of an array's elements.\n",
    "\n",
    "Let's do some examples to see these properties in action."
   ]
  },
  {
   "cell_type": "code",
   "execution_count": 19,
   "metadata": {},
   "outputs": [
    {
     "name": "stdout",
     "output_type": "stream",
     "text": [
      "(2, 3)\n",
      "int64\n"
     ]
    }
   ],
   "source": [
    "x = np.array([[1,2,3], [4,5,6]])\n",
    "print(x.shape)\n",
    "print(x.dtype)"
   ]
  },
  {
   "cell_type": "markdown",
   "metadata": {},
   "source": [
    "We'll use this to practice unpacking a tuple, like x.shape, directly into varibles."
   ]
  },
  {
   "cell_type": "code",
   "execution_count": 20,
   "metadata": {},
   "outputs": [
    {
     "name": "stdout",
     "output_type": "stream",
     "text": [
      "rows=2, columns=3\n"
     ]
    }
   ],
   "source": [
    "rows, columns = x.shape #tuble을 변수로 바인딩하는 방법\n",
    "print(f\"rows={rows}, columns={columns}\")"
   ]
  },
  {
   "cell_type": "code",
   "execution_count": 21,
   "metadata": {},
   "outputs": [
    {
     "name": "stdout",
     "output_type": "stream",
     "text": [
      "(3,)\n",
      "bool\n"
     ]
    }
   ],
   "source": [
    "x = np.array([True, False, True])\n",
    "\n",
    "print(x.shape)\n",
    "print(x.dtype)"
   ]
  },
  {
   "cell_type": "markdown",
   "metadata": {},
   "source": [
    "Note that in the above, the `(3,)` represents a tuple of length 1, **distinct from a scalar integer 3.**"
   ]
  },
  {
   "cell_type": "code",
   "execution_count": 22,
   "metadata": {},
   "outputs": [
    {
     "name": "stdout",
     "output_type": "stream",
     "text": [
      "(2, 3, 2)\n",
      "float64\n"
     ]
    }
   ],
   "source": [
    "x = np.array([\n",
    "    [[1.0, 2.0], \n",
    "     [3.0, 4.0], \n",
    "     [5.0, 6.0]],\n",
    "    [[7.0, 8.0], \n",
    "     [9.0, 10.0], \n",
    "     [11.0, 12.0]]\n",
    "])\n",
    "\n",
    "# 3*2 행렬 2개 짜리 stacked 3d array <=> (2,3,2)\n",
    "\n",
    "print(x.shape)\n",
    "print(x.dtype)"
   ]
  },
  {
   "cell_type": "markdown",
   "metadata": {},
   "source": [
    "### Creating Arrays\n",
    "\n",
    "It's usually **impractical to define arrays by hand** as we have done so far.\n",
    "\n",
    "We'll often need to create an array with default values and then fill with other values. \n",
    "\n",
    "We can create arrays with the functions `np.zeros` and `np.ones`.\n",
    "\n",
    "Both functions **take a tuple that denotes the shape of an array** and creates an array filled with 0s or 1s repectively."
   ]
  },
  {
   "cell_type": "code",
   "execution_count": 24,
   "metadata": {},
   "outputs": [
    {
     "data": {
      "text/plain": [
       "array([[[0., 0., 0., 0.],\n",
       "        [0., 0., 0., 0.],\n",
       "        [0., 0., 0., 0.]],\n",
       "\n",
       "       [[0., 0., 0., 0.],\n",
       "        [0., 0., 0., 0.],\n",
       "        [0., 0., 0., 0.]]])"
      ]
     },
     "execution_count": 24,
     "metadata": {},
     "output_type": "execute_result"
    }
   ],
   "source": [
    "sizes = (2,3,4) # 3*4짜리 행렬 2개 stack\n",
    "\n",
    "x = np.zeros(sizes) #tuple을 인자로 받아서 그대로 사용\n",
    "x"
   ]
  },
  {
   "cell_type": "code",
   "execution_count": 30,
   "metadata": {},
   "outputs": [
    {
     "data": {
      "text/plain": [
       "array([1., 1., 1.])"
      ]
     },
     "execution_count": 30,
     "metadata": {},
     "output_type": "execute_result"
    }
   ],
   "source": [
    "y = np.ones(3)\n",
    "y"
   ]
  },
  {
   "cell_type": "code",
   "execution_count": 34,
   "metadata": {},
   "outputs": [
    {
     "data": {
      "text/plain": [
       "array([[1., 0.],\n",
       "       [0., 1.]])"
      ]
     },
     "execution_count": 34,
     "metadata": {},
     "output_type": "execute_result"
    }
   ],
   "source": [
    "z = np.eye(2)\n",
    "z # 2*2 항등 행렬 생성"
   ]
  },
  {
   "cell_type": "markdown",
   "metadata": {},
   "source": [
    "### Broadcasting Operations\n",
    "\n",
    "Two types of operations that will be useful for arrays of any dimensions are:\n",
    "\n",
    "* 1. Operations between an array and a single number.\n",
    "* 2. Operations bewteen two arrays of the same shape.\n",
    "\n",
    "When we perform operations on an array by using a single number, we simply apply that operation to **every element of the array.** (Element-wise operation)"
   ]
  },
  {
   "cell_type": "code",
   "execution_count": 40,
   "metadata": {},
   "outputs": [
    {
     "name": "stdout",
     "output_type": "stream",
     "text": [
      "x =  [[1. 1.]\n",
      " [1. 1.]]\n",
      "x+2 =  [[3. 3.]\n",
      " [3. 3.]]\n",
      "2*x =  [[2. 2.]\n",
      " [2. 2.]]\n",
      "x/2 =  [[0.5 0.5]\n",
      " [0.5 0.5]]\n"
     ]
    }
   ],
   "source": [
    "x = np.ones((2,2))\n",
    "print(\"x = \", x)\n",
    "print(\"x+2 = \", 2+x)\n",
    "print(\"2*x = \", 2*x)\n",
    "print(\"x/2 = \", x/2)"
   ]
  },
  {
   "cell_type": "markdown",
   "metadata": {},
   "source": [
    "Operations between two arrays of the same size, in this case (2, 2), simply apply the operation element-wise between the arrays."
   ]
  },
  {
   "cell_type": "code",
   "execution_count": 47,
   "metadata": {},
   "outputs": [
    {
     "name": "stdout",
     "output_type": "stream",
     "text": [
      "x+y= [[2. 3.]\n",
      " [4. 5.]]\n",
      "--------------------\n",
      "(elementwise) x*y =  [[1. 2.]\n",
      " [3. 4.]]\n"
     ]
    }
   ],
   "source": [
    "x = np.array([[1.0, 2.0], \n",
    "              [3.0, 4.0]])\n",
    "y = np.ones((2,2))\n",
    "\n",
    "print(\"x+y=\", x+y) # 2*2 행렬의 덧셈 연산\n",
    "print(\"----\"*5)\n",
    "print(\"(elementwise) x*y = \", x*y) # # 2*2 행렬의 원소곱 (element-wise operation)"
   ]
  },
  {
   "cell_type": "markdown",
   "metadata": {},
   "source": [
    "## Universal Functions"
   ]
  },
  {
   "cell_type": "markdown",
   "metadata": {},
   "source": [
    "We will often need to transform data by applying a function to every element of an array.\n",
    "\n",
    "Numpy has good support for these operations, called *universal functions* or ufuncs for short.\n",
    "\n",
    "The numpy documentation has a list of all available ufuncs. (https://docs.scipy.org/doc/numpy/reference/ufuncs.html?highlight=ufunc#available-ufuncs)\n",
    "\n",
    "> You should think of operations between a single number and an array, as we just saw, as a ufunc."
   ]
  },
  {
   "cell_type": "markdown",
   "metadata": {},
   "source": [
    "Below, we will create an array that contains 10 points between 0 and 25."
   ]
  },
  {
   "cell_type": "code",
   "execution_count": 51,
   "metadata": {},
   "outputs": [
    {
     "data": {
      "text/plain": [
       "array([ 0.5       ,  3.22222222,  5.94444444,  8.66666667, 11.38888889,\n",
       "       14.11111111, 16.83333333, 19.55555556, 22.27777778, 25.        ])"
      ]
     },
     "execution_count": 51,
     "metadata": {},
     "output_type": "execute_result"
    }
   ],
   "source": [
    "# This is similar to range \n",
    "# but spits out 50 evenly spaced points from 0.5 to 25\n",
    "\n",
    "x = np.linspace(0.5, 25, 10) # 0.5부터 25까지 동일 간격으로 10개 데이터 출력\n",
    "x"
   ]
  },
  {
   "cell_type": "markdown",
   "metadata": {},
   "source": [
    "We will experiment with some ufuncs below:"
   ]
  },
  {
   "cell_type": "code",
   "execution_count": 52,
   "metadata": {},
   "outputs": [
    {
     "data": {
      "text/plain": [
       "array([ 0.47942554, -0.08054223, -0.33229977,  0.68755122, -0.92364381,\n",
       "        0.99966057, -0.9024271 ,  0.64879484, -0.28272056, -0.13235175])"
      ]
     },
     "execution_count": 52,
     "metadata": {},
     "output_type": "execute_result"
    }
   ],
   "source": [
    "# applies the sin function to each element of x \n",
    "np.sin(x)"
   ]
  },
  {
   "cell_type": "markdown",
   "metadata": {},
   "source": [
    "Of course, we could do the same thing with a comprehension, but the code would be both less readable and less efficient."
   ]
  },
  {
   "cell_type": "code",
   "execution_count": 55,
   "metadata": {},
   "outputs": [
    {
     "data": {
      "text/plain": [
       "array([ 0.47942554, -0.08054223, -0.33229977,  0.68755122, -0.92364381,\n",
       "        0.99966057, -0.9024271 ,  0.64879484, -0.28272056, -0.13235175])"
      ]
     },
     "execution_count": 55,
     "metadata": {},
     "output_type": "execute_result"
    }
   ],
   "source": [
    "np.array([np.sin(xval) for xval in x])"
   ]
  },
  {
   "cell_type": "markdown",
   "metadata": {},
   "source": [
    "You can use the inspector or the docstrings with `np.<TAB>` to see other available functions, such as"
   ]
  },
  {
   "cell_type": "code",
   "execution_count": 56,
   "metadata": {},
   "outputs": [
    {
     "data": {
      "text/plain": [
       "array([-0.69314718,  1.17007125,  1.78245708,  2.15948425,  2.43263822,\n",
       "        2.64696251,  2.82336105,  2.97325942,  3.10358967,  3.21887582])"
      ]
     },
     "execution_count": 56,
     "metadata": {},
     "output_type": "execute_result"
    }
   ],
   "source": [
    "np.log(x)"
   ]
  },
  {
   "cell_type": "markdown",
   "metadata": {},
   "source": [
    "A benefit of using the numpy arrays is that numpy has succinct code for combining vectorized operations."
   ]
  },
  {
   "cell_type": "code",
   "execution_count": 58,
   "metadata": {},
   "outputs": [
    {
     "data": {
      "text/plain": [
       "array([0.        , 1.38629436, 3.29583687])"
      ]
     },
     "execution_count": 58,
     "metadata": {},
     "output_type": "execute_result"
    }
   ],
   "source": [
    "# calculate log(z) * z elementwise\n",
    "\n",
    "z = np.array([1,2,3])\n",
    "\n",
    "np.log(z) * z"
   ]
  },
  {
   "cell_type": "markdown",
   "metadata": {},
   "source": [
    "## Other Useful Array Operations\n",
    "\n",
    "We have barely scratched the surface of what is possible using numpy arrays.\n",
    "\n",
    "We hope you will experiment with other functions from numpy and see how they work. \n",
    "\n",
    "Below, we demonstrate a few more array operations that we find most useful-just to give you an idea of what else you might find.\n",
    "\n",
    "When you're attempting to do **an operation that you feel should be common**, the numpy library probably has it."
   ]
  },
  {
   "cell_type": "code",
   "execution_count": 59,
   "metadata": {},
   "outputs": [],
   "source": [
    "x = np.linspace(0,25,10) #0부터 25까지 간격 동일하게 10개 뽑아줘"
   ]
  },
  {
   "cell_type": "code",
   "execution_count": 64,
   "metadata": {},
   "outputs": [
    {
     "name": "stdout",
     "output_type": "stream",
     "text": [
      "[ 0.          2.77777778  5.55555556  8.33333333 11.11111111 13.88888889\n",
      " 16.66666667 19.44444444 22.22222222 25.        ]\n",
      "----\n",
      "length of array x is 10\n"
     ]
    }
   ],
   "source": [
    "print(x)\n",
    "print(\"----\")\n",
    "print(f\"length of array x is {len(x)}\")"
   ]
  },
  {
   "cell_type": "code",
   "execution_count": 65,
   "metadata": {},
   "outputs": [
    {
     "name": "stdout",
     "output_type": "stream",
     "text": [
      "mean of array x is 12.5\n"
     ]
    }
   ],
   "source": [
    "print(f\"mean of array x is {np.mean(x)}\")"
   ]
  },
  {
   "cell_type": "code",
   "execution_count": 66,
   "metadata": {},
   "outputs": [
    {
     "name": "stdout",
     "output_type": "stream",
     "text": [
      "standard deviation of array x is 7.9785592313028175\n"
     ]
    }
   ],
   "source": [
    "print(f\"standard deviation of array x is {np.std(x)}\")"
   ]
  },
  {
   "cell_type": "markdown",
   "metadata": {},
   "source": [
    "etc..."
   ]
  },
  {
   "cell_type": "code",
   "execution_count": 67,
   "metadata": {},
   "outputs": [
    {
     "data": {
      "text/plain": [
       "array([[ 0.        ,  2.77777778],\n",
       "       [ 5.55555556,  8.33333333],\n",
       "       [11.11111111, 13.88888889],\n",
       "       [16.66666667, 19.44444444],\n",
       "       [22.22222222, 25.        ]])"
      ]
     },
     "execution_count": 67,
     "metadata": {},
     "output_type": "execute_result"
    }
   ],
   "source": [
    "# 총 10개의 원소를 다른 shape으로 바꿔보자\n",
    "np.reshape(x, (5,2))"
   ]
  },
  {
   "cell_type": "markdown",
   "metadata": {},
   "source": [
    "Finally, `np.vectorize` can be conveniently used with numpy broadcasting and any functions"
   ]
  },
  {
   "cell_type": "code",
   "execution_count": 72,
   "metadata": {},
   "outputs": [
    {
     "name": "stdout",
     "output_type": "stream",
     "text": [
      "[0.37454012 0.95071431 0.73199394 0.59865848 0.15601864 0.15599452\n",
      " 0.05808361 0.86617615 0.60111501 0.70807258]\n",
      "low\n"
     ]
    },
    {
     "ename": "ValueError",
     "evalue": "The truth value of an array with more than one element is ambiguous. Use a.any() or a.all()",
     "output_type": "error",
     "traceback": [
      "\u001b[0;31m---------------------------------------------------------------------------\u001b[0m",
      "\u001b[0;31mValueError\u001b[0m                                Traceback (most recent call last)",
      "\u001b[0;32m<ipython-input-72-f8af51ebb650>\u001b[0m in \u001b[0;36m<module>\u001b[0;34m\u001b[0m\n\u001b[1;32m     10\u001b[0m \u001b[0;34m\u001b[0m\u001b[0m\n\u001b[1;32m     11\u001b[0m \u001b[0mprint\u001b[0m\u001b[0;34m(\u001b[0m\u001b[0mf\u001b[0m\u001b[0;34m(\u001b[0m\u001b[0;36m0.1\u001b[0m\u001b[0;34m)\u001b[0m\u001b[0;34m)\u001b[0m \u001b[0;31m#scalar, no problem\u001b[0m\u001b[0;34m\u001b[0m\u001b[0;34m\u001b[0m\u001b[0m\n\u001b[0;32m---> 12\u001b[0;31m \u001b[0mprint\u001b[0m\u001b[0;34m(\u001b[0m\u001b[0mf\u001b[0m\u001b[0;34m(\u001b[0m\u001b[0mx\u001b[0m\u001b[0;34m)\u001b[0m\u001b[0;34m)\u001b[0m \u001b[0;31m# array, fails since f() is scalar\u001b[0m\u001b[0;34m\u001b[0m\u001b[0;34m\u001b[0m\u001b[0m\n\u001b[0m",
      "\u001b[0;32m<ipython-input-72-f8af51ebb650>\u001b[0m in \u001b[0;36mf\u001b[0;34m(val)\u001b[0m\n\u001b[1;32m      4\u001b[0m \u001b[0;34m\u001b[0m\u001b[0m\n\u001b[1;32m      5\u001b[0m \u001b[0;32mdef\u001b[0m \u001b[0mf\u001b[0m\u001b[0;34m(\u001b[0m\u001b[0mval\u001b[0m\u001b[0;34m)\u001b[0m\u001b[0;34m:\u001b[0m\u001b[0;34m\u001b[0m\u001b[0;34m\u001b[0m\u001b[0m\n\u001b[0;32m----> 6\u001b[0;31m     \u001b[0;32mif\u001b[0m \u001b[0mval\u001b[0m \u001b[0;34m<\u001b[0m \u001b[0;36m0.3\u001b[0m\u001b[0;34m:\u001b[0m \u001b[0;31m#scalar 기준으로 함수 정의했으므로 스칼라에 대해서는 오류 X\u001b[0m\u001b[0;34m\u001b[0m\u001b[0;34m\u001b[0m\u001b[0m\n\u001b[0m\u001b[1;32m      7\u001b[0m         \u001b[0;32mreturn\u001b[0m \u001b[0;34m\"low\"\u001b[0m\u001b[0;34m\u001b[0m\u001b[0;34m\u001b[0m\u001b[0m\n\u001b[1;32m      8\u001b[0m     \u001b[0;32melse\u001b[0m\u001b[0;34m:\u001b[0m\u001b[0;34m\u001b[0m\u001b[0;34m\u001b[0m\u001b[0m\n",
      "\u001b[0;31mValueError\u001b[0m: The truth value of an array with more than one element is ambiguous. Use a.any() or a.all()"
     ]
    }
   ],
   "source": [
    "np.random.seed(42)\n",
    "x = np.random.rand(10)\n",
    "print(x)\n",
    "\n",
    "def f(val):\n",
    "    if val < 0.3: #scalar 기준으로 함수 정의했으므로 스칼라에 대해서는 오류 X\n",
    "        return \"low\"\n",
    "    else:\n",
    "        return \"high\"\n",
    "    \n",
    "print(f(0.1)) #scalar, no problem\n",
    "print(f(x)) # array, fails since f() is scalar"
   ]
  },
  {
   "cell_type": "code",
   "execution_count": 75,
   "metadata": {},
   "outputs": [
    {
     "name": "stdout",
     "output_type": "stream",
     "text": [
      "['high' 'high' 'high' 'high' 'low' 'low' 'low' 'high' 'high' 'high']\n"
     ]
    }
   ],
   "source": [
    "f_vec = np.vectorize(f)\n",
    "\n",
    "print(f_vec(x))"
   ]
  },
  {
   "cell_type": "markdown",
   "metadata": {},
   "source": [
    "Caution: `np.vectorize` is convenient for numpy broadcasting with any function but **is not intended to be high performance.**\n",
    "\n",
    "When speed matters, directly write a f function to work on arrays."
   ]
  },
  {
   "cell_type": "markdown",
   "metadata": {},
   "source": [
    "## Exercise) Bond Pricing"
   ]
  },
  {
   "cell_type": "markdown",
   "metadata": {},
   "source": [
    "\\begin{split}\n",
    "\\begin{align*}\n",
    "    P &= \\left(\\sum_{n=1}^N \\frac{C}{(i+1)^n}\\right) + \\frac{M}{(1+i)^N} \\\\\n",
    "      &= C \\left(\\frac{1 - (1+i)^{-N}}{i} \\right) + M(1+i)^{-N}\n",
    "\\end{align*}\n",
    "\\end{split}"
   ]
  },
  {
   "cell_type": "markdown",
   "metadata": {},
   "source": [
    "In the code cell below, we have defined variables for `i`, `M` and `C`.\n",
    "\n",
    "You have two tasks:\n",
    "\n",
    "* Define a numpy array `N` that contains all maturities between 1 and 10\n",
    "> Hint : look at the `np.arange` function.\n",
    "* Using the equation above, determine the bond prices of all maturity levels in your array."
   ]
  },
  {
   "cell_type": "code",
   "execution_count": null,
   "metadata": {},
   "outputs": [],
   "source": []
  }
 ],
 "metadata": {
  "kernelspec": {
   "display_name": "Python 3",
   "language": "python",
   "name": "python3"
  },
  "language_info": {
   "codemirror_mode": {
    "name": "ipython",
    "version": 3
   },
   "file_extension": ".py",
   "mimetype": "text/x-python",
   "name": "python",
   "nbconvert_exporter": "python",
   "pygments_lexer": "ipython3",
   "version": "3.7.2"
  }
 },
 "nbformat": 4,
 "nbformat_minor": 2
}
