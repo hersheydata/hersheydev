{
  "nbformat": 4,
  "nbformat_minor": 0,
  "metadata": {
    "colab": {
      "name": "dsschool_복습.ipynb",
      "provenance": [],
      "authorship_tag": "ABX9TyPRbg596VLpUU6srS0Kbj6I",
      "include_colab_link": true
    },
    "kernelspec": {
      "name": "python3",
      "display_name": "Python 3"
    }
  },
  "cells": [
    {
      "cell_type": "markdown",
      "metadata": {
        "id": "view-in-github",
        "colab_type": "text"
      },
      "source": [
        "<a href=\"https://colab.research.google.com/github/hersheythings/machine_learning_portfolio/blob/main/dsschool_%EB%B3%B5%EC%8A%B5.ipynb\" target=\"_parent\"><img src=\"https://colab.research.google.com/assets/colab-badge.svg\" alt=\"Open In Colab\"/></a>"
      ]
    },
    {
      "cell_type": "code",
      "metadata": {
        "colab": {
          "base_uri": "https://localhost:8080/"
        },
        "id": "3uUQ6wxBTrWG",
        "outputId": "37b02671-b740-4214-9f1e-7ae56c31d5fa"
      },
      "source": [
        "import pandas as pd\r\n",
        "from google.colab import drive\r\n",
        "drive.mount('/content/gdrive')"
      ],
      "execution_count": null,
      "outputs": [
        {
          "output_type": "stream",
          "text": [
            "Mounted at /content/gdrive\n"
          ],
          "name": "stdout"
        }
      ]
    },
    {
      "cell_type": "markdown",
      "metadata": {
        "id": "pUNUM0xIguxF"
      },
      "source": [
        "## 1st. Train, Test 데이터셋 구조 확인"
      ]
    },
    {
      "cell_type": "code",
      "metadata": {
        "colab": {
          "base_uri": "https://localhost:8080/",
          "height": 294
        },
        "id": "_Z-DWW63T4v7",
        "outputId": "10e0517e-74f1-4dff-d454-aaf44d1b52cb"
      },
      "source": [
        "train = pd.read_csv(\"/content/gdrive/My Drive/Colab Notebooks/ds/train.csv\", index_col=\"PassengerId\")\r\n",
        "train.head()"
      ],
      "execution_count": null,
      "outputs": [
        {
          "output_type": "execute_result",
          "data": {
            "text/html": [
              "<div>\n",
              "<style scoped>\n",
              "    .dataframe tbody tr th:only-of-type {\n",
              "        vertical-align: middle;\n",
              "    }\n",
              "\n",
              "    .dataframe tbody tr th {\n",
              "        vertical-align: top;\n",
              "    }\n",
              "\n",
              "    .dataframe thead th {\n",
              "        text-align: right;\n",
              "    }\n",
              "</style>\n",
              "<table border=\"1\" class=\"dataframe\">\n",
              "  <thead>\n",
              "    <tr style=\"text-align: right;\">\n",
              "      <th></th>\n",
              "      <th>Survived</th>\n",
              "      <th>Pclass</th>\n",
              "      <th>Name</th>\n",
              "      <th>Sex</th>\n",
              "      <th>Age</th>\n",
              "      <th>SibSp</th>\n",
              "      <th>Parch</th>\n",
              "      <th>Ticket</th>\n",
              "      <th>Fare</th>\n",
              "      <th>Cabin</th>\n",
              "      <th>Embarked</th>\n",
              "    </tr>\n",
              "    <tr>\n",
              "      <th>PassengerId</th>\n",
              "      <th></th>\n",
              "      <th></th>\n",
              "      <th></th>\n",
              "      <th></th>\n",
              "      <th></th>\n",
              "      <th></th>\n",
              "      <th></th>\n",
              "      <th></th>\n",
              "      <th></th>\n",
              "      <th></th>\n",
              "      <th></th>\n",
              "    </tr>\n",
              "  </thead>\n",
              "  <tbody>\n",
              "    <tr>\n",
              "      <th>1</th>\n",
              "      <td>0</td>\n",
              "      <td>3</td>\n",
              "      <td>Braund, Mr. Owen Harris</td>\n",
              "      <td>male</td>\n",
              "      <td>22.0</td>\n",
              "      <td>1</td>\n",
              "      <td>0</td>\n",
              "      <td>A/5 21171</td>\n",
              "      <td>7.2500</td>\n",
              "      <td>NaN</td>\n",
              "      <td>S</td>\n",
              "    </tr>\n",
              "    <tr>\n",
              "      <th>2</th>\n",
              "      <td>1</td>\n",
              "      <td>1</td>\n",
              "      <td>Cumings, Mrs. John Bradley (Florence Briggs Th...</td>\n",
              "      <td>female</td>\n",
              "      <td>38.0</td>\n",
              "      <td>1</td>\n",
              "      <td>0</td>\n",
              "      <td>PC 17599</td>\n",
              "      <td>71.2833</td>\n",
              "      <td>C85</td>\n",
              "      <td>C</td>\n",
              "    </tr>\n",
              "    <tr>\n",
              "      <th>3</th>\n",
              "      <td>1</td>\n",
              "      <td>3</td>\n",
              "      <td>Heikkinen, Miss. Laina</td>\n",
              "      <td>female</td>\n",
              "      <td>26.0</td>\n",
              "      <td>0</td>\n",
              "      <td>0</td>\n",
              "      <td>STON/O2. 3101282</td>\n",
              "      <td>7.9250</td>\n",
              "      <td>NaN</td>\n",
              "      <td>S</td>\n",
              "    </tr>\n",
              "    <tr>\n",
              "      <th>4</th>\n",
              "      <td>1</td>\n",
              "      <td>1</td>\n",
              "      <td>Futrelle, Mrs. Jacques Heath (Lily May Peel)</td>\n",
              "      <td>female</td>\n",
              "      <td>35.0</td>\n",
              "      <td>1</td>\n",
              "      <td>0</td>\n",
              "      <td>113803</td>\n",
              "      <td>53.1000</td>\n",
              "      <td>C123</td>\n",
              "      <td>S</td>\n",
              "    </tr>\n",
              "    <tr>\n",
              "      <th>5</th>\n",
              "      <td>0</td>\n",
              "      <td>3</td>\n",
              "      <td>Allen, Mr. William Henry</td>\n",
              "      <td>male</td>\n",
              "      <td>35.0</td>\n",
              "      <td>0</td>\n",
              "      <td>0</td>\n",
              "      <td>373450</td>\n",
              "      <td>8.0500</td>\n",
              "      <td>NaN</td>\n",
              "      <td>S</td>\n",
              "    </tr>\n",
              "  </tbody>\n",
              "</table>\n",
              "</div>"
            ],
            "text/plain": [
              "             Survived  Pclass  ... Cabin Embarked\n",
              "PassengerId                    ...               \n",
              "1                   0       3  ...   NaN        S\n",
              "2                   1       1  ...   C85        C\n",
              "3                   1       3  ...   NaN        S\n",
              "4                   1       1  ...  C123        S\n",
              "5                   0       3  ...   NaN        S\n",
              "\n",
              "[5 rows x 11 columns]"
            ]
          },
          "metadata": {
            "tags": []
          },
          "execution_count": 3
        }
      ]
    },
    {
      "cell_type": "code",
      "metadata": {
        "colab": {
          "base_uri": "https://localhost:8080/",
          "height": 294
        },
        "id": "SYIaJn4GUEMJ",
        "outputId": "8f21a2ec-4665-4f51-af82-88543bd1d81b"
      },
      "source": [
        "test = pd.read_csv(\"/content/gdrive/My Drive/Colab Notebooks/ds/test.csv\", index_col=\"PassengerId\")\r\n",
        "train.head()"
      ],
      "execution_count": null,
      "outputs": [
        {
          "output_type": "execute_result",
          "data": {
            "text/html": [
              "<div>\n",
              "<style scoped>\n",
              "    .dataframe tbody tr th:only-of-type {\n",
              "        vertical-align: middle;\n",
              "    }\n",
              "\n",
              "    .dataframe tbody tr th {\n",
              "        vertical-align: top;\n",
              "    }\n",
              "\n",
              "    .dataframe thead th {\n",
              "        text-align: right;\n",
              "    }\n",
              "</style>\n",
              "<table border=\"1\" class=\"dataframe\">\n",
              "  <thead>\n",
              "    <tr style=\"text-align: right;\">\n",
              "      <th></th>\n",
              "      <th>Survived</th>\n",
              "      <th>Pclass</th>\n",
              "      <th>Name</th>\n",
              "      <th>Sex</th>\n",
              "      <th>Age</th>\n",
              "      <th>SibSp</th>\n",
              "      <th>Parch</th>\n",
              "      <th>Ticket</th>\n",
              "      <th>Fare</th>\n",
              "      <th>Cabin</th>\n",
              "      <th>Embarked</th>\n",
              "    </tr>\n",
              "    <tr>\n",
              "      <th>PassengerId</th>\n",
              "      <th></th>\n",
              "      <th></th>\n",
              "      <th></th>\n",
              "      <th></th>\n",
              "      <th></th>\n",
              "      <th></th>\n",
              "      <th></th>\n",
              "      <th></th>\n",
              "      <th></th>\n",
              "      <th></th>\n",
              "      <th></th>\n",
              "    </tr>\n",
              "  </thead>\n",
              "  <tbody>\n",
              "    <tr>\n",
              "      <th>1</th>\n",
              "      <td>0</td>\n",
              "      <td>3</td>\n",
              "      <td>Braund, Mr. Owen Harris</td>\n",
              "      <td>male</td>\n",
              "      <td>22.0</td>\n",
              "      <td>1</td>\n",
              "      <td>0</td>\n",
              "      <td>A/5 21171</td>\n",
              "      <td>7.2500</td>\n",
              "      <td>NaN</td>\n",
              "      <td>S</td>\n",
              "    </tr>\n",
              "    <tr>\n",
              "      <th>2</th>\n",
              "      <td>1</td>\n",
              "      <td>1</td>\n",
              "      <td>Cumings, Mrs. John Bradley (Florence Briggs Th...</td>\n",
              "      <td>female</td>\n",
              "      <td>38.0</td>\n",
              "      <td>1</td>\n",
              "      <td>0</td>\n",
              "      <td>PC 17599</td>\n",
              "      <td>71.2833</td>\n",
              "      <td>C85</td>\n",
              "      <td>C</td>\n",
              "    </tr>\n",
              "    <tr>\n",
              "      <th>3</th>\n",
              "      <td>1</td>\n",
              "      <td>3</td>\n",
              "      <td>Heikkinen, Miss. Laina</td>\n",
              "      <td>female</td>\n",
              "      <td>26.0</td>\n",
              "      <td>0</td>\n",
              "      <td>0</td>\n",
              "      <td>STON/O2. 3101282</td>\n",
              "      <td>7.9250</td>\n",
              "      <td>NaN</td>\n",
              "      <td>S</td>\n",
              "    </tr>\n",
              "    <tr>\n",
              "      <th>4</th>\n",
              "      <td>1</td>\n",
              "      <td>1</td>\n",
              "      <td>Futrelle, Mrs. Jacques Heath (Lily May Peel)</td>\n",
              "      <td>female</td>\n",
              "      <td>35.0</td>\n",
              "      <td>1</td>\n",
              "      <td>0</td>\n",
              "      <td>113803</td>\n",
              "      <td>53.1000</td>\n",
              "      <td>C123</td>\n",
              "      <td>S</td>\n",
              "    </tr>\n",
              "    <tr>\n",
              "      <th>5</th>\n",
              "      <td>0</td>\n",
              "      <td>3</td>\n",
              "      <td>Allen, Mr. William Henry</td>\n",
              "      <td>male</td>\n",
              "      <td>35.0</td>\n",
              "      <td>0</td>\n",
              "      <td>0</td>\n",
              "      <td>373450</td>\n",
              "      <td>8.0500</td>\n",
              "      <td>NaN</td>\n",
              "      <td>S</td>\n",
              "    </tr>\n",
              "  </tbody>\n",
              "</table>\n",
              "</div>"
            ],
            "text/plain": [
              "             Survived  Pclass  ... Cabin Embarked\n",
              "PassengerId                    ...               \n",
              "1                   0       3  ...   NaN        S\n",
              "2                   1       1  ...   C85        C\n",
              "3                   1       3  ...   NaN        S\n",
              "4                   1       1  ...  C123        S\n",
              "5                   0       3  ...   NaN        S\n",
              "\n",
              "[5 rows x 11 columns]"
            ]
          },
          "metadata": {
            "tags": []
          },
          "execution_count": 4
        }
      ]
    },
    {
      "cell_type": "markdown",
      "metadata": {
        "id": "gsd4gMWjYy5h"
      },
      "source": [
        "## 2nd. EDA with 시각화, 피봇 라이브러리\r\n",
        "\r\n",
        "* 좋은 데이터 사이언티스트는 전처리와 학습 절차에 앞서, EDA를 다각적으로 수행하면서 데이터 자체에 대한 분석을 선행함\r\n",
        "\r\n",
        "* 모든 피처와 데이터 구조, 데이터 간 상관관계 등을 사전적으로 이해하는 절차\r\n",
        "\r\n"
      ]
    },
    {
      "cell_type": "code",
      "metadata": {
        "id": "SdIXLHh5XQb2"
      },
      "source": [
        "%matplotlib inline\r\n",
        "import seaborn as sns\r\n",
        "import matplotlib.pyplot as plt"
      ],
      "execution_count": null,
      "outputs": []
    },
    {
      "cell_type": "code",
      "metadata": {
        "colab": {
          "base_uri": "https://localhost:8080/",
          "height": 296
        },
        "id": "xm_jP-yyXem6",
        "outputId": "02492f1a-5115-4f95-9e71-b4c136da2ad2"
      },
      "source": [
        "sns.countplot(data=train, x=\"Embarked\", hue=\"Survived\")"
      ],
      "execution_count": null,
      "outputs": [
        {
          "output_type": "execute_result",
          "data": {
            "text/plain": [
              "<matplotlib.axes._subplots.AxesSubplot at 0x7f6be12e66d8>"
            ]
          },
          "metadata": {
            "tags": []
          },
          "execution_count": 6
        },
        {
          "output_type": "display_data",
          "data": {
            "image/png": "[encoded data removed]",
            "text/plain": [
              "<Figure size 432x288 with 1 Axes>"
            ]
          },
          "metadata": {
            "tags": [],
            "needs_background": "light"
          }
        }
      ]
    },
    {
      "cell_type": "code",
      "metadata": {
        "colab": {
          "base_uri": "https://localhost:8080/",
          "height": 296
        },
        "id": "kx7dynzWXgzR",
        "outputId": "d4e10cdc-df7b-4ac4-b759-9092f3fff396"
      },
      "source": [
        "sns.countplot(data=train, x=\"Sex\", hue=\"Survived\")"
      ],
      "execution_count": null,
      "outputs": [
        {
          "output_type": "execute_result",
          "data": {
            "text/plain": [
              "<matplotlib.axes._subplots.AxesSubplot at 0x7f6be02235f8>"
            ]
          },
          "metadata": {
            "tags": []
          },
          "execution_count": 7
        },
        {
          "output_type": "display_data",
          "data": {
            "image/png": "[encoded data removed]",
            "text/plain": [
              "<Figure size 432x288 with 1 Axes>"
            ]
          },
          "metadata": {
            "tags": [],
            "needs_background": "light"
          }
        }
      ]
    },
    {
      "cell_type": "code",
      "metadata": {
        "colab": {
          "base_uri": "https://localhost:8080/",
          "height": 137
        },
        "id": "O6rwSFKFXtsp",
        "outputId": "0f7bf03d-0355-4e17-c4a5-265436d8ac0e"
      },
      "source": [
        "pd.pivot_table(train, index=\"Sex\", values=\"Survived\")"
      ],
      "execution_count": null,
      "outputs": [
        {
          "output_type": "execute_result",
          "data": {
            "text/html": [
              "<div>\n",
              "<style scoped>\n",
              "    .dataframe tbody tr th:only-of-type {\n",
              "        vertical-align: middle;\n",
              "    }\n",
              "\n",
              "    .dataframe tbody tr th {\n",
              "        vertical-align: top;\n",
              "    }\n",
              "\n",
              "    .dataframe thead th {\n",
              "        text-align: right;\n",
              "    }\n",
              "</style>\n",
              "<table border=\"1\" class=\"dataframe\">\n",
              "  <thead>\n",
              "    <tr style=\"text-align: right;\">\n",
              "      <th></th>\n",
              "      <th>Survived</th>\n",
              "    </tr>\n",
              "    <tr>\n",
              "      <th>Sex</th>\n",
              "      <th></th>\n",
              "    </tr>\n",
              "  </thead>\n",
              "  <tbody>\n",
              "    <tr>\n",
              "      <th>female</th>\n",
              "      <td>0.742038</td>\n",
              "    </tr>\n",
              "    <tr>\n",
              "      <th>male</th>\n",
              "      <td>0.188908</td>\n",
              "    </tr>\n",
              "  </tbody>\n",
              "</table>\n",
              "</div>"
            ],
            "text/plain": [
              "        Survived\n",
              "Sex             \n",
              "female  0.742038\n",
              "male    0.188908"
            ]
          },
          "metadata": {
            "tags": []
          },
          "execution_count": 8
        }
      ]
    },
    {
      "cell_type": "code",
      "metadata": {
        "colab": {
          "base_uri": "https://localhost:8080/",
          "height": 296
        },
        "id": "upo7S42PX0lB",
        "outputId": "6e4b5600-6ac3-41ed-9747-1a5f6eacb7c1"
      },
      "source": [
        "sns.countplot(data=train, x=\"Pclass\", hue=\"Survived\")"
      ],
      "execution_count": null,
      "outputs": [
        {
          "output_type": "execute_result",
          "data": {
            "text/plain": [
              "<matplotlib.axes._subplots.AxesSubplot at 0x7f6bdfd58438>"
            ]
          },
          "metadata": {
            "tags": []
          },
          "execution_count": 9
        },
        {
          "output_type": "display_data",
          "data": {
            "image/png": "[encoded data removed]",
            "text/plain": [
              "<Figure size 432x288 with 1 Axes>"
            ]
          },
          "metadata": {
            "tags": [],
            "needs_background": "light"
          }
        }
      ]
    },
    {
      "cell_type": "code",
      "metadata": {
        "colab": {
          "base_uri": "https://localhost:8080/",
          "height": 167
        },
        "id": "-W3FzXZeYEG6",
        "outputId": "e328a73c-95c4-4e45-e652-e276842b7bdf"
      },
      "source": [
        "pd.pivot_table(train, index=\"Pclass\", values=\"Survived\")"
      ],
      "execution_count": null,
      "outputs": [
        {
          "output_type": "execute_result",
          "data": {
            "text/html": [
              "<div>\n",
              "<style scoped>\n",
              "    .dataframe tbody tr th:only-of-type {\n",
              "        vertical-align: middle;\n",
              "    }\n",
              "\n",
              "    .dataframe tbody tr th {\n",
              "        vertical-align: top;\n",
              "    }\n",
              "\n",
              "    .dataframe thead th {\n",
              "        text-align: right;\n",
              "    }\n",
              "</style>\n",
              "<table border=\"1\" class=\"dataframe\">\n",
              "  <thead>\n",
              "    <tr style=\"text-align: right;\">\n",
              "      <th></th>\n",
              "      <th>Survived</th>\n",
              "    </tr>\n",
              "    <tr>\n",
              "      <th>Pclass</th>\n",
              "      <th></th>\n",
              "    </tr>\n",
              "  </thead>\n",
              "  <tbody>\n",
              "    <tr>\n",
              "      <th>1</th>\n",
              "      <td>0.629630</td>\n",
              "    </tr>\n",
              "    <tr>\n",
              "      <th>2</th>\n",
              "      <td>0.472826</td>\n",
              "    </tr>\n",
              "    <tr>\n",
              "      <th>3</th>\n",
              "      <td>0.242363</td>\n",
              "    </tr>\n",
              "  </tbody>\n",
              "</table>\n",
              "</div>"
            ],
            "text/plain": [
              "        Survived\n",
              "Pclass          \n",
              "1       0.629630\n",
              "2       0.472826\n",
              "3       0.242363"
            ]
          },
          "metadata": {
            "tags": []
          },
          "execution_count": 10
        }
      ]
    },
    {
      "cell_type": "code",
      "metadata": {
        "colab": {
          "base_uri": "https://localhost:8080/",
          "height": 296
        },
        "id": "OMG41lPAYIwo",
        "outputId": "7b3b1c5e-dc59-4f55-e804-b6c6f724eed4"
      },
      "source": [
        "sns.countplot(data=train, x=\"Embarked\", hue=\"Survived\")"
      ],
      "execution_count": null,
      "outputs": [
        {
          "output_type": "execute_result",
          "data": {
            "text/plain": [
              "<matplotlib.axes._subplots.AxesSubplot at 0x7f6bdfce8780>"
            ]
          },
          "metadata": {
            "tags": []
          },
          "execution_count": 11
        },
        {
          "output_type": "display_data",
          "data": {
            "image/png": "[encoded data removed]",
            "text/plain": [
              "<Figure size 432x288 with 1 Axes>"
            ]
          },
          "metadata": {
            "tags": [],
            "needs_background": "light"
          }
        }
      ]
    },
    {
      "cell_type": "code",
      "metadata": {
        "colab": {
          "base_uri": "https://localhost:8080/",
          "height": 167
        },
        "id": "svP4iHxFYXB5",
        "outputId": "ca7c373a-0ebc-4ed9-b2ed-27893fdf9ffd"
      },
      "source": [
        "pd.pivot_table(train, index=\"Embarked\", values=\"Survived\")"
      ],
      "execution_count": null,
      "outputs": [
        {
          "output_type": "execute_result",
          "data": {
            "text/html": [
              "<div>\n",
              "<style scoped>\n",
              "    .dataframe tbody tr th:only-of-type {\n",
              "        vertical-align: middle;\n",
              "    }\n",
              "\n",
              "    .dataframe tbody tr th {\n",
              "        vertical-align: top;\n",
              "    }\n",
              "\n",
              "    .dataframe thead th {\n",
              "        text-align: right;\n",
              "    }\n",
              "</style>\n",
              "<table border=\"1\" class=\"dataframe\">\n",
              "  <thead>\n",
              "    <tr style=\"text-align: right;\">\n",
              "      <th></th>\n",
              "      <th>Survived</th>\n",
              "    </tr>\n",
              "    <tr>\n",
              "      <th>Embarked</th>\n",
              "      <th></th>\n",
              "    </tr>\n",
              "  </thead>\n",
              "  <tbody>\n",
              "    <tr>\n",
              "      <th>C</th>\n",
              "      <td>0.553571</td>\n",
              "    </tr>\n",
              "    <tr>\n",
              "      <th>Q</th>\n",
              "      <td>0.389610</td>\n",
              "    </tr>\n",
              "    <tr>\n",
              "      <th>S</th>\n",
              "      <td>0.336957</td>\n",
              "    </tr>\n",
              "  </tbody>\n",
              "</table>\n",
              "</div>"
            ],
            "text/plain": [
              "          Survived\n",
              "Embarked          \n",
              "C         0.553571\n",
              "Q         0.389610\n",
              "S         0.336957"
            ]
          },
          "metadata": {
            "tags": []
          },
          "execution_count": 12
        }
      ]
    },
    {
      "cell_type": "code",
      "metadata": {
        "colab": {
          "base_uri": "https://localhost:8080/",
          "height": 401
        },
        "id": "BAjqRvXeYmXK",
        "outputId": "a9a0cf7b-5b3b-4ddb-9928-791ca4ce904a"
      },
      "source": [
        "sns.lmplot(data=train, x=\"Age\", y=\"Fare\", hue=\"Survived\", fit_reg=False)"
      ],
      "execution_count": null,
      "outputs": [
        {
          "output_type": "execute_result",
          "data": {
            "text/plain": [
              "<seaborn.axisgrid.FacetGrid at 0x7f6bdfc37eb8>"
            ]
          },
          "metadata": {
            "tags": []
          },
          "execution_count": 13
        },
        {
          "output_type": "display_data",
          "data": {
            "image/png": "[encoded data removed]",
            "text/plain": [
              "<Figure size 411.875x360 with 1 Axes>"
            ]
          },
          "metadata": {
            "tags": [],
            "needs_background": "light"
          }
        }
      ]
    },
    {
      "cell_type": "code",
      "metadata": {
        "colab": {
          "base_uri": "https://localhost:8080/",
          "height": 401
        },
        "id": "FEVAuT2wYvMQ",
        "outputId": "701b32ed-9637-4833-e4ec-30490e0c5c79"
      },
      "source": [
        "lower_fare = train[train[\"Fare\"] < 500]\r\n",
        "sns.lmplot(data=lower_fare, x=\"Age\", y=\"Fare\", hue=\"Survived\", fit_reg=False)"
      ],
      "execution_count": null,
      "outputs": [
        {
          "output_type": "execute_result",
          "data": {
            "text/plain": [
              "<seaborn.axisgrid.FacetGrid at 0x7f6bd73f0160>"
            ]
          },
          "metadata": {
            "tags": []
          },
          "execution_count": 14
        },
        {
          "output_type": "display_data",
          "data": {
            "image/png": "[encoded data removed]",
            "text/plain": [
              "<Figure size 411.875x360 with 1 Axes>"
            ]
          },
          "metadata": {
            "tags": [],
            "needs_background": "light"
          }
        }
      ]
    },
    {
      "cell_type": "markdown",
      "metadata": {
        "id": "IQqxhLbvZXNk"
      },
      "source": [
        "## 3rd. 전처리(Preprocessing)"
      ]
    },
    {
      "cell_type": "markdown",
      "metadata": {
        "id": "IF-ctqoeZcKY"
      },
      "source": [
        "scikit-learn 에서 제공하는 머신러닝 알고리즘에 데이터를 넣을 수 있는 기본 조건은 다음과 같습니다.\r\n",
        "\r\n",
        "*   모든 데이터는 숫자(정수형, 소수점 등)로 구성되어 있어야 한다.\r\n",
        "*   데이터에 빈 값이 없어야 한다.\r\n",
        "\r\n",
        "먼저 타이타닉 데이터에 있는 세 컬럼(Sex, Fare, Embarked)을 전처리하는 과정을 진행해보자"
      ]
    },
    {
      "cell_type": "markdown",
      "metadata": {
        "id": "Yz7gzma8ZqvY"
      },
      "source": [
        "### 1. Encode Sex\r\n",
        "\r\n",
        "훈련 데이터와 테스트 데이터를 각각 전처리해줘야 함"
      ]
    },
    {
      "cell_type": "markdown",
      "metadata": {
        "id": "w78IYbCOdBDx"
      },
      "source": [
        "####   1) 훈련 데이터 전처리"
      ]
    },
    {
      "cell_type": "code",
      "metadata": {
        "id": "nmZuigLKZ5l2"
      },
      "source": [
        "train.loc[train[\"Sex\"]== \"male\", \"Sex_encode\"] = 0\r\n",
        "train.loc[train[\"Sex\"]== \"female\", \"Sex_encode\"] = 1\r\n",
        "\r\n",
        "## male, female 각각 0과 1로 인코딩하여 새로운 컬럼에 지정 \r\n",
        "## 전처리를 할때에는 항상 원본을 유지하고 새로운 컬럼을 만들어서 할당하는게 옳다"
      ],
      "execution_count": null,
      "outputs": []
    },
    {
      "cell_type": "code",
      "metadata": {
        "colab": {
          "base_uri": "https://localhost:8080/",
          "height": 245
        },
        "id": "G-jxQQ21atp5",
        "outputId": "1d728ec7-873a-411e-8181-39b2637afde8"
      },
      "source": [
        "print(train.shape)\r\n",
        "## 원래 11개의 컬럼이었는데, 위에서 \"Sex_encode\" 컬럼을 추가함으로써 12개의 컬럼이 출력\r\n",
        "\r\n",
        "train[[\"Sex\", \"Sex_encode\"]].head()\r\n",
        "## 0과 1로 구성된 Sex_encode 데이터를 볼 수 있음 (feature를 피팅할때 0과 1로 학습시켜야 함으로)"
      ],
      "execution_count": null,
      "outputs": [
        {
          "output_type": "stream",
          "text": [
            "(891, 12)\n"
          ],
          "name": "stdout"
        },
        {
          "output_type": "execute_result",
          "data": {
            "text/html": [
              "<div>\n",
              "<style scoped>\n",
              "    .dataframe tbody tr th:only-of-type {\n",
              "        vertical-align: middle;\n",
              "    }\n",
              "\n",
              "    .dataframe tbody tr th {\n",
              "        vertical-align: top;\n",
              "    }\n",
              "\n",
              "    .dataframe thead th {\n",
              "        text-align: right;\n",
              "    }\n",
              "</style>\n",
              "<table border=\"1\" class=\"dataframe\">\n",
              "  <thead>\n",
              "    <tr style=\"text-align: right;\">\n",
              "      <th></th>\n",
              "      <th>Sex</th>\n",
              "      <th>Sex_encode</th>\n",
              "    </tr>\n",
              "    <tr>\n",
              "      <th>PassengerId</th>\n",
              "      <th></th>\n",
              "      <th></th>\n",
              "    </tr>\n",
              "  </thead>\n",
              "  <tbody>\n",
              "    <tr>\n",
              "      <th>1</th>\n",
              "      <td>male</td>\n",
              "      <td>0.0</td>\n",
              "    </tr>\n",
              "    <tr>\n",
              "      <th>2</th>\n",
              "      <td>female</td>\n",
              "      <td>1.0</td>\n",
              "    </tr>\n",
              "    <tr>\n",
              "      <th>3</th>\n",
              "      <td>female</td>\n",
              "      <td>1.0</td>\n",
              "    </tr>\n",
              "    <tr>\n",
              "      <th>4</th>\n",
              "      <td>female</td>\n",
              "      <td>1.0</td>\n",
              "    </tr>\n",
              "    <tr>\n",
              "      <th>5</th>\n",
              "      <td>male</td>\n",
              "      <td>0.0</td>\n",
              "    </tr>\n",
              "  </tbody>\n",
              "</table>\n",
              "</div>"
            ],
            "text/plain": [
              "                Sex  Sex_encode\n",
              "PassengerId                    \n",
              "1              male         0.0\n",
              "2            female         1.0\n",
              "3            female         1.0\n",
              "4            female         1.0\n",
              "5              male         0.0"
            ]
          },
          "metadata": {
            "tags": []
          },
          "execution_count": 18
        }
      ]
    },
    {
      "cell_type": "markdown",
      "metadata": {
        "id": "8s9g24avdDSP"
      },
      "source": [
        "#### 2) 테스트 데이터 전처리"
      ]
    },
    {
      "cell_type": "code",
      "metadata": {
        "colab": {
          "base_uri": "https://localhost:8080/",
          "height": 245
        },
        "id": "hlWNWaIwdF13",
        "outputId": "81166387-0650-438b-fc8d-226638ea131e"
      },
      "source": [
        "test.loc[test[\"Sex\"]==\"male\", \"Sex_encode\"] = 0\r\n",
        "test.loc[test[\"Sex\"]==\"female\", \"Sex_encode\"] = 1\r\n",
        "\r\n",
        "print(test.shape)\r\n",
        "\r\n",
        "test[[\"Sex\", \"Sex_encode\"]].head()"
      ],
      "execution_count": null,
      "outputs": [
        {
          "output_type": "stream",
          "text": [
            "(418, 11)\n"
          ],
          "name": "stdout"
        },
        {
          "output_type": "execute_result",
          "data": {
            "text/html": [
              "<div>\n",
              "<style scoped>\n",
              "    .dataframe tbody tr th:only-of-type {\n",
              "        vertical-align: middle;\n",
              "    }\n",
              "\n",
              "    .dataframe tbody tr th {\n",
              "        vertical-align: top;\n",
              "    }\n",
              "\n",
              "    .dataframe thead th {\n",
              "        text-align: right;\n",
              "    }\n",
              "</style>\n",
              "<table border=\"1\" class=\"dataframe\">\n",
              "  <thead>\n",
              "    <tr style=\"text-align: right;\">\n",
              "      <th></th>\n",
              "      <th>Sex</th>\n",
              "      <th>Sex_encode</th>\n",
              "    </tr>\n",
              "    <tr>\n",
              "      <th>PassengerId</th>\n",
              "      <th></th>\n",
              "      <th></th>\n",
              "    </tr>\n",
              "  </thead>\n",
              "  <tbody>\n",
              "    <tr>\n",
              "      <th>892</th>\n",
              "      <td>male</td>\n",
              "      <td>0.0</td>\n",
              "    </tr>\n",
              "    <tr>\n",
              "      <th>893</th>\n",
              "      <td>female</td>\n",
              "      <td>1.0</td>\n",
              "    </tr>\n",
              "    <tr>\n",
              "      <th>894</th>\n",
              "      <td>male</td>\n",
              "      <td>0.0</td>\n",
              "    </tr>\n",
              "    <tr>\n",
              "      <th>895</th>\n",
              "      <td>male</td>\n",
              "      <td>0.0</td>\n",
              "    </tr>\n",
              "    <tr>\n",
              "      <th>896</th>\n",
              "      <td>female</td>\n",
              "      <td>1.0</td>\n",
              "    </tr>\n",
              "  </tbody>\n",
              "</table>\n",
              "</div>"
            ],
            "text/plain": [
              "                Sex  Sex_encode\n",
              "PassengerId                    \n",
              "892            male         0.0\n",
              "893          female         1.0\n",
              "894            male         0.0\n",
              "895            male         0.0\n",
              "896          female         1.0"
            ]
          },
          "metadata": {
            "tags": []
          },
          "execution_count": 20
        }
      ]
    },
    {
      "cell_type": "markdown",
      "metadata": {
        "id": "9rl2yHjiZvLE"
      },
      "source": [
        "### 2. Encode Embarked\r\n"
      ]
    },
    {
      "cell_type": "markdown",
      "metadata": {
        "id": "vgRQ31ARbgCY"
      },
      "source": [
        "* C == 0\r\n",
        "* S == 1\r\n",
        "* Q == 2\r\n",
        "\r\n",
        "위처럼 인코딩을 하되, 문제가 발생함.\r\n",
        "\r\n",
        "C, S, Q는 서로 Mutually Exclusive하지만, 컴퓨터가 인식하기에는 S*2 = Q로 인식할 수 있음. 따라서, 원핫인코딩을 통해 서로 각기 다른 지역임을 컴퓨터에게 알려줘야 함. 이렇게 각 피쳐에 연산을 해도 동일 피쳐로 인식하지 않도록 하는 방법을 원핫인코딩이라고 함.\r\n",
        "\r\n",
        "* C == [1,0,0]\r\n",
        "* S == [0,1,0]\r\n",
        "* Q == [0,0,1]\r\n",
        "\r\n",
        "이제 C, S, Q를 좀 더 컴퓨터스럽게 바꿔보자. 컴퓨터에서 True는 1을, False는 0을 의미한다.\r\n",
        "\r\n",
        "* C == [True, False, False]\r\n",
        "* S == [False, True, False]\r\n",
        "* Q == [False, False, True]\r\n",
        "\r\n",
        "이제 One Hot Encoding을 코드로 구현해보자. 마찬가지로 훈련 데이터와 테스트 데이터를 각각 전처리한다."
      ]
    },
    {
      "cell_type": "markdown",
      "metadata": {
        "id": "6C5o1fgtdpfI"
      },
      "source": [
        "#### 1) 훈련 데이터 전처리"
      ]
    },
    {
      "cell_type": "code",
      "metadata": {
        "colab": {
          "base_uri": "https://localhost:8080/",
          "height": 245
        },
        "id": "gjok7k6RcWKh",
        "outputId": "49aa0c38-3f67-4d1e-aa90-763c1effe428"
      },
      "source": [
        "train[\"Embarked_C\"] = train[\"Embarked\"] == \"C\" # =을 써서 논리연산을 한 것 (Boolean)\r\n",
        "train[\"Embarked_S\"] = train[\"Embarked\"] == \"S\"\r\n",
        "train[\"Embarked_Q\"] = train[\"Embarked\"] == \"Q\"\r\n",
        "print(train.shape)\r\n",
        "train[[\"Embarked\",\"Embarked_C\", \"Embarked_S\", \"Embarked_Q\"]].head()"
      ],
      "execution_count": null,
      "outputs": [
        {
          "output_type": "stream",
          "text": [
            "(891, 15)\n"
          ],
          "name": "stdout"
        },
        {
          "output_type": "execute_result",
          "data": {
            "text/html": [
              "<div>\n",
              "<style scoped>\n",
              "    .dataframe tbody tr th:only-of-type {\n",
              "        vertical-align: middle;\n",
              "    }\n",
              "\n",
              "    .dataframe tbody tr th {\n",
              "        vertical-align: top;\n",
              "    }\n",
              "\n",
              "    .dataframe thead th {\n",
              "        text-align: right;\n",
              "    }\n",
              "</style>\n",
              "<table border=\"1\" class=\"dataframe\">\n",
              "  <thead>\n",
              "    <tr style=\"text-align: right;\">\n",
              "      <th></th>\n",
              "      <th>Embarked</th>\n",
              "      <th>Embarked_C</th>\n",
              "      <th>Embarked_S</th>\n",
              "      <th>Embarked_Q</th>\n",
              "    </tr>\n",
              "    <tr>\n",
              "      <th>PassengerId</th>\n",
              "      <th></th>\n",
              "      <th></th>\n",
              "      <th></th>\n",
              "      <th></th>\n",
              "    </tr>\n",
              "  </thead>\n",
              "  <tbody>\n",
              "    <tr>\n",
              "      <th>1</th>\n",
              "      <td>S</td>\n",
              "      <td>False</td>\n",
              "      <td>True</td>\n",
              "      <td>False</td>\n",
              "    </tr>\n",
              "    <tr>\n",
              "      <th>2</th>\n",
              "      <td>C</td>\n",
              "      <td>True</td>\n",
              "      <td>False</td>\n",
              "      <td>False</td>\n",
              "    </tr>\n",
              "    <tr>\n",
              "      <th>3</th>\n",
              "      <td>S</td>\n",
              "      <td>False</td>\n",
              "      <td>True</td>\n",
              "      <td>False</td>\n",
              "    </tr>\n",
              "    <tr>\n",
              "      <th>4</th>\n",
              "      <td>S</td>\n",
              "      <td>False</td>\n",
              "      <td>True</td>\n",
              "      <td>False</td>\n",
              "    </tr>\n",
              "    <tr>\n",
              "      <th>5</th>\n",
              "      <td>S</td>\n",
              "      <td>False</td>\n",
              "      <td>True</td>\n",
              "      <td>False</td>\n",
              "    </tr>\n",
              "  </tbody>\n",
              "</table>\n",
              "</div>"
            ],
            "text/plain": [
              "            Embarked  Embarked_C  Embarked_S  Embarked_Q\n",
              "PassengerId                                             \n",
              "1                  S       False        True       False\n",
              "2                  C        True       False       False\n",
              "3                  S       False        True       False\n",
              "4                  S       False        True       False\n",
              "5                  S       False        True       False"
            ]
          },
          "metadata": {
            "tags": []
          },
          "execution_count": 19
        }
      ]
    },
    {
      "cell_type": "markdown",
      "metadata": {
        "id": "cCrfyJq-dzE9"
      },
      "source": [
        "#### 2) 테스트 데이터 전처리"
      ]
    },
    {
      "cell_type": "code",
      "metadata": {
        "colab": {
          "base_uri": "https://localhost:8080/",
          "height": 245
        },
        "id": "vRp_KzCXd1QP",
        "outputId": "09b8b673-e633-459c-dd24-900a5b7fc435"
      },
      "source": [
        "test[\"Embarked_C\"] = test[\"Embarked\"] == \"C\" # =을 써서 논리연산을 한 것 (Boolean)\r\n",
        "test[\"Embarked_S\"] = test[\"Embarked\"] == \"S\"\r\n",
        "test[\"Embarked_Q\"] = test[\"Embarked\"] == \"Q\"\r\n",
        "print(test.shape)\r\n",
        "test[[\"Embarked\",\"Embarked_C\", \"Embarked_S\", \"Embarked_Q\"]].head()"
      ],
      "execution_count": null,
      "outputs": [
        {
          "output_type": "stream",
          "text": [
            "(418, 14)\n"
          ],
          "name": "stdout"
        },
        {
          "output_type": "execute_result",
          "data": {
            "text/html": [
              "<div>\n",
              "<style scoped>\n",
              "    .dataframe tbody tr th:only-of-type {\n",
              "        vertical-align: middle;\n",
              "    }\n",
              "\n",
              "    .dataframe tbody tr th {\n",
              "        vertical-align: top;\n",
              "    }\n",
              "\n",
              "    .dataframe thead th {\n",
              "        text-align: right;\n",
              "    }\n",
              "</style>\n",
              "<table border=\"1\" class=\"dataframe\">\n",
              "  <thead>\n",
              "    <tr style=\"text-align: right;\">\n",
              "      <th></th>\n",
              "      <th>Embarked</th>\n",
              "      <th>Embarked_C</th>\n",
              "      <th>Embarked_S</th>\n",
              "      <th>Embarked_Q</th>\n",
              "    </tr>\n",
              "    <tr>\n",
              "      <th>PassengerId</th>\n",
              "      <th></th>\n",
              "      <th></th>\n",
              "      <th></th>\n",
              "      <th></th>\n",
              "    </tr>\n",
              "  </thead>\n",
              "  <tbody>\n",
              "    <tr>\n",
              "      <th>892</th>\n",
              "      <td>Q</td>\n",
              "      <td>False</td>\n",
              "      <td>False</td>\n",
              "      <td>True</td>\n",
              "    </tr>\n",
              "    <tr>\n",
              "      <th>893</th>\n",
              "      <td>S</td>\n",
              "      <td>False</td>\n",
              "      <td>True</td>\n",
              "      <td>False</td>\n",
              "    </tr>\n",
              "    <tr>\n",
              "      <th>894</th>\n",
              "      <td>Q</td>\n",
              "      <td>False</td>\n",
              "      <td>False</td>\n",
              "      <td>True</td>\n",
              "    </tr>\n",
              "    <tr>\n",
              "      <th>895</th>\n",
              "      <td>S</td>\n",
              "      <td>False</td>\n",
              "      <td>True</td>\n",
              "      <td>False</td>\n",
              "    </tr>\n",
              "    <tr>\n",
              "      <th>896</th>\n",
              "      <td>S</td>\n",
              "      <td>False</td>\n",
              "      <td>True</td>\n",
              "      <td>False</td>\n",
              "    </tr>\n",
              "  </tbody>\n",
              "</table>\n",
              "</div>"
            ],
            "text/plain": [
              "            Embarked  Embarked_C  Embarked_S  Embarked_Q\n",
              "PassengerId                                             \n",
              "892                Q       False       False        True\n",
              "893                S       False        True       False\n",
              "894                Q       False       False        True\n",
              "895                S       False        True       False\n",
              "896                S       False        True       False"
            ]
          },
          "metadata": {
            "tags": []
          },
          "execution_count": 22
        }
      ]
    },
    {
      "cell_type": "markdown",
      "metadata": {
        "id": "ggKs0btwZvUN"
      },
      "source": [
        "### 3. Fill in Missing Fare (Null값 채우기)"
      ]
    },
    {
      "cell_type": "markdown",
      "metadata": {
        "id": "XmRYtI7ieFDG"
      },
      "source": [
        "사이킷런 머신러닝 알고리즘에 데이터를 넣어줄 땐 항상 데이터 값이 채워져있어야 함(피봇 테이블처럼). 만약 NaN(Null) 값이 있다면 머신러닝 알고리즘이 에러를 뱉어냄. \r\n",
        "\r\n",
        "현재 test 데이터셋 안에 빈 값이 있는데, 바로 1044번 승객의 Fare 셀이 비어있음. 따라서 이 비어있는 Fare 값을 Decision Tree 알고리즘에 넣기 위해서는 1044번 승객의 Fare를 다른 무언가의 값으로 대체해줘야 함."
      ]
    },
    {
      "cell_type": "code",
      "metadata": {
        "colab": {
          "base_uri": "https://localhost:8080/",
          "height": 161
        },
        "id": "sG6LxGsDefGd",
        "outputId": "a5656dc4-74f9-47db-a0b1-7c4d3ad5e52d"
      },
      "source": [
        "test[test[\"Fare\"].isnull()]\r\n",
        "## Fare 컬럼에 NaN이 들어가있음을 확인 가능\r\n",
        "## Null 값을 채우는 가장 일반적인 방법은 train 데이터의 운임요금(Fare)의 평균(mean)을 집어넣는 것 (train[\"Fare\"].mean()) \r\n",
        "## 하지만 전체 test 데이터중에 단 하나의 값만 비어있기 때문에, 0을 넣어도 정확도의 손해 없이 잘 동작할 것 같다."
      ],
      "execution_count": null,
      "outputs": [
        {
          "output_type": "execute_result",
          "data": {
            "text/html": [
              "<div>\n",
              "<style scoped>\n",
              "    .dataframe tbody tr th:only-of-type {\n",
              "        vertical-align: middle;\n",
              "    }\n",
              "\n",
              "    .dataframe tbody tr th {\n",
              "        vertical-align: top;\n",
              "    }\n",
              "\n",
              "    .dataframe thead th {\n",
              "        text-align: right;\n",
              "    }\n",
              "</style>\n",
              "<table border=\"1\" class=\"dataframe\">\n",
              "  <thead>\n",
              "    <tr style=\"text-align: right;\">\n",
              "      <th></th>\n",
              "      <th>Pclass</th>\n",
              "      <th>Name</th>\n",
              "      <th>Sex</th>\n",
              "      <th>Age</th>\n",
              "      <th>SibSp</th>\n",
              "      <th>Parch</th>\n",
              "      <th>Ticket</th>\n",
              "      <th>Fare</th>\n",
              "      <th>Cabin</th>\n",
              "      <th>Embarked</th>\n",
              "      <th>Sex_encode</th>\n",
              "      <th>Embarked_C</th>\n",
              "      <th>Embarked_S</th>\n",
              "      <th>Embarked_Q</th>\n",
              "    </tr>\n",
              "    <tr>\n",
              "      <th>PassengerId</th>\n",
              "      <th></th>\n",
              "      <th></th>\n",
              "      <th></th>\n",
              "      <th></th>\n",
              "      <th></th>\n",
              "      <th></th>\n",
              "      <th></th>\n",
              "      <th></th>\n",
              "      <th></th>\n",
              "      <th></th>\n",
              "      <th></th>\n",
              "      <th></th>\n",
              "      <th></th>\n",
              "      <th></th>\n",
              "    </tr>\n",
              "  </thead>\n",
              "  <tbody>\n",
              "    <tr>\n",
              "      <th>1044</th>\n",
              "      <td>3</td>\n",
              "      <td>Storey, Mr. Thomas</td>\n",
              "      <td>male</td>\n",
              "      <td>60.5</td>\n",
              "      <td>0</td>\n",
              "      <td>0</td>\n",
              "      <td>3701</td>\n",
              "      <td>NaN</td>\n",
              "      <td>NaN</td>\n",
              "      <td>S</td>\n",
              "      <td>0.0</td>\n",
              "      <td>False</td>\n",
              "      <td>True</td>\n",
              "      <td>False</td>\n",
              "    </tr>\n",
              "  </tbody>\n",
              "</table>\n",
              "</div>"
            ],
            "text/plain": [
              "             Pclass                Name  ... Embarked_S  Embarked_Q\n",
              "PassengerId                              ...                       \n",
              "1044              3  Storey, Mr. Thomas  ...       True       False\n",
              "\n",
              "[1 rows x 14 columns]"
            ]
          },
          "metadata": {
            "tags": []
          },
          "execution_count": 25
        }
      ]
    },
    {
      "cell_type": "markdown",
      "metadata": {
        "id": "xghNXIhifKQZ"
      },
      "source": [
        "#### 1) 훈련 데이터 전처리"
      ]
    },
    {
      "cell_type": "code",
      "metadata": {
        "colab": {
          "base_uri": "https://localhost:8080/",
          "height": 245
        },
        "id": "eYM0V-yDfLSK",
        "outputId": "fbc73918-09d5-4ebb-b5b1-ebe87685bc1d"
      },
      "source": [
        "train[\"Fare_fillin\"] = train[\"Fare\"]\r\n",
        "print(train.shape)\r\n",
        "train[[\"Fare\", \"Fare_fillin\"]].head()"
      ],
      "execution_count": null,
      "outputs": [
        {
          "output_type": "stream",
          "text": [
            "(891, 16)\n"
          ],
          "name": "stdout"
        },
        {
          "output_type": "execute_result",
          "data": {
            "text/html": [
              "<div>\n",
              "<style scoped>\n",
              "    .dataframe tbody tr th:only-of-type {\n",
              "        vertical-align: middle;\n",
              "    }\n",
              "\n",
              "    .dataframe tbody tr th {\n",
              "        vertical-align: top;\n",
              "    }\n",
              "\n",
              "    .dataframe thead th {\n",
              "        text-align: right;\n",
              "    }\n",
              "</style>\n",
              "<table border=\"1\" class=\"dataframe\">\n",
              "  <thead>\n",
              "    <tr style=\"text-align: right;\">\n",
              "      <th></th>\n",
              "      <th>Fare</th>\n",
              "      <th>Fare_fillin</th>\n",
              "    </tr>\n",
              "    <tr>\n",
              "      <th>PassengerId</th>\n",
              "      <th></th>\n",
              "      <th></th>\n",
              "    </tr>\n",
              "  </thead>\n",
              "  <tbody>\n",
              "    <tr>\n",
              "      <th>1</th>\n",
              "      <td>7.2500</td>\n",
              "      <td>7.2500</td>\n",
              "    </tr>\n",
              "    <tr>\n",
              "      <th>2</th>\n",
              "      <td>71.2833</td>\n",
              "      <td>71.2833</td>\n",
              "    </tr>\n",
              "    <tr>\n",
              "      <th>3</th>\n",
              "      <td>7.9250</td>\n",
              "      <td>7.9250</td>\n",
              "    </tr>\n",
              "    <tr>\n",
              "      <th>4</th>\n",
              "      <td>53.1000</td>\n",
              "      <td>53.1000</td>\n",
              "    </tr>\n",
              "    <tr>\n",
              "      <th>5</th>\n",
              "      <td>8.0500</td>\n",
              "      <td>8.0500</td>\n",
              "    </tr>\n",
              "  </tbody>\n",
              "</table>\n",
              "</div>"
            ],
            "text/plain": [
              "                Fare  Fare_fillin\n",
              "PassengerId                      \n",
              "1             7.2500       7.2500\n",
              "2            71.2833      71.2833\n",
              "3             7.9250       7.9250\n",
              "4            53.1000      53.1000\n",
              "5             8.0500       8.0500"
            ]
          },
          "metadata": {
            "tags": []
          },
          "execution_count": 27
        }
      ]
    },
    {
      "cell_type": "markdown",
      "metadata": {
        "id": "h05x2yo_ffwP"
      },
      "source": [
        "#### 2) 테스트 데이터 전처리"
      ]
    },
    {
      "cell_type": "code",
      "metadata": {
        "colab": {
          "base_uri": "https://localhost:8080/",
          "height": 245
        },
        "id": "sbJYbEFBfiEO",
        "outputId": "afa3d99d-9b53-434b-d3dc-707e8160a63b"
      },
      "source": [
        "test[\"Fare_fillin\"] = test[\"Fare\"]\r\n",
        "print(test.shape)\r\n",
        "test[[\"Fare\", \"Fare_fillin\"]].head()"
      ],
      "execution_count": null,
      "outputs": [
        {
          "output_type": "stream",
          "text": [
            "(418, 15)\n"
          ],
          "name": "stdout"
        },
        {
          "output_type": "execute_result",
          "data": {
            "text/html": [
              "<div>\n",
              "<style scoped>\n",
              "    .dataframe tbody tr th:only-of-type {\n",
              "        vertical-align: middle;\n",
              "    }\n",
              "\n",
              "    .dataframe tbody tr th {\n",
              "        vertical-align: top;\n",
              "    }\n",
              "\n",
              "    .dataframe thead th {\n",
              "        text-align: right;\n",
              "    }\n",
              "</style>\n",
              "<table border=\"1\" class=\"dataframe\">\n",
              "  <thead>\n",
              "    <tr style=\"text-align: right;\">\n",
              "      <th></th>\n",
              "      <th>Fare</th>\n",
              "      <th>Fare_fillin</th>\n",
              "    </tr>\n",
              "    <tr>\n",
              "      <th>PassengerId</th>\n",
              "      <th></th>\n",
              "      <th></th>\n",
              "    </tr>\n",
              "  </thead>\n",
              "  <tbody>\n",
              "    <tr>\n",
              "      <th>892</th>\n",
              "      <td>7.8292</td>\n",
              "      <td>7.8292</td>\n",
              "    </tr>\n",
              "    <tr>\n",
              "      <th>893</th>\n",
              "      <td>7.0000</td>\n",
              "      <td>7.0000</td>\n",
              "    </tr>\n",
              "    <tr>\n",
              "      <th>894</th>\n",
              "      <td>9.6875</td>\n",
              "      <td>9.6875</td>\n",
              "    </tr>\n",
              "    <tr>\n",
              "      <th>895</th>\n",
              "      <td>8.6625</td>\n",
              "      <td>8.6625</td>\n",
              "    </tr>\n",
              "    <tr>\n",
              "      <th>896</th>\n",
              "      <td>12.2875</td>\n",
              "      <td>12.2875</td>\n",
              "    </tr>\n",
              "  </tbody>\n",
              "</table>\n",
              "</div>"
            ],
            "text/plain": [
              "                Fare  Fare_fillin\n",
              "PassengerId                      \n",
              "892           7.8292       7.8292\n",
              "893           7.0000       7.0000\n",
              "894           9.6875       9.6875\n",
              "895           8.6625       8.6625\n",
              "896          12.2875      12.2875"
            ]
          },
          "metadata": {
            "tags": []
          },
          "execution_count": 28
        }
      ]
    },
    {
      "cell_type": "code",
      "metadata": {
        "colab": {
          "base_uri": "https://localhost:8080/",
          "height": 107
        },
        "id": "VlKYtFvifyg0",
        "outputId": "9a3479ed-bb7a-47b3-dbb1-cf3077f72c74"
      },
      "source": [
        "## Test 데이터셋의 널값을 0으로 재지정\r\n",
        "\r\n",
        "test.loc[test[\"Fare\"].isnull(), \"Fare_fillin\"] = 0\r\n",
        "\r\n",
        "## 이후 다시 한 번 test 데이터셋에서 Fare가 비어있는 승객을 검색해보자. (Null이 채워졌는지 확인)\r\n",
        "test.loc[test[\"Fare\"].isnull(), [\"Fare\", \"Fare_fillin\"]]"
      ],
      "execution_count": null,
      "outputs": [
        {
          "output_type": "execute_result",
          "data": {
            "text/html": [
              "<div>\n",
              "<style scoped>\n",
              "    .dataframe tbody tr th:only-of-type {\n",
              "        vertical-align: middle;\n",
              "    }\n",
              "\n",
              "    .dataframe tbody tr th {\n",
              "        vertical-align: top;\n",
              "    }\n",
              "\n",
              "    .dataframe thead th {\n",
              "        text-align: right;\n",
              "    }\n",
              "</style>\n",
              "<table border=\"1\" class=\"dataframe\">\n",
              "  <thead>\n",
              "    <tr style=\"text-align: right;\">\n",
              "      <th></th>\n",
              "      <th>Fare</th>\n",
              "      <th>Fare_fillin</th>\n",
              "    </tr>\n",
              "    <tr>\n",
              "      <th>PassengerId</th>\n",
              "      <th></th>\n",
              "      <th></th>\n",
              "    </tr>\n",
              "  </thead>\n",
              "  <tbody>\n",
              "    <tr>\n",
              "      <th>1044</th>\n",
              "      <td>NaN</td>\n",
              "      <td>0.0</td>\n",
              "    </tr>\n",
              "  </tbody>\n",
              "</table>\n",
              "</div>"
            ],
            "text/plain": [
              "             Fare  Fare_fillin\n",
              "PassengerId                   \n",
              "1044          NaN          0.0"
            ]
          },
          "metadata": {
            "tags": []
          },
          "execution_count": 31
        }
      ]
    },
    {
      "cell_type": "code",
      "metadata": {
        "id": "z2wC338hgYfD"
      },
      "source": [
        ""
      ],
      "execution_count": null,
      "outputs": []
    },
    {
      "cell_type": "markdown",
      "metadata": {
        "id": "ntp7xH8TgpuH"
      },
      "source": [
        ""
      ]
    },
    {
      "cell_type": "markdown",
      "metadata": {
        "id": "t1OYkwUtg3wu"
      },
      "source": [
        ""
      ]
    },
    {
      "cell_type": "markdown",
      "metadata": {
        "id": "0eu1EJdKg6Lj"
      },
      "source": [
        "## 4th. Train (학습)"
      ]
    },
    {
      "cell_type": "markdown",
      "metadata": {
        "id": "v28vv3Afg_R1"
      },
      "source": [
        "이제, 전처리를 완료한 데이터셋을 활용해 Decision Tree를 학습시켜보자.\r\n",
        "\r\n",
        "Decision Tree는 전형적인 지도학습 알고리즘 중 하나로, Supervised Learning 알고리즘을 학습시키기 위해서는 2가지 타입의 데이터가 필요함.\r\n",
        "\r\n",
        "* Label : 라벨 내지 타겟 변수(Target Variable)이라고 부름. 쉽게 말해 정답 데이터임. 타이타닉 경진대회에서는 생존 여부(Survived)가 모델이 예측해내야 하는 타겟 값, 즉  라벨이 될 것.\r\n",
        "* Feature : 정답을 맞추는 데에 도움이 되는 값들임. 타이타닉 데이터에서는 Label을 제외한 모든 property들이 대부분 피쳐임.\r\n",
        "\r\n",
        "우리는 이번 코드에서, 다음 컬럼을 각각 Feature와 Label로 활용할 것임.\r\n",
        "\r\n",
        "* Label : Survived\r\n",
        "* Feature : Pclass, Sex_encode, Fare_fillin, Embarked_C, Embarked_S, Embarked_Q\r\n",
        "\r\n",
        "그리고 위 조건을 반영하여 train, test 데이터를 다음의 3가지 형태 값으로 나누어 정의할 것임\r\n",
        "\r\n",
        "* X_train : train 데이터의 feature\r\n",
        "* X_test : test 데이터의 feature\r\n",
        "* Y_train : train 데이터의 라벨\r\n",
        "\r\n",
        "참고로, Y_test는 존재하지 않음. test 데이터에는 생존 여부를 나타내는 컬럼이 있지 않음. 왜냐? 우리의 목표 자체가 y_test에 없는 컬럼인 survived 값을 예측해내는 것이기 때문에. 이때 X_train, X_test, Y_train 값을 활용해서 test[\"Survived\"] 컬럼을 예측해내는 것이 머신러닝 알고리즘이 해내는 일임.\r\n",
        "\r\n",
        "이제, feature와 label을 새롭게 정의한 뒤 X_train, X_test, Y_train 데이터셋을 만들어보도록 하자."
      ]
    },
    {
      "cell_type": "code",
      "metadata": {
        "colab": {
          "base_uri": "https://localhost:8080/"
        },
        "id": "JW8pKtr3ihYk",
        "outputId": "0abf3b03-f431-4ef4-deff-9205c22b76d4"
      },
      "source": [
        "# feature_names 컬럼 만들기\r\n",
        "feature_names = [\"Pclass\", \"Sex_encode\", \"Fare_fillin\", \"Embarked_C\", \"Embarked_S\", \"Embarked_Q\"]\r\n",
        "feature_names"
      ],
      "execution_count": null,
      "outputs": [
        {
          "output_type": "execute_result",
          "data": {
            "text/plain": [
              "['Pclass',\n",
              " 'Sex_encode',\n",
              " 'Fare_fillin',\n",
              " 'Embarked_C',\n",
              " 'Embarked_S',\n",
              " 'Embarked_Q']"
            ]
          },
          "metadata": {
            "tags": []
          },
          "execution_count": 36
        }
      ]
    },
    {
      "cell_type": "code",
      "metadata": {
        "colab": {
          "base_uri": "https://localhost:8080/",
          "height": 34
        },
        "id": "y6-mAMiPiwP0",
        "outputId": "d174e0c2-fe00-47a7-f411-ee20f872f960"
      },
      "source": [
        "# 생존 여부를 Label로 지정하기\r\n",
        "label_name = \"Survived\"\r\n",
        "label_name"
      ],
      "execution_count": null,
      "outputs": [
        {
          "output_type": "execute_result",
          "data": {
            "application/vnd.google.colaboratory.intrinsic+json": {
              "type": "string"
            },
            "text/plain": [
              "'Survived'"
            ]
          },
          "metadata": {
            "tags": []
          },
          "execution_count": 33
        }
      ]
    },
    {
      "cell_type": "code",
      "metadata": {
        "colab": {
          "base_uri": "https://localhost:8080/",
          "height": 245
        },
        "id": "MghSx---i1_0",
        "outputId": "a466656e-8d48-451a-c070-bb7a28fda0a6"
      },
      "source": [
        "# 앞서 정의한 feature를 활용해 X_train 데이터셋을 정의하자\r\n",
        "X_train=train[feature_names]\r\n",
        "print(X_train.shape)\r\n",
        "X_train.head()"
      ],
      "execution_count": null,
      "outputs": [
        {
          "output_type": "stream",
          "text": [
            "(891, 6)\n"
          ],
          "name": "stdout"
        },
        {
          "output_type": "execute_result",
          "data": {
            "text/html": [
              "<div>\n",
              "<style scoped>\n",
              "    .dataframe tbody tr th:only-of-type {\n",
              "        vertical-align: middle;\n",
              "    }\n",
              "\n",
              "    .dataframe tbody tr th {\n",
              "        vertical-align: top;\n",
              "    }\n",
              "\n",
              "    .dataframe thead th {\n",
              "        text-align: right;\n",
              "    }\n",
              "</style>\n",
              "<table border=\"1\" class=\"dataframe\">\n",
              "  <thead>\n",
              "    <tr style=\"text-align: right;\">\n",
              "      <th></th>\n",
              "      <th>Pclass</th>\n",
              "      <th>Sex_encode</th>\n",
              "      <th>Fare_fillin</th>\n",
              "      <th>Embarked_C</th>\n",
              "      <th>Embarked_S</th>\n",
              "      <th>Embarked_Q</th>\n",
              "    </tr>\n",
              "    <tr>\n",
              "      <th>PassengerId</th>\n",
              "      <th></th>\n",
              "      <th></th>\n",
              "      <th></th>\n",
              "      <th></th>\n",
              "      <th></th>\n",
              "      <th></th>\n",
              "    </tr>\n",
              "  </thead>\n",
              "  <tbody>\n",
              "    <tr>\n",
              "      <th>1</th>\n",
              "      <td>3</td>\n",
              "      <td>0.0</td>\n",
              "      <td>7.2500</td>\n",
              "      <td>False</td>\n",
              "      <td>True</td>\n",
              "      <td>False</td>\n",
              "    </tr>\n",
              "    <tr>\n",
              "      <th>2</th>\n",
              "      <td>1</td>\n",
              "      <td>1.0</td>\n",
              "      <td>71.2833</td>\n",
              "      <td>True</td>\n",
              "      <td>False</td>\n",
              "      <td>False</td>\n",
              "    </tr>\n",
              "    <tr>\n",
              "      <th>3</th>\n",
              "      <td>3</td>\n",
              "      <td>1.0</td>\n",
              "      <td>7.9250</td>\n",
              "      <td>False</td>\n",
              "      <td>True</td>\n",
              "      <td>False</td>\n",
              "    </tr>\n",
              "    <tr>\n",
              "      <th>4</th>\n",
              "      <td>1</td>\n",
              "      <td>1.0</td>\n",
              "      <td>53.1000</td>\n",
              "      <td>False</td>\n",
              "      <td>True</td>\n",
              "      <td>False</td>\n",
              "    </tr>\n",
              "    <tr>\n",
              "      <th>5</th>\n",
              "      <td>3</td>\n",
              "      <td>0.0</td>\n",
              "      <td>8.0500</td>\n",
              "      <td>False</td>\n",
              "      <td>True</td>\n",
              "      <td>False</td>\n",
              "    </tr>\n",
              "  </tbody>\n",
              "</table>\n",
              "</div>"
            ],
            "text/plain": [
              "             Pclass  Sex_encode  ...  Embarked_S  Embarked_Q\n",
              "PassengerId                      ...                        \n",
              "1                 3         0.0  ...        True       False\n",
              "2                 1         1.0  ...       False       False\n",
              "3                 3         1.0  ...        True       False\n",
              "4                 1         1.0  ...        True       False\n",
              "5                 3         0.0  ...        True       False\n",
              "\n",
              "[5 rows x 6 columns]"
            ]
          },
          "metadata": {
            "tags": []
          },
          "execution_count": 37
        }
      ]
    },
    {
      "cell_type": "code",
      "metadata": {
        "colab": {
          "base_uri": "https://localhost:8080/",
          "height": 245
        },
        "id": "p-z6nOhYjGtU",
        "outputId": "391d98dd-c6d7-4059-db2c-6cc32f0d0258"
      },
      "source": [
        "# 앞서 정의한 feature를 활용해 X_test 데이터셋을 정의하자\r\n",
        "X_test = test[feature_names]\r\n",
        "print(X_test.shape)\r\n",
        "X_test.head()"
      ],
      "execution_count": null,
      "outputs": [
        {
          "output_type": "stream",
          "text": [
            "(418, 6)\n"
          ],
          "name": "stdout"
        },
        {
          "output_type": "execute_result",
          "data": {
            "text/html": [
              "<div>\n",
              "<style scoped>\n",
              "    .dataframe tbody tr th:only-of-type {\n",
              "        vertical-align: middle;\n",
              "    }\n",
              "\n",
              "    .dataframe tbody tr th {\n",
              "        vertical-align: top;\n",
              "    }\n",
              "\n",
              "    .dataframe thead th {\n",
              "        text-align: right;\n",
              "    }\n",
              "</style>\n",
              "<table border=\"1\" class=\"dataframe\">\n",
              "  <thead>\n",
              "    <tr style=\"text-align: right;\">\n",
              "      <th></th>\n",
              "      <th>Pclass</th>\n",
              "      <th>Sex_encode</th>\n",
              "      <th>Fare_fillin</th>\n",
              "      <th>Embarked_C</th>\n",
              "      <th>Embarked_S</th>\n",
              "      <th>Embarked_Q</th>\n",
              "    </tr>\n",
              "    <tr>\n",
              "      <th>PassengerId</th>\n",
              "      <th></th>\n",
              "      <th></th>\n",
              "      <th></th>\n",
              "      <th></th>\n",
              "      <th></th>\n",
              "      <th></th>\n",
              "    </tr>\n",
              "  </thead>\n",
              "  <tbody>\n",
              "    <tr>\n",
              "      <th>892</th>\n",
              "      <td>3</td>\n",
              "      <td>0.0</td>\n",
              "      <td>7.8292</td>\n",
              "      <td>False</td>\n",
              "      <td>False</td>\n",
              "      <td>True</td>\n",
              "    </tr>\n",
              "    <tr>\n",
              "      <th>893</th>\n",
              "      <td>3</td>\n",
              "      <td>1.0</td>\n",
              "      <td>7.0000</td>\n",
              "      <td>False</td>\n",
              "      <td>True</td>\n",
              "      <td>False</td>\n",
              "    </tr>\n",
              "    <tr>\n",
              "      <th>894</th>\n",
              "      <td>2</td>\n",
              "      <td>0.0</td>\n",
              "      <td>9.6875</td>\n",
              "      <td>False</td>\n",
              "      <td>False</td>\n",
              "      <td>True</td>\n",
              "    </tr>\n",
              "    <tr>\n",
              "      <th>895</th>\n",
              "      <td>3</td>\n",
              "      <td>0.0</td>\n",
              "      <td>8.6625</td>\n",
              "      <td>False</td>\n",
              "      <td>True</td>\n",
              "      <td>False</td>\n",
              "    </tr>\n",
              "    <tr>\n",
              "      <th>896</th>\n",
              "      <td>3</td>\n",
              "      <td>1.0</td>\n",
              "      <td>12.2875</td>\n",
              "      <td>False</td>\n",
              "      <td>True</td>\n",
              "      <td>False</td>\n",
              "    </tr>\n",
              "  </tbody>\n",
              "</table>\n",
              "</div>"
            ],
            "text/plain": [
              "             Pclass  Sex_encode  ...  Embarked_S  Embarked_Q\n",
              "PassengerId                      ...                        \n",
              "892               3         0.0  ...       False        True\n",
              "893               3         1.0  ...        True       False\n",
              "894               2         0.0  ...       False        True\n",
              "895               3         0.0  ...        True       False\n",
              "896               3         1.0  ...        True       False\n",
              "\n",
              "[5 rows x 6 columns]"
            ]
          },
          "metadata": {
            "tags": []
          },
          "execution_count": 38
        }
      ]
    },
    {
      "cell_type": "code",
      "metadata": {
        "colab": {
          "base_uri": "https://localhost:8080/"
        },
        "id": "FvadaPcHjbks",
        "outputId": "c6d1eea6-0164-4686-fe72-578395afad5d"
      },
      "source": [
        "#앞서 정의한 label을 활용해 train 데이터의 label을 정의\r\n",
        "# label_name 컬럼을 따로 지정해준 것이 아니라, 값만 위에서 할당해준 것이기 때문에 컬럼이 없는 형태로 출력됨\r\n",
        "y_train = train[label_name]\r\n",
        "print(y_train.shape)\r\n",
        "y_train.head()"
      ],
      "execution_count": null,
      "outputs": [
        {
          "output_type": "stream",
          "text": [
            "(891,)\n"
          ],
          "name": "stdout"
        },
        {
          "output_type": "execute_result",
          "data": {
            "text/plain": [
              "PassengerId\n",
              "1    0\n",
              "2    1\n",
              "3    1\n",
              "4    1\n",
              "5    0\n",
              "Name: Survived, dtype: int64"
            ]
          },
          "metadata": {
            "tags": []
          },
          "execution_count": 40
        }
      ]
    },
    {
      "cell_type": "markdown",
      "metadata": {
        "id": "0N8PqeF9j-j3"
      },
      "source": [
        "#### Decision Tree 사용하기\r\n",
        "\r\n",
        "우리는 앞서 X_train, X_test, y_train 데이터셋을 모두 만들었다. 이제 이 데이터를 활용해서 Decision Tree 알고리즘을 학습시켜보자, Decision Tree는 사이킷런을 통해 사용할 수 있다.\r\n",
        "\r\n",
        "사이킷런에서 제공하는 머신러닝 알고리즘의 기능 2가지는 다음과 같다.\r\n",
        "\r\n",
        "* Fit : 머신러닝 알고리즘을 학습시키는 기능. Fit을 하기 위해서는 train 데이터가 필요하고, 여기서는 X_train과 y_train 데이터에 해당.\r\n",
        "* Predict : Fit이 끝나면 test 데이터의 label 값을 예측하는 기능. predict를 하기 위해서는 test 데이터의 feature(여기서는 X_test)가 필요함."
      ]
    },
    {
      "cell_type": "code",
      "metadata": {
        "colab": {
          "base_uri": "https://localhost:8080/"
        },
        "id": "L_NdW8t0kleZ",
        "outputId": "cb712d6e-28e0-4fe2-d71e-ddfc1b73e39c"
      },
      "source": [
        "from sklearn.tree import DecisionTreeClassifier\r\n",
        "# 학습시키는 depth는 5로 하고, dicision tree 알고리즘의 이름은 \"model\"로 만들어주자.\r\n",
        "model = DecisionTreeClassifier(max_depth=5) \r\n",
        "model"
      ],
      "execution_count": null,
      "outputs": [
        {
          "output_type": "execute_result",
          "data": {
            "text/plain": [
              "DecisionTreeClassifier(ccp_alpha=0.0, class_weight=None, criterion='gini',\n",
              "                       max_depth=5, max_features=None, max_leaf_nodes=None,\n",
              "                       min_impurity_decrease=0.0, min_impurity_split=None,\n",
              "                       min_samples_leaf=1, min_samples_split=2,\n",
              "                       min_weight_fraction_leaf=0.0, presort='deprecated',\n",
              "                       random_state=None, splitter='best')"
            ]
          },
          "metadata": {
            "tags": []
          },
          "execution_count": 55
        }
      ]
    },
    {
      "cell_type": "code",
      "metadata": {
        "colab": {
          "base_uri": "https://localhost:8080/"
        },
        "id": "fl6ZnOmCkrNm",
        "outputId": "c3414ccb-c4dc-4614-dbb1-0e16c3a44fc3"
      },
      "source": [
        "# 모델을 만들었으면 학습을 시켜줘야겠지? fit 기능을 실행해서 피쳐와 라벨을 먹이로 주자\r\n",
        "model.fit(X_train, y_train)\r\n"
      ],
      "execution_count": null,
      "outputs": [
        {
          "output_type": "execute_result",
          "data": {
            "text/plain": [
              "DecisionTreeClassifier(ccp_alpha=0.0, class_weight=None, criterion='gini',\n",
              "                       max_depth=5, max_features=None, max_leaf_nodes=None,\n",
              "                       min_impurity_decrease=0.0, min_impurity_split=None,\n",
              "                       min_samples_leaf=1, min_samples_split=2,\n",
              "                       min_weight_fraction_leaf=0.0, presort='deprecated',\n",
              "                       random_state=None, splitter='best')"
            ]
          },
          "metadata": {
            "tags": []
          },
          "execution_count": 56
        }
      ]
    },
    {
      "cell_type": "markdown",
      "metadata": {
        "id": "SOI1voNolCT8"
      },
      "source": [
        "#### 학습 알고리즘 시각화하기\r\n",
        "\r\n",
        "바로 위 코드 model.fit(X_train, y_train) 함수를 시각화해서 보여줄 수도 있다. "
      ]
    },
    {
      "cell_type": "code",
      "metadata": {
        "colab": {
          "base_uri": "https://localhost:8080/"
        },
        "id": "0R68998JlEVc",
        "outputId": "13cc7b0f-8f6b-477d-d351-dd80d32c5f4c"
      },
      "source": [
        "pip install graphviz ## 먼저 학습 알고리즘을 그래프 형태로 시각화해주는 프로그램인 graphviz를 설치"
      ],
      "execution_count": null,
      "outputs": [
        {
          "output_type": "stream",
          "text": [
            "Requirement already satisfied: graphviz in /usr/local/lib/python3.6/dist-packages (0.10.1)\n"
          ],
          "name": "stdout"
        }
      ]
    },
    {
      "cell_type": "code",
      "metadata": {
        "id": "a2Mgmb-2lYrC"
      },
      "source": [
        "import graphviz\r\n",
        "from sklearn.tree import export_graphviz\r\n",
        "\r\n",
        "# sklearn의 tree 모듈에서 decision tree를 시각화할 수 있는 export_graphviz를 가져왔다.\r\n",
        "# export_graphviz로 시각화를 할때 다음의 param을 넣어야한다.\r\n",
        "## 1) model : 시각화할 트리 알고리즘\r\n",
        "## 2) feature_names : 트리를 만들때 사용한 feature들의 이름\r\n",
        "## 3) class_names : 살았을 경우 시각화에서 어떻게 표현할 것인지(Survived), 반대로 죽었을 경우 시각화에서 어떻게 표현할 것(Perish)인지를 알려줌\r\n",
        "## 4) out_file : 시각화 결과를 저장할 파일명. 여기에서는 파일로 따로 저장 안하므로 None을 주면 됨\r\n",
        "## 마지막으로 시각화한 결과는 dot_tree라는 이름의 변수에 새롭게 지정해주자"
      ],
      "execution_count": null,
      "outputs": []
    },
    {
      "cell_type": "code",
      "metadata": {
        "colab": {
          "base_uri": "https://localhost:8080/",
          "height": 933
        },
        "id": "8WgpUzeElj9T",
        "outputId": "a890ec81-931e-463a-b498-8b2fbc73c38d"
      },
      "source": [
        "dot_tree = export_graphviz(model, feature_names=feature_names, class_names=[\"Perish\", \"Survived\"], out_file=None)\r\n",
        "graphviz.Source(dot_tree) #Source라는 기능을 통해 dot_tree를 시각화"
      ],
      "execution_count": null,
      "outputs": [
        {
          "output_type": "execute_result",
          "data": {
            "text/plain": [
              "<graphviz.files.Source at 0x7f6bd1de7d68>"
            ],
            "image/svg+xml": "<?xml version=\"1.0\" encoding=\"UTF-8\" standalone=\"no\"?>\n<!DOCTYPE svg PUBLIC \"-//W3C//DTD SVG 1.1//EN\"\n \"http://www.w3.org/Graphics/SVG/1.1/DTD/svg11.dtd\">\n<!-- Generated by graphviz version 2.40.1 (20161225.0304)\n -->\n<!-- Title: Tree Pages: 1 -->\n<svg width=\"2995pt\" height=\"671pt\"\n viewBox=\"0.00 0.00 2994.50 671.00\" xmlns=\"http://www.w3.org/2000/svg\" xmlns:xlink=\"http://www.w3.org/1999/xlink\">\n<g id=\"graph0\" class=\"graph\" transform=\"scale(1 1) rotate(0) translate(4 667)\">\n<title>Tree</title>\n<polygon fill=\"#ffffff\" stroke=\"transparent\" points=\"-4,4 -4,-667 2990.5,-667 2990.5,4 -4,4\"/>\n<!-- 0 -->\n<g id=\"node1\" class=\"node\">\n<title>0</title>\n<polygon fill=\"none\" stroke=\"#000000\" points=\"1523.5,-663 1394.5,-663 1394.5,-580 1523.5,-580 1523.5,-663\"/>\n<text text-anchor=\"middle\" x=\"1459\" y=\"-647.8\" font-family=\"Times,serif\" font-size=\"14.00\" fill=\"#000000\">Sex_encode &lt;= 0.5</text>\n<text text-anchor=\"middle\" x=\"1459\" y=\"-632.8\" font-family=\"Times,serif\" font-size=\"14.00\" fill=\"#000000\">gini = 0.473</text>\n<text text-anchor=\"middle\" x=\"1459\" y=\"-617.8\" font-family=\"Times,serif\" font-size=\"14.00\" fill=\"#000000\">samples = 891</text>\n<text text-anchor=\"middle\" x=\"1459\" y=\"-602.8\" font-family=\"Times,serif\" font-size=\"14.00\" fill=\"#000000\">value = [549, 342]</text>\n<text text-anchor=\"middle\" x=\"1459\" y=\"-587.8\" font-family=\"Times,serif\" font-size=\"14.00\" fill=\"#000000\">class = Perish</text>\n</g>\n<!-- 1 -->\n<g id=\"node2\" class=\"node\">\n<title>1</title>\n<polygon fill=\"none\" stroke=\"#000000\" points=\"1231.5,-544 1090.5,-544 1090.5,-461 1231.5,-461 1231.5,-544\"/>\n<text text-anchor=\"middle\" x=\"1161\" y=\"-528.8\" font-family=\"Times,serif\" font-size=\"14.00\" fill=\"#000000\">Fare_fillin &lt;= 26.269</text>\n<text text-anchor=\"middle\" x=\"1161\" y=\"-513.8\" font-family=\"Times,serif\" font-size=\"14.00\" fill=\"#000000\">gini = 0.306</text>\n<text text-anchor=\"middle\" x=\"1161\" y=\"-498.8\" font-family=\"Times,serif\" font-size=\"14.00\" fill=\"#000000\">samples = 577</text>\n<text text-anchor=\"middle\" x=\"1161\" y=\"-483.8\" font-family=\"Times,serif\" font-size=\"14.00\" fill=\"#000000\">value = [468, 109]</text>\n<text text-anchor=\"middle\" x=\"1161\" y=\"-468.8\" font-family=\"Times,serif\" font-size=\"14.00\" fill=\"#000000\">class = Perish</text>\n</g>\n<!-- 0&#45;&gt;1 -->\n<g id=\"edge1\" class=\"edge\">\n<title>0&#45;&gt;1</title>\n<path fill=\"none\" stroke=\"#000000\" d=\"M1394.3384,-595.6788C1349.3234,-577.703 1288.995,-553.6121 1240.9583,-534.4297\"/>\n<polygon fill=\"#000000\" stroke=\"#000000\" points=\"1242.1079,-531.12 1231.523,-530.6619 1239.5119,-537.6209 1242.1079,-531.12\"/>\n<text text-anchor=\"middle\" x=\"1241.3843\" y=\"-549.9348\" font-family=\"Times,serif\" font-size=\"14.00\" fill=\"#000000\">True</text>\n</g>\n<!-- 26 -->\n<g id=\"node27\" class=\"node\">\n<title>26</title>\n<polygon fill=\"none\" stroke=\"#000000\" points=\"1788.5,-544 1671.5,-544 1671.5,-461 1788.5,-461 1788.5,-544\"/>\n<text text-anchor=\"middle\" x=\"1730\" y=\"-528.8\" font-family=\"Times,serif\" font-size=\"14.00\" fill=\"#000000\">Pclass &lt;= 2.5</text>\n<text text-anchor=\"middle\" x=\"1730\" y=\"-513.8\" font-family=\"Times,serif\" font-size=\"14.00\" fill=\"#000000\">gini = 0.383</text>\n<text text-anchor=\"middle\" x=\"1730\" y=\"-498.8\" font-family=\"Times,serif\" font-size=\"14.00\" fill=\"#000000\">samples = 314</text>\n<text text-anchor=\"middle\" x=\"1730\" y=\"-483.8\" font-family=\"Times,serif\" font-size=\"14.00\" fill=\"#000000\">value = [81, 233]</text>\n<text text-anchor=\"middle\" x=\"1730\" y=\"-468.8\" font-family=\"Times,serif\" font-size=\"14.00\" fill=\"#000000\">class = Survived</text>\n</g>\n<!-- 0&#45;&gt;26 -->\n<g id=\"edge26\" class=\"edge\">\n<title>0&#45;&gt;26</title>\n<path fill=\"none\" stroke=\"#000000\" d=\"M1523.567,-593.1477C1565.339,-574.805 1619.6365,-550.9622 1662.0602,-532.3333\"/>\n<polygon fill=\"#000000\" stroke=\"#000000\" points=\"1663.7225,-535.426 1671.4714,-528.2007 1660.9081,-529.0167 1663.7225,-535.426\"/>\n<text text-anchor=\"middle\" x=\"1662.393\" y=\"-547.7941\" font-family=\"Times,serif\" font-size=\"14.00\" fill=\"#000000\">False</text>\n</g>\n<!-- 2 -->\n<g id=\"node3\" class=\"node\">\n<title>2</title>\n<polygon fill=\"none\" stroke=\"#000000\" points=\"783,-425 657,-425 657,-342 783,-342 783,-425\"/>\n<text text-anchor=\"middle\" x=\"720\" y=\"-409.8\" font-family=\"Times,serif\" font-size=\"14.00\" fill=\"#000000\">Fare_fillin &lt;= 7.91</text>\n<text text-anchor=\"middle\" x=\"720\" y=\"-394.8\" font-family=\"Times,serif\" font-size=\"14.00\" fill=\"#000000\">gini = 0.226</text>\n<text text-anchor=\"middle\" x=\"720\" y=\"-379.8\" font-family=\"Times,serif\" font-size=\"14.00\" fill=\"#000000\">samples = 415</text>\n<text text-anchor=\"middle\" x=\"720\" y=\"-364.8\" font-family=\"Times,serif\" font-size=\"14.00\" fill=\"#000000\">value = [361, 54]</text>\n<text text-anchor=\"middle\" x=\"720\" y=\"-349.8\" font-family=\"Times,serif\" font-size=\"14.00\" fill=\"#000000\">class = Perish</text>\n</g>\n<!-- 1&#45;&gt;2 -->\n<g id=\"edge2\" class=\"edge\">\n<title>1&#45;&gt;2</title>\n<path fill=\"none\" stroke=\"#000000\" d=\"M1090.1457,-483.3806C1008.6083,-461.3784 875.3803,-425.428 792.9637,-403.1886\"/>\n<polygon fill=\"#000000\" stroke=\"#000000\" points=\"793.7383,-399.7725 783.1717,-400.5463 791.9145,-406.5308 793.7383,-399.7725\"/>\n</g>\n<!-- 17 -->\n<g id=\"node18\" class=\"node\">\n<title>17</title>\n<polygon fill=\"none\" stroke=\"#000000\" points=\"1231.5,-425 1090.5,-425 1090.5,-342 1231.5,-342 1231.5,-425\"/>\n<text text-anchor=\"middle\" x=\"1161\" y=\"-409.8\" font-family=\"Times,serif\" font-size=\"14.00\" fill=\"#000000\">Fare_fillin &lt;= 26.469</text>\n<text text-anchor=\"middle\" x=\"1161\" y=\"-394.8\" font-family=\"Times,serif\" font-size=\"14.00\" fill=\"#000000\">gini = 0.448</text>\n<text text-anchor=\"middle\" x=\"1161\" y=\"-379.8\" font-family=\"Times,serif\" font-size=\"14.00\" fill=\"#000000\">samples = 162</text>\n<text text-anchor=\"middle\" x=\"1161\" y=\"-364.8\" font-family=\"Times,serif\" font-size=\"14.00\" fill=\"#000000\">value = [107, 55]</text>\n<text text-anchor=\"middle\" x=\"1161\" y=\"-349.8\" font-family=\"Times,serif\" font-size=\"14.00\" fill=\"#000000\">class = Perish</text>\n</g>\n<!-- 1&#45;&gt;17 -->\n<g id=\"edge17\" class=\"edge\">\n<title>1&#45;&gt;17</title>\n<path fill=\"none\" stroke=\"#000000\" d=\"M1161,-460.8796C1161,-452.6838 1161,-443.9891 1161,-435.5013\"/>\n<polygon fill=\"#000000\" stroke=\"#000000\" points=\"1164.5001,-435.298 1161,-425.2981 1157.5001,-435.2981 1164.5001,-435.298\"/>\n</g>\n<!-- 3 -->\n<g id=\"node4\" class=\"node\">\n<title>3</title>\n<polygon fill=\"none\" stroke=\"#000000\" points=\"439,-306 305,-306 305,-223 439,-223 439,-306\"/>\n<text text-anchor=\"middle\" x=\"372\" y=\"-290.8\" font-family=\"Times,serif\" font-size=\"14.00\" fill=\"#000000\">Fare_fillin &lt;= 7.865</text>\n<text text-anchor=\"middle\" x=\"372\" y=\"-275.8\" font-family=\"Times,serif\" font-size=\"14.00\" fill=\"#000000\">gini = 0.143</text>\n<text text-anchor=\"middle\" x=\"372\" y=\"-260.8\" font-family=\"Times,serif\" font-size=\"14.00\" fill=\"#000000\">samples = 180</text>\n<text text-anchor=\"middle\" x=\"372\" y=\"-245.8\" font-family=\"Times,serif\" font-size=\"14.00\" fill=\"#000000\">value = [166, 14]</text>\n<text text-anchor=\"middle\" x=\"372\" y=\"-230.8\" font-family=\"Times,serif\" font-size=\"14.00\" fill=\"#000000\">class = Perish</text>\n</g>\n<!-- 2&#45;&gt;3 -->\n<g id=\"edge3\" class=\"edge\">\n<title>2&#45;&gt;3</title>\n<path fill=\"none\" stroke=\"#000000\" d=\"M656.9798,-361.95C598.5077,-341.9552 511.3386,-312.1474 448.8153,-290.7673\"/>\n<polygon fill=\"#000000\" stroke=\"#000000\" points=\"449.5951,-287.335 439.0005,-287.4111 447.3301,-293.9585 449.5951,-287.335\"/>\n</g>\n<!-- 10 -->\n<g id=\"node11\" class=\"node\">\n<title>10</title>\n<polygon fill=\"none\" stroke=\"#000000\" points=\"788,-306 652,-306 652,-223 788,-223 788,-306\"/>\n<text text-anchor=\"middle\" x=\"720\" y=\"-290.8\" font-family=\"Times,serif\" font-size=\"14.00\" fill=\"#000000\">Embarked_C &lt;= 0.5</text>\n<text text-anchor=\"middle\" x=\"720\" y=\"-275.8\" font-family=\"Times,serif\" font-size=\"14.00\" fill=\"#000000\">gini = 0.282</text>\n<text text-anchor=\"middle\" x=\"720\" y=\"-260.8\" font-family=\"Times,serif\" font-size=\"14.00\" fill=\"#000000\">samples = 235</text>\n<text text-anchor=\"middle\" x=\"720\" y=\"-245.8\" font-family=\"Times,serif\" font-size=\"14.00\" fill=\"#000000\">value = [195, 40]</text>\n<text text-anchor=\"middle\" x=\"720\" y=\"-230.8\" font-family=\"Times,serif\" font-size=\"14.00\" fill=\"#000000\">class = Perish</text>\n</g>\n<!-- 2&#45;&gt;10 -->\n<g id=\"edge10\" class=\"edge\">\n<title>2&#45;&gt;10</title>\n<path fill=\"none\" stroke=\"#000000\" d=\"M720,-341.8796C720,-333.6838 720,-324.9891 720,-316.5013\"/>\n<polygon fill=\"#000000\" stroke=\"#000000\" points=\"723.5001,-316.298 720,-306.2981 716.5001,-316.2981 723.5001,-316.298\"/>\n</g>\n<!-- 4 -->\n<g id=\"node5\" class=\"node\">\n<title>4</title>\n<polygon fill=\"none\" stroke=\"#000000\" points=\"246,-187 112,-187 112,-104 246,-104 246,-187\"/>\n<text text-anchor=\"middle\" x=\"179\" y=\"-171.8\" font-family=\"Times,serif\" font-size=\"14.00\" fill=\"#000000\">Fare_fillin &lt;= 7.763</text>\n<text text-anchor=\"middle\" x=\"179\" y=\"-156.8\" font-family=\"Times,serif\" font-size=\"14.00\" fill=\"#000000\">gini = 0.167</text>\n<text text-anchor=\"middle\" x=\"179\" y=\"-141.8\" font-family=\"Times,serif\" font-size=\"14.00\" fill=\"#000000\">samples = 141</text>\n<text text-anchor=\"middle\" x=\"179\" y=\"-126.8\" font-family=\"Times,serif\" font-size=\"14.00\" fill=\"#000000\">value = [128, 13]</text>\n<text text-anchor=\"middle\" x=\"179\" y=\"-111.8\" font-family=\"Times,serif\" font-size=\"14.00\" fill=\"#000000\">class = Perish</text>\n</g>\n<!-- 3&#45;&gt;4 -->\n<g id=\"edge4\" class=\"edge\">\n<title>3&#45;&gt;4</title>\n<path fill=\"none\" stroke=\"#000000\" d=\"M304.7689,-223.0466C288.6495,-213.1077 271.3267,-202.4268 254.847,-192.2657\"/>\n<polygon fill=\"#000000\" stroke=\"#000000\" points=\"256.6658,-189.2754 246.3168,-187.0062 252.9919,-195.2338 256.6658,-189.2754\"/>\n</g>\n<!-- 7 -->\n<g id=\"node8\" class=\"node\">\n<title>7</title>\n<polygon fill=\"none\" stroke=\"#000000\" points=\"439,-187 305,-187 305,-104 439,-104 439,-187\"/>\n<text text-anchor=\"middle\" x=\"372\" y=\"-171.8\" font-family=\"Times,serif\" font-size=\"14.00\" fill=\"#000000\">Embarked_S &lt;= 0.5</text>\n<text text-anchor=\"middle\" x=\"372\" y=\"-156.8\" font-family=\"Times,serif\" font-size=\"14.00\" fill=\"#000000\">gini = 0.05</text>\n<text text-anchor=\"middle\" x=\"372\" y=\"-141.8\" font-family=\"Times,serif\" font-size=\"14.00\" fill=\"#000000\">samples = 39</text>\n<text text-anchor=\"middle\" x=\"372\" y=\"-126.8\" font-family=\"Times,serif\" font-size=\"14.00\" fill=\"#000000\">value = [38, 1]</text>\n<text text-anchor=\"middle\" x=\"372\" y=\"-111.8\" font-family=\"Times,serif\" font-size=\"14.00\" fill=\"#000000\">class = Perish</text>\n</g>\n<!-- 3&#45;&gt;7 -->\n<g id=\"edge7\" class=\"edge\">\n<title>3&#45;&gt;7</title>\n<path fill=\"none\" stroke=\"#000000\" d=\"M372,-222.8796C372,-214.6838 372,-205.9891 372,-197.5013\"/>\n<polygon fill=\"#000000\" stroke=\"#000000\" points=\"375.5001,-197.298 372,-187.2981 368.5001,-197.2981 375.5001,-197.298\"/>\n</g>\n<!-- 5 -->\n<g id=\"node6\" class=\"node\">\n<title>5</title>\n<polygon fill=\"none\" stroke=\"#000000\" points=\"110,-68 0,-68 0,0 110,0 110,-68\"/>\n<text text-anchor=\"middle\" x=\"55\" y=\"-52.8\" font-family=\"Times,serif\" font-size=\"14.00\" fill=\"#000000\">gini = 0.134</text>\n<text text-anchor=\"middle\" x=\"55\" y=\"-37.8\" font-family=\"Times,serif\" font-size=\"14.00\" fill=\"#000000\">samples = 111</text>\n<text text-anchor=\"middle\" x=\"55\" y=\"-22.8\" font-family=\"Times,serif\" font-size=\"14.00\" fill=\"#000000\">value = [103, 8]</text>\n<text text-anchor=\"middle\" x=\"55\" y=\"-7.8\" font-family=\"Times,serif\" font-size=\"14.00\" fill=\"#000000\">class = Perish</text>\n</g>\n<!-- 4&#45;&gt;5 -->\n<g id=\"edge5\" class=\"edge\">\n<title>4&#45;&gt;5</title>\n<path fill=\"none\" stroke=\"#000000\" d=\"M132.827,-103.9815C122.2993,-94.5151 111.1192,-84.462 100.6151,-75.0168\"/>\n<polygon fill=\"#000000\" stroke=\"#000000\" points=\"102.8811,-72.3475 93.1049,-68.2637 98.2006,-77.5526 102.8811,-72.3475\"/>\n</g>\n<!-- 6 -->\n<g id=\"node7\" class=\"node\">\n<title>6</title>\n<polygon fill=\"none\" stroke=\"#000000\" points=\"230,-68 128,-68 128,0 230,0 230,-68\"/>\n<text text-anchor=\"middle\" x=\"179\" y=\"-52.8\" font-family=\"Times,serif\" font-size=\"14.00\" fill=\"#000000\">gini = 0.278</text>\n<text text-anchor=\"middle\" x=\"179\" y=\"-37.8\" font-family=\"Times,serif\" font-size=\"14.00\" fill=\"#000000\">samples = 30</text>\n<text text-anchor=\"middle\" x=\"179\" y=\"-22.8\" font-family=\"Times,serif\" font-size=\"14.00\" fill=\"#000000\">value = [25, 5]</text>\n<text text-anchor=\"middle\" x=\"179\" y=\"-7.8\" font-family=\"Times,serif\" font-size=\"14.00\" fill=\"#000000\">class = Perish</text>\n</g>\n<!-- 4&#45;&gt;6 -->\n<g id=\"edge6\" class=\"edge\">\n<title>4&#45;&gt;6</title>\n<path fill=\"none\" stroke=\"#000000\" d=\"M179,-103.9815C179,-95.618 179,-86.7965 179,-78.3409\"/>\n<polygon fill=\"#000000\" stroke=\"#000000\" points=\"182.5001,-78.2636 179,-68.2637 175.5001,-78.2637 182.5001,-78.2636\"/>\n</g>\n<!-- 8 -->\n<g id=\"node9\" class=\"node\">\n<title>8</title>\n<polygon fill=\"none\" stroke=\"#000000\" points=\"343.5,-68 248.5,-68 248.5,0 343.5,0 343.5,-68\"/>\n<text text-anchor=\"middle\" x=\"296\" y=\"-52.8\" font-family=\"Times,serif\" font-size=\"14.00\" fill=\"#000000\">gini = 0.32</text>\n<text text-anchor=\"middle\" x=\"296\" y=\"-37.8\" font-family=\"Times,serif\" font-size=\"14.00\" fill=\"#000000\">samples = 5</text>\n<text text-anchor=\"middle\" x=\"296\" y=\"-22.8\" font-family=\"Times,serif\" font-size=\"14.00\" fill=\"#000000\">value = [4, 1]</text>\n<text text-anchor=\"middle\" x=\"296\" y=\"-7.8\" font-family=\"Times,serif\" font-size=\"14.00\" fill=\"#000000\">class = Perish</text>\n</g>\n<!-- 7&#45;&gt;8 -->\n<g id=\"edge8\" class=\"edge\">\n<title>7&#45;&gt;8</title>\n<path fill=\"none\" stroke=\"#000000\" d=\"M343.7004,-103.9815C337.6238,-95.0666 331.1926,-85.6313 325.0868,-76.6734\"/>\n<polygon fill=\"#000000\" stroke=\"#000000\" points=\"327.8789,-74.5555 319.3546,-68.2637 322.0948,-78.498 327.8789,-74.5555\"/>\n</g>\n<!-- 9 -->\n<g id=\"node10\" class=\"node\">\n<title>9</title>\n<polygon fill=\"none\" stroke=\"#000000\" points=\"464,-68 362,-68 362,0 464,0 464,-68\"/>\n<text text-anchor=\"middle\" x=\"413\" y=\"-52.8\" font-family=\"Times,serif\" font-size=\"14.00\" fill=\"#000000\">gini = 0.0</text>\n<text text-anchor=\"middle\" x=\"413\" y=\"-37.8\" font-family=\"Times,serif\" font-size=\"14.00\" fill=\"#000000\">samples = 34</text>\n<text text-anchor=\"middle\" x=\"413\" y=\"-22.8\" font-family=\"Times,serif\" font-size=\"14.00\" fill=\"#000000\">value = [34, 0]</text>\n<text text-anchor=\"middle\" x=\"413\" y=\"-7.8\" font-family=\"Times,serif\" font-size=\"14.00\" fill=\"#000000\">class = Perish</text>\n</g>\n<!-- 7&#45;&gt;9 -->\n<g id=\"edge9\" class=\"edge\">\n<title>7&#45;&gt;9</title>\n<path fill=\"none\" stroke=\"#000000\" d=\"M387.2669,-103.9815C390.4098,-95.4342 393.7287,-86.4086 396.9001,-77.7839\"/>\n<polygon fill=\"#000000\" stroke=\"#000000\" points=\"400.2345,-78.8572 400.4008,-68.2637 393.6646,-76.4413 400.2345,-78.8572\"/>\n</g>\n<!-- 11 -->\n<g id=\"node12\" class=\"node\">\n<title>11</title>\n<polygon fill=\"none\" stroke=\"#000000\" points=\"713,-187 579,-187 579,-104 713,-104 713,-187\"/>\n<text text-anchor=\"middle\" x=\"646\" y=\"-171.8\" font-family=\"Times,serif\" font-size=\"14.00\" fill=\"#000000\">Fare_fillin &lt;= 7.988</text>\n<text text-anchor=\"middle\" x=\"646\" y=\"-156.8\" font-family=\"Times,serif\" font-size=\"14.00\" fill=\"#000000\">gini = 0.258</text>\n<text text-anchor=\"middle\" x=\"646\" y=\"-141.8\" font-family=\"Times,serif\" font-size=\"14.00\" fill=\"#000000\">samples = 217</text>\n<text text-anchor=\"middle\" x=\"646\" y=\"-126.8\" font-family=\"Times,serif\" font-size=\"14.00\" fill=\"#000000\">value = [184, 33]</text>\n<text text-anchor=\"middle\" x=\"646\" y=\"-111.8\" font-family=\"Times,serif\" font-size=\"14.00\" fill=\"#000000\">class = Perish</text>\n</g>\n<!-- 10&#45;&gt;11 -->\n<g id=\"edge11\" class=\"edge\">\n<title>10&#45;&gt;11</title>\n<path fill=\"none\" stroke=\"#000000\" d=\"M694.1184,-222.8796C688.6858,-214.1434 682.9008,-204.8404 677.2947,-195.8253\"/>\n<polygon fill=\"#000000\" stroke=\"#000000\" points=\"680.2451,-193.9418 671.9921,-187.2981 674.3007,-197.6383 680.2451,-193.9418\"/>\n</g>\n<!-- 14 -->\n<g id=\"node15\" class=\"node\">\n<title>14</title>\n<polygon fill=\"none\" stroke=\"#000000\" points=\"857,-187 731,-187 731,-104 857,-104 857,-187\"/>\n<text text-anchor=\"middle\" x=\"794\" y=\"-171.8\" font-family=\"Times,serif\" font-size=\"14.00\" fill=\"#000000\">Fare_fillin &lt;= 8.59</text>\n<text text-anchor=\"middle\" x=\"794\" y=\"-156.8\" font-family=\"Times,serif\" font-size=\"14.00\" fill=\"#000000\">gini = 0.475</text>\n<text text-anchor=\"middle\" x=\"794\" y=\"-141.8\" font-family=\"Times,serif\" font-size=\"14.00\" fill=\"#000000\">samples = 18</text>\n<text text-anchor=\"middle\" x=\"794\" y=\"-126.8\" font-family=\"Times,serif\" font-size=\"14.00\" fill=\"#000000\">value = [11, 7]</text>\n<text text-anchor=\"middle\" x=\"794\" y=\"-111.8\" font-family=\"Times,serif\" font-size=\"14.00\" fill=\"#000000\">class = Perish</text>\n</g>\n<!-- 10&#45;&gt;14 -->\n<g id=\"edge14\" class=\"edge\">\n<title>10&#45;&gt;14</title>\n<path fill=\"none\" stroke=\"#000000\" d=\"M745.8816,-222.8796C751.3142,-214.1434 757.0992,-204.8404 762.7053,-195.8253\"/>\n<polygon fill=\"#000000\" stroke=\"#000000\" points=\"765.6993,-197.6383 768.0079,-187.2981 759.7549,-193.9418 765.6993,-197.6383\"/>\n</g>\n<!-- 12 -->\n<g id=\"node13\" class=\"node\">\n<title>12</title>\n<polygon fill=\"none\" stroke=\"#000000\" points=\"577.5,-68 482.5,-68 482.5,0 577.5,0 577.5,-68\"/>\n<text text-anchor=\"middle\" x=\"530\" y=\"-52.8\" font-family=\"Times,serif\" font-size=\"14.00\" fill=\"#000000\">gini = 0.473</text>\n<text text-anchor=\"middle\" x=\"530\" y=\"-37.8\" font-family=\"Times,serif\" font-size=\"14.00\" fill=\"#000000\">samples = 13</text>\n<text text-anchor=\"middle\" x=\"530\" y=\"-22.8\" font-family=\"Times,serif\" font-size=\"14.00\" fill=\"#000000\">value = [8, 5]</text>\n<text text-anchor=\"middle\" x=\"530\" y=\"-7.8\" font-family=\"Times,serif\" font-size=\"14.00\" fill=\"#000000\">class = Perish</text>\n</g>\n<!-- 11&#45;&gt;12 -->\n<g id=\"edge12\" class=\"edge\">\n<title>11&#45;&gt;12</title>\n<path fill=\"none\" stroke=\"#000000\" d=\"M602.8059,-103.9815C593.0531,-94.607 582.7017,-84.6572 572.9586,-75.2921\"/>\n<polygon fill=\"#000000\" stroke=\"#000000\" points=\"575.2815,-72.6702 565.6465,-68.2637 570.4306,-77.7169 575.2815,-72.6702\"/>\n</g>\n<!-- 13 -->\n<g id=\"node14\" class=\"node\">\n<title>13</title>\n<polygon fill=\"none\" stroke=\"#000000\" points=\"712.5,-68 595.5,-68 595.5,0 712.5,0 712.5,-68\"/>\n<text text-anchor=\"middle\" x=\"654\" y=\"-52.8\" font-family=\"Times,serif\" font-size=\"14.00\" fill=\"#000000\">gini = 0.237</text>\n<text text-anchor=\"middle\" x=\"654\" y=\"-37.8\" font-family=\"Times,serif\" font-size=\"14.00\" fill=\"#000000\">samples = 204</text>\n<text text-anchor=\"middle\" x=\"654\" y=\"-22.8\" font-family=\"Times,serif\" font-size=\"14.00\" fill=\"#000000\">value = [176, 28]</text>\n<text text-anchor=\"middle\" x=\"654\" y=\"-7.8\" font-family=\"Times,serif\" font-size=\"14.00\" fill=\"#000000\">class = Perish</text>\n</g>\n<!-- 11&#45;&gt;13 -->\n<g id=\"edge13\" class=\"edge\">\n<title>11&#45;&gt;13</title>\n<path fill=\"none\" stroke=\"#000000\" d=\"M648.9789,-103.9815C649.579,-95.618 650.2119,-86.7965 650.8186,-78.3409\"/>\n<polygon fill=\"#000000\" stroke=\"#000000\" points=\"654.3169,-78.4885 651.5416,-68.2637 647.3349,-77.9875 654.3169,-78.4885\"/>\n</g>\n<!-- 15 -->\n<g id=\"node16\" class=\"node\">\n<title>15</title>\n<polygon fill=\"none\" stroke=\"#000000\" points=\"841.5,-68 730.5,-68 730.5,0 841.5,0 841.5,-68\"/>\n<text text-anchor=\"middle\" x=\"786\" y=\"-52.8\" font-family=\"Times,serif\" font-size=\"14.00\" fill=\"#000000\">gini = 0.0</text>\n<text text-anchor=\"middle\" x=\"786\" y=\"-37.8\" font-family=\"Times,serif\" font-size=\"14.00\" fill=\"#000000\">samples = 1</text>\n<text text-anchor=\"middle\" x=\"786\" y=\"-22.8\" font-family=\"Times,serif\" font-size=\"14.00\" fill=\"#000000\">value = [0, 1]</text>\n<text text-anchor=\"middle\" x=\"786\" y=\"-7.8\" font-family=\"Times,serif\" font-size=\"14.00\" fill=\"#000000\">class = Survived</text>\n</g>\n<!-- 14&#45;&gt;15 -->\n<g id=\"edge15\" class=\"edge\">\n<title>14&#45;&gt;15</title>\n<path fill=\"none\" stroke=\"#000000\" d=\"M791.0211,-103.9815C790.421,-95.618 789.7881,-86.7965 789.1814,-78.3409\"/>\n<polygon fill=\"#000000\" stroke=\"#000000\" points=\"792.6651,-77.9875 788.4584,-68.2637 785.6831,-78.4885 792.6651,-77.9875\"/>\n</g>\n<!-- 16 -->\n<g id=\"node17\" class=\"node\">\n<title>16</title>\n<polygon fill=\"none\" stroke=\"#000000\" points=\"960.5,-68 859.5,-68 859.5,0 960.5,0 960.5,-68\"/>\n<text text-anchor=\"middle\" x=\"910\" y=\"-52.8\" font-family=\"Times,serif\" font-size=\"14.00\" fill=\"#000000\">gini = 0.457</text>\n<text text-anchor=\"middle\" x=\"910\" y=\"-37.8\" font-family=\"Times,serif\" font-size=\"14.00\" fill=\"#000000\">samples = 17</text>\n<text text-anchor=\"middle\" x=\"910\" y=\"-22.8\" font-family=\"Times,serif\" font-size=\"14.00\" fill=\"#000000\">value = [11, 6]</text>\n<text text-anchor=\"middle\" x=\"910\" y=\"-7.8\" font-family=\"Times,serif\" font-size=\"14.00\" fill=\"#000000\">class = Perish</text>\n</g>\n<!-- 14&#45;&gt;16 -->\n<g id=\"edge16\" class=\"edge\">\n<title>14&#45;&gt;16</title>\n<path fill=\"none\" stroke=\"#000000\" d=\"M837.1941,-103.9815C846.9469,-94.607 857.2983,-84.6572 867.0414,-75.2921\"/>\n<polygon fill=\"#000000\" stroke=\"#000000\" points=\"869.5694,-77.7169 874.3535,-68.2637 864.7185,-72.6702 869.5694,-77.7169\"/>\n</g>\n<!-- 18 -->\n<g id=\"node19\" class=\"node\">\n<title>18</title>\n<polygon fill=\"none\" stroke=\"#000000\" points=\"1150.5,-298.5 1039.5,-298.5 1039.5,-230.5 1150.5,-230.5 1150.5,-298.5\"/>\n<text text-anchor=\"middle\" x=\"1095\" y=\"-283.3\" font-family=\"Times,serif\" font-size=\"14.00\" fill=\"#000000\">gini = 0.0</text>\n<text text-anchor=\"middle\" x=\"1095\" y=\"-268.3\" font-family=\"Times,serif\" font-size=\"14.00\" fill=\"#000000\">samples = 4</text>\n<text text-anchor=\"middle\" x=\"1095\" y=\"-253.3\" font-family=\"Times,serif\" font-size=\"14.00\" fill=\"#000000\">value = [0, 4]</text>\n<text text-anchor=\"middle\" x=\"1095\" y=\"-238.3\" font-family=\"Times,serif\" font-size=\"14.00\" fill=\"#000000\">class = Survived</text>\n</g>\n<!-- 17&#45;&gt;18 -->\n<g id=\"edge18\" class=\"edge\">\n<title>17&#45;&gt;18</title>\n<path fill=\"none\" stroke=\"#000000\" d=\"M1137.9164,-341.8796C1131.7567,-330.7735 1125.0889,-318.7513 1118.8871,-307.5691\"/>\n<polygon fill=\"#000000\" stroke=\"#000000\" points=\"1121.9428,-305.8624 1114.0318,-298.8149 1115.8213,-309.2576 1121.9428,-305.8624\"/>\n</g>\n<!-- 19 -->\n<g id=\"node20\" class=\"node\">\n<title>19</title>\n<polygon fill=\"none\" stroke=\"#000000\" points=\"1285.5,-306 1168.5,-306 1168.5,-223 1285.5,-223 1285.5,-306\"/>\n<text text-anchor=\"middle\" x=\"1227\" y=\"-290.8\" font-family=\"Times,serif\" font-size=\"14.00\" fill=\"#000000\">Pclass &lt;= 1.5</text>\n<text text-anchor=\"middle\" x=\"1227\" y=\"-275.8\" font-family=\"Times,serif\" font-size=\"14.00\" fill=\"#000000\">gini = 0.437</text>\n<text text-anchor=\"middle\" x=\"1227\" y=\"-260.8\" font-family=\"Times,serif\" font-size=\"14.00\" fill=\"#000000\">samples = 158</text>\n<text text-anchor=\"middle\" x=\"1227\" y=\"-245.8\" font-family=\"Times,serif\" font-size=\"14.00\" fill=\"#000000\">value = [107, 51]</text>\n<text text-anchor=\"middle\" x=\"1227\" y=\"-230.8\" font-family=\"Times,serif\" font-size=\"14.00\" fill=\"#000000\">class = Perish</text>\n</g>\n<!-- 17&#45;&gt;19 -->\n<g id=\"edge19\" class=\"edge\">\n<title>17&#45;&gt;19</title>\n<path fill=\"none\" stroke=\"#000000\" d=\"M1184.0836,-341.8796C1188.8789,-333.2335 1193.9822,-324.0322 1198.9338,-315.1042\"/>\n<polygon fill=\"#000000\" stroke=\"#000000\" points=\"1202.0284,-316.7407 1203.8179,-306.2981 1195.9069,-313.3455 1202.0284,-316.7407\"/>\n</g>\n<!-- 20 -->\n<g id=\"node21\" class=\"node\">\n<title>20</title>\n<polygon fill=\"none\" stroke=\"#000000\" points=\"1220.5,-187 1071.5,-187 1071.5,-104 1220.5,-104 1220.5,-187\"/>\n<text text-anchor=\"middle\" x=\"1146\" y=\"-171.8\" font-family=\"Times,serif\" font-size=\"14.00\" fill=\"#000000\">Fare_fillin &lt;= 387.665</text>\n<text text-anchor=\"middle\" x=\"1146\" y=\"-156.8\" font-family=\"Times,serif\" font-size=\"14.00\" fill=\"#000000\">gini = 0.471</text>\n<text text-anchor=\"middle\" x=\"1146\" y=\"-141.8\" font-family=\"Times,serif\" font-size=\"14.00\" fill=\"#000000\">samples = 108</text>\n<text text-anchor=\"middle\" x=\"1146\" y=\"-126.8\" font-family=\"Times,serif\" font-size=\"14.00\" fill=\"#000000\">value = [67, 41]</text>\n<text text-anchor=\"middle\" x=\"1146\" y=\"-111.8\" font-family=\"Times,serif\" font-size=\"14.00\" fill=\"#000000\">class = Perish</text>\n</g>\n<!-- 19&#45;&gt;20 -->\n<g id=\"edge20\" class=\"edge\">\n<title>19&#45;&gt;20</title>\n<path fill=\"none\" stroke=\"#000000\" d=\"M1198.6701,-222.8796C1192.7237,-214.1434 1186.3914,-204.8404 1180.255,-195.8253\"/>\n<polygon fill=\"#000000\" stroke=\"#000000\" points=\"1182.9711,-193.5953 1174.4508,-187.2981 1177.1844,-197.5342 1182.9711,-193.5953\"/>\n</g>\n<!-- 23 -->\n<g id=\"node24\" class=\"node\">\n<title>23</title>\n<polygon fill=\"none\" stroke=\"#000000\" points=\"1379.5,-187 1238.5,-187 1238.5,-104 1379.5,-104 1379.5,-187\"/>\n<text text-anchor=\"middle\" x=\"1309\" y=\"-171.8\" font-family=\"Times,serif\" font-size=\"14.00\" fill=\"#000000\">Fare_fillin &lt;= 63.023</text>\n<text text-anchor=\"middle\" x=\"1309\" y=\"-156.8\" font-family=\"Times,serif\" font-size=\"14.00\" fill=\"#000000\">gini = 0.32</text>\n<text text-anchor=\"middle\" x=\"1309\" y=\"-141.8\" font-family=\"Times,serif\" font-size=\"14.00\" fill=\"#000000\">samples = 50</text>\n<text text-anchor=\"middle\" x=\"1309\" y=\"-126.8\" font-family=\"Times,serif\" font-size=\"14.00\" fill=\"#000000\">value = [40, 10]</text>\n<text text-anchor=\"middle\" x=\"1309\" y=\"-111.8\" font-family=\"Times,serif\" font-size=\"14.00\" fill=\"#000000\">class = Perish</text>\n</g>\n<!-- 19&#45;&gt;23 -->\n<g id=\"edge23\" class=\"edge\">\n<title>19&#45;&gt;23</title>\n<path fill=\"none\" stroke=\"#000000\" d=\"M1255.6796,-222.8796C1261.7615,-214.0534 1268.2422,-204.6485 1274.5141,-195.5466\"/>\n<polygon fill=\"#000000\" stroke=\"#000000\" points=\"1277.4059,-197.5184 1280.198,-187.2981 1271.6418,-193.5465 1277.4059,-197.5184\"/>\n</g>\n<!-- 21 -->\n<g id=\"node22\" class=\"node\">\n<title>21</title>\n<polygon fill=\"none\" stroke=\"#000000\" points=\"1089,-68 979,-68 979,0 1089,0 1089,-68\"/>\n<text text-anchor=\"middle\" x=\"1034\" y=\"-52.8\" font-family=\"Times,serif\" font-size=\"14.00\" fill=\"#000000\">gini = 0.465</text>\n<text text-anchor=\"middle\" x=\"1034\" y=\"-37.8\" font-family=\"Times,serif\" font-size=\"14.00\" fill=\"#000000\">samples = 106</text>\n<text text-anchor=\"middle\" x=\"1034\" y=\"-22.8\" font-family=\"Times,serif\" font-size=\"14.00\" fill=\"#000000\">value = [67, 39]</text>\n<text text-anchor=\"middle\" x=\"1034\" y=\"-7.8\" font-family=\"Times,serif\" font-size=\"14.00\" fill=\"#000000\">class = Perish</text>\n</g>\n<!-- 20&#45;&gt;21 -->\n<g id=\"edge21\" class=\"edge\">\n<title>20&#45;&gt;21</title>\n<path fill=\"none\" stroke=\"#000000\" d=\"M1104.2953,-103.9815C1094.9711,-94.6989 1085.0803,-84.8522 1075.7541,-75.5677\"/>\n<polygon fill=\"#000000\" stroke=\"#000000\" points=\"1077.9736,-72.8385 1068.4173,-68.2637 1073.0349,-77.7993 1077.9736,-72.8385\"/>\n</g>\n<!-- 22 -->\n<g id=\"node23\" class=\"node\">\n<title>22</title>\n<polygon fill=\"none\" stroke=\"#000000\" points=\"1218.5,-68 1107.5,-68 1107.5,0 1218.5,0 1218.5,-68\"/>\n<text text-anchor=\"middle\" x=\"1163\" y=\"-52.8\" font-family=\"Times,serif\" font-size=\"14.00\" fill=\"#000000\">gini = 0.0</text>\n<text text-anchor=\"middle\" x=\"1163\" y=\"-37.8\" font-family=\"Times,serif\" font-size=\"14.00\" fill=\"#000000\">samples = 2</text>\n<text text-anchor=\"middle\" x=\"1163\" y=\"-22.8\" font-family=\"Times,serif\" font-size=\"14.00\" fill=\"#000000\">value = [0, 2]</text>\n<text text-anchor=\"middle\" x=\"1163\" y=\"-7.8\" font-family=\"Times,serif\" font-size=\"14.00\" fill=\"#000000\">class = Survived</text>\n</g>\n<!-- 20&#45;&gt;22 -->\n<g id=\"edge22\" class=\"edge\">\n<title>20&#45;&gt;22</title>\n<path fill=\"none\" stroke=\"#000000\" d=\"M1152.3302,-103.9815C1153.6053,-95.618 1154.9503,-86.7965 1156.2395,-78.3409\"/>\n<polygon fill=\"#000000\" stroke=\"#000000\" points=\"1159.7286,-78.677 1157.7759,-68.2637 1152.8086,-77.6219 1159.7286,-78.677\"/>\n</g>\n<!-- 24 -->\n<g id=\"node25\" class=\"node\">\n<title>24</title>\n<polygon fill=\"none\" stroke=\"#000000\" points=\"1347,-68 1237,-68 1237,0 1347,0 1347,-68\"/>\n<text text-anchor=\"middle\" x=\"1292\" y=\"-52.8\" font-family=\"Times,serif\" font-size=\"14.00\" fill=\"#000000\">gini = 0.369</text>\n<text text-anchor=\"middle\" x=\"1292\" y=\"-37.8\" font-family=\"Times,serif\" font-size=\"14.00\" fill=\"#000000\">samples = 41</text>\n<text text-anchor=\"middle\" x=\"1292\" y=\"-22.8\" font-family=\"Times,serif\" font-size=\"14.00\" fill=\"#000000\">value = [31, 10]</text>\n<text text-anchor=\"middle\" x=\"1292\" y=\"-7.8\" font-family=\"Times,serif\" font-size=\"14.00\" fill=\"#000000\">class = Perish</text>\n</g>\n<!-- 23&#45;&gt;24 -->\n<g id=\"edge24\" class=\"edge\">\n<title>23&#45;&gt;24</title>\n<path fill=\"none\" stroke=\"#000000\" d=\"M1302.6698,-103.9815C1301.3947,-95.618 1300.0497,-86.7965 1298.7605,-78.3409\"/>\n<polygon fill=\"#000000\" stroke=\"#000000\" points=\"1302.1914,-77.6219 1297.2241,-68.2637 1295.2714,-78.677 1302.1914,-77.6219\"/>\n</g>\n<!-- 25 -->\n<g id=\"node26\" class=\"node\">\n<title>25</title>\n<polygon fill=\"none\" stroke=\"#000000\" points=\"1460.5,-68 1365.5,-68 1365.5,0 1460.5,0 1460.5,-68\"/>\n<text text-anchor=\"middle\" x=\"1413\" y=\"-52.8\" font-family=\"Times,serif\" font-size=\"14.00\" fill=\"#000000\">gini = 0.0</text>\n<text text-anchor=\"middle\" x=\"1413\" y=\"-37.8\" font-family=\"Times,serif\" font-size=\"14.00\" fill=\"#000000\">samples = 9</text>\n<text text-anchor=\"middle\" x=\"1413\" y=\"-22.8\" font-family=\"Times,serif\" font-size=\"14.00\" fill=\"#000000\">value = [9, 0]</text>\n<text text-anchor=\"middle\" x=\"1413\" y=\"-7.8\" font-family=\"Times,serif\" font-size=\"14.00\" fill=\"#000000\">class = Perish</text>\n</g>\n<!-- 23&#45;&gt;25 -->\n<g id=\"edge25\" class=\"edge\">\n<title>23&#45;&gt;25</title>\n<path fill=\"none\" stroke=\"#000000\" d=\"M1347.7258,-103.9815C1356.2982,-94.7908 1365.3865,-85.0472 1373.971,-75.8436\"/>\n<polygon fill=\"#000000\" stroke=\"#000000\" points=\"1376.7796,-77.9637 1381.0411,-68.2637 1371.6607,-73.1891 1376.7796,-77.9637\"/>\n</g>\n<!-- 27 -->\n<g id=\"node28\" class=\"node\">\n<title>27</title>\n<polygon fill=\"none\" stroke=\"#000000\" points=\"1800.5,-425 1659.5,-425 1659.5,-342 1800.5,-342 1800.5,-425\"/>\n<text text-anchor=\"middle\" x=\"1730\" y=\"-409.8\" font-family=\"Times,serif\" font-size=\"14.00\" fill=\"#000000\">Fare_fillin &lt;= 28.856</text>\n<text text-anchor=\"middle\" x=\"1730\" y=\"-394.8\" font-family=\"Times,serif\" font-size=\"14.00\" fill=\"#000000\">gini = 0.1</text>\n<text text-anchor=\"middle\" x=\"1730\" y=\"-379.8\" font-family=\"Times,serif\" font-size=\"14.00\" fill=\"#000000\">samples = 170</text>\n<text text-anchor=\"middle\" x=\"1730\" y=\"-364.8\" font-family=\"Times,serif\" font-size=\"14.00\" fill=\"#000000\">value = [9, 161]</text>\n<text text-anchor=\"middle\" x=\"1730\" y=\"-349.8\" font-family=\"Times,serif\" font-size=\"14.00\" fill=\"#000000\">class = Survived</text>\n</g>\n<!-- 26&#45;&gt;27 -->\n<g id=\"edge27\" class=\"edge\">\n<title>26&#45;&gt;27</title>\n<path fill=\"none\" stroke=\"#000000\" d=\"M1730,-460.8796C1730,-452.6838 1730,-443.9891 1730,-435.5013\"/>\n<polygon fill=\"#000000\" stroke=\"#000000\" points=\"1733.5001,-435.298 1730,-425.2981 1726.5001,-435.2981 1733.5001,-435.298\"/>\n</g>\n<!-- 38 -->\n<g id=\"node39\" class=\"node\">\n<title>38</title>\n<polygon fill=\"none\" stroke=\"#000000\" points=\"2328,-425 2194,-425 2194,-342 2328,-342 2328,-425\"/>\n<text text-anchor=\"middle\" x=\"2261\" y=\"-409.8\" font-family=\"Times,serif\" font-size=\"14.00\" fill=\"#000000\">Fare_fillin &lt;= 23.35</text>\n<text text-anchor=\"middle\" x=\"2261\" y=\"-394.8\" font-family=\"Times,serif\" font-size=\"14.00\" fill=\"#000000\">gini = 0.5</text>\n<text text-anchor=\"middle\" x=\"2261\" y=\"-379.8\" font-family=\"Times,serif\" font-size=\"14.00\" fill=\"#000000\">samples = 144</text>\n<text text-anchor=\"middle\" x=\"2261\" y=\"-364.8\" font-family=\"Times,serif\" font-size=\"14.00\" fill=\"#000000\">value = [72, 72]</text>\n<text text-anchor=\"middle\" x=\"2261\" y=\"-349.8\" font-family=\"Times,serif\" font-size=\"14.00\" fill=\"#000000\">class = Perish</text>\n</g>\n<!-- 26&#45;&gt;38 -->\n<g id=\"edge38\" class=\"edge\">\n<title>26&#45;&gt;38</title>\n<path fill=\"none\" stroke=\"#000000\" d=\"M1788.6,-489.3674C1884.9826,-467.7676 2076.9413,-424.7486 2184.1141,-400.7306\"/>\n<polygon fill=\"#000000\" stroke=\"#000000\" points=\"2184.9055,-404.1401 2193.898,-398.5379 2183.3747,-397.3095 2184.9055,-404.1401\"/>\n</g>\n<!-- 28 -->\n<g id=\"node29\" class=\"node\">\n<title>28</title>\n<polygon fill=\"none\" stroke=\"#000000\" points=\"1719.5,-306 1578.5,-306 1578.5,-223 1719.5,-223 1719.5,-306\"/>\n<text text-anchor=\"middle\" x=\"1649\" y=\"-290.8\" font-family=\"Times,serif\" font-size=\"14.00\" fill=\"#000000\">Fare_fillin &lt;= 28.231</text>\n<text text-anchor=\"middle\" x=\"1649\" y=\"-275.8\" font-family=\"Times,serif\" font-size=\"14.00\" fill=\"#000000\">gini = 0.18</text>\n<text text-anchor=\"middle\" x=\"1649\" y=\"-260.8\" font-family=\"Times,serif\" font-size=\"14.00\" fill=\"#000000\">samples = 70</text>\n<text text-anchor=\"middle\" x=\"1649\" y=\"-245.8\" font-family=\"Times,serif\" font-size=\"14.00\" fill=\"#000000\">value = [7, 63]</text>\n<text text-anchor=\"middle\" x=\"1649\" y=\"-230.8\" font-family=\"Times,serif\" font-size=\"14.00\" fill=\"#000000\">class = Survived</text>\n</g>\n<!-- 27&#45;&gt;28 -->\n<g id=\"edge28\" class=\"edge\">\n<title>27&#45;&gt;28</title>\n<path fill=\"none\" stroke=\"#000000\" d=\"M1701.6701,-341.8796C1695.7237,-333.1434 1689.3914,-323.8404 1683.255,-314.8253\"/>\n<polygon fill=\"#000000\" stroke=\"#000000\" points=\"1685.9711,-312.5953 1677.4508,-306.2981 1680.1844,-316.5342 1685.9711,-312.5953\"/>\n</g>\n<!-- 33 -->\n<g id=\"node34\" class=\"node\">\n<title>33</title>\n<polygon fill=\"none\" stroke=\"#000000\" points=\"1886.5,-306 1737.5,-306 1737.5,-223 1886.5,-223 1886.5,-306\"/>\n<text text-anchor=\"middle\" x=\"1812\" y=\"-290.8\" font-family=\"Times,serif\" font-size=\"14.00\" fill=\"#000000\">Fare_fillin &lt;= 149.035</text>\n<text text-anchor=\"middle\" x=\"1812\" y=\"-275.8\" font-family=\"Times,serif\" font-size=\"14.00\" fill=\"#000000\">gini = 0.039</text>\n<text text-anchor=\"middle\" x=\"1812\" y=\"-260.8\" font-family=\"Times,serif\" font-size=\"14.00\" fill=\"#000000\">samples = 100</text>\n<text text-anchor=\"middle\" x=\"1812\" y=\"-245.8\" font-family=\"Times,serif\" font-size=\"14.00\" fill=\"#000000\">value = [2, 98]</text>\n<text text-anchor=\"middle\" x=\"1812\" y=\"-230.8\" font-family=\"Times,serif\" font-size=\"14.00\" fill=\"#000000\">class = Survived</text>\n</g>\n<!-- 27&#45;&gt;33 -->\n<g id=\"edge33\" class=\"edge\">\n<title>27&#45;&gt;33</title>\n<path fill=\"none\" stroke=\"#000000\" d=\"M1758.6796,-341.8796C1764.7615,-333.0534 1771.2422,-323.6485 1777.5141,-314.5466\"/>\n<polygon fill=\"#000000\" stroke=\"#000000\" points=\"1780.4059,-316.5184 1783.198,-306.2981 1774.6418,-312.5465 1780.4059,-316.5184\"/>\n</g>\n<!-- 29 -->\n<g id=\"node30\" class=\"node\">\n<title>29</title>\n<polygon fill=\"none\" stroke=\"#000000\" points=\"1604.5,-187 1463.5,-187 1463.5,-104 1604.5,-104 1604.5,-187\"/>\n<text text-anchor=\"middle\" x=\"1534\" y=\"-171.8\" font-family=\"Times,serif\" font-size=\"14.00\" fill=\"#000000\">Fare_fillin &lt;= 26.125</text>\n<text text-anchor=\"middle\" x=\"1534\" y=\"-156.8\" font-family=\"Times,serif\" font-size=\"14.00\" fill=\"#000000\">gini = 0.159</text>\n<text text-anchor=\"middle\" x=\"1534\" y=\"-141.8\" font-family=\"Times,serif\" font-size=\"14.00\" fill=\"#000000\">samples = 69</text>\n<text text-anchor=\"middle\" x=\"1534\" y=\"-126.8\" font-family=\"Times,serif\" font-size=\"14.00\" fill=\"#000000\">value = [6, 63]</text>\n<text text-anchor=\"middle\" x=\"1534\" y=\"-111.8\" font-family=\"Times,serif\" font-size=\"14.00\" fill=\"#000000\">class = Survived</text>\n</g>\n<!-- 28&#45;&gt;29 -->\n<g id=\"edge29\" class=\"edge\">\n<title>28&#45;&gt;29</title>\n<path fill=\"none\" stroke=\"#000000\" d=\"M1608.7786,-222.8796C1599.988,-213.7832 1590.6034,-204.0722 1581.5574,-194.7116\"/>\n<polygon fill=\"#000000\" stroke=\"#000000\" points=\"1583.8591,-192.0568 1574.3931,-187.2981 1578.8255,-196.9212 1583.8591,-192.0568\"/>\n</g>\n<!-- 32 -->\n<g id=\"node33\" class=\"node\">\n<title>32</title>\n<polygon fill=\"none\" stroke=\"#000000\" points=\"1717.5,-179.5 1622.5,-179.5 1622.5,-111.5 1717.5,-111.5 1717.5,-179.5\"/>\n<text text-anchor=\"middle\" x=\"1670\" y=\"-164.3\" font-family=\"Times,serif\" font-size=\"14.00\" fill=\"#000000\">gini = 0.0</text>\n<text text-anchor=\"middle\" x=\"1670\" y=\"-149.3\" font-family=\"Times,serif\" font-size=\"14.00\" fill=\"#000000\">samples = 1</text>\n<text text-anchor=\"middle\" x=\"1670\" y=\"-134.3\" font-family=\"Times,serif\" font-size=\"14.00\" fill=\"#000000\">value = [1, 0]</text>\n<text text-anchor=\"middle\" x=\"1670\" y=\"-119.3\" font-family=\"Times,serif\" font-size=\"14.00\" fill=\"#000000\">class = Perish</text>\n</g>\n<!-- 28&#45;&gt;32 -->\n<g id=\"edge32\" class=\"edge\">\n<title>28&#45;&gt;32</title>\n<path fill=\"none\" stroke=\"#000000\" d=\"M1656.3448,-222.8796C1658.2271,-212.2134 1660.2585,-200.7021 1662.1644,-189.9015\"/>\n<polygon fill=\"#000000\" stroke=\"#000000\" points=\"1665.6532,-190.2711 1663.9444,-179.8149 1658.7597,-189.0545 1665.6532,-190.2711\"/>\n</g>\n<!-- 30 -->\n<g id=\"node31\" class=\"node\">\n<title>30</title>\n<polygon fill=\"none\" stroke=\"#000000\" points=\"1589.5,-68 1478.5,-68 1478.5,0 1589.5,0 1589.5,-68\"/>\n<text text-anchor=\"middle\" x=\"1534\" y=\"-52.8\" font-family=\"Times,serif\" font-size=\"14.00\" fill=\"#000000\">gini = 0.183</text>\n<text text-anchor=\"middle\" x=\"1534\" y=\"-37.8\" font-family=\"Times,serif\" font-size=\"14.00\" fill=\"#000000\">samples = 59</text>\n<text text-anchor=\"middle\" x=\"1534\" y=\"-22.8\" font-family=\"Times,serif\" font-size=\"14.00\" fill=\"#000000\">value = [6, 53]</text>\n<text text-anchor=\"middle\" x=\"1534\" y=\"-7.8\" font-family=\"Times,serif\" font-size=\"14.00\" fill=\"#000000\">class = Survived</text>\n</g>\n<!-- 29&#45;&gt;30 -->\n<g id=\"edge30\" class=\"edge\">\n<title>29&#45;&gt;30</title>\n<path fill=\"none\" stroke=\"#000000\" d=\"M1534,-103.9815C1534,-95.618 1534,-86.7965 1534,-78.3409\"/>\n<polygon fill=\"#000000\" stroke=\"#000000\" points=\"1537.5001,-78.2636 1534,-68.2637 1530.5001,-78.2637 1537.5001,-78.2636\"/>\n</g>\n<!-- 31 -->\n<g id=\"node32\" class=\"node\">\n<title>31</title>\n<polygon fill=\"none\" stroke=\"#000000\" points=\"1718.5,-68 1607.5,-68 1607.5,0 1718.5,0 1718.5,-68\"/>\n<text text-anchor=\"middle\" x=\"1663\" y=\"-52.8\" font-family=\"Times,serif\" font-size=\"14.00\" fill=\"#000000\">gini = 0.0</text>\n<text text-anchor=\"middle\" x=\"1663\" y=\"-37.8\" font-family=\"Times,serif\" font-size=\"14.00\" fill=\"#000000\">samples = 10</text>\n<text text-anchor=\"middle\" x=\"1663\" y=\"-22.8\" font-family=\"Times,serif\" font-size=\"14.00\" fill=\"#000000\">value = [0, 10]</text>\n<text text-anchor=\"middle\" x=\"1663\" y=\"-7.8\" font-family=\"Times,serif\" font-size=\"14.00\" fill=\"#000000\">class = Survived</text>\n</g>\n<!-- 29&#45;&gt;31 -->\n<g id=\"edge31\" class=\"edge\">\n<title>29&#45;&gt;31</title>\n<path fill=\"none\" stroke=\"#000000\" d=\"M1582.0348,-103.9815C1592.987,-94.5151 1604.6179,-84.462 1615.5456,-75.0168\"/>\n<polygon fill=\"#000000\" stroke=\"#000000\" points=\"1618.0818,-77.4509 1623.3586,-68.2637 1613.5043,-72.155 1618.0818,-77.4509\"/>\n</g>\n<!-- 34 -->\n<g id=\"node35\" class=\"node\">\n<title>34</title>\n<polygon fill=\"none\" stroke=\"#000000\" points=\"1846.5,-179.5 1735.5,-179.5 1735.5,-111.5 1846.5,-111.5 1846.5,-179.5\"/>\n<text text-anchor=\"middle\" x=\"1791\" y=\"-164.3\" font-family=\"Times,serif\" font-size=\"14.00\" fill=\"#000000\">gini = 0.0</text>\n<text text-anchor=\"middle\" x=\"1791\" y=\"-149.3\" font-family=\"Times,serif\" font-size=\"14.00\" fill=\"#000000\">samples = 81</text>\n<text text-anchor=\"middle\" x=\"1791\" y=\"-134.3\" font-family=\"Times,serif\" font-size=\"14.00\" fill=\"#000000\">value = [0, 81]</text>\n<text text-anchor=\"middle\" x=\"1791\" y=\"-119.3\" font-family=\"Times,serif\" font-size=\"14.00\" fill=\"#000000\">class = Survived</text>\n</g>\n<!-- 33&#45;&gt;34 -->\n<g id=\"edge34\" class=\"edge\">\n<title>33&#45;&gt;34</title>\n<path fill=\"none\" stroke=\"#000000\" d=\"M1804.6552,-222.8796C1802.7729,-212.2134 1800.7415,-200.7021 1798.8356,-189.9015\"/>\n<polygon fill=\"#000000\" stroke=\"#000000\" points=\"1802.2403,-189.0545 1797.0556,-179.8149 1795.3468,-190.2711 1802.2403,-189.0545\"/>\n</g>\n<!-- 35 -->\n<g id=\"node36\" class=\"node\">\n<title>35</title>\n<polygon fill=\"none\" stroke=\"#000000\" points=\"2013.5,-187 1864.5,-187 1864.5,-104 2013.5,-104 2013.5,-187\"/>\n<text text-anchor=\"middle\" x=\"1939\" y=\"-171.8\" font-family=\"Times,serif\" font-size=\"14.00\" fill=\"#000000\">Fare_fillin &lt;= 152.506</text>\n<text text-anchor=\"middle\" x=\"1939\" y=\"-156.8\" font-family=\"Times,serif\" font-size=\"14.00\" fill=\"#000000\">gini = 0.188</text>\n<text text-anchor=\"middle\" x=\"1939\" y=\"-141.8\" font-family=\"Times,serif\" font-size=\"14.00\" fill=\"#000000\">samples = 19</text>\n<text text-anchor=\"middle\" x=\"1939\" y=\"-126.8\" font-family=\"Times,serif\" font-size=\"14.00\" fill=\"#000000\">value = [2, 17]</text>\n<text text-anchor=\"middle\" x=\"1939\" y=\"-111.8\" font-family=\"Times,serif\" font-size=\"14.00\" fill=\"#000000\">class = Survived</text>\n</g>\n<!-- 33&#45;&gt;35 -->\n<g id=\"edge35\" class=\"edge\">\n<title>33&#45;&gt;35</title>\n<path fill=\"none\" stroke=\"#000000\" d=\"M1856.4184,-222.8796C1866.3186,-213.6031 1876.9009,-203.6874 1887.0731,-194.1559\"/>\n<polygon fill=\"#000000\" stroke=\"#000000\" points=\"1889.4879,-196.6896 1894.392,-187.2981 1884.7016,-191.5816 1889.4879,-196.6896\"/>\n</g>\n<!-- 36 -->\n<g id=\"node37\" class=\"node\">\n<title>36</title>\n<polygon fill=\"none\" stroke=\"#000000\" points=\"1865.5,-68 1770.5,-68 1770.5,0 1865.5,0 1865.5,-68\"/>\n<text text-anchor=\"middle\" x=\"1818\" y=\"-52.8\" font-family=\"Times,serif\" font-size=\"14.00\" fill=\"#000000\">gini = 0.444</text>\n<text text-anchor=\"middle\" x=\"1818\" y=\"-37.8\" font-family=\"Times,serif\" font-size=\"14.00\" fill=\"#000000\">samples = 3</text>\n<text text-anchor=\"middle\" x=\"1818\" y=\"-22.8\" font-family=\"Times,serif\" font-size=\"14.00\" fill=\"#000000\">value = [2, 1]</text>\n<text text-anchor=\"middle\" x=\"1818\" y=\"-7.8\" font-family=\"Times,serif\" font-size=\"14.00\" fill=\"#000000\">class = Perish</text>\n</g>\n<!-- 35&#45;&gt;36 -->\n<g id=\"edge36\" class=\"edge\">\n<title>35&#45;&gt;36</title>\n<path fill=\"none\" stroke=\"#000000\" d=\"M1893.9441,-103.9815C1883.7709,-94.607 1872.9733,-84.6572 1862.8102,-75.2921\"/>\n<polygon fill=\"#000000\" stroke=\"#000000\" points=\"1864.9087,-72.4663 1855.183,-68.2637 1860.1651,-77.6141 1864.9087,-72.4663\"/>\n</g>\n<!-- 37 -->\n<g id=\"node38\" class=\"node\">\n<title>37</title>\n<polygon fill=\"none\" stroke=\"#000000\" points=\"1994.5,-68 1883.5,-68 1883.5,0 1994.5,0 1994.5,-68\"/>\n<text text-anchor=\"middle\" x=\"1939\" y=\"-52.8\" font-family=\"Times,serif\" font-size=\"14.00\" fill=\"#000000\">gini = 0.0</text>\n<text text-anchor=\"middle\" x=\"1939\" y=\"-37.8\" font-family=\"Times,serif\" font-size=\"14.00\" fill=\"#000000\">samples = 16</text>\n<text text-anchor=\"middle\" x=\"1939\" y=\"-22.8\" font-family=\"Times,serif\" font-size=\"14.00\" fill=\"#000000\">value = [0, 16]</text>\n<text text-anchor=\"middle\" x=\"1939\" y=\"-7.8\" font-family=\"Times,serif\" font-size=\"14.00\" fill=\"#000000\">class = Survived</text>\n</g>\n<!-- 35&#45;&gt;37 -->\n<g id=\"edge37\" class=\"edge\">\n<title>35&#45;&gt;37</title>\n<path fill=\"none\" stroke=\"#000000\" d=\"M1939,-103.9815C1939,-95.618 1939,-86.7965 1939,-78.3409\"/>\n<polygon fill=\"#000000\" stroke=\"#000000\" points=\"1942.5001,-78.2636 1939,-68.2637 1935.5001,-78.2637 1942.5001,-78.2636\"/>\n</g>\n<!-- 39 -->\n<g id=\"node40\" class=\"node\">\n<title>39</title>\n<polygon fill=\"none\" stroke=\"#000000\" points=\"2328,-306 2194,-306 2194,-223 2328,-223 2328,-306\"/>\n<text text-anchor=\"middle\" x=\"2261\" y=\"-290.8\" font-family=\"Times,serif\" font-size=\"14.00\" fill=\"#000000\">Embarked_S &lt;= 0.5</text>\n<text text-anchor=\"middle\" x=\"2261\" y=\"-275.8\" font-family=\"Times,serif\" font-size=\"14.00\" fill=\"#000000\">gini = 0.484</text>\n<text text-anchor=\"middle\" x=\"2261\" y=\"-260.8\" font-family=\"Times,serif\" font-size=\"14.00\" fill=\"#000000\">samples = 117</text>\n<text text-anchor=\"middle\" x=\"2261\" y=\"-245.8\" font-family=\"Times,serif\" font-size=\"14.00\" fill=\"#000000\">value = [48, 69]</text>\n<text text-anchor=\"middle\" x=\"2261\" y=\"-230.8\" font-family=\"Times,serif\" font-size=\"14.00\" fill=\"#000000\">class = Survived</text>\n</g>\n<!-- 38&#45;&gt;39 -->\n<g id=\"edge39\" class=\"edge\">\n<title>38&#45;&gt;39</title>\n<path fill=\"none\" stroke=\"#000000\" d=\"M2261,-341.8796C2261,-333.6838 2261,-324.9891 2261,-316.5013\"/>\n<polygon fill=\"#000000\" stroke=\"#000000\" points=\"2264.5001,-316.298 2261,-306.2981 2257.5001,-316.2981 2264.5001,-316.298\"/>\n</g>\n<!-- 46 -->\n<g id=\"node47\" class=\"node\">\n<title>46</title>\n<polygon fill=\"none\" stroke=\"#000000\" points=\"2690,-306 2556,-306 2556,-223 2690,-223 2690,-306\"/>\n<text text-anchor=\"middle\" x=\"2623\" y=\"-290.8\" font-family=\"Times,serif\" font-size=\"14.00\" fill=\"#000000\">Embarked_S &lt;= 0.5</text>\n<text text-anchor=\"middle\" x=\"2623\" y=\"-275.8\" font-family=\"Times,serif\" font-size=\"14.00\" fill=\"#000000\">gini = 0.198</text>\n<text text-anchor=\"middle\" x=\"2623\" y=\"-260.8\" font-family=\"Times,serif\" font-size=\"14.00\" fill=\"#000000\">samples = 27</text>\n<text text-anchor=\"middle\" x=\"2623\" y=\"-245.8\" font-family=\"Times,serif\" font-size=\"14.00\" fill=\"#000000\">value = [24, 3]</text>\n<text text-anchor=\"middle\" x=\"2623\" y=\"-230.8\" font-family=\"Times,serif\" font-size=\"14.00\" fill=\"#000000\">class = Perish</text>\n</g>\n<!-- 38&#45;&gt;46 -->\n<g id=\"edge46\" class=\"edge\">\n<title>38&#45;&gt;46</title>\n<path fill=\"none\" stroke=\"#000000\" d=\"M2328.241,-361.3959C2389.9898,-341.0973 2481.4443,-311.0335 2546.0784,-289.7864\"/>\n<polygon fill=\"#000000\" stroke=\"#000000\" points=\"2547.4058,-293.0343 2555.8127,-286.5864 2545.2198,-286.3844 2547.4058,-293.0343\"/>\n</g>\n<!-- 40 -->\n<g id=\"node41\" class=\"node\">\n<title>40</title>\n<polygon fill=\"none\" stroke=\"#000000\" points=\"2252.5,-187 2111.5,-187 2111.5,-104 2252.5,-104 2252.5,-187\"/>\n<text text-anchor=\"middle\" x=\"2182\" y=\"-171.8\" font-family=\"Times,serif\" font-size=\"14.00\" fill=\"#000000\">Fare_fillin &lt;= 15.621</text>\n<text text-anchor=\"middle\" x=\"2182\" y=\"-156.8\" font-family=\"Times,serif\" font-size=\"14.00\" fill=\"#000000\">gini = 0.417</text>\n<text text-anchor=\"middle\" x=\"2182\" y=\"-141.8\" font-family=\"Times,serif\" font-size=\"14.00\" fill=\"#000000\">samples = 54</text>\n<text text-anchor=\"middle\" x=\"2182\" y=\"-126.8\" font-family=\"Times,serif\" font-size=\"14.00\" fill=\"#000000\">value = [16, 38]</text>\n<text text-anchor=\"middle\" x=\"2182\" y=\"-111.8\" font-family=\"Times,serif\" font-size=\"14.00\" fill=\"#000000\">class = Survived</text>\n</g>\n<!-- 39&#45;&gt;40 -->\n<g id=\"edge40\" class=\"edge\">\n<title>39&#45;&gt;40</title>\n<path fill=\"none\" stroke=\"#000000\" d=\"M2233.3696,-222.8796C2227.57,-214.1434 2221.3941,-204.8404 2215.4092,-195.8253\"/>\n<polygon fill=\"#000000\" stroke=\"#000000\" points=\"2218.1951,-193.6935 2209.7483,-187.2981 2212.3632,-197.5652 2218.1951,-193.6935\"/>\n</g>\n<!-- 43 -->\n<g id=\"node44\" class=\"node\">\n<title>43</title>\n<polygon fill=\"none\" stroke=\"#000000\" points=\"2411.5,-187 2270.5,-187 2270.5,-104 2411.5,-104 2411.5,-187\"/>\n<text text-anchor=\"middle\" x=\"2341\" y=\"-171.8\" font-family=\"Times,serif\" font-size=\"14.00\" fill=\"#000000\">Fare_fillin &lt;= 10.825</text>\n<text text-anchor=\"middle\" x=\"2341\" y=\"-156.8\" font-family=\"Times,serif\" font-size=\"14.00\" fill=\"#000000\">gini = 0.5</text>\n<text text-anchor=\"middle\" x=\"2341\" y=\"-141.8\" font-family=\"Times,serif\" font-size=\"14.00\" fill=\"#000000\">samples = 63</text>\n<text text-anchor=\"middle\" x=\"2341\" y=\"-126.8\" font-family=\"Times,serif\" font-size=\"14.00\" fill=\"#000000\">value = [32, 31]</text>\n<text text-anchor=\"middle\" x=\"2341\" y=\"-111.8\" font-family=\"Times,serif\" font-size=\"14.00\" fill=\"#000000\">class = Perish</text>\n</g>\n<!-- 39&#45;&gt;43 -->\n<g id=\"edge43\" class=\"edge\">\n<title>39&#45;&gt;43</title>\n<path fill=\"none\" stroke=\"#000000\" d=\"M2288.9801,-222.8796C2294.8531,-214.1434 2301.1073,-204.8404 2307.1679,-195.8253\"/>\n<polygon fill=\"#000000\" stroke=\"#000000\" points=\"2310.2259,-197.5498 2312.9005,-187.2981 2304.4166,-193.6444 2310.2259,-197.5498\"/>\n</g>\n<!-- 41 -->\n<g id=\"node42\" class=\"node\">\n<title>41</title>\n<polygon fill=\"none\" stroke=\"#000000\" points=\"2123.5,-68 2012.5,-68 2012.5,0 2123.5,0 2123.5,-68\"/>\n<text text-anchor=\"middle\" x=\"2068\" y=\"-52.8\" font-family=\"Times,serif\" font-size=\"14.00\" fill=\"#000000\">gini = 0.454</text>\n<text text-anchor=\"middle\" x=\"2068\" y=\"-37.8\" font-family=\"Times,serif\" font-size=\"14.00\" fill=\"#000000\">samples = 46</text>\n<text text-anchor=\"middle\" x=\"2068\" y=\"-22.8\" font-family=\"Times,serif\" font-size=\"14.00\" fill=\"#000000\">value = [16, 30]</text>\n<text text-anchor=\"middle\" x=\"2068\" y=\"-7.8\" font-family=\"Times,serif\" font-size=\"14.00\" fill=\"#000000\">class = Survived</text>\n</g>\n<!-- 40&#45;&gt;41 -->\n<g id=\"edge41\" class=\"edge\">\n<title>40&#45;&gt;41</title>\n<path fill=\"none\" stroke=\"#000000\" d=\"M2139.5506,-103.9815C2129.9659,-94.607 2119.793,-84.6572 2110.2179,-75.2921\"/>\n<polygon fill=\"#000000\" stroke=\"#000000\" points=\"2112.6283,-72.7538 2103.0319,-68.2637 2107.7337,-77.7581 2112.6283,-72.7538\"/>\n</g>\n<!-- 42 -->\n<g id=\"node43\" class=\"node\">\n<title>42</title>\n<polygon fill=\"none\" stroke=\"#000000\" points=\"2252.5,-68 2141.5,-68 2141.5,0 2252.5,0 2252.5,-68\"/>\n<text text-anchor=\"middle\" x=\"2197\" y=\"-52.8\" font-family=\"Times,serif\" font-size=\"14.00\" fill=\"#000000\">gini = 0.0</text>\n<text text-anchor=\"middle\" x=\"2197\" y=\"-37.8\" font-family=\"Times,serif\" font-size=\"14.00\" fill=\"#000000\">samples = 8</text>\n<text text-anchor=\"middle\" x=\"2197\" y=\"-22.8\" font-family=\"Times,serif\" font-size=\"14.00\" fill=\"#000000\">value = [0, 8]</text>\n<text text-anchor=\"middle\" x=\"2197\" y=\"-7.8\" font-family=\"Times,serif\" font-size=\"14.00\" fill=\"#000000\">class = Survived</text>\n</g>\n<!-- 40&#45;&gt;42 -->\n<g id=\"edge42\" class=\"edge\">\n<title>40&#45;&gt;42</title>\n<path fill=\"none\" stroke=\"#000000\" d=\"M2187.5854,-103.9815C2188.7106,-95.618 2189.8973,-86.7965 2191.0349,-78.3409\"/>\n<polygon fill=\"#000000\" stroke=\"#000000\" points=\"2194.5259,-78.6411 2192.3905,-68.2637 2187.5884,-77.7077 2194.5259,-78.6411\"/>\n</g>\n<!-- 44 -->\n<g id=\"node45\" class=\"node\">\n<title>44</title>\n<polygon fill=\"none\" stroke=\"#000000\" points=\"2381,-68 2271,-68 2271,0 2381,0 2381,-68\"/>\n<text text-anchor=\"middle\" x=\"2326\" y=\"-52.8\" font-family=\"Times,serif\" font-size=\"14.00\" fill=\"#000000\">gini = 0.482</text>\n<text text-anchor=\"middle\" x=\"2326\" y=\"-37.8\" font-family=\"Times,serif\" font-size=\"14.00\" fill=\"#000000\">samples = 37</text>\n<text text-anchor=\"middle\" x=\"2326\" y=\"-22.8\" font-family=\"Times,serif\" font-size=\"14.00\" fill=\"#000000\">value = [22, 15]</text>\n<text text-anchor=\"middle\" x=\"2326\" y=\"-7.8\" font-family=\"Times,serif\" font-size=\"14.00\" fill=\"#000000\">class = Perish</text>\n</g>\n<!-- 43&#45;&gt;44 -->\n<g id=\"edge44\" class=\"edge\">\n<title>43&#45;&gt;44</title>\n<path fill=\"none\" stroke=\"#000000\" d=\"M2335.4146,-103.9815C2334.2894,-95.618 2333.1027,-86.7965 2331.9651,-78.3409\"/>\n<polygon fill=\"#000000\" stroke=\"#000000\" points=\"2335.4116,-77.7077 2330.6095,-68.2637 2328.4741,-78.6411 2335.4116,-77.7077\"/>\n</g>\n<!-- 45 -->\n<g id=\"node46\" class=\"node\">\n<title>45</title>\n<polygon fill=\"none\" stroke=\"#000000\" points=\"2510.5,-68 2399.5,-68 2399.5,0 2510.5,0 2510.5,-68\"/>\n<text text-anchor=\"middle\" x=\"2455\" y=\"-52.8\" font-family=\"Times,serif\" font-size=\"14.00\" fill=\"#000000\">gini = 0.473</text>\n<text text-anchor=\"middle\" x=\"2455\" y=\"-37.8\" font-family=\"Times,serif\" font-size=\"14.00\" fill=\"#000000\">samples = 26</text>\n<text text-anchor=\"middle\" x=\"2455\" y=\"-22.8\" font-family=\"Times,serif\" font-size=\"14.00\" fill=\"#000000\">value = [10, 16]</text>\n<text text-anchor=\"middle\" x=\"2455\" y=\"-7.8\" font-family=\"Times,serif\" font-size=\"14.00\" fill=\"#000000\">class = Survived</text>\n</g>\n<!-- 43&#45;&gt;45 -->\n<g id=\"edge45\" class=\"edge\">\n<title>43&#45;&gt;45</title>\n<path fill=\"none\" stroke=\"#000000\" d=\"M2383.4494,-103.9815C2393.0341,-94.607 2403.207,-84.6572 2412.7821,-75.2921\"/>\n<polygon fill=\"#000000\" stroke=\"#000000\" points=\"2415.2663,-77.7581 2419.9681,-68.2637 2410.3717,-72.7538 2415.2663,-77.7581\"/>\n</g>\n<!-- 47 -->\n<g id=\"node48\" class=\"node\">\n<title>47</title>\n<polygon fill=\"none\" stroke=\"#000000\" points=\"2693.5,-187 2552.5,-187 2552.5,-104 2693.5,-104 2693.5,-187\"/>\n<text text-anchor=\"middle\" x=\"2623\" y=\"-171.8\" font-family=\"Times,serif\" font-size=\"14.00\" fill=\"#000000\">Fare_fillin &lt;= 26.637</text>\n<text text-anchor=\"middle\" x=\"2623\" y=\"-156.8\" font-family=\"Times,serif\" font-size=\"14.00\" fill=\"#000000\">gini = 0.5</text>\n<text text-anchor=\"middle\" x=\"2623\" y=\"-141.8\" font-family=\"Times,serif\" font-size=\"14.00\" fill=\"#000000\">samples = 2</text>\n<text text-anchor=\"middle\" x=\"2623\" y=\"-126.8\" font-family=\"Times,serif\" font-size=\"14.00\" fill=\"#000000\">value = [1, 1]</text>\n<text text-anchor=\"middle\" x=\"2623\" y=\"-111.8\" font-family=\"Times,serif\" font-size=\"14.00\" fill=\"#000000\">class = Perish</text>\n</g>\n<!-- 46&#45;&gt;47 -->\n<g id=\"edge47\" class=\"edge\">\n<title>46&#45;&gt;47</title>\n<path fill=\"none\" stroke=\"#000000\" d=\"M2623,-222.8796C2623,-214.6838 2623,-205.9891 2623,-197.5013\"/>\n<polygon fill=\"#000000\" stroke=\"#000000\" points=\"2626.5001,-197.298 2623,-187.2981 2619.5001,-197.2981 2626.5001,-197.298\"/>\n</g>\n<!-- 50 -->\n<g id=\"node51\" class=\"node\">\n<title>50</title>\n<polygon fill=\"none\" stroke=\"#000000\" points=\"2892.5,-187 2751.5,-187 2751.5,-104 2892.5,-104 2892.5,-187\"/>\n<text text-anchor=\"middle\" x=\"2822\" y=\"-171.8\" font-family=\"Times,serif\" font-size=\"14.00\" fill=\"#000000\">Fare_fillin &lt;= 31.331</text>\n<text text-anchor=\"middle\" x=\"2822\" y=\"-156.8\" font-family=\"Times,serif\" font-size=\"14.00\" fill=\"#000000\">gini = 0.147</text>\n<text text-anchor=\"middle\" x=\"2822\" y=\"-141.8\" font-family=\"Times,serif\" font-size=\"14.00\" fill=\"#000000\">samples = 25</text>\n<text text-anchor=\"middle\" x=\"2822\" y=\"-126.8\" font-family=\"Times,serif\" font-size=\"14.00\" fill=\"#000000\">value = [23, 2]</text>\n<text text-anchor=\"middle\" x=\"2822\" y=\"-111.8\" font-family=\"Times,serif\" font-size=\"14.00\" fill=\"#000000\">class = Perish</text>\n</g>\n<!-- 46&#45;&gt;50 -->\n<g id=\"edge50\" class=\"edge\">\n<title>46&#45;&gt;50</title>\n<path fill=\"none\" stroke=\"#000000\" d=\"M2690.0949,-224.3779C2707.3552,-214.0564 2726.076,-202.8616 2743.8439,-192.2366\"/>\n<polygon fill=\"#000000\" stroke=\"#000000\" points=\"2745.6929,-195.209 2752.4791,-187.0728 2742.1003,-189.2012 2745.6929,-195.209\"/>\n</g>\n<!-- 48 -->\n<g id=\"node49\" class=\"node\">\n<title>48</title>\n<polygon fill=\"none\" stroke=\"#000000\" points=\"2639.5,-68 2528.5,-68 2528.5,0 2639.5,0 2639.5,-68\"/>\n<text text-anchor=\"middle\" x=\"2584\" y=\"-52.8\" font-family=\"Times,serif\" font-size=\"14.00\" fill=\"#000000\">gini = 0.0</text>\n<text text-anchor=\"middle\" x=\"2584\" y=\"-37.8\" font-family=\"Times,serif\" font-size=\"14.00\" fill=\"#000000\">samples = 1</text>\n<text text-anchor=\"middle\" x=\"2584\" y=\"-22.8\" font-family=\"Times,serif\" font-size=\"14.00\" fill=\"#000000\">value = [0, 1]</text>\n<text text-anchor=\"middle\" x=\"2584\" y=\"-7.8\" font-family=\"Times,serif\" font-size=\"14.00\" fill=\"#000000\">class = Survived</text>\n</g>\n<!-- 47&#45;&gt;48 -->\n<g id=\"edge48\" class=\"edge\">\n<title>47&#45;&gt;48</title>\n<path fill=\"none\" stroke=\"#000000\" d=\"M2608.4778,-103.9815C2605.4882,-95.4342 2602.3312,-86.4086 2599.3146,-77.7839\"/>\n<polygon fill=\"#000000\" stroke=\"#000000\" points=\"2602.59,-76.5473 2595.9846,-68.2637 2595.9826,-78.8585 2602.59,-76.5473\"/>\n</g>\n<!-- 49 -->\n<g id=\"node50\" class=\"node\">\n<title>49</title>\n<polygon fill=\"none\" stroke=\"#000000\" points=\"2752.5,-68 2657.5,-68 2657.5,0 2752.5,0 2752.5,-68\"/>\n<text text-anchor=\"middle\" x=\"2705\" y=\"-52.8\" font-family=\"Times,serif\" font-size=\"14.00\" fill=\"#000000\">gini = 0.0</text>\n<text text-anchor=\"middle\" x=\"2705\" y=\"-37.8\" font-family=\"Times,serif\" font-size=\"14.00\" fill=\"#000000\">samples = 1</text>\n<text text-anchor=\"middle\" x=\"2705\" y=\"-22.8\" font-family=\"Times,serif\" font-size=\"14.00\" fill=\"#000000\">value = [1, 0]</text>\n<text text-anchor=\"middle\" x=\"2705\" y=\"-7.8\" font-family=\"Times,serif\" font-size=\"14.00\" fill=\"#000000\">class = Perish</text>\n</g>\n<!-- 47&#45;&gt;49 -->\n<g id=\"edge49\" class=\"edge\">\n<title>47&#45;&gt;49</title>\n<path fill=\"none\" stroke=\"#000000\" d=\"M2653.5338,-103.9815C2660.1576,-94.9747 2667.1721,-85.4367 2673.8205,-76.3965\"/>\n<polygon fill=\"#000000\" stroke=\"#000000\" points=\"2676.6966,-78.3933 2679.8016,-68.2637 2671.0574,-74.2461 2676.6966,-78.3933\"/>\n</g>\n<!-- 51 -->\n<g id=\"node52\" class=\"node\">\n<title>51</title>\n<polygon fill=\"none\" stroke=\"#000000\" points=\"2873,-68 2771,-68 2771,0 2873,0 2873,-68\"/>\n<text text-anchor=\"middle\" x=\"2822\" y=\"-52.8\" font-family=\"Times,serif\" font-size=\"14.00\" fill=\"#000000\">gini = 0.0</text>\n<text text-anchor=\"middle\" x=\"2822\" y=\"-37.8\" font-family=\"Times,serif\" font-size=\"14.00\" fill=\"#000000\">samples = 14</text>\n<text text-anchor=\"middle\" x=\"2822\" y=\"-22.8\" font-family=\"Times,serif\" font-size=\"14.00\" fill=\"#000000\">value = [14, 0]</text>\n<text text-anchor=\"middle\" x=\"2822\" y=\"-7.8\" font-family=\"Times,serif\" font-size=\"14.00\" fill=\"#000000\">class = Perish</text>\n</g>\n<!-- 50&#45;&gt;51 -->\n<g id=\"edge51\" class=\"edge\">\n<title>50&#45;&gt;51</title>\n<path fill=\"none\" stroke=\"#000000\" d=\"M2822,-103.9815C2822,-95.618 2822,-86.7965 2822,-78.3409\"/>\n<polygon fill=\"#000000\" stroke=\"#000000\" points=\"2825.5001,-78.2636 2822,-68.2637 2818.5001,-78.2637 2825.5001,-78.2636\"/>\n</g>\n<!-- 52 -->\n<g id=\"node53\" class=\"node\">\n<title>52</title>\n<polygon fill=\"none\" stroke=\"#000000\" points=\"2986.5,-68 2891.5,-68 2891.5,0 2986.5,0 2986.5,-68\"/>\n<text text-anchor=\"middle\" x=\"2939\" y=\"-52.8\" font-family=\"Times,serif\" font-size=\"14.00\" fill=\"#000000\">gini = 0.298</text>\n<text text-anchor=\"middle\" x=\"2939\" y=\"-37.8\" font-family=\"Times,serif\" font-size=\"14.00\" fill=\"#000000\">samples = 11</text>\n<text text-anchor=\"middle\" x=\"2939\" y=\"-22.8\" font-family=\"Times,serif\" font-size=\"14.00\" fill=\"#000000\">value = [9, 2]</text>\n<text text-anchor=\"middle\" x=\"2939\" y=\"-7.8\" font-family=\"Times,serif\" font-size=\"14.00\" fill=\"#000000\">class = Perish</text>\n</g>\n<!-- 50&#45;&gt;52 -->\n<g id=\"edge52\" class=\"edge\">\n<title>50&#45;&gt;52</title>\n<path fill=\"none\" stroke=\"#000000\" d=\"M2865.5665,-103.9815C2875.4034,-94.607 2885.844,-84.6572 2895.6711,-75.2921\"/>\n<polygon fill=\"#000000\" stroke=\"#000000\" points=\"2898.2216,-77.6963 2903.0462,-68.2637 2893.3924,-72.6289 2898.2216,-77.6963\"/>\n</g>\n</g>\n</svg>\n"
          },
          "metadata": {
            "tags": []
          },
          "execution_count": 59
        }
      ]
    },
    {
      "cell_type": "code",
      "metadata": {
        "id": "-nnU9BllmUaL"
      },
      "source": [
        ""
      ],
      "execution_count": null,
      "outputs": []
    },
    {
      "cell_type": "markdown",
      "metadata": {
        "id": "j5QOw7QUsVRN"
      },
      "source": [
        "## 5th. 예측 (Predict)"
      ]
    },
    {
      "cell_type": "markdown",
      "metadata": {
        "id": "vXxKoxS4saDd"
      },
      "source": [
        "Decision Tree가 성공적으로 학습이 되었다면, 남은 것은 이 Decision Tree를 활용해 테스트 데이터에 있는 승객의 생존/사망 여부를 예측하는 것임. \r\n",
        "\r\n",
        "예측은 model.predict 기능으로 할 수 있으며, 이 때 test 데이터의 feature인 X_test가 필요함\r\n"
      ]
    },
    {
      "cell_type": "code",
      "metadata": {
        "colab": {
          "base_uri": "https://localhost:8080/"
        },
        "id": "ytmAA5e1sh5y",
        "outputId": "b61fc066-37f8-4568-ae7c-e590f38c8134"
      },
      "source": [
        "# fit이 끝났으면, predict라는 기능을 사용하여 생존 여부(Survived)를 예측합니다.\r\n",
        "# predict의 실행이 끝나면 test 데이터의 생존 여부(Survived)를 반환하며, 이를 predictions라는 이름의 변수에 할당합니다.\r\n",
        "predictions = model.predict(X_test)\r\n",
        "\r\n",
        "# predictions 변수에 할당된 데이터의 사이즈를 출력\r\n",
        "# 출력은 (row, column) 으로 표시되나, column이 없기 때문에 (row,) 형태로 표시\r\n",
        "print(predictions.shape)\r\n",
        "\r\n",
        "# predictions 변수에 값이 너무 많기 때문에, 상위 10개만 출력\r\n",
        "predictions[0:100]"
      ],
      "execution_count": null,
      "outputs": [
        {
          "output_type": "stream",
          "text": [
            "(418,)\n"
          ],
          "name": "stdout"
        },
        {
          "output_type": "execute_result",
          "data": {
            "text/plain": [
              "array([0, 0, 0, 0, 1, 0, 1, 0, 1, 0, 0, 0, 1, 0, 1, 1, 0, 0, 0, 1, 0, 0,\n",
              "       1, 0, 1, 0, 1, 0, 0, 0, 0, 0, 1, 0, 0, 0, 0, 0, 0, 0, 0, 0, 0, 1,\n",
              "       1, 0, 0, 0, 1, 1, 0, 0, 1, 1, 0, 0, 0, 0, 0, 1, 0, 0, 0, 1, 0, 1,\n",
              "       1, 0, 0, 1, 1, 0, 0, 0, 1, 0, 0, 1, 0, 1, 0, 0, 0, 0, 0, 0, 1, 0,\n",
              "       1, 0, 1, 0, 1, 0, 0, 0, 1, 0, 0, 0])"
            ]
          },
          "metadata": {
            "tags": []
          },
          "execution_count": 65
        }
      ]
    },
    {
      "cell_type": "code",
      "metadata": {
        "id": "BbqDdLopvOE5"
      },
      "source": [
        ""
      ],
      "execution_count": null,
      "outputs": []
    }
  ]
}