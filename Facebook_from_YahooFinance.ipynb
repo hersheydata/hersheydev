{
 "cells": [
  {
   "cell_type": "code",
   "execution_count": 1,
   "metadata": {},
   "outputs": [],
   "source": [
    "import yfinance as yf"
   ]
  },
  {
   "cell_type": "code",
   "execution_count": 16,
   "metadata": {},
   "outputs": [
    {
     "name": "stdout",
     "output_type": "stream",
     "text": [
      "{'zip': '94025', 'sector': 'Communication Services', 'fullTimeEmployees': 60654, 'longBusinessSummary': \"Facebook, Inc. develops products that enable people to connect and share with friends and family through mobile devices, personal computers, virtual reality headsets, and in-home devices worldwide. The company's products include Facebook that enables people to connect, share, discover, and communicate with each other on mobile devices and personal computers; Instagram, a community for sharing photos, videos, and private messages; Messenger, a messaging application for people to connect with friends, family, groups, and businesses across platforms and devices; and WhatsApp, a messaging application that is used by people and businesses to communicate in a private way. It also provides Facebook Reality Labs, an augmented and virtual reality product that help people feel connected, anytime, and anywhere. Facebook, Inc. was founded in 2004 and is headquartered in Menlo Park, California.\", 'city': 'Menlo Park', 'phone': '650-543-4800', 'state': 'CA', 'country': 'United States', 'companyOfficers': [], 'website': 'http://investor.fb.com', 'maxAge': 1, 'address1': '1601 Willow Road', 'industry': 'Internet Content & Information', 'previousClose': 343.18, 'regularMarketOpen': 342.59, 'twoHundredDayAverage': 291.6746, 'trailingAnnualDividendYield': None, 'payoutRatio': 0, 'volume24Hr': None, 'regularMarketDayHigh': 343.99, 'navPrice': None, 'averageDailyVolume10Day': 15605285, 'totalAssets': None, 'regularMarketPreviousClose': 343.18, 'fiftyDayAverage': 326.40558, 'trailingAnnualDividendRate': None, 'open': 342.59, 'toCurrency': None, 'averageVolume10days': 15605285, 'expireDate': None, 'yield': None, 'algorithm': None, 'dividendRate': None, 'exDividendDate': None, 'beta': 1.3, 'circulatingSupply': None, 'startDate': None, 'regularMarketDayLow': 339.68, 'priceHint': 2, 'currency': 'USD', 'trailingPE': 29.249422, 'regularMarketVolume': 14572261, 'lastMarket': None, 'maxSupply': None, 'openInterest': None, 'marketCap': 967941029888, 'volumeAllCurrencies': None, 'strikePrice': None, 'averageVolume': 17658439, 'priceToSalesTrailing12Months': 10.253721, 'dayLow': 339.68, 'ask': 341.36, 'ytdReturn': None, 'askSize': 900, 'volume': 14572261, 'fiftyTwoWeekHigh': 344.9, 'forwardPE': 22.458553, 'fromCurrency': None, 'fiveYearAvgDividendYield': None, 'fiftyTwoWeekLow': 207.11, 'bid': 341.17, 'tradeable': False, 'dividendYield': None, 'bidSize': 1100, 'dayHigh': 343.99, 'exchange': 'NMS', 'shortName': 'Facebook, Inc.', 'longName': 'Facebook, Inc.', 'exchangeTimezoneName': 'America/New_York', 'exchangeTimezoneShortName': 'EDT', 'isEsgPopulated': False, 'gmtOffSetMilliseconds': '-14400000', 'quoteType': 'EQUITY', 'symbol': 'FB', 'messageBoardId': 'finmb_20765463', 'market': 'us_market', 'annualHoldingsTurnover': None, 'enterpriseToRevenue': 9.702, 'beta3Year': None, 'profitMargins': 0.35743, 'enterpriseToEbitda': 20.176, '52WeekChange': 0.5471809, 'morningStarRiskRating': None, 'forwardEps': 15.2, 'revenueQuarterlyGrowth': None, 'sharesOutstanding': 2396049920, 'fundInceptionDate': None, 'annualReportExpenseRatio': None, 'bookValue': 47.046, 'sharesShort': 26453267, 'sharesPercentSharesOut': 0.0093, 'fundFamily': None, 'lastFiscalYearEnd': 1609372800, 'heldPercentInstitutions': 0.80336, 'netIncomeToCommon': 33741000704, 'trailingEps': 11.671, 'lastDividendValue': None, 'SandP52WeekChange': 0.4020188, 'priceToBook': 7.2560897, 'heldPercentInsiders': 0.00585, 'nextFiscalYearEnd': 1672444800, 'mostRecentQuarter': 1617148800, 'shortRatio': 1.81, 'sharesShortPreviousMonthDate': 1620950400, 'floatShares': 2384540861, 'enterpriseValue': 915864616960, 'threeYearAverageReturn': None, 'lastSplitDate': None, 'lastSplitFactor': None, 'legalType': None, 'lastDividendDate': None, 'morningStarOverallRating': None, 'earningsQuarterlyGrowth': 0.937, 'dateShortInterest': 1623715200, 'pegRatio': 0.97, 'lastCapGain': None, 'shortPercentOfFloat': 0.0111, 'sharesShortPriorMonth': 29150960, 'impliedSharesOutstanding': 2835460096, 'category': None, 'fiveYearAverageReturn': None, 'regularMarketPrice': 341.37, 'logo_url': 'https://logo.clearbit.com/investor.fb.com'}\n"
     ]
    }
   ],
   "source": [
    "GetFacebookInformation = yf.Ticker(\"FB\")\n",
    "print(GetFacebookInformation.info)"
   ]
  },
  {
   "cell_type": "code",
   "execution_count": 19,
   "metadata": {},
   "outputs": [
    {
     "name": "stdout",
     "output_type": "stream",
     "text": [
      "Company Sector :  Communication Services\n",
      "Company Beta :  1.3\n",
      "Employees :  60654\n"
     ]
    }
   ],
   "source": [
    "print(\"Company Sector : \", GetFacebookInformation.info['sector'])\n",
    "print(\"Company Beta : \", GetFacebookInformation.info['beta'])\n",
    "print(\"Employees : \", GetFacebookInformation.info['fullTimeEmployees'])"
   ]
  },
  {
   "cell_type": "code",
   "execution_count": 75,
   "metadata": {},
   "outputs": [
    {
     "name": "stdout",
     "output_type": "stream",
     "text": [
      "zip : 94025\n",
      "sector : Communication Services\n",
      "fullTimeEmployees : 60654\n",
      "longBusinessSummary : Facebook, Inc. develops products that enable people to connect and share with friends and family through mobile devices, personal computers, virtual reality headsets, and in-home devices worldwide. The company's products include Facebook that enables people to connect, share, discover, and communicate with each other on mobile devices and personal computers; Instagram, a community for sharing photos, videos, and private messages; Messenger, a messaging application for people to connect with friends, family, groups, and businesses across platforms and devices; and WhatsApp, a messaging application that is used by people and businesses to communicate in a private way. It also provides Facebook Reality Labs, an augmented and virtual reality product that help people feel connected, anytime, and anywhere. Facebook, Inc. was founded in 2004 and is headquartered in Menlo Park, California.\n",
      "city : Menlo Park\n",
      "phone : 650-543-4800\n",
      "state : CA\n",
      "country : United States\n",
      "companyOfficers : []\n",
      "website : http://investor.fb.com\n",
      "maxAge : 1\n",
      "address1 : 1601 Willow Road\n",
      "industry : Internet Content & Information\n",
      "previousClose : 343.18\n",
      "regularMarketOpen : 342.59\n",
      "twoHundredDayAverage : 291.6746\n",
      "trailingAnnualDividendYield : None\n",
      "payoutRatio : 0\n",
      "volume24Hr : None\n",
      "regularMarketDayHigh : 343.99\n",
      "navPrice : None\n",
      "averageDailyVolume10Day : 15605285\n",
      "totalAssets : None\n",
      "regularMarketPreviousClose : 343.18\n",
      "fiftyDayAverage : 326.40558\n",
      "trailingAnnualDividendRate : None\n",
      "open : 342.59\n",
      "toCurrency : None\n",
      "averageVolume10days : 15605285\n",
      "expireDate : None\n",
      "yield : None\n",
      "algorithm : None\n",
      "dividendRate : None\n",
      "exDividendDate : None\n",
      "beta : 1.3\n",
      "circulatingSupply : None\n",
      "startDate : None\n",
      "regularMarketDayLow : 339.68\n",
      "priceHint : 2\n",
      "currency : USD\n",
      "trailingPE : 29.249422\n",
      "regularMarketVolume : 14572261\n",
      "lastMarket : None\n",
      "maxSupply : None\n",
      "openInterest : None\n",
      "marketCap : 967941029888\n",
      "volumeAllCurrencies : None\n",
      "strikePrice : None\n",
      "averageVolume : 17658439\n",
      "priceToSalesTrailing12Months : 10.253721\n",
      "dayLow : 339.68\n",
      "ask : 341.36\n",
      "ytdReturn : None\n",
      "askSize : 900\n",
      "volume : 14572261\n",
      "fiftyTwoWeekHigh : 344.9\n",
      "forwardPE : 22.458553\n",
      "fromCurrency : None\n",
      "fiveYearAvgDividendYield : None\n",
      "fiftyTwoWeekLow : 207.11\n",
      "bid : 341.17\n",
      "tradeable : False\n",
      "dividendYield : None\n",
      "bidSize : 1100\n",
      "dayHigh : 343.99\n",
      "exchange : NMS\n",
      "shortName : Facebook, Inc.\n",
      "longName : Facebook, Inc.\n",
      "exchangeTimezoneName : America/New_York\n",
      "exchangeTimezoneShortName : EDT\n",
      "isEsgPopulated : False\n",
      "gmtOffSetMilliseconds : -14400000\n",
      "quoteType : EQUITY\n",
      "symbol : FB\n",
      "messageBoardId : finmb_20765463\n",
      "market : us_market\n",
      "annualHoldingsTurnover : None\n",
      "enterpriseToRevenue : 9.702\n",
      "beta3Year : None\n",
      "profitMargins : 0.35743\n",
      "enterpriseToEbitda : 20.176\n",
      "52WeekChange : 0.5471809\n",
      "morningStarRiskRating : None\n",
      "forwardEps : 15.2\n",
      "revenueQuarterlyGrowth : None\n",
      "sharesOutstanding : 2396049920\n",
      "fundInceptionDate : None\n",
      "annualReportExpenseRatio : None\n",
      "bookValue : 47.046\n",
      "sharesShort : 26453267\n",
      "sharesPercentSharesOut : 0.0093\n",
      "fundFamily : None\n",
      "lastFiscalYearEnd : 1609372800\n",
      "heldPercentInstitutions : 0.80336\n",
      "netIncomeToCommon : 33741000704\n",
      "trailingEps : 11.671\n",
      "lastDividendValue : None\n",
      "SandP52WeekChange : 0.4020188\n",
      "priceToBook : 7.2560897\n",
      "heldPercentInsiders : 0.00585\n",
      "nextFiscalYearEnd : 1672444800\n",
      "mostRecentQuarter : 1617148800\n",
      "shortRatio : 1.81\n",
      "sharesShortPreviousMonthDate : 1620950400\n",
      "floatShares : 2384540861\n",
      "enterpriseValue : 915864616960\n",
      "threeYearAverageReturn : None\n",
      "lastSplitDate : None\n",
      "lastSplitFactor : None\n",
      "legalType : None\n",
      "lastDividendDate : None\n",
      "morningStarOverallRating : None\n",
      "earningsQuarterlyGrowth : 0.937\n",
      "dateShortInterest : 1623715200\n",
      "pegRatio : 0.97\n",
      "lastCapGain : None\n",
      "shortPercentOfFloat : 0.0111\n",
      "sharesShortPriorMonth : 29150960\n",
      "impliedSharesOutstanding : 2835460096\n",
      "category : None\n",
      "fiveYearAverageReturn : None\n",
      "regularMarketPrice : 341.37\n",
      "logo_url : https://logo.clearbit.com/investor.fb.com\n"
     ]
    }
   ],
   "source": [
    "for key, value in GetFacebookInformation.info.items():\n",
    "    print(key, \":\", value)"
   ]
  },
  {
   "cell_type": "code",
   "execution_count": 25,
   "metadata": {},
   "outputs": [
    {
     "name": "stdout",
     "output_type": "stream",
     "text": [
      "                  Open        High         Low       Close     Volume  \\\n",
      "Date                                                                    \n",
      "2012-05-18   42.049999   45.000000   38.000000   38.230000  573576400   \n",
      "2012-05-21   36.529999   36.660000   33.000000   34.029999  168192700   \n",
      "2012-05-22   32.610001   33.590000   30.940001   31.000000  101786600   \n",
      "2012-05-23   31.370001   32.500000   31.360001   32.000000   73600000   \n",
      "2012-05-24   32.950001   33.209999   31.770000   33.029999   50237200   \n",
      "2012-05-25   32.900002   32.950001   31.110001   31.910000   37149800   \n",
      "2012-05-29   31.480000   31.690001   28.650000   28.840000   78063400   \n",
      "2012-05-30   28.700001   29.549999   27.860001   28.190001   57267900   \n",
      "2012-05-31   28.549999   29.670000   26.830000   29.600000  111639200   \n",
      "2012-06-01   28.889999   29.150000   27.389999   27.719999   41855500   \n",
      "2012-06-04   27.200001   27.650000   26.440001   26.900000   35230300   \n",
      "2012-06-05   26.700001   27.760000   25.750000   25.870001   42473400   \n",
      "2012-06-06   26.070000   27.170000   25.520000   26.809999   61489200   \n",
      "2012-06-07   27.000000   27.350000   26.150000   26.309999   26159500   \n",
      "2012-06-08   26.549999   27.760000   26.440001   27.100000   38034000   \n",
      "2012-06-11   27.180000   28.070000   26.840000   27.010000   28219600   \n",
      "2012-06-12   27.480000   27.770000   26.959999   27.400000   15816800   \n",
      "2012-06-13   27.660000   28.100000   27.100000   27.270000   17102800   \n",
      "2012-06-14   27.650000   28.320000   27.379999   28.290001   16855000   \n",
      "2012-06-15   28.510000   30.100000   28.350000   30.010000   43563800   \n",
      "2012-06-18   29.959999   32.080002   29.410000   31.410000   42978900   \n",
      "2012-06-19   31.540001   32.180000   30.700001   31.910000   30849000   \n",
      "2012-06-20   31.920000   31.930000   31.150000   31.600000   15553600   \n",
      "2012-06-21   31.670000   32.500000   31.510000   31.840000   21875300   \n",
      "2012-06-22   32.410000   33.450001   32.060001   33.049999   74834000   \n",
      "2012-06-25   32.860001   33.020000   31.549999   32.060001   24352900   \n",
      "2012-06-26   32.689999   33.439999   32.500000   33.099998   24858700   \n",
      "2012-06-27   32.459999   32.900002   31.900000   32.230000   28568000   \n",
      "2012-06-28   31.959999   32.189999   30.900000   31.360001   17713300   \n",
      "2012-06-29   31.920000   31.990000   30.760000   31.100000   19526900   \n",
      "...                ...         ...         ...         ...        ...   \n",
      "2021-05-14  309.540009  316.850006  309.079987  315.940002   19245700   \n",
      "2021-05-17  313.549988  315.679993  311.579987  315.459991   15401300   \n",
      "2021-05-18  315.589996  316.500000  309.809998  309.959991   14522400   \n",
      "2021-05-19  304.190002  314.660004  303.570007  313.589996   19106200   \n",
      "2021-05-20  313.579987  319.250000  313.160004  318.609985   17320200   \n",
      "2021-05-21  319.290009  319.929993  315.809998  316.230011   13600900   \n",
      "2021-05-24  318.209991  325.950012  318.029999  324.630005   16445400   \n",
      "2021-05-25  327.079987  329.179993  324.799988  327.790009   16437000   \n",
      "2021-05-26  328.350006  329.829987  325.820007  327.660004    9686900   \n",
      "2021-05-27  328.000000  333.779999  326.760010  332.750000   20477700   \n",
      "2021-05-28  331.000000  332.869995  328.329987  328.730011   12037400   \n",
      "2021-06-01  330.149994  331.420013  326.640015  329.130005   11765900   \n",
      "2021-06-02  330.380005  331.869995  327.119995  329.149994   11654300   \n",
      "2021-06-03  325.779999  327.380005  323.480011  326.040009   12610800   \n",
      "2021-06-04  325.899994  332.459991  325.179993  330.350006   13289400   \n",
      "2021-06-07  329.480011  337.690002  328.929993  336.579987   20136700   \n",
      "2021-06-08  336.700012  338.299988  332.239990  333.679993   14580500   \n",
      "2021-06-09  335.739990  336.799988  330.000000  330.250000   13727900   \n",
      "2021-06-10  330.790009  333.940002  328.549988  332.459991   13240200   \n",
      "2021-06-11  332.579987  332.829987  328.929993  331.260010   13587900   \n",
      "2021-06-14  331.899994  336.820007  329.809998  336.769989   12250800   \n",
      "2021-06-15  336.989990  339.920013  335.029999  336.750000   15795200   \n",
      "2021-06-16  336.700012  337.549988  328.720001  331.079987   17232200   \n",
      "2021-06-17  330.489990  337.980011  330.149994  336.510010   17794100   \n",
      "2021-06-18  334.529999  336.149994  329.000000  329.660004   23025100   \n",
      "2021-06-21  331.089996  332.920013  327.649994  332.290009   11337500   \n",
      "2021-06-22  332.690002  339.920013  332.600006  339.029999   15345300   \n",
      "2021-06-23  339.350006  343.420013  338.200012  340.589996   14817800   \n",
      "2021-06-24  341.850006  344.899994  341.790009  343.179993   12329100   \n",
      "2021-06-25  342.589996  344.119995  339.679993  341.369995   14588100   \n",
      "\n",
      "            Dividends  Stock Splits  \n",
      "Date                                 \n",
      "2012-05-18          0             0  \n",
      "2012-05-21          0             0  \n",
      "2012-05-22          0             0  \n",
      "2012-05-23          0             0  \n",
      "2012-05-24          0             0  \n",
      "2012-05-25          0             0  \n",
      "2012-05-29          0             0  \n",
      "2012-05-30          0             0  \n",
      "2012-05-31          0             0  \n",
      "2012-06-01          0             0  \n",
      "2012-06-04          0             0  \n",
      "2012-06-05          0             0  \n",
      "2012-06-06          0             0  \n",
      "2012-06-07          0             0  \n",
      "2012-06-08          0             0  \n",
      "2012-06-11          0             0  \n",
      "2012-06-12          0             0  \n",
      "2012-06-13          0             0  \n",
      "2012-06-14          0             0  \n",
      "2012-06-15          0             0  \n",
      "2012-06-18          0             0  \n",
      "2012-06-19          0             0  \n",
      "2012-06-20          0             0  \n",
      "2012-06-21          0             0  \n",
      "2012-06-22          0             0  \n",
      "2012-06-25          0             0  \n",
      "2012-06-26          0             0  \n",
      "2012-06-27          0             0  \n",
      "2012-06-28          0             0  \n",
      "2012-06-29          0             0  \n",
      "...               ...           ...  \n",
      "2021-05-14          0             0  \n",
      "2021-05-17          0             0  \n",
      "2021-05-18          0             0  \n",
      "2021-05-19          0             0  \n",
      "2021-05-20          0             0  \n",
      "2021-05-21          0             0  \n",
      "2021-05-24          0             0  \n",
      "2021-05-25          0             0  \n",
      "2021-05-26          0             0  \n",
      "2021-05-27          0             0  \n",
      "2021-05-28          0             0  \n",
      "2021-06-01          0             0  \n",
      "2021-06-02          0             0  \n",
      "2021-06-03          0             0  \n",
      "2021-06-04          0             0  \n",
      "2021-06-07          0             0  \n",
      "2021-06-08          0             0  \n",
      "2021-06-09          0             0  \n",
      "2021-06-10          0             0  \n",
      "2021-06-11          0             0  \n",
      "2021-06-14          0             0  \n",
      "2021-06-15          0             0  \n",
      "2021-06-16          0             0  \n",
      "2021-06-17          0             0  \n",
      "2021-06-18          0             0  \n",
      "2021-06-21          0             0  \n",
      "2021-06-22          0             0  \n",
      "2021-06-23          0             0  \n",
      "2021-06-24          0             0  \n",
      "2021-06-25          0             0  \n",
      "\n",
      "[2291 rows x 7 columns]\n"
     ]
    }
   ],
   "source": [
    "print(GetFacebookInformation.history(period=\"max\"))"
   ]
  },
  {
   "cell_type": "code",
   "execution_count": 73,
   "metadata": {},
   "outputs": [
    {
     "data": {
      "text/html": [
       "<div>\n",
       "<style scoped>\n",
       "    .dataframe tbody tr th:only-of-type {\n",
       "        vertical-align: middle;\n",
       "    }\n",
       "\n",
       "    .dataframe tbody tr th {\n",
       "        vertical-align: top;\n",
       "    }\n",
       "\n",
       "    .dataframe thead th {\n",
       "        text-align: right;\n",
       "    }\n",
       "</style>\n",
       "<table border=\"1\" class=\"dataframe\">\n",
       "  <thead>\n",
       "    <tr style=\"text-align: right;\">\n",
       "      <th></th>\n",
       "      <th>Close</th>\n",
       "    </tr>\n",
       "    <tr>\n",
       "      <th>Date</th>\n",
       "      <th></th>\n",
       "    </tr>\n",
       "  </thead>\n",
       "  <tbody>\n",
       "    <tr>\n",
       "      <th>2012-05-18</th>\n",
       "      <td>38.230000</td>\n",
       "    </tr>\n",
       "    <tr>\n",
       "      <th>2012-05-21</th>\n",
       "      <td>34.029999</td>\n",
       "    </tr>\n",
       "    <tr>\n",
       "      <th>2012-05-22</th>\n",
       "      <td>31.000000</td>\n",
       "    </tr>\n",
       "    <tr>\n",
       "      <th>2012-05-23</th>\n",
       "      <td>32.000000</td>\n",
       "    </tr>\n",
       "    <tr>\n",
       "      <th>2012-05-24</th>\n",
       "      <td>33.029999</td>\n",
       "    </tr>\n",
       "  </tbody>\n",
       "</table>\n",
       "</div>"
      ],
      "text/plain": [
       "                Close\n",
       "Date                 \n",
       "2012-05-18  38.230000\n",
       "2012-05-21  34.029999\n",
       "2012-05-22  31.000000\n",
       "2012-05-23  32.000000\n",
       "2012-05-24  33.029999"
      ]
     },
     "execution_count": 73,
     "metadata": {},
     "output_type": "execute_result"
    }
   ],
   "source": [
    "df = GetFacebookInformation.history(period=\"max\")\n",
    "df.head()\n",
    "\n",
    "df_price = df[[\"Close\"]]\n",
    "df_price = pd.DataFrame(df_price)\n",
    "df_price.head()"
   ]
  },
  {
   "cell_type": "code",
   "execution_count": 58,
   "metadata": {},
   "outputs": [
    {
     "data": {
      "text/html": [
       "<div>\n",
       "<style scoped>\n",
       "    .dataframe tbody tr th:only-of-type {\n",
       "        vertical-align: middle;\n",
       "    }\n",
       "\n",
       "    .dataframe tbody tr th {\n",
       "        vertical-align: top;\n",
       "    }\n",
       "\n",
       "    .dataframe thead th {\n",
       "        text-align: right;\n",
       "    }\n",
       "</style>\n",
       "<table border=\"1\" class=\"dataframe\">\n",
       "  <thead>\n",
       "    <tr style=\"text-align: right;\">\n",
       "      <th></th>\n",
       "      <th>Close</th>\n",
       "    </tr>\n",
       "  </thead>\n",
       "  <tbody>\n",
       "    <tr>\n",
       "      <th>count</th>\n",
       "      <td>122.000000</td>\n",
       "    </tr>\n",
       "    <tr>\n",
       "      <th>mean</th>\n",
       "      <td>293.881147</td>\n",
       "    </tr>\n",
       "    <tr>\n",
       "      <th>std</th>\n",
       "      <td>27.800783</td>\n",
       "    </tr>\n",
       "    <tr>\n",
       "      <th>min</th>\n",
       "      <td>245.639999</td>\n",
       "    </tr>\n",
       "    <tr>\n",
       "      <th>25%</th>\n",
       "      <td>268.175003</td>\n",
       "    </tr>\n",
       "    <tr>\n",
       "      <th>50%</th>\n",
       "      <td>294.035004</td>\n",
       "    </tr>\n",
       "    <tr>\n",
       "      <th>75%</th>\n",
       "      <td>317.827492</td>\n",
       "    </tr>\n",
       "    <tr>\n",
       "      <th>max</th>\n",
       "      <td>343.179993</td>\n",
       "    </tr>\n",
       "  </tbody>\n",
       "</table>\n",
       "</div>"
      ],
      "text/plain": [
       "            Close\n",
       "count  122.000000\n",
       "mean   293.881147\n",
       "std     27.800783\n",
       "min    245.639999\n",
       "25%    268.175003\n",
       "50%    294.035004\n",
       "75%    317.827492\n",
       "max    343.179993"
      ]
     },
     "execution_count": 58,
     "metadata": {},
     "output_type": "execute_result"
    }
   ],
   "source": [
    "import datetime as dt\n",
    "start = dt.datetime(2021,1,1)\n",
    "end = dt.datetime(2021,6,30)\n",
    "df = pd.DataFrame(GetFacebookInformation.history(start=start,\n",
    "                                     end=end)[\"Close\"])\n",
    "df.describe()"
   ]
  },
  {
   "cell_type": "code",
   "execution_count": 67,
   "metadata": {},
   "outputs": [
    {
     "data": {
      "image/png": "[encoded data removed]",
      "text/plain": [
       "<Figure size 432x288 with 1 Axes>"
      ]
     },
     "metadata": {
      "needs_background": "light"
     },
     "output_type": "display_data"
    }
   ],
   "source": [
    "import matplotlib as plt\n",
    "from matplotlib import pyplot\n",
    "timeseries = df\n",
    "df.plot()\n",
    "pyplot.show()"
   ]
  },
  {
   "cell_type": "code",
   "execution_count": 66,
   "metadata": {},
   "outputs": [
    {
     "data": {
      "image/png": "[encoded data removed]",
      "text/plain": [
       "<Figure size 432x288 with 1 Axes>"
      ]
     },
     "metadata": {
      "needs_background": "light"
     },
     "output_type": "display_data"
    }
   ],
   "source": [
    "df.hist()\n",
    "pyplot.show()"
   ]
  },
  {
   "cell_type": "code",
   "execution_count": 90,
   "metadata": {},
   "outputs": [
    {
     "data": {
      "text/plain": [
       "29.249422"
      ]
     },
     "execution_count": 90,
     "metadata": {},
     "output_type": "execute_result"
    }
   ],
   "source": [
    "pe = GetFacebookInformation.info[\"trailingPE\"]\n",
    "pe"
   ]
  },
  {
   "cell_type": "code",
   "execution_count": null,
   "metadata": {},
   "outputs": [],
   "source": []
  }
 ],
 "metadata": {
  "kernelspec": {
   "display_name": "Python 3",
   "language": "python",
   "name": "python3"
  },
  "language_info": {
   "codemirror_mode": {
    "name": "ipython",
    "version": 3
   },
   "file_extension": ".py",
   "mimetype": "text/x-python",
   "name": "python",
   "nbconvert_exporter": "python",
   "pygments_lexer": "ipython3",
   "version": "3.7.2"
  }
 },
 "nbformat": 4,
 "nbformat_minor": 2
}
