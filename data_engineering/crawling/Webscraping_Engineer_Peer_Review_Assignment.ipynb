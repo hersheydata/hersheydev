{
 "cells": [
  {
   "cell_type": "markdown",
   "metadata": {},
   "source": [
    "<center>\n",
    "    <img src=\"https://gitlab.com/ibm/skills-network/courses/placeholder101/-/raw/master/labs/module%201/images/IDSNlogo.png\" width=\"300\" alt=\"cognitiveclass.ai logo\"  />\n",
    "</center>\n"
   ]
  },
  {
   "cell_type": "markdown",
   "metadata": {},
   "source": [
    "# Peer Review Assignment - Data Engineer - Webscraping\n"
   ]
  },
  {
   "cell_type": "markdown",
   "metadata": {},
   "source": [
    "Estimated time needed: **20** minutes\n"
   ]
  },
  {
   "cell_type": "markdown",
   "metadata": {},
   "source": [
    "## Objectives\n",
    "\n",
    "In this part you will:\n",
    "\n",
    "*   Use webscraping to get bank information\n"
   ]
  },
  {
   "cell_type": "markdown",
   "metadata": {},
   "source": [
    "For this lab, we are going to be using Python and several Python libraries. Some of these libraries might be installed in your lab environment or in SN Labs. Others may need to be installed by you. The cells below will install these libraries when executed.\n"
   ]
  },
  {
   "cell_type": "code",
   "execution_count": 2,
   "metadata": {},
   "outputs": [
    {
     "name": "stdout",
     "output_type": "stream",
     "text": [
      "Collecting bs4\n",
      "  Downloading bs4-0.0.1.tar.gz (1.1 kB)\n",
      "  Preparing metadata (setup.py) ... \u001b[?25ldone\n",
      "\u001b[?25hCollecting beautifulsoup4\n",
      "  Downloading beautifulsoup4-4.10.0-py3-none-any.whl (97 kB)\n",
      "     |████████████████████████████████| 97 kB 8.8 MB/s             \n",
      "\u001b[?25hCollecting soupsieve>1.2\n",
      "  Downloading soupsieve-2.3.1-py3-none-any.whl (37 kB)\n",
      "Building wheels for collected packages: bs4\n",
      "  Building wheel for bs4 (setup.py) ... \u001b[?25ldone\n",
      "\u001b[?25h  Created wheel for bs4: filename=bs4-0.0.1-py3-none-any.whl size=1271 sha256=2979ac073c288e3398f1f8bad6893a8d8e4f8a3540e98f0e5df63f631f7a1f4d\n",
      "  Stored in directory: /home/jupyterlab/.cache/pip/wheels/0a/9e/ba/20e5bbc1afef3a491f0b3bb74d508f99403aabe76eda2167ca\n",
      "Successfully built bs4\n",
      "Installing collected packages: soupsieve, beautifulsoup4, bs4\n",
      "Successfully installed beautifulsoup4-4.10.0 bs4-0.0.1 soupsieve-2.3.1\n"
     ]
    }
   ],
   "source": [
    "#!pip install pandas\n",
    "!pip install bs4\n",
    "#!pip install requests"
   ]
  },
  {
   "cell_type": "markdown",
   "metadata": {},
   "source": [
    "## Imports\n",
    "\n",
    "Import any additional libraries you may need here.\n"
   ]
  },
  {
   "cell_type": "code",
   "execution_count": 3,
   "metadata": {},
   "outputs": [],
   "source": [
    "from bs4 import BeautifulSoup as bs\n",
    "import requests\n",
    "import pandas as pd"
   ]
  },
  {
   "cell_type": "markdown",
   "metadata": {},
   "source": [
    "## Extract Data Using Web Scraping\n"
   ]
  },
  {
   "cell_type": "markdown",
   "metadata": {},
   "source": [
    "The wikipedia webpage [https://en.wikipedia.org/wiki/List_of_largest_banks](https://en.wikipedia.org/wiki/List_of_largest_banks?utm_medium=Exinfluencer&utm_source=Exinfluencer&utm_content=000026UJ&utm_term=10006555&utm_id=NA-SkillsNetwork-Channel-SkillsNetworkCoursesIBMDeveloperSkillsNetworkPY0221ENSkillsNetwork23455645-2021-01-01) provides information about largest banks in the world by various parameters. Scrape the data from the table 'By market capitalization' and store it in a JSON file.\n"
   ]
  },
  {
   "cell_type": "markdown",
   "metadata": {},
   "source": [
    "### Webpage Contents\n",
    "\n",
    "Gather the contents of the webpage in text format using the `requests` library and assign it to the variable <code>html_data</code>\n"
   ]
  },
  {
   "cell_type": "code",
   "execution_count": 122,
   "metadata": {},
   "outputs": [],
   "source": [
    "#Write your code here\n",
    "html_data = requests.get(\"https://en.wikipedia.org/wiki/List_of_largest_banks\").text"
   ]
  },
  {
   "cell_type": "markdown",
   "metadata": {},
   "source": [
    "<b>Question 1</b> Print out the output of the following line, and remember it as it will be a quiz question:\n"
   ]
  },
  {
   "cell_type": "code",
   "execution_count": 123,
   "metadata": {},
   "outputs": [
    {
     "data": {
      "text/plain": [
       "'List of largest banks -'"
      ]
     },
     "execution_count": 123,
     "metadata": {},
     "output_type": "execute_result"
    }
   ],
   "source": [
    "html_data[101:124]"
   ]
  },
  {
   "cell_type": "markdown",
   "metadata": {},
   "source": [
    "### Scraping the Data\n",
    "\n",
    "<b> Question 2</b> Using the contents and `beautiful soup` load the data from the `By market capitalization` table into a `pandas` dataframe. The dataframe should have the country `Name` and `Market Cap (US$ Billion)` as column names.  Display the first five rows using head.\n"
   ]
  },
  {
   "cell_type": "markdown",
   "metadata": {},
   "source": [
    "Using BeautifulSoup parse the contents of the webpage.\n"
   ]
  },
  {
   "cell_type": "code",
   "execution_count": 124,
   "metadata": {},
   "outputs": [],
   "source": [
    "#Replace the dots below\n",
    "soup = bs(html_data, \"html.parser\")"
   ]
  },
  {
   "cell_type": "markdown",
   "metadata": {},
   "source": [
    "Load the data from the `By market capitalization` table into a pandas dataframe. The dataframe should have the country `Name` and `Market Cap (US$ Billion)` as column names. Using the empty dataframe `data` and the given loop extract the necessary data from each row and append it to the empty dataframe.\n"
   ]
  },
  {
   "cell_type": "code",
   "execution_count": 199,
   "metadata": {},
   "outputs": [],
   "source": [
    "data = pd.DataFrame(columns=[\"Name\", \"Market Cap (US$ Billion)\"])\n",
    "\n",
    "for row in soup.find_all('tbody')[3].find_all('tr'):\n",
    "    col = row.find_all('td')\n",
    "    for i in col:\n",
    "        name = col[1].get_text()\n",
    "        cap = col[2].get_text()\n",
    "        data = data.append({\"Name\":name, \"Market Cap (US$ Billion)\":cap}, ignore_index =True)\n",
    "        \n",
    "data = data[3::3].reset_index()\n",
    "data = data.drop([\"index\"], axis=1)"
   ]
  },
  {
   "cell_type": "markdown",
   "metadata": {},
   "source": [
    "**Question 3** Display the first five rows using the `head` function."
   ]
  },
  {
   "cell_type": "code",
   "execution_count": 200,
   "metadata": {},
   "outputs": [
    {
     "data": {
      "text/html": [
       "<div>\n",
       "<style scoped>\n",
       "    .dataframe tbody tr th:only-of-type {\n",
       "        vertical-align: middle;\n",
       "    }\n",
       "\n",
       "    .dataframe tbody tr th {\n",
       "        vertical-align: top;\n",
       "    }\n",
       "\n",
       "    .dataframe thead th {\n",
       "        text-align: right;\n",
       "    }\n",
       "</style>\n",
       "<table border=\"1\" class=\"dataframe\">\n",
       "  <thead>\n",
       "    <tr style=\"text-align: right;\">\n",
       "      <th></th>\n",
       "      <th>Name</th>\n",
       "      <th>Market Cap (US$ Billion)</th>\n",
       "    </tr>\n",
       "  </thead>\n",
       "  <tbody>\n",
       "    <tr>\n",
       "      <th>0</th>\n",
       "      <td>Bank of America\\n</td>\n",
       "      <td>379.250\\n</td>\n",
       "    </tr>\n",
       "    <tr>\n",
       "      <th>1</th>\n",
       "      <td>Industrial and Commercial Bank of China\\n</td>\n",
       "      <td>246.500\\n</td>\n",
       "    </tr>\n",
       "    <tr>\n",
       "      <th>2</th>\n",
       "      <td>Wells Fargo\\n</td>\n",
       "      <td>308.013\\n</td>\n",
       "    </tr>\n",
       "    <tr>\n",
       "      <th>3</th>\n",
       "      <td>China Construction Bank\\n</td>\n",
       "      <td>257.399\\n</td>\n",
       "    </tr>\n",
       "    <tr>\n",
       "      <th>4</th>\n",
       "      <td>HSBC Holdings PLC\\n</td>\n",
       "      <td>219.270\\n</td>\n",
       "    </tr>\n",
       "  </tbody>\n",
       "</table>\n",
       "</div>"
      ],
      "text/plain": [
       "                                         Name Market Cap (US$ Billion)\n",
       "0                           Bank of America\\n                379.250\\n\n",
       "1   Industrial and Commercial Bank of China\\n                246.500\\n\n",
       "2                               Wells Fargo\\n                308.013\\n\n",
       "3                   China Construction Bank\\n                257.399\\n\n",
       "4                         HSBC Holdings PLC\\n                219.270\\n"
      ]
     },
     "execution_count": 200,
     "metadata": {},
     "output_type": "execute_result"
    }
   ],
   "source": [
    "#Write your code here\n",
    "data.head()"
   ]
  },
  {
   "cell_type": "markdown",
   "metadata": {},
   "source": [
    "### Loading the Data\n",
    "\n",
    "Usually you will Load the `pandas` dataframe created above into a JSON named `bank_market_cap.json` using the `to_json()` function, but this time the data will be sent to another team who will split the data file into two files and inspect it. If you save the data it will interfere with the next part of the assignment.\n"
   ]
  },
  {
   "cell_type": "code",
   "execution_count": 207,
   "metadata": {},
   "outputs": [
    {
     "data": {
      "text/plain": [
       "'[{\"Name\":\" Bank of America\\\\n\",\"Market Cap (US$ Billion)\":\"379.250\\\\n\"},{\"Name\":\" Industrial and Commercial Bank of China\\\\n\",\"Market Cap (US$ Billion)\":\"246.500\\\\n\"},{\"Name\":\" Wells Fargo\\\\n\",\"Market Cap (US$ Billion)\":\"308.013\\\\n\"},{\"Name\":\" China Construction Bank\\\\n\",\"Market Cap (US$ Billion)\":\"257.399\\\\n\"},{\"Name\":\" HSBC Holdings PLC\\\\n\",\"Market Cap (US$ Billion)\":\"219.270\\\\n\"},{\"Name\":\" Agricultural Bank of China\\\\n\",\"Market Cap (US$ Billion)\":\"203.244\\\\n\"},{\"Name\":\" Citigroup Inc.\\\\n\",\"Market Cap (US$ Billion)\":\"203.165\\\\n\"},{\"Name\":\" Bank of China\\\\n\",\"Market Cap (US$ Billion)\":\"181.469\\\\n\"},{\"Name\":\" HDFC Bank\\\\n\",\"Market Cap (US$ Billion)\":\"134.4\\\\n\"},{\"Name\":\" Goldman Sachs\\\\n\",\"Market Cap (US$ Billion)\":\"131.680\\\\n\"},{\"Name\":\" China Merchants Bank\\\\n\",\"Market Cap (US$ Billion)\":\"122.616\\\\n\"},{\"Name\":\" Royal Bank of Canada\\\\n\",\"Market Cap (US$ Billion)\":\"122.564\\\\n\"},{\"Name\":\" Banco Santander\\\\n\",\"Market Cap (US$ Billion)\":\"115.696\\\\n\"},{\"Name\":\" Commonwealth Bank\\\\n\",\"Market Cap (US$ Billion)\":\"112.227\\\\n\"},{\"Name\":\" Mitsubishi UFJ Financial Group\\\\n\",\"Market Cap (US$ Billion)\":\"111.660\\\\n\"},{\"Name\":\" Toronto-Dominion Bank\\\\n\",\"Market Cap (US$ Billion)\":\"108.449\\\\n\"},{\"Name\":\" Sberbank of Russia\\\\n\",\"Market Cap (US$ Billion)\":\"99.840\\\\n\"},{\"Name\":\" Morgan Stanley\\\\n\",\"Market Cap (US$ Billion)\":\"99.651\\\\n\"},{\"Name\":\" U.S. Bancorp\\\\n\",\"Market Cap (US$ Billion)\":\"94.558\\\\n\"},{\"Name\":\" BNP Paribas\\\\n\",\"Market Cap (US$ Billion)\":\"93.329\\\\n\"},{\"Name\":\" Ita\\\\u00fa Unibanco\\\\n\",\"Market Cap (US$ Billion)\":\"86.203\\\\n\"},{\"Name\":\" Westpac\\\\n\",\"Market Cap (US$ Billion)\":\"84.560\\\\n\"},{\"Name\":\" Scotiabank\\\\n\",\"Market Cap (US$ Billion)\":\"78.947\\\\n\"},{\"Name\":\" ING Group\\\\n\",\"Market Cap (US$ Billion)\":\"78.920\\\\n\"},{\"Name\":\" UBS\\\\n\",\"Market Cap (US$ Billion)\":\"75.482\\\\n\"},{\"Name\":\" Charles Schwab\\\\n\",\"Market Cap (US$ Billion)\":\"74.255\\\\n\"},{\"Name\":\" PNC Financial Services\\\\n\",\"Market Cap (US$ Billion)\":\"72.246\\\\n\"},{\"Name\":\" Lloyds Banking Group\\\\n\",\"Market Cap (US$ Billion)\":\"71.253\\\\n\"},{\"Name\":\" Sumitomo Mitsui Financial Group\\\\n\",\"Market Cap (US$ Billion)\":\"67.328\\\\n\"},{\"Name\":\" Bank of Communications\\\\n\",\"Market Cap (US$ Billion)\":\"67.078\\\\n\"},{\"Name\":\"  Australia and New Zealand Banking Group\\\\n\",\"Market Cap (US$ Billion)\":\"66.448\\\\n\"},{\"Name\":\" Banco Bradesco\\\\n\",\"Market Cap (US$ Billion)\":\"64.816\\\\n\"},{\"Name\":\" National Australia Bank\\\\n\",\"Market Cap (US$ Billion)\":\"63.794\\\\n\"},{\"Name\":\" Intesa Sanpaolo\\\\n\",\"Market Cap (US$ Billion)\":\"62.032\\\\n\"},{\"Name\":\" Banco Bilbao Vizcaya Argentaria\\\\n\",\"Market Cap (US$ Billion)\":\"60.678\\\\n\"},{\"Name\":\" Japan Post Bank\\\\n\",\"Market Cap (US$ Billion)\":\"60.525\\\\n\"},{\"Name\":\" The Bank of New York Mellon\\\\n\",\"Market Cap (US$ Billion)\":\"59.823\\\\n\"},{\"Name\":\" Shanghai Pudong Development Bank\\\\n\",\"Market Cap (US$ Billion)\":\"58.796\\\\n\"},{\"Name\":\" Industrial Bank (China)\\\\n\",\"Market Cap (US$ Billion)\":\"57.388\\\\n\"},{\"Name\":\" Bank of China (Hong Kong)\\\\n\",\"Market Cap (US$ Billion)\":\"55.449\\\\n\"},{\"Name\":\" Bank of Montreal\\\\n\",\"Market Cap (US$ Billion)\":\"53.181\\\\n\"},{\"Name\":\" Cr\\\\u00e9dit Agricole\\\\n\",\"Market Cap (US$ Billion)\":\"52.141\\\\n\"},{\"Name\":\" DBS Bank\\\\n\",\"Market Cap (US$ Billion)\":\"51.475\\\\n\"},{\"Name\":\" Nordea\\\\n\",\"Market Cap (US$ Billion)\":\"51.185\\\\n\"},{\"Name\":\" Capital One\\\\n\",\"Market Cap (US$ Billion)\":\"51.107\\\\n\"},{\"Name\":\" NatWest Group\\\\n\",\"Market Cap (US$ Billion)\":\"50.490\\\\n\"},{\"Name\":\" Mizuho Financial Group\\\\n\",\"Market Cap (US$ Billion)\":\"50.018\\\\n\"},{\"Name\":\" Credit Suisse\\\\n\",\"Market Cap (US$ Billion)\":\"48.462\\\\n\"},{\"Name\":\" Postal Savings Bank of China\\\\n\",\"Market Cap (US$ Billion)\":\"47.948\\\\n\"},{\"Name\":\" China Minsheng Bank\\\\n\",\"Market Cap (US$ Billion)\":\"47.921\\\\n\"},{\"Name\":\" UniCredit\\\\n\",\"Market Cap (US$ Billion)\":\"47.777\\\\n\"},{\"Name\":\" China CITIC Bank\\\\n\",\"Market Cap (US$ Billion)\":\"47.451\\\\n\"},{\"Name\":\" Hang Seng Bank\\\\n\",\"Market Cap (US$ Billion)\":\"46.171\\\\n\"},{\"Name\":\" Soci\\\\u00e9t\\\\u00e9 G\\\\u00e9n\\\\u00e9rale\\\\n\",\"Market Cap (US$ Billion)\":\"46.051\\\\n\"},{\"Name\":\" Barclays\\\\n\",\"Market Cap (US$ Billion)\":\"45.850\\\\n\"},{\"Name\":\" Canadian Imperial Bank of Commerce\\\\n\",\"Market Cap (US$ Billion)\":\"43.544\\\\n\"},{\"Name\":\" Bank Central Asia\\\\n\",\"Market Cap (US$ Billion)\":\"43.344\\\\n\"},{\"Name\":\" Truist Financial\\\\n\",\"Market Cap (US$ Billion)\":\"41.923\\\\n\"},{\"Name\":\" Oversea-Chinese Banking Corp\\\\n\",\"Market Cap (US$ Billion)\":\"41.362\\\\n\"},{\"Name\":\" State Bank of India\\\\n\",\"Market Cap (US$ Billion)\":\"55.7\\\\n\"},{\"Name\":\" State Street Corporation\\\\n\",\"Market Cap (US$ Billion)\":\"39.769\\\\n\"},{\"Name\":\" Deutsche Bank\\\\n\",\"Market Cap (US$ Billion)\":\"38.649\\\\n\"},{\"Name\":\" KBC Bank\\\\n\",\"Market Cap (US$ Billion)\":\"38.394\\\\n\"},{\"Name\":\" Danske Bank\\\\n\",\"Market Cap (US$ Billion)\":\"38.223\\\\n\"},{\"Name\":\" Ping An Bank\\\\n\",\"Market Cap (US$ Billion)\":\"37.993\\\\n\"},{\"Name\":\" Standard Chartered\\\\n\",\"Market Cap (US$ Billion)\":\"37.319\\\\n\"},{\"Name\":\" United Overseas Bank\\\\n\",\"Market Cap (US$ Billion)\":\"35.128\\\\n\"},{\"Name\":\" QNB Group\\\\n\",\"Market Cap (US$ Billion)\":\"33.560\\\\n\"},{\"Name\":\" Bank Rakyat Indonesia\\\\n\",\"Market Cap (US$ Billion)\":\"33.081\\\\n\"}]'"
      ]
     },
     "execution_count": 207,
     "metadata": {},
     "output_type": "execute_result"
    }
   ],
   "source": [
    "#Write your code here\n",
    "bank_market_cap = data.to_json(orient='records')\n",
    "bank_market_cap\n",
    "\n",
    "# https://appdividend.com/2020/04/14/python-pandas-to_json-export-pandas-dataframe-to-json-file/"
   ]
  },
  {
   "cell_type": "markdown",
   "metadata": {},
   "source": [
    "## Authors"
   ]
  },
  {
   "cell_type": "markdown",
   "metadata": {},
   "source": [
    "Ramesh Sannareddy, Joseph Santarcangelo and Azim Hirjani\n"
   ]
  },
  {
   "cell_type": "markdown",
   "metadata": {},
   "source": [
    "### Other Contributors\n"
   ]
  },
  {
   "cell_type": "markdown",
   "metadata": {},
   "source": [
    "Rav Ahuja\n"
   ]
  },
  {
   "cell_type": "markdown",
   "metadata": {},
   "source": [
    "## Change Log\n"
   ]
  },
  {
   "cell_type": "markdown",
   "metadata": {},
   "source": [
    "| Date (YYYY-MM-DD) | Version | Changed By        | Change Description                 |\n",
    "| ----------------- | ------- | ----------------- | ---------------------------------- |\n",
    "| 2020-11-25        | 0.1     | Ramesh Sannareddy | Created initial version of the lab |\n"
   ]
  },
  {
   "cell_type": "markdown",
   "metadata": {},
   "source": [
    "Copyright © 2020 IBM Corporation.\n"
   ]
  }
 ],
 "metadata": {
  "kernelspec": {
   "display_name": "Python",
   "language": "python",
   "name": "conda-env-python-py"
  },
  "language_info": {
   "codemirror_mode": {
    "name": "ipython",
    "version": 3
   },
   "file_extension": ".py",
   "mimetype": "text/x-python",
   "name": "python",
   "nbconvert_exporter": "python",
   "pygments_lexer": "ipython3",
   "version": "3.7.12"
  }
 },
 "nbformat": 4,
 "nbformat_minor": 4
}
