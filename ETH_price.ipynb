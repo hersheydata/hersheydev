{
  "nbformat": 4,
  "nbformat_minor": 0,
  "metadata": {
    "colab": {
      "name": "ETH_price.ipynb",
      "provenance": [],
      "authorship_tag": "ABX9TyOYjIh/fl8hoO6wwG6vNyu5",
      "include_colab_link": true
    },
    "kernelspec": {
      "name": "python3",
      "display_name": "Python 3"
    }
  },
  "cells": [
    {
      "cell_type": "markdown",
      "metadata": {
        "id": "view-in-github",
        "colab_type": "text"
      },
      "source": [
        "<a href=\"https://colab.research.google.com/github/hersheythings/machine_learning_portfolio/blob/main/ETH_price.ipynb\" target=\"_parent\"><img src=\"https://colab.research.google.com/assets/colab-badge.svg\" alt=\"Open In Colab\"/></a>"
      ]
    },
    {
      "cell_type": "code",
      "metadata": {
        "colab": {
          "base_uri": "https://localhost:8080/"
        },
        "id": "qjWAyJnIEhK7",
        "outputId": "3f721ae7-c356-4b38-e8f6-739283fb6de8"
      },
      "source": [
        "import pandas as pd\r\n",
        "import numpy as np\r\n",
        "from google.colab import drive\r\n",
        "import matplotlib as plt\r\n",
        "drive.mount('/content/gdrive')"
      ],
      "execution_count": 62,
      "outputs": [
        {
          "output_type": "stream",
          "text": [
            "Drive already mounted at /content/gdrive; to attempt to forcibly remount, call drive.mount(\"/content/gdrive\", force_remount=True).\n"
          ],
          "name": "stdout"
        }
      ]
    },
    {
      "cell_type": "code",
      "metadata": {
        "colab": {
          "base_uri": "https://localhost:8080/",
          "height": 420
        },
        "id": "pF2yPjSVEjGZ",
        "outputId": "6fa15b37-fb5b-4299-cc37-1198257a4e43"
      },
      "source": [
        "data = pd.read_csv(\"/content/gdrive/My Drive/Colab Notebooks/test/export-EtherPrice.csv\", index_col=\"Date(UTC)\")\r\n",
        "data"
      ],
      "execution_count": 69,
      "outputs": [
        {
          "output_type": "execute_result",
          "data": {
            "text/html": [
              "<div>\n",
              "<style scoped>\n",
              "    .dataframe tbody tr th:only-of-type {\n",
              "        vertical-align: middle;\n",
              "    }\n",
              "\n",
              "    .dataframe tbody tr th {\n",
              "        vertical-align: top;\n",
              "    }\n",
              "\n",
              "    .dataframe thead th {\n",
              "        text-align: right;\n",
              "    }\n",
              "</style>\n",
              "<table border=\"1\" class=\"dataframe\">\n",
              "  <thead>\n",
              "    <tr style=\"text-align: right;\">\n",
              "      <th></th>\n",
              "      <th>UnixTimeStamp</th>\n",
              "      <th>Value</th>\n",
              "    </tr>\n",
              "    <tr>\n",
              "      <th>Date(UTC)</th>\n",
              "      <th></th>\n",
              "      <th></th>\n",
              "    </tr>\n",
              "  </thead>\n",
              "  <tbody>\n",
              "    <tr>\n",
              "      <th>7/30/2015</th>\n",
              "      <td>1438214400</td>\n",
              "      <td>0.00</td>\n",
              "    </tr>\n",
              "    <tr>\n",
              "      <th>7/31/2015</th>\n",
              "      <td>1438300800</td>\n",
              "      <td>0.00</td>\n",
              "    </tr>\n",
              "    <tr>\n",
              "      <th>8/1/2015</th>\n",
              "      <td>1438387200</td>\n",
              "      <td>0.00</td>\n",
              "    </tr>\n",
              "    <tr>\n",
              "      <th>8/2/2015</th>\n",
              "      <td>1438473600</td>\n",
              "      <td>0.00</td>\n",
              "    </tr>\n",
              "    <tr>\n",
              "      <th>8/3/2015</th>\n",
              "      <td>1438560000</td>\n",
              "      <td>0.00</td>\n",
              "    </tr>\n",
              "    <tr>\n",
              "      <th>...</th>\n",
              "      <td>...</td>\n",
              "      <td>...</td>\n",
              "    </tr>\n",
              "    <tr>\n",
              "      <th>1/28/2021</th>\n",
              "      <td>1611792000</td>\n",
              "      <td>1330.78</td>\n",
              "    </tr>\n",
              "    <tr>\n",
              "      <th>1/29/2021</th>\n",
              "      <td>1611878400</td>\n",
              "      <td>1379.13</td>\n",
              "    </tr>\n",
              "    <tr>\n",
              "      <th>1/30/2021</th>\n",
              "      <td>1611964800</td>\n",
              "      <td>1379.35</td>\n",
              "    </tr>\n",
              "    <tr>\n",
              "      <th>1/31/2021</th>\n",
              "      <td>1612051200</td>\n",
              "      <td>1314.18</td>\n",
              "    </tr>\n",
              "    <tr>\n",
              "      <th>2/1/2021</th>\n",
              "      <td>1612137600</td>\n",
              "      <td>1374.57</td>\n",
              "    </tr>\n",
              "  </tbody>\n",
              "</table>\n",
              "<p>2014 rows × 2 columns</p>\n",
              "</div>"
            ],
            "text/plain": [
              "           UnixTimeStamp    Value\n",
              "Date(UTC)                        \n",
              "7/30/2015     1438214400     0.00\n",
              "7/31/2015     1438300800     0.00\n",
              "8/1/2015      1438387200     0.00\n",
              "8/2/2015      1438473600     0.00\n",
              "8/3/2015      1438560000     0.00\n",
              "...                  ...      ...\n",
              "1/28/2021     1611792000  1330.78\n",
              "1/29/2021     1611878400  1379.13\n",
              "1/30/2021     1611964800  1379.35\n",
              "1/31/2021     1612051200  1314.18\n",
              "2/1/2021      1612137600  1374.57\n",
              "\n",
              "[2014 rows x 2 columns]"
            ]
          },
          "metadata": {
            "tags": []
          },
          "execution_count": 69
        }
      ]
    },
    {
      "cell_type": "code",
      "metadata": {
        "colab": {
          "base_uri": "https://localhost:8080/",
          "height": 420
        },
        "id": "RGov4V7-F1MA",
        "outputId": "9bb375e3-7787-49f4-c060-e56d7f029684"
      },
      "source": [
        "price = pd.DataFrame(data[\"Value\"])\r\n",
        "price"
      ],
      "execution_count": 70,
      "outputs": [
        {
          "output_type": "execute_result",
          "data": {
            "text/html": [
              "<div>\n",
              "<style scoped>\n",
              "    .dataframe tbody tr th:only-of-type {\n",
              "        vertical-align: middle;\n",
              "    }\n",
              "\n",
              "    .dataframe tbody tr th {\n",
              "        vertical-align: top;\n",
              "    }\n",
              "\n",
              "    .dataframe thead th {\n",
              "        text-align: right;\n",
              "    }\n",
              "</style>\n",
              "<table border=\"1\" class=\"dataframe\">\n",
              "  <thead>\n",
              "    <tr style=\"text-align: right;\">\n",
              "      <th></th>\n",
              "      <th>Value</th>\n",
              "    </tr>\n",
              "    <tr>\n",
              "      <th>Date(UTC)</th>\n",
              "      <th></th>\n",
              "    </tr>\n",
              "  </thead>\n",
              "  <tbody>\n",
              "    <tr>\n",
              "      <th>7/30/2015</th>\n",
              "      <td>0.00</td>\n",
              "    </tr>\n",
              "    <tr>\n",
              "      <th>7/31/2015</th>\n",
              "      <td>0.00</td>\n",
              "    </tr>\n",
              "    <tr>\n",
              "      <th>8/1/2015</th>\n",
              "      <td>0.00</td>\n",
              "    </tr>\n",
              "    <tr>\n",
              "      <th>8/2/2015</th>\n",
              "      <td>0.00</td>\n",
              "    </tr>\n",
              "    <tr>\n",
              "      <th>8/3/2015</th>\n",
              "      <td>0.00</td>\n",
              "    </tr>\n",
              "    <tr>\n",
              "      <th>...</th>\n",
              "      <td>...</td>\n",
              "    </tr>\n",
              "    <tr>\n",
              "      <th>1/28/2021</th>\n",
              "      <td>1330.78</td>\n",
              "    </tr>\n",
              "    <tr>\n",
              "      <th>1/29/2021</th>\n",
              "      <td>1379.13</td>\n",
              "    </tr>\n",
              "    <tr>\n",
              "      <th>1/30/2021</th>\n",
              "      <td>1379.35</td>\n",
              "    </tr>\n",
              "    <tr>\n",
              "      <th>1/31/2021</th>\n",
              "      <td>1314.18</td>\n",
              "    </tr>\n",
              "    <tr>\n",
              "      <th>2/1/2021</th>\n",
              "      <td>1374.57</td>\n",
              "    </tr>\n",
              "  </tbody>\n",
              "</table>\n",
              "<p>2014 rows × 1 columns</p>\n",
              "</div>"
            ],
            "text/plain": [
              "             Value\n",
              "Date(UTC)         \n",
              "7/30/2015     0.00\n",
              "7/31/2015     0.00\n",
              "8/1/2015      0.00\n",
              "8/2/2015      0.00\n",
              "8/3/2015      0.00\n",
              "...            ...\n",
              "1/28/2021  1330.78\n",
              "1/29/2021  1379.13\n",
              "1/30/2021  1379.35\n",
              "1/31/2021  1314.18\n",
              "2/1/2021   1374.57\n",
              "\n",
              "[2014 rows x 1 columns]"
            ]
          },
          "metadata": {
            "tags": []
          },
          "execution_count": 70
        }
      ]
    },
    {
      "cell_type": "code",
      "metadata": {
        "colab": {
          "base_uri": "https://localhost:8080/",
          "height": 296
        },
        "id": "ZjhyRoI0GElh",
        "outputId": "12abb651-f63b-4d42-adca-99f59187755b"
      },
      "source": [
        "price.plot()"
      ],
      "execution_count": 71,
      "outputs": [
        {
          "output_type": "execute_result",
          "data": {
            "text/plain": [
              "<matplotlib.axes._subplots.AxesSubplot at 0x7f72bd6f2dd8>"
            ]
          },
          "metadata": {
            "tags": []
          },
          "execution_count": 71
        },
        {
          "output_type": "display_data",
          "data": {
            "image/png": "[encoded data removed]",
            "text/plain": [
              "<Figure size 432x288 with 1 Axes>"
            ]
          },
          "metadata": {
            "tags": [],
            "needs_background": "light"
          }
        }
      ]
    },
    {
      "cell_type": "code",
      "metadata": {
        "colab": {
          "base_uri": "https://localhost:8080/",
          "height": 420
        },
        "id": "5Izb7UerGYpA",
        "outputId": "3f407ac9-9441-4bef-b204-37fbe7f57a56"
      },
      "source": [
        "price.rename(columns={\"Value\":\"Price\"}, inplace=True)\r\n",
        "price"
      ],
      "execution_count": 74,
      "outputs": [
        {
          "output_type": "execute_result",
          "data": {
            "text/html": [
              "<div>\n",
              "<style scoped>\n",
              "    .dataframe tbody tr th:only-of-type {\n",
              "        vertical-align: middle;\n",
              "    }\n",
              "\n",
              "    .dataframe tbody tr th {\n",
              "        vertical-align: top;\n",
              "    }\n",
              "\n",
              "    .dataframe thead th {\n",
              "        text-align: right;\n",
              "    }\n",
              "</style>\n",
              "<table border=\"1\" class=\"dataframe\">\n",
              "  <thead>\n",
              "    <tr style=\"text-align: right;\">\n",
              "      <th></th>\n",
              "      <th>Price</th>\n",
              "    </tr>\n",
              "    <tr>\n",
              "      <th>Date(UTC)</th>\n",
              "      <th></th>\n",
              "    </tr>\n",
              "  </thead>\n",
              "  <tbody>\n",
              "    <tr>\n",
              "      <th>7/30/2015</th>\n",
              "      <td>0.00</td>\n",
              "    </tr>\n",
              "    <tr>\n",
              "      <th>7/31/2015</th>\n",
              "      <td>0.00</td>\n",
              "    </tr>\n",
              "    <tr>\n",
              "      <th>8/1/2015</th>\n",
              "      <td>0.00</td>\n",
              "    </tr>\n",
              "    <tr>\n",
              "      <th>8/2/2015</th>\n",
              "      <td>0.00</td>\n",
              "    </tr>\n",
              "    <tr>\n",
              "      <th>8/3/2015</th>\n",
              "      <td>0.00</td>\n",
              "    </tr>\n",
              "    <tr>\n",
              "      <th>...</th>\n",
              "      <td>...</td>\n",
              "    </tr>\n",
              "    <tr>\n",
              "      <th>1/28/2021</th>\n",
              "      <td>1330.78</td>\n",
              "    </tr>\n",
              "    <tr>\n",
              "      <th>1/29/2021</th>\n",
              "      <td>1379.13</td>\n",
              "    </tr>\n",
              "    <tr>\n",
              "      <th>1/30/2021</th>\n",
              "      <td>1379.35</td>\n",
              "    </tr>\n",
              "    <tr>\n",
              "      <th>1/31/2021</th>\n",
              "      <td>1314.18</td>\n",
              "    </tr>\n",
              "    <tr>\n",
              "      <th>2/1/2021</th>\n",
              "      <td>1374.57</td>\n",
              "    </tr>\n",
              "  </tbody>\n",
              "</table>\n",
              "<p>2014 rows × 1 columns</p>\n",
              "</div>"
            ],
            "text/plain": [
              "             Price\n",
              "Date(UTC)         \n",
              "7/30/2015     0.00\n",
              "7/31/2015     0.00\n",
              "8/1/2015      0.00\n",
              "8/2/2015      0.00\n",
              "8/3/2015      0.00\n",
              "...            ...\n",
              "1/28/2021  1330.78\n",
              "1/29/2021  1379.13\n",
              "1/30/2021  1379.35\n",
              "1/31/2021  1314.18\n",
              "2/1/2021   1374.57\n",
              "\n",
              "[2014 rows x 1 columns]"
            ]
          },
          "metadata": {
            "tags": []
          },
          "execution_count": 74
        }
      ]
    },
    {
      "cell_type": "code",
      "metadata": {
        "colab": {
          "base_uri": "https://localhost:8080/",
          "height": 478
        },
        "id": "J_IpHW8TGhPZ",
        "outputId": "c4a826a4-4a62-46c0-a8e1-79e5f719770f"
      },
      "source": [
        "price['Value_30d_rolMean'] = price['Price'].rolling(30).mean()\r\n",
        "price['Value_30d_Std'] = price['Price'].rolling(30).std() #Value가 정규분포를 따른다고 가정\r\n",
        "price.iloc[2000:]"
      ],
      "execution_count": 81,
      "outputs": [
        {
          "output_type": "execute_result",
          "data": {
            "text/html": [
              "<div>\n",
              "<style scoped>\n",
              "    .dataframe tbody tr th:only-of-type {\n",
              "        vertical-align: middle;\n",
              "    }\n",
              "\n",
              "    .dataframe tbody tr th {\n",
              "        vertical-align: top;\n",
              "    }\n",
              "\n",
              "    .dataframe thead th {\n",
              "        text-align: right;\n",
              "    }\n",
              "</style>\n",
              "<table border=\"1\" class=\"dataframe\">\n",
              "  <thead>\n",
              "    <tr style=\"text-align: right;\">\n",
              "      <th></th>\n",
              "      <th>Price</th>\n",
              "      <th>Value_30d_rolMean</th>\n",
              "      <th>Value_30d_Std</th>\n",
              "    </tr>\n",
              "    <tr>\n",
              "      <th>Date(UTC)</th>\n",
              "      <th></th>\n",
              "      <th></th>\n",
              "      <th></th>\n",
              "    </tr>\n",
              "  </thead>\n",
              "  <tbody>\n",
              "    <tr>\n",
              "      <th>1/19/2021</th>\n",
              "      <td>1367.65</td>\n",
              "      <td>963.910667</td>\n",
              "      <td>266.283673</td>\n",
              "    </tr>\n",
              "    <tr>\n",
              "      <th>1/20/2021</th>\n",
              "      <td>1377.75</td>\n",
              "      <td>989.572333</td>\n",
              "      <td>267.882283</td>\n",
              "    </tr>\n",
              "    <tr>\n",
              "      <th>1/21/2021</th>\n",
              "      <td>1111.49</td>\n",
              "      <td>1005.381000</td>\n",
              "      <td>260.257696</td>\n",
              "    </tr>\n",
              "    <tr>\n",
              "      <th>1/22/2021</th>\n",
              "      <td>1234.56</td>\n",
              "      <td>1027.024667</td>\n",
              "      <td>250.946312</td>\n",
              "    </tr>\n",
              "    <tr>\n",
              "      <th>1/23/2021</th>\n",
              "      <td>1234.10</td>\n",
              "      <td>1047.750667</td>\n",
              "      <td>240.993684</td>\n",
              "    </tr>\n",
              "    <tr>\n",
              "      <th>1/24/2021</th>\n",
              "      <td>1392.45</td>\n",
              "      <td>1073.271333</td>\n",
              "      <td>235.354832</td>\n",
              "    </tr>\n",
              "    <tr>\n",
              "      <th>1/25/2021</th>\n",
              "      <td>1318.47</td>\n",
              "      <td>1096.018000</td>\n",
              "      <td>224.362704</td>\n",
              "    </tr>\n",
              "    <tr>\n",
              "      <th>1/26/2021</th>\n",
              "      <td>1368.22</td>\n",
              "      <td>1118.826000</td>\n",
              "      <td>215.641188</td>\n",
              "    </tr>\n",
              "    <tr>\n",
              "      <th>1/27/2021</th>\n",
              "      <td>1241.51</td>\n",
              "      <td>1135.890000</td>\n",
              "      <td>203.702270</td>\n",
              "    </tr>\n",
              "    <tr>\n",
              "      <th>1/28/2021</th>\n",
              "      <td>1330.78</td>\n",
              "      <td>1155.864333</td>\n",
              "      <td>191.713317</td>\n",
              "    </tr>\n",
              "    <tr>\n",
              "      <th>1/29/2021</th>\n",
              "      <td>1379.13</td>\n",
              "      <td>1176.751000</td>\n",
              "      <td>180.033261</td>\n",
              "    </tr>\n",
              "    <tr>\n",
              "      <th>1/30/2021</th>\n",
              "      <td>1379.35</td>\n",
              "      <td>1198.157667</td>\n",
              "      <td>163.369396</td>\n",
              "    </tr>\n",
              "    <tr>\n",
              "      <th>1/31/2021</th>\n",
              "      <td>1314.18</td>\n",
              "      <td>1217.610333</td>\n",
              "      <td>138.650646</td>\n",
              "    </tr>\n",
              "    <tr>\n",
              "      <th>2/1/2021</th>\n",
              "      <td>1374.57</td>\n",
              "      <td>1237.599333</td>\n",
              "      <td>113.586234</td>\n",
              "    </tr>\n",
              "  </tbody>\n",
              "</table>\n",
              "</div>"
            ],
            "text/plain": [
              "             Price  Value_30d_rolMean  Value_30d_Std\n",
              "Date(UTC)                                           \n",
              "1/19/2021  1367.65         963.910667     266.283673\n",
              "1/20/2021  1377.75         989.572333     267.882283\n",
              "1/21/2021  1111.49        1005.381000     260.257696\n",
              "1/22/2021  1234.56        1027.024667     250.946312\n",
              "1/23/2021  1234.10        1047.750667     240.993684\n",
              "1/24/2021  1392.45        1073.271333     235.354832\n",
              "1/25/2021  1318.47        1096.018000     224.362704\n",
              "1/26/2021  1368.22        1118.826000     215.641188\n",
              "1/27/2021  1241.51        1135.890000     203.702270\n",
              "1/28/2021  1330.78        1155.864333     191.713317\n",
              "1/29/2021  1379.13        1176.751000     180.033261\n",
              "1/30/2021  1379.35        1198.157667     163.369396\n",
              "1/31/2021  1314.18        1217.610333     138.650646\n",
              "2/1/2021   1374.57        1237.599333     113.586234"
            ]
          },
          "metadata": {
            "tags": []
          },
          "execution_count": 81
        }
      ]
    },
    {
      "cell_type": "code",
      "metadata": {
        "colab": {
          "base_uri": "https://localhost:8080/",
          "height": 296
        },
        "id": "XuIyBpjeHJSQ",
        "outputId": "9edeedfe-31a6-4020-bdb4-941368a5a7a4"
      },
      "source": [
        "price.plot()"
      ],
      "execution_count": 82,
      "outputs": [
        {
          "output_type": "execute_result",
          "data": {
            "text/plain": [
              "<matplotlib.axes._subplots.AxesSubplot at 0x7f72bd18e6a0>"
            ]
          },
          "metadata": {
            "tags": []
          },
          "execution_count": 82
        },
        {
          "output_type": "display_data",
          "data": {
            "image/png": "[encoded data removed]",
            "text/plain": [
              "<Figure size 432x288 with 1 Axes>"
            ]
          },
          "metadata": {
            "tags": [],
            "needs_background": "light"
          }
        }
      ]
    },
    {
      "cell_type": "code",
      "metadata": {
        "colab": {
          "base_uri": "https://localhost:8080/",
          "height": 296
        },
        "id": "SCrNVN07Hi2v",
        "outputId": "1d1b4581-cc5b-4352-c0b0-2022fb6fd2d8"
      },
      "source": [
        "price['Price_30d+2sigma'] = price.apply(lambda x: x['Value_30d_rolMean'] + 2*x['Value_30d_Std'], axis =1)\r\n",
        "price['Price_30d+2sigma'] = price.apply(lambda x: x['Value_30d_rolMean'] - 2*x['Value_30d_Std'], axis =1)\r\n",
        "price.iloc[500:2000].plot()"
      ],
      "execution_count": 88,
      "outputs": [
        {
          "output_type": "execute_result",
          "data": {
            "text/plain": [
              "<matplotlib.axes._subplots.AxesSubplot at 0x7f72bd144b38>"
            ]
          },
          "metadata": {
            "tags": []
          },
          "execution_count": 88
        },
        {
          "output_type": "display_data",
          "data": {
            "image/png": "[encoded data removed]",
            "text/plain": [
              "<Figure size 432x288 with 1 Axes>"
            ]
          },
          "metadata": {
            "tags": [],
            "needs_background": "light"
          }
        }
      ]
    },
    {
      "cell_type": "code",
      "metadata": {
        "id": "xH50DVX9H_rv"
      },
      "source": [
        ""
      ],
      "execution_count": null,
      "outputs": []
    }
  ]
}