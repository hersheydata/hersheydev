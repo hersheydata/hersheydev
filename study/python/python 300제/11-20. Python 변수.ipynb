{
 "cells": [
  {
   "cell_type": "markdown",
   "metadata": {},
   "source": [
    "## 11-20. Python 변수\n",
    "파이썬 변수는 자주 사용되는 값을 바인딩합니다. 파이썬 변수의 개념을 이해하고 문제를 풀어봅시다.\n",
    "* link : https://wikidocs.net/7021\n",
    "--------"
   ]
  },
  {
   "cell_type": "markdown",
   "metadata": {},
   "source": [
    "### Q11. 삼성전자라는 변수로 50,000원을 바인딩해보세요. 삼성전자 주식 10주를 보유하고 있을 때 총 평가금액을 출력하세요."
   ]
  },
  {
   "cell_type": "code",
   "execution_count": 19,
   "metadata": {},
   "outputs": [
    {
     "data": {
      "text/plain": [
       "500000"
      ]
     },
     "execution_count": 19,
     "metadata": {},
     "output_type": "execute_result"
    }
   ],
   "source": [
    "ss = 50000\n",
    "total_ss = ss*10\n",
    "\n",
    "total_ss"
   ]
  },
  {
   "cell_type": "markdown",
   "metadata": {},
   "source": [
    "### Q12. 변수를 사용해서 시가총액, 현재가, PER 등을 바인딩해보세요."
   ]
  },
  {
   "cell_type": "code",
   "execution_count": 20,
   "metadata": {},
   "outputs": [
    {
     "name": "stdout",
     "output_type": "stream",
     "text": [
      "298000000000000 <class 'int'>\n",
      "50000 <class 'int'>\n",
      "15.79 <class 'float'>\n"
     ]
    }
   ],
   "source": [
    "시가총액 = 298*(10**12)\n",
    "현재가 = 5*(10**4)\n",
    "PER = 15.79\n",
    "\n",
    "print(시가총액, type(시가총액))\n",
    "print(현재가, type(현재가))\n",
    "print(PER, type(PER))"
   ]
  },
  {
   "cell_type": "markdown",
   "metadata": {},
   "source": [
    "### Q13. 변수 s와 t에는 각각 문자열이 바인딩되어있습니다.\n",
    "s = \"hello\"\n",
    "t = \"python\"\n",
    "\n",
    "두 변수를 이용하여 아래와 같이 출력해보세요\n",
    "\n",
    "hello! python"
   ]
  },
  {
   "cell_type": "code",
   "execution_count": 21,
   "metadata": {},
   "outputs": [
    {
     "name": "stdout",
     "output_type": "stream",
     "text": [
      "hello! python\n",
      "hello!python\n"
     ]
    }
   ],
   "source": [
    "s =\"hello\"\n",
    "t =\"python\"\n",
    "\n",
    "print(s+\"!\", t)\n",
    "print(s+\"!\"+t) #공백 없어짐"
   ]
  },
  {
   "cell_type": "markdown",
   "metadata": {},
   "source": [
    "### Q14. 아래 코드의 실행 결과를 예상해보세요"
   ]
  },
  {
   "cell_type": "code",
   "execution_count": 22,
   "metadata": {},
   "outputs": [
    {
     "data": {
      "text/plain": [
       "8"
      ]
     },
     "execution_count": 22,
     "metadata": {},
     "output_type": "execute_result"
    }
   ],
   "source": [
    "2+2*3"
   ]
  },
  {
   "cell_type": "markdown",
   "metadata": {},
   "source": [
    "### Q15. type() 함수는 데이터 타입을 판별합니다. 변수 a에는 128 숫자가 바인딩돼 있어 type 함수가 int (정수)형임을 알려줍니다. \n",
    "\n",
    "* 아래 변수에 바인딩된 값의 타입을 판별해보세요"
   ]
  },
  {
   "cell_type": "code",
   "execution_count": 23,
   "metadata": {},
   "outputs": [
    {
     "name": "stdout",
     "output_type": "stream",
     "text": [
      "<class 'int'>\n"
     ]
    }
   ],
   "source": [
    "a = 128\n",
    "print(type(a))"
   ]
  },
  {
   "cell_type": "code",
   "execution_count": 24,
   "metadata": {},
   "outputs": [],
   "source": [
    "a=132"
   ]
  },
  {
   "cell_type": "code",
   "execution_count": 25,
   "metadata": {},
   "outputs": [
    {
     "name": "stdout",
     "output_type": "stream",
     "text": [
      "<class 'int'>\n"
     ]
    },
    {
     "data": {
      "text/plain": [
       "dtype('int64')"
      ]
     },
     "execution_count": 25,
     "metadata": {},
     "output_type": "execute_result"
    }
   ],
   "source": [
    "print(type(a))\n",
    "\n",
    "import numpy as np\n",
    "a1 = np.array([132])\n",
    "a1.dtype # 벡터~행렬 연산 라이브러리인 numpy array를 통해서도 type을 확인할 수 있음!"
   ]
  },
  {
   "cell_type": "markdown",
   "metadata": {},
   "source": [
    "### Q16. 문자열 \"720\"을 정수형으로 변환해보세요"
   ]
  },
  {
   "cell_type": "code",
   "execution_count": 29,
   "metadata": {},
   "outputs": [
    {
     "name": "stdout",
     "output_type": "stream",
     "text": [
      "720 <class 'int'>\n"
     ]
    }
   ],
   "source": [
    "num_str = \"720\"\n",
    "\n",
    "num_int = int(num_str)\n",
    "\n",
    "print(num_int, type(num_int))"
   ]
  },
  {
   "cell_type": "markdown",
   "metadata": {},
   "source": [
    "### Q17. 정수 100을 문자열 \"100\"으로 변환해보세요 "
   ]
  },
  {
   "cell_type": "code",
   "execution_count": 30,
   "metadata": {},
   "outputs": [
    {
     "name": "stdout",
     "output_type": "stream",
     "text": [
      "100 <class 'str'>\n"
     ]
    }
   ],
   "source": [
    "int_100 = 100\n",
    "\n",
    "str_100 = str(int_100)\n",
    "\n",
    "print(str_100, type(str_100))"
   ]
  },
  {
   "cell_type": "markdown",
   "metadata": {},
   "source": [
    "### Q18. 문자열을 실수로 변환 : 문자열 \"15.79\"를 실수(float) 타입으로 변환해보세요"
   ]
  },
  {
   "cell_type": "code",
   "execution_count": 31,
   "metadata": {},
   "outputs": [
    {
     "name": "stdout",
     "output_type": "stream",
     "text": [
      "15.79 <class 'float'>\n"
     ]
    }
   ],
   "source": [
    "string = \"15.79\"\n",
    "\n",
    "str_to_float = float(string)\n",
    "\n",
    "print(str_to_float, type(str_to_float))"
   ]
  },
  {
   "cell_type": "markdown",
   "metadata": {},
   "source": [
    "### Q19. 문자열을 정수로 변환 : year라는 변수가 문자열 타입의 연도를 바인딩하고 있습니다. 이를 정수로 변환한 후 최근 3년의 연도를 화면에 출력해보세요"
   ]
  },
  {
   "cell_type": "code",
   "execution_count": 63,
   "metadata": {},
   "outputs": [],
   "source": [
    "year = \"2021\""
   ]
  },
  {
   "cell_type": "code",
   "execution_count": 64,
   "metadata": {},
   "outputs": [
    {
     "name": "stdout",
     "output_type": "stream",
     "text": [
      "2021 <class 'int'>\n"
     ]
    }
   ],
   "source": [
    "year = int(year)\n",
    "\n",
    "print(year, type(year))"
   ]
  },
  {
   "cell_type": "code",
   "execution_count": 67,
   "metadata": {},
   "outputs": [
    {
     "name": "stdout",
     "output_type": "stream",
     "text": [
      "2020\n",
      "2019\n",
      "2018\n"
     ]
    }
   ],
   "source": [
    "for i in [1,2,3]:\n",
    "    print(year-i)"
   ]
  },
  {
   "cell_type": "markdown",
   "metadata": {},
   "source": [
    "### Q20. 에이컨이 월 48,584원에 무이자 36개월의 조건으로 홈쇼핑에서 판매되고 있습니다. 총 금액은 계산한 후 이를 화면에 출력해보세요. (변수사용하기)"
   ]
  },
  {
   "cell_type": "code",
   "execution_count": 84,
   "metadata": {},
   "outputs": [
    {
     "name": "stdout",
     "output_type": "stream",
     "text": [
      "1749024\n"
     ]
    }
   ],
   "source": [
    "p_per_month = 48584\n",
    "paying_month = 36\n",
    "\n",
    "total_price = p_per_month * paying_month\n",
    "\n",
    "print(total_price)"
   ]
  }
 ],
 "metadata": {
  "kernelspec": {
   "display_name": "Python 3",
   "language": "python",
   "name": "python3"
  },
  "language_info": {
   "codemirror_mode": {
    "name": "ipython",
    "version": 3
   },
   "file_extension": ".py",
   "mimetype": "text/x-python",
   "name": "python",
   "nbconvert_exporter": "python",
   "pygments_lexer": "ipython3",
   "version": "3.7.2"
  }
 },
 "nbformat": 4,
 "nbformat_minor": 2
}
