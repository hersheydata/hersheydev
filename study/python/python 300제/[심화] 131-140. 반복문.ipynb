{
 "cells": [
  {
   "cell_type": "markdown",
   "metadata": {},
   "source": [
    "# 08. 파이썬 반복문 (Q.131~Q.200)\n",
    "\n",
    "* 파이썬 for 문은 횟수가 정해져 있거나 상대적으로 횟수가 적은 경우에 대한 반복에 주로 사용됩니다.\n",
    "\n",
    "* 파이썬 while문은 횟수가 상대적으로 크거나 무한 루프 형태의 반복문에 사용됩니다.\n",
    "\n"
   ]
  },
  {
   "cell_type": "markdown",
   "metadata": {},
   "source": [
    "## Q.131 ~ Q.140\n",
    "\n",
    "### 131\n",
    "for문의 실행결과를 예측하라."
   ]
  },
  {
   "cell_type": "code",
   "execution_count": null,
   "metadata": {},
   "outputs": [],
   "source": [
    "과일 = [\"사과\", \"귤\", \"수박\"]\n",
    "for 변수 in 과일:\n",
    "    print(변수)"
   ]
  },
  {
   "cell_type": "markdown",
   "metadata": {},
   "source": [
    "* 사과\n",
    "* 귤\n",
    "* 수박\n",
    "\n",
    "> 리스트에 들어있는 문자열이 \"한 라인에 하나씩\" 출력됩니다 (Print문의 특징)"
   ]
  },
  {
   "cell_type": "code",
   "execution_count": 1,
   "metadata": {},
   "outputs": [
    {
     "name": "stdout",
     "output_type": "stream",
     "text": [
      "사과\n",
      "귤\n",
      "수박\n"
     ]
    }
   ],
   "source": [
    "# 정답\n",
    "과일 = [\"사과\", \"귤\", \"수박\"]\n",
    "for 변수 in 과일:\n",
    "    print(변수)"
   ]
  },
  {
   "cell_type": "markdown",
   "metadata": {},
   "source": [
    "### 132\n",
    "for문의 실행결과를 예측하라."
   ]
  },
  {
   "cell_type": "code",
   "execution_count": null,
   "metadata": {},
   "outputs": [],
   "source": [
    "과일 = [\"사과\", \"귤\", \"수박\"]\n",
    "for 변수 in 과일:\n",
    "    print(\"#####\")"
   ]
  },
  {
   "cell_type": "markdown",
   "metadata": {},
   "source": [
    "> #####가 한 라인에 하나씩 출력되어 총 3줄 출력됨\n",
    "\n",
    "기초문법 배우기(01.파이썬 시작하기)에서 for문의 핵심은 **\"들여쓰기된 코드의 역할 그 자체(여기서는 Print, 즉 출력하는 행위)가 자료구조에 저장된 데이터 개수만큼 반복된다\"** 라고 설명했습니다. => 중요한 논리\n",
    "\n",
    "과일 = [\"사과\", \"귤\", \"수박\"] 에는 세 개의 데이터(len(과일)=3)가 저장돼 있으므로 들여쓰기된 print(\"####\")코드가 세 번 실행됩니다."
   ]
  },
  {
   "cell_type": "code",
   "execution_count": 2,
   "metadata": {},
   "outputs": [
    {
     "name": "stdout",
     "output_type": "stream",
     "text": [
      "#####\n",
      "#####\n",
      "#####\n"
     ]
    }
   ],
   "source": [
    "# 정답\n",
    "과일 = [\"사과\", \"귤\", \"수박\"]\n",
    "for 변수 in 과일:\n",
    "    print(\"#####\")"
   ]
  },
  {
   "cell_type": "markdown",
   "metadata": {},
   "source": [
    "### 133\n",
    "다음 for 문과 동일한 기능을 수행하는 코드를 작성하세요."
   ]
  },
  {
   "cell_type": "code",
   "execution_count": null,
   "metadata": {},
   "outputs": [],
   "source": [
    "### 132\n",
    "for 변수 in [\"A\", \"B\", \"C\"]:\n",
    "    print(변수)"
   ]
  },
  {
   "cell_type": "code",
   "execution_count": 3,
   "metadata": {},
   "outputs": [
    {
     "name": "stdout",
     "output_type": "stream",
     "text": [
      "A\n",
      "B\n",
      "C\n"
     ]
    }
   ],
   "source": [
    "# 내가 쓴 답 : 리스트의 인덱스를 range로 만들고, 해당 range안에서 반복문을 실행해라\n",
    "ls = [\"A\", \"B\", \"C\"]\n",
    "\n",
    "for i in range(0, len(ls)):\n",
    "    print(ls[i])"
   ]
  },
  {
   "cell_type": "code",
   "execution_count": 6,
   "metadata": {},
   "outputs": [
    {
     "name": "stdout",
     "output_type": "stream",
     "text": [
      "A\n",
      "B\n",
      "C\n"
     ]
    }
   ],
   "source": [
    "# 정답\n",
    "변수 = \"A\" #1st 변수 바인딩\n",
    "print(변수) #1st 바인딩된 변수 출력\n",
    "변수 = \"B\" # 2nd 변수 바인딩\n",
    "print(변수) # 2nd 바인딩된 변수 출력\n",
    "변수 = \"C\" # ...\n",
    "print(변수)"
   ]
  },
  {
   "cell_type": "markdown",
   "metadata": {},
   "source": [
    "파이썬 인터프리터가 어떤 순서로 코드를 실행하는지를 떠올려 보세요. \n",
    "\n",
    "\"1st. 변수 바인딩 (라인 1) -> 2nd. 변수 출력 (라인 2)\" 과정을 자료구조 데이터 개수 만큼 반복합니다.\n",
    "\n",
    "단, 변수 바인딩없이 간단하게 print(\"A\"), print(\"B\"), print(\"C\")를 한줄씩 쳐도 됨"
   ]
  },
  {
   "cell_type": "markdown",
   "metadata": {},
   "source": [
    "### 134\n",
    "for문을 풀어서 동일한 동작을 하는 코드를 작성하라."
   ]
  },
  {
   "cell_type": "code",
   "execution_count": 7,
   "metadata": {},
   "outputs": [
    {
     "name": "stdout",
     "output_type": "stream",
     "text": [
      "출력: A\n",
      "출력: B\n",
      "출력: C\n"
     ]
    }
   ],
   "source": [
    "for 변수 in [\"A\", \"B\", \"C\"]:\n",
    "    print(\"출력:\", 변수)"
   ]
  },
  {
   "cell_type": "code",
   "execution_count": 18,
   "metadata": {},
   "outputs": [
    {
     "name": "stdout",
     "output_type": "stream",
     "text": [
      "출력: A\n",
      "출력: B\n",
      "출력: C\n",
      "\n",
      " ===== or another solution is...===== \n",
      "\n",
      "출력: A\n",
      "출력: B\n",
      "출력: C\n"
     ]
    }
   ],
   "source": [
    "변수 = \"A\"\n",
    "print(\"출력:\", 변수)\n",
    "변수 = \"B\"\n",
    "print(\"출력:\", 변수)\n",
    "변수 = \"C\"\n",
    "print(\"출력:\", 변수)\n",
    "\n",
    "print(\"\\n ===== or another solution is... ===== \\n\")\n",
    "\n",
    "# 변수 바인딩없이 하는 방법은 간단\n",
    "print(\"출력: A\")\n",
    "print(\"출력: B\")\n",
    "print(\"출력: C\")"
   ]
  },
  {
   "cell_type": "markdown",
   "metadata": {},
   "source": [
    "### 135\n",
    "for문을 풀어서 동일한 동작을 하는 코드를 작성하라."
   ]
  },
  {
   "cell_type": "code",
   "execution_count": 20,
   "metadata": {},
   "outputs": [
    {
     "name": "stdout",
     "output_type": "stream",
     "text": [
      "변환: a\n",
      "변환: b\n",
      "변환: c\n"
     ]
    }
   ],
   "source": [
    "for 변수 in [\"A\", \"B\", \"C\"]:\n",
    "    b = 변수.lower()\n",
    "    print(\"변환:\", b)"
   ]
  },
  {
   "cell_type": "code",
   "execution_count": 24,
   "metadata": {
    "scrolled": true
   },
   "outputs": [
    {
     "name": "stdout",
     "output_type": "stream",
     "text": [
      "변환: a\n",
      "변환: b\n",
      "변환: c\n"
     ]
    }
   ],
   "source": [
    "# 단순히 소문자로 바꿔주면 되는거니까...\n",
    "A = \"A\"\n",
    "B = \"B\"\n",
    "C = \"C\"\n",
    "print(\"변환:\", A.lower())\n",
    "print(\"변환:\", B.lower())\n",
    "print(\"변환:\", C.lower())"
   ]
  },
  {
   "cell_type": "markdown",
   "metadata": {},
   "source": [
    "### 136\n",
    "다음 코드를 for문으로 작성하라"
   ]
  },
  {
   "cell_type": "code",
   "execution_count": 25,
   "metadata": {},
   "outputs": [
    {
     "name": "stdout",
     "output_type": "stream",
     "text": [
      "10\n",
      "20\n",
      "30\n"
     ]
    }
   ],
   "source": [
    "변수 = 10\n",
    "print(변수)\n",
    "변수 = 20\n",
    "print(변수)\n",
    "변수 = 30\n",
    "print(변수)"
   ]
  },
  {
   "cell_type": "code",
   "execution_count": 38,
   "metadata": {},
   "outputs": [
    {
     "name": "stdout",
     "output_type": "stream",
     "text": [
      "10\n",
      "20\n",
      "30\n",
      "\n",
      " another solution is to use list, not tuple \n",
      "\n",
      "10\n",
      "20\n",
      "30\n"
     ]
    }
   ],
   "source": [
    "for i in (10,20,30):\n",
    "    print(i)\n",
    "    \n",
    "print(\"\\n another solution is to use list, not tuple \\n\")   \n",
    "\n",
    "# or 튜플 말고 list에 담아도 됨\n",
    "for i in [10, 20, 30]:\n",
    "    print(i)"
   ]
  },
  {
   "cell_type": "markdown",
   "metadata": {},
   "source": [
    "### 137\n",
    "다음 코드를 for문으로 작성하라"
   ]
  },
  {
   "cell_type": "code",
   "execution_count": 39,
   "metadata": {},
   "outputs": [
    {
     "name": "stdout",
     "output_type": "stream",
     "text": [
      "10\n",
      "20\n",
      "30\n"
     ]
    }
   ],
   "source": [
    "print(10)\n",
    "print(20)\n",
    "print(30)"
   ]
  },
  {
   "cell_type": "code",
   "execution_count": 41,
   "metadata": {},
   "outputs": [
    {
     "name": "stdout",
     "output_type": "stream",
     "text": [
      "10\n",
      "20\n",
      "30\n"
     ]
    }
   ],
   "source": [
    "a = 10\n",
    "b = 20\n",
    "c = 30\n",
    "\n",
    "ls = [a,b,c]\n",
    "\n",
    "for v in ls:\n",
    "    print(v)"
   ]
  },
  {
   "cell_type": "markdown",
   "metadata": {},
   "source": [
    "### 138\n",
    "다음 코드를 for문으로 작성하라"
   ]
  },
  {
   "cell_type": "code",
   "execution_count": 42,
   "metadata": {},
   "outputs": [
    {
     "name": "stdout",
     "output_type": "stream",
     "text": [
      "10\n",
      "-------\n",
      "20\n",
      "-------\n",
      "30\n",
      "-------\n"
     ]
    }
   ],
   "source": [
    "print(10)\n",
    "print(\"-------\")\n",
    "print(20)\n",
    "print(\"-------\")\n",
    "print(30)\n",
    "print(\"-------\")"
   ]
  },
  {
   "cell_type": "code",
   "execution_count": 45,
   "metadata": {},
   "outputs": [
    {
     "name": "stdout",
     "output_type": "stream",
     "text": [
      "10\n",
      "-------\n",
      "20\n",
      "-------\n",
      "30\n",
      "-------\n"
     ]
    }
   ],
   "source": [
    "# print는 함수가 받는 원소 하나 당 한 줄을 출력한다는 점을 이용할 때...\n",
    "ls = [10,\"-------\", 20, \"-------\", 30, \"-------\"]\n",
    "\n",
    "for i in ls:\n",
    "    print(i)"
   ]
  },
  {
   "cell_type": "markdown",
   "metadata": {},
   "source": [
    "### 139\n",
    "다음 코드를 for문으로 작성하라"
   ]
  },
  {
   "cell_type": "code",
   "execution_count": 46,
   "metadata": {},
   "outputs": [
    {
     "name": "stdout",
     "output_type": "stream",
     "text": [
      "++++\n",
      "10\n",
      "20\n",
      "30\n"
     ]
    }
   ],
   "source": [
    "print(\"++++\")\n",
    "print(10)\n",
    "print(20)\n",
    "print(30)"
   ]
  },
  {
   "cell_type": "code",
   "execution_count": 54,
   "metadata": {},
   "outputs": [
    {
     "name": "stdout",
     "output_type": "stream",
     "text": [
      "++++\n",
      "10\n",
      "20\n",
      "30\n",
      "\n",
      "print() 안에 i를 안넣고 ls를 넣으면 아래와 같이 됩니다 \n",
      "\n",
      "['++++', 10, 20, 30]\n",
      "['++++', 10, 20, 30]\n",
      "['++++', 10, 20, 30]\n",
      "['++++', 10, 20, 30]\n"
     ]
    }
   ],
   "source": [
    "ls = [\"++++\", 10, 20, 30]\n",
    "\n",
    "for i in ls:\n",
    "    print(i)\n",
    "\n",
    "# 참고 : Print() 안에 인자를 ls 자체를 넣어버리면 이렇게 나옴\n",
    "print(\"\\nprint() 안에 i를 안넣고 ls를 넣으면 아래와 같이 됩니다 \\n\")\n",
    "for i in ls:\n",
    "    print(ls)"
   ]
  },
  {
   "cell_type": "markdown",
   "metadata": {},
   "source": [
    "### 140\n",
    "다음 코드를 for문으로 작성하라"
   ]
  },
  {
   "cell_type": "code",
   "execution_count": 55,
   "metadata": {},
   "outputs": [
    {
     "name": "stdout",
     "output_type": "stream",
     "text": [
      "-------\n",
      "-------\n",
      "-------\n",
      "-------\n"
     ]
    }
   ],
   "source": [
    "print(\"-------\")\n",
    "print(\"-------\")\n",
    "print(\"-------\")\n",
    "print(\"-------\")"
   ]
  },
  {
   "cell_type": "markdown",
   "metadata": {},
   "source": [
    "일단 위 코드를 조금 구조적으로 보면... \n",
    "\n",
    "print() 문이 4줄씩 총 4번 반복되고 있는 것이므로.. for문 입장에서는 print(i)에서 i를 이루는 원소의 갯수가 4에 해당하면 총 출력 횟수는 4가 되면서 4줄이 출력되는 것을 인지"
   ]
  },
  {
   "cell_type": "code",
   "execution_count": 56,
   "metadata": {},
   "outputs": [
    {
     "name": "stdout",
     "output_type": "stream",
     "text": [
      "-------\n",
      "-------\n",
      "-------\n",
      "-------\n"
     ]
    }
   ],
   "source": [
    "# 답\n",
    "\n",
    "ls = [\"-------\", \"-------\", \"-------\", \"-------\"]\n",
    "\n",
    "for i in ls:\n",
    "    print(i)"
   ]
  },
  {
   "cell_type": "code",
   "execution_count": null,
   "metadata": {},
   "outputs": [],
   "source": []
  }
 ],
 "metadata": {
  "kernelspec": {
   "display_name": "Python 3",
   "language": "python",
   "name": "python3"
  },
  "language_info": {
   "codemirror_mode": {
    "name": "ipython",
    "version": 3
   },
   "file_extension": ".py",
   "mimetype": "text/x-python",
   "name": "python",
   "nbconvert_exporter": "python",
   "pygments_lexer": "ipython3",
   "version": "3.7.2"
  }
 },
 "nbformat": 4,
 "nbformat_minor": 2
}
