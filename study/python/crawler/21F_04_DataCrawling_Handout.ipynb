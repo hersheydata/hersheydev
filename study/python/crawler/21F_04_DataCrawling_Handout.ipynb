{
 "cells": [
  {
   "cell_type": "markdown",
   "metadata": {},
   "source": [
    "## 01. Naver Blog Crawling (basic)\n",
    "https://developers.naver.com/docs/search/blog/\n",
    "\n",
    "#### 1. 개인 application ID, secret 발급받기 \n",
    "#### 2. Python 활용시 블로그 검색 API 확인하기 "
   ]
  },
  {
   "cell_type": "code",
   "execution_count": 1,
   "metadata": {},
   "outputs": [
    {
     "name": "stdout",
     "output_type": "stream",
     "text": [
      "{\n",
      "\"lastBuildDate\": \"Tue, 16 Nov 2021 15:12:54 +0900\",\n",
      "\"total\": 35228,\n",
      "\"start\": 1,\n",
      "\"display\": 10,\n",
      "\"items\": [\n",
      "{\n",
      "\"title\": \"대구 아르떼 수성랜드와 수성 <b>파크랜드</b> 놀이동산\",\n",
      "\"link\": \"https:\\/\\/blog.naver.com\\/whgusdn1588?Redirect=Log&logNo=222567569100\",\n",
      "\"description\": \"헤누입니다 :) 오늘의 포스팅은 대구의 놀이동산이라고도 할 수 있을만큼 꽤나 넓은 수성<b>파크랜드</b>와... 수성 <b>파크랜드</b>는 사실상 엄청 작다 입장료도 별도로 없기 때문에 학생들이 많았다 먹거리도 꽤 있었다... \",\n",
      "\"bloggername\": \"헤누가 간다!\",\n",
      "\"bloggerlink\": \"https://blog.naver.com/whgusdn1588\",\n",
      "\"postdate\": \"20211114\"\n",
      "\n",
      "},\n",
      "{\n",
      "\"title\": \"제천 아이랑 의림지, 용추폭포 유리 전망대, <b>파크랜드</b>\",\n",
      "\"link\": \"https:\\/\\/blog.naver.com\\/alyul?Redirect=Log&logNo=222433135193\",\n",
      "\"description\": \"놀이동산인 #의림지<b>파크랜드</b> 에도 갈수 있어서 아이랑 가기 좋아 보였다. 우리가 계획한 여행 날짜에... 의림지 <b>파크랜드</b> 의림지에 오면 의림지 <b>파크랜드</b>가 있기 때문에 또 제천 아이랑 오기 좋은 관광지임.... \",\n",
      "\"bloggername\": \"헨젤과 그레텔\",\n",
      "\"bloggerlink\": \"https://blog.naver.com/alyul\",\n",
      "\"postdate\": \"20210716\"\n",
      "\n",
      "},\n",
      "{\n",
      "\"title\": \"옥전캠핑장 새로생긴 곳이라 왕깨끗!(with 의림지 <b>파크랜드</b>)\",\n",
      "\"link\": \"https:\\/\\/blog.naver.com\\/aeri0115?Redirect=Log&logNo=222356103994\",\n",
      "\"description\": \"제천 옥전캠핑장 새로생긴 곳이라 왕깨끗!(with 의림지 <b>파크랜드</b>) 매주 가고 싶은 캠핑. 그 동안 다녀온... 의림지 <b>파크랜드</b> 캠핑으로 힘들었던 아이들은 집에 가고 싶다고 했는데 의림지 <b>파크랜드</b>를 보자마자... \",\n",
      "\"bloggername\": \"복복복복 Happy day♥\",\n",
      "\"bloggerlink\": \"https://blog.naver.com/aeri0115\",\n",
      "\"postdate\": \"20210518\"\n",
      "\n",
      "},\n",
      "{\n",
      "\"title\": \"통영 가볼만한곳 루지, 케이블카 <b>파크랜드</b> 오토캠핑장\",\n",
      "\"link\": \"https:\\/\\/blog.naver.com\\/ujamae5117?Redirect=Log&logNo=222569240732\",\n",
      "\"description\": \"통영 가볼만한곳 스카이라인 루지, 그리고 케이블카 <b>파크랜드</b> 오토캠핑장에서 캠핑카 차박하고 고기... 케이블카 <b>파크랜드</b> 오토 캠핑장에서 하루를 보낼예정 통영 가볼만한곳 스카이 라인 루지 티켓 가격은 2회... \",\n",
      "\"bloggername\": \"유자매 블로그\",\n",
      "\"bloggerlink\": \"https://blog.naver.com/ujamae5117\",\n",
      "\"postdate\": \"20211115\"\n",
      "\n",
      "},\n",
      "{\n",
      "\"title\": \"아이랑 가볼만한곳, 제천 의림지 용추폭포 &amp; 의림지 <b>파크랜드</b>\",\n",
      "\"link\": \"https:\\/\\/blog.naver.com\\/sinjin28?Redirect=Log&logNo=222536833075\",\n",
      "\"description\": \"제천 아이랑 가볼만한곳, 제천 의림지 용추폭포 &amp; 의림지 <b>파크랜드</b> 제천 의림지. 여행 전에 일정 짤때... 의림지 <b>파크랜드</b>는 왜 있는지 모르겠는데.. 옛날 수원에 원천유원지가 생각나게 하는 ㅋㅋㅋㅋㅋ(지금은... \",\n",
      "\"bloggername\": \"두아이와 여행, 캠핑, 맛집\",\n",
      "\"bloggerlink\": \"https://blog.naver.com/sinjin28\",\n",
      "\"postdate\": \"20211014\"\n",
      "\n",
      "},\n",
      "{\n",
      "\"title\": \"[인천예복] <b>파크랜드</b> 구월상설점 혼주정장 구입\",\n",
      "\"link\": \"https:\\/\\/blog.naver.com\\/torymimi?Redirect=Log&logNo=221821659234\",\n",
      "\"description\": \"그러나 비싼 맞춤정장은 싫다고 하셔서 인천 아버님댁 근처 할인매장을 찾아보다가 평이 좋은 <b>파크랜드</b> 구월상설점에 다녀오게 되었다. <b>파크랜드</b> 구월상설점 032-465-9991 10:00~22:00 연중무휴, 주차가능 <b>파크랜드</b>... \",\n",
      "\"bloggername\": \"갯토리, 순간을 소중히\",\n",
      "\"bloggerlink\": \"https://blog.naver.com/torymimi\",\n",
      "\"postdate\": \"20200224\"\n",
      "\n",
      "},\n",
      "{\n",
      "\"title\": \"제천 아이랑 가볼만한곳 의림지 <b>파크랜드</b> /용추폭포 유리전망대\",\n",
      "\"link\": \"https:\\/\\/blog.naver.com\\/tonsun67?Redirect=Log&logNo=222493818977\",\n",
      "\"description\": \"의림지 <b>파크랜드</b> 제천여행을 하면서 제일 가보고싶었던 청풍호반 케이블카도 탑승하고요 요즘 인스타에 핫한 용추폭포도 너무 궁금하더라구요 ㅎ 놀이동산인 의림지 <b>파크랜드</b> 까지 잇어서 아이랑 같이 가시면... \",\n",
      "\"bloggername\": \"꼼냥부르스\",\n",
      "\"bloggerlink\": \"https://blog.naver.com/tonsun67\",\n",
      "\"postdate\": \"20210903\"\n",
      "\n",
      "},\n",
      "{\n",
      "\"title\": \"Wedding16 #혼주예복 _ <b>파크랜드</b> 구매후기\",\n",
      "\"link\": \"https:\\/\\/blog.naver.com\\/lucky89149?Redirect=Log&logNo=222520619147\",\n",
      "\"description\": \"#혼주양복 #양복구매후기 #<b>파크랜드</b> #<b>파크랜드</b>수원점 #아빠양복구매 #혼주예복 #남자예복 #혼주양복구매 조금 이른감이 있지만, 벌써 아빠 양복을 사버렸어요 ㅋㅋㅋㅋ 그래서 후기 올립니당! 상견례도 하고... \",\n",
      "\"bloggername\": \"NOMADISM\",\n",
      "\"bloggerlink\": \"https://blog.naver.com/lucky89149\",\n",
      "\"postdate\": \"20210929\"\n",
      "\n",
      "},\n",
      "{\n",
      "\"title\": \"인천정장,구월동정장 <b>파크랜드</b> 구월상설점 가성비 좋은 양복... \",\n",
      "\"link\": \"https:\\/\\/blog.naver.com\\/cassandra2?Redirect=Log&logNo=222289618159\",\n",
      "\"description\": \"인천정장, 인천예복, 구월동정장 <b>파크랜드</b> 구월상설점 신랑이 검정색 기본 정장이 필요하다고 해서, 인천정장 가성비 품질 만족할만한 곳인 <b>파크랜드</b> 구월상설점 다녀왔어요. 1,2층이 전부 <b>파크랜드</b> 건물로... \",\n",
      "\"bloggername\": \"바람이 불어오는 곳\",\n",
      "\"bloggerlink\": \"https://blog.naver.com/cassandra2\",\n",
      "\"postdate\": \"20210327\"\n",
      "\n",
      "},\n",
      "{\n",
      "\"title\": \"인천정장 , 결혼식예복 ‘구월동<b>파크랜드</b>’/D's Bucket list\",\n",
      "\"link\": \"https:\\/\\/blog.naver.com\\/dadada832?Redirect=Log&logNo=222511429205\",\n",
      "\"description\": \"구월동<b>파크랜드</b> 저희는 스냅촬영용 정장을 맞추러 간거지만 결혼식예복,인천정장으로도 많이 하러 오시더라구요! 정말 가성비 좋고 질도 좋은 곳이라 추천해드리고싶어요~* <b>파크랜드</b>구월점 상설매장 구월동에... \",\n",
      "\"bloggername\": \"D's Bucket list\",\n",
      "\"bloggerlink\": \"https://blog.naver.com/dadada832\",\n",
      "\"postdate\": \"20210920\"\n",
      "\n",
      "}\n",
      "]\n",
      "}\n",
      "\n"
     ]
    }
   ],
   "source": [
    "import os\n",
    "import sys\n",
    "import urllib.request\n",
    "client_id = \"S79oTS9dx6TONhrab83P\" #네이버 어플리케이션 ID 입력\n",
    "client_secret = \"bV5K1PSVDD\"# 네이버 어플리케이션 SECRET 입력\n",
    "encText = urllib.parse.quote(\"파크랜드\") # 검색할 단어 입력\n",
    "\n",
    "url = \"https://openapi.naver.com/v1/search/blog?query=\" + encText # json 결과  #검색어 qeury의 검색할 때 사용하는 url\n",
    "                                                                                                                  \n",
    "    # url = \"https://openapi.naver.com/v1/search/blog.xml?query=\" + encText # xml 결과  \n",
    "                                                                       \n",
    "        \n",
    "request = urllib.request.Request(url)      \n",
    "request.add_header(\"X-Naver-Client-Id\",client_id)  \n",
    "request.add_header(\"X-Naver-Client-Secret\",client_secret)\n",
    "\n",
    "response = urllib.request.urlopen(request)  \n",
    "rescode = response.getcode()              #요청(request)을 반환(response)하는 것\n",
    "\n",
    "if(rescode==200):                        #서버가 요청을 제대로 처리했다는 뜻의 200\n",
    "    response_body = response.read()      #response.read()함수는 요청한 페이지를 읽어들인다는 의미\n",
    "    print(response_body.decode('utf-8'))\n",
    "else:\n",
    "    print(\"Error Code:\" + rescode)"
   ]
  },
  {
   "cell_type": "markdown",
   "metadata": {},
   "source": [
    "## 02. Naver Blog Crawling (Advanced)\n",
    "https://developers.naver.com/docs/search/blog/\n",
    "\n",
    "#### 1. BeautifulSoup 사용하기 : HTML, XML 등의 문서를 구문분석하기 위한 파이썬 라이브러리\n",
    "#### 2. 블로그 수집하고, CSV파일로 저장하기 \n"
   ]
  },
  {
   "cell_type": "code",
   "execution_count": null,
   "metadata": {},
   "outputs": [],
   "source": [
    "# 필요한 라이브러리 설치\n",
    "\n",
    "import re               #정규표현식 사용을 위한 라이브러리\n",
    "import json             #네이버API를 통해 가져온 JSON 파일을 처리하기 위한 라이브러리\n",
    "import math             #수학 라이브러리\n",
    "import requests         #http 통신을 사용\n",
    "import urllib.request   #웹과 관련된 내용을 처리하는 라이브러리: urllib\n",
    "import urllib.error     \n",
    "import urllib.parse       ##파싱(parse): 데이터를 특정 패턴이나 순서로 추출해 가공하는 것>> 파서(parser)로 웹페이지 구조를 읽어들임\n",
    "import pandas as pd"
   ]
  },
  {
   "cell_type": "code",
   "execution_count": 2,
   "metadata": {},
   "outputs": [
    {
     "name": "stdout",
     "output_type": "stream",
     "text": [
      "Requirement already satisfied: bs4 in /opt/anaconda3/lib/python3.8/site-packages (0.0.1)\r\n",
      "Requirement already satisfied: beautifulsoup4 in /opt/anaconda3/lib/python3.8/site-packages (from bs4) (4.9.3)\r\n",
      "Requirement already satisfied: soupsieve>1.2 in /opt/anaconda3/lib/python3.8/site-packages (from beautifulsoup4->bs4) (2.2.1)\r\n"
     ]
    }
   ],
   "source": [
    "# BeautifulSoup 설치  : 네이버 API는 블로그 일부 내용만 반환하여,크롤링 라이브러리인 BeautifulSoup를 설치하고 전체 블로그 URL로 접속하여 포스트 내용 전체를 가져와 저장\n",
    "!pip install bs4"
   ]
  },
  {
   "cell_type": "code",
   "execution_count": 3,
   "metadata": {},
   "outputs": [],
   "source": [
    "from bs4 import BeautifulSoup"
   ]
  },
  {
   "cell_type": "code",
   "execution_count": 4,
   "metadata": {},
   "outputs": [],
   "source": [
    "naver_client_id = \"S79oTS9dx6TONhrab83P\" #네이버 어플리케이션 ID 입력\n",
    "naver_client_secret = \"bV5K1PSVDD\"# 네이버 어플리케이션 SECRET 입력"
   ]
  },
  {
   "cell_type": "code",
   "execution_count": 16,
   "metadata": {},
   "outputs": [],
   "source": [
    "#블로그 개수 카운트\n",
    "# 블로그 전체 개수를 가져오는 함수: get_blog_count()\n",
    "#query=검색 키워드\n",
    "\n",
    "def get_blog_count(query, display) :\n",
    "    encode_query = urllib.parse.quote(query)\n",
    "    search_url = \"https://openapi.naver.com/v1/search/blog?query=\" + encode_query\n",
    "    request = urllib.request.Request(search_url)\n",
    "\n",
    "    request.add_header(\"X-Naver-Client-Id\", naver_client_id)\n",
    "    request.add_header(\"X-Naver-Client-Secret\", naver_client_secret)\n",
    "\n",
    "    response = urllib.request.urlopen(request)\n",
    "    response_code = response.getcode()\n",
    "\n",
    "    if response_code == 200:\n",
    "        response_body = response.read()\n",
    "        response_body_dict = json.loads(response_body.decode('utf-8'))\n",
    "\n",
    "        print(\"Last build date: \" + str(response_body_dict['lastBuildDate']))\n",
    "        print(\"Total: \" + str(response_body_dict['total']))\n",
    "        print(\"Start: \" + str(response_body_dict['start']))\n",
    "        print(\"Display: \" + str(response_body_dict['display']))\n",
    "\n",
    "        if response_body_dict['total'] == 0:\n",
    "            blog_count = 0\n",
    "        else:\n",
    "            blog_total = math.ceil(response_body_dict['total'] / int(display))\n",
    "\n",
    "            if blog_total >= 1000:\n",
    "                blog_count = 1000          #네이버에서는 검색에 대한 최대 1000개의 검색결과만 보여주기 때문에\n",
    "            else:\n",
    "                blog_count = blog_total\n",
    "\n",
    "            print(\"Blog total: \" + str(blog_total))\n",
    "            print(\"Blog count: \" + str(blog_count))\n",
    "        \n",
    "        return blog_count"
   ]
  },
  {
   "cell_type": "code",
   "execution_count": 20,
   "metadata": {},
   "outputs": [
    {
     "ename": "NameError",
     "evalue": "name 'urllib' is not defined",
     "output_type": "error",
     "traceback": [
      "\u001b[0;31m---------------------------------------------------------------------------\u001b[0m",
      "\u001b[0;31mNameError\u001b[0m                                 Traceback (most recent call last)",
      "\u001b[0;32m<ipython-input-20-44d2fbcdba0f>\u001b[0m in \u001b[0;36m<module>\u001b[0;34m\u001b[0m\n\u001b[1;32m      1\u001b[0m \u001b[0;31m#(query, display) parameter 입력하여 get_blog_count 함수 테스트\u001b[0m\u001b[0;34m\u001b[0m\u001b[0;34m\u001b[0m\u001b[0;34m\u001b[0m\u001b[0m\n\u001b[1;32m      2\u001b[0m \u001b[0;34m\u001b[0m\u001b[0m\n\u001b[0;32m----> 3\u001b[0;31m \u001b[0mget_blog_count\u001b[0m\u001b[0;34m(\u001b[0m\u001b[0;34m'수트패션'\u001b[0m\u001b[0;34m,\u001b[0m\u001b[0;36m3\u001b[0m\u001b[0;34m)\u001b[0m\u001b[0;34m\u001b[0m\u001b[0;34m\u001b[0m\u001b[0m\n\u001b[0m",
      "\u001b[0;32m<ipython-input-16-61623f70fa64>\u001b[0m in \u001b[0;36mget_blog_count\u001b[0;34m(query, display)\u001b[0m\n\u001b[1;32m      4\u001b[0m \u001b[0;34m\u001b[0m\u001b[0m\n\u001b[1;32m      5\u001b[0m \u001b[0;32mdef\u001b[0m \u001b[0mget_blog_count\u001b[0m\u001b[0;34m(\u001b[0m\u001b[0mquery\u001b[0m\u001b[0;34m,\u001b[0m \u001b[0mdisplay\u001b[0m\u001b[0;34m)\u001b[0m \u001b[0;34m:\u001b[0m\u001b[0;34m\u001b[0m\u001b[0;34m\u001b[0m\u001b[0m\n\u001b[0;32m----> 6\u001b[0;31m     \u001b[0mencode_query\u001b[0m \u001b[0;34m=\u001b[0m \u001b[0murllib\u001b[0m\u001b[0;34m.\u001b[0m\u001b[0mparse\u001b[0m\u001b[0;34m.\u001b[0m\u001b[0mquote\u001b[0m\u001b[0;34m(\u001b[0m\u001b[0mquery\u001b[0m\u001b[0;34m)\u001b[0m\u001b[0;34m\u001b[0m\u001b[0;34m\u001b[0m\u001b[0m\n\u001b[0m\u001b[1;32m      7\u001b[0m \u001b[0;34m\u001b[0m\u001b[0m\n\u001b[1;32m      8\u001b[0m     \u001b[0msearch_url\u001b[0m \u001b[0;34m=\u001b[0m \u001b[0;34m\"https://openapi.naver.com/v1/search/blog?query=\"\u001b[0m \u001b[0;34m+\u001b[0m \u001b[0mencode_query\u001b[0m\u001b[0;34m\u001b[0m\u001b[0;34m\u001b[0m\u001b[0m\n",
      "\u001b[0;31mNameError\u001b[0m: name 'urllib' is not defined"
     ]
    }
   ],
   "source": [
    "#(query, display) parameter 입력하여 get_blog_count 함수 테스트\n",
    "\n",
    "get_blog_count('수트패션',3)"
   ]
  },
  {
   "cell_type": "code",
   "execution_count": 33,
   "metadata": {},
   "outputs": [],
   "source": [
    "# 블로그 내용 가져오는 코드\n",
    "\n",
    "def get_blog_post(query, display, start_index, sort):\n",
    "    global no, df\n",
    "    \n",
    "    encode_query = urllib.parse.quote(query)\n",
    "    search_url = \"https://openapi.naver.com/v1/search/blog?query=\" + encode_query + \"&display=\" + str(display) + \"&start=\" + str(start_index) + \"&sort=\" + sort\n",
    "\n",
    "    request = urllib.request.Request(search_url)\n",
    "\n",
    "    request.add_header(\"X-Naver-Client-Id\", naver_client_id)\n",
    "    request.add_header(\"X-Naver-Client-Secret\", naver_client_secret)\n",
    "\n",
    "    response = urllib.request.urlopen(request)\n",
    "    response_code = response.getcode()\n",
    "\n",
    "    if response_code == 200:\n",
    "        response_body = response.read()\n",
    "        response_body_dict = json.loads(response_body.decode('utf-8'))\n",
    "        for item_index in range(0, len(response_body_dict['items'])):\n",
    "            try:\n",
    "                remove_html_tag = re.compile('<.*?>')\n",
    "                title = re.sub(remove_html_tag, '', response_body_dict['items'][item_index]['title'])\n",
    "                link = response_body_dict['items'][item_index]['link'].replace(\"amp;\", \"\")\n",
    "                description = re.sub(remove_html_tag, '', response_body_dict['items'][item_index]['description'])\n",
    "                blogger_name = response_body_dict['items'][item_index]['bloggername']\n",
    "                blogger_link = response_body_dict['items'][item_index]['bloggerlink']\n",
    "                post_date = response_body_dict['items'][item_index]['postdate']\n",
    "\n",
    "                no += 1\n",
    "                post_code = requests.get(link)\n",
    "                post_text = post_code.text\n",
    "                post_soup = BeautifulSoup(post_text, 'lxml')\n",
    "\n",
    "                blog_post_content_text = \"\"\n",
    "                for mainFrame in post_soup.select('iframe#mainFrame'):\n",
    "                    blog_post_url = \"http://blog.naver.com\" + mainFrame.get('src')\n",
    "                    blog_post_code = requests.get(blog_post_url)\n",
    "                    blog_post_text = blog_post_code.text\n",
    "                    blog_post_soup = BeautifulSoup(blog_post_text, 'lxml')\n",
    "                    \n",
    "                    for blog_post_content in blog_post_soup.find_all('div', class_='se-viewer'):\n",
    "                        blog_post_content_text = blog_post_content.get_text()\n",
    "                        \n",
    "                    for blog_post_content in blog_post_soup.find_all('div', class_='se_doc_viewer'):\n",
    "                        blog_post_content_text = blog_post_content.get_text()\n",
    " \n",
    "                    for blog_post_content in blog_post_soup.select('div#postViewArea'):\n",
    "                        blog_post_content_text = blog_post_content.get_text()\n",
    "\n",
    "                df.loc[no] = [title, link, description, blogger_name, blogger_link, post_date, blog_post_content_text]\n",
    "                print(\"#\", end='')\n",
    "                \n",
    "            except:\n",
    "                item_index += 1"
   ]
  },
  {
   "cell_type": "code",
   "execution_count": 34,
   "metadata": {},
   "outputs": [
    {
     "ename": "NameError",
     "evalue": "name 'json' is not defined",
     "output_type": "error",
     "traceback": [
      "\u001b[0;31m---------------------------------------------------------------------------\u001b[0m",
      "\u001b[0;31mNameError\u001b[0m                                 Traceback (most recent call last)",
      "\u001b[0;32m<ipython-input-34-65927b29c121>\u001b[0m in \u001b[0;36m<module>\u001b[0;34m\u001b[0m\n\u001b[1;32m      1\u001b[0m \u001b[0;31m#(query, display, start_index, sort) 입력하여 get_blog_post 함수 테스트\u001b[0m\u001b[0;34m\u001b[0m\u001b[0;34m\u001b[0m\u001b[0;34m\u001b[0m\u001b[0m\n\u001b[1;32m      2\u001b[0m \u001b[0;34m\u001b[0m\u001b[0m\n\u001b[0;32m----> 3\u001b[0;31m \u001b[0mget_blog_post\u001b[0m\u001b[0;34m(\u001b[0m\u001b[0;34m'코로나패션'\u001b[0m\u001b[0;34m,\u001b[0m \u001b[0;36m10\u001b[0m\u001b[0;34m,\u001b[0m \u001b[0;36m1\u001b[0m\u001b[0;34m,\u001b[0m \u001b[0;34m'sim'\u001b[0m\u001b[0;34m)\u001b[0m \u001b[0;31m#date_날짜순\u001b[0m\u001b[0;34m\u001b[0m\u001b[0;34m\u001b[0m\u001b[0m\n\u001b[0m",
      "\u001b[0;32m<ipython-input-33-92476272bd26>\u001b[0m in \u001b[0;36mget_blog_post\u001b[0;34m(query, display, start_index, sort)\u001b[0m\n\u001b[1;32m     17\u001b[0m     \u001b[0;32mif\u001b[0m \u001b[0mresponse_code\u001b[0m \u001b[0;34m==\u001b[0m \u001b[0;36m200\u001b[0m\u001b[0;34m:\u001b[0m\u001b[0;34m\u001b[0m\u001b[0;34m\u001b[0m\u001b[0m\n\u001b[1;32m     18\u001b[0m         \u001b[0mresponse_body\u001b[0m \u001b[0;34m=\u001b[0m \u001b[0mresponse\u001b[0m\u001b[0;34m.\u001b[0m\u001b[0mread\u001b[0m\u001b[0;34m(\u001b[0m\u001b[0;34m)\u001b[0m\u001b[0;34m\u001b[0m\u001b[0;34m\u001b[0m\u001b[0m\n\u001b[0;32m---> 19\u001b[0;31m         \u001b[0mresponse_body_dict\u001b[0m \u001b[0;34m=\u001b[0m \u001b[0mjson\u001b[0m\u001b[0;34m.\u001b[0m\u001b[0mloads\u001b[0m\u001b[0;34m(\u001b[0m\u001b[0mresponse_body\u001b[0m\u001b[0;34m.\u001b[0m\u001b[0mdecode\u001b[0m\u001b[0;34m(\u001b[0m\u001b[0;34m'utf-8'\u001b[0m\u001b[0;34m)\u001b[0m\u001b[0;34m)\u001b[0m\u001b[0;34m\u001b[0m\u001b[0;34m\u001b[0m\u001b[0m\n\u001b[0m\u001b[1;32m     20\u001b[0m         \u001b[0;32mfor\u001b[0m \u001b[0mitem_index\u001b[0m \u001b[0;32min\u001b[0m \u001b[0mrange\u001b[0m\u001b[0;34m(\u001b[0m\u001b[0;36m0\u001b[0m\u001b[0;34m,\u001b[0m \u001b[0mlen\u001b[0m\u001b[0;34m(\u001b[0m\u001b[0mresponse_body_dict\u001b[0m\u001b[0;34m[\u001b[0m\u001b[0;34m'items'\u001b[0m\u001b[0;34m]\u001b[0m\u001b[0;34m)\u001b[0m\u001b[0;34m)\u001b[0m\u001b[0;34m:\u001b[0m\u001b[0;34m\u001b[0m\u001b[0;34m\u001b[0m\u001b[0m\n\u001b[1;32m     21\u001b[0m             \u001b[0;32mtry\u001b[0m\u001b[0;34m:\u001b[0m\u001b[0;34m\u001b[0m\u001b[0;34m\u001b[0m\u001b[0m\n",
      "\u001b[0;31mNameError\u001b[0m: name 'json' is not defined"
     ]
    }
   ],
   "source": [
    "#(query, display, start_index, sort) 입력하여 get_blog_post 함수 테스트\n",
    "\n",
    "get_blog_post('코로나패션', 10, 1, 'sim') #date_날짜순"
   ]
  },
  {
   "cell_type": "code",
   "execution_count": 18,
   "metadata": {},
   "outputs": [
    {
     "ename": "NameError",
     "evalue": "name 'pd' is not defined",
     "output_type": "error",
     "traceback": [
      "\u001b[0;31m---------------------------------------------------------------------------\u001b[0m",
      "\u001b[0;31mNameError\u001b[0m                                 Traceback (most recent call last)",
      "\u001b[0;32m<ipython-input-18-e409e9492a3e>\u001b[0m in \u001b[0;36m<module>\u001b[0;34m\u001b[0m\n\u001b[1;32m      5\u001b[0m \u001b[0msort\u001b[0m \u001b[0;34m=\u001b[0m  \u001b[0;34m'sim'\u001b[0m\u001b[0;34m\u001b[0m\u001b[0;34m\u001b[0m\u001b[0m\n\u001b[1;32m      6\u001b[0m \u001b[0;34m\u001b[0m\u001b[0m\n\u001b[0;32m----> 7\u001b[0;31m \u001b[0mdf\u001b[0m \u001b[0;34m=\u001b[0m \u001b[0mpd\u001b[0m\u001b[0;34m.\u001b[0m\u001b[0mDataFrame\u001b[0m\u001b[0;34m(\u001b[0m\u001b[0mcolumns\u001b[0m\u001b[0;34m=\u001b[0m\u001b[0;34m(\u001b[0m\u001b[0;34m\"Title\"\u001b[0m\u001b[0;34m,\u001b[0m \u001b[0;34m\"Link\"\u001b[0m\u001b[0;34m,\u001b[0m \u001b[0;34m\"Description\"\u001b[0m\u001b[0;34m,\u001b[0m \u001b[0;34m\"Blogger Name\"\u001b[0m\u001b[0;34m,\u001b[0m \u001b[0;34m\"Blogger Link\"\u001b[0m\u001b[0;34m,\u001b[0m \u001b[0;34m\"Post Date\"\u001b[0m\u001b[0;34m,\u001b[0m \u001b[0;34m\"Post Contents\"\u001b[0m\u001b[0;34m)\u001b[0m\u001b[0;34m)\u001b[0m\u001b[0;34m\u001b[0m\u001b[0;34m\u001b[0m\u001b[0m\n\u001b[0m\u001b[1;32m      8\u001b[0m \u001b[0;34m\u001b[0m\u001b[0m\n\u001b[1;32m      9\u001b[0m \u001b[0mblog_count\u001b[0m \u001b[0;34m=\u001b[0m \u001b[0mget_blog_count\u001b[0m\u001b[0;34m(\u001b[0m\u001b[0mquery\u001b[0m\u001b[0;34m,\u001b[0m \u001b[0mdisplay\u001b[0m\u001b[0;34m)\u001b[0m\u001b[0;34m\u001b[0m\u001b[0;34m\u001b[0m\u001b[0m\n",
      "\u001b[0;31mNameError\u001b[0m: name 'pd' is not defined"
     ]
    }
   ],
   "source": [
    "no = 0                 # 몇개의 포스트를 저장하였는지 세기 위한 index\n",
    "query = '코로나 패션'              # 검색을 원하는 문자열로서 UTF-8로 인코딩한다.\n",
    "display = 10            # 검색 결과 출력 건수 지정, 10(기본값),100(최대)\n",
    "start = 1              # 검색 시작 위치로 최대 1000까지 가능\n",
    "sort =  'sim'               \n",
    "\n",
    "df = pd.DataFrame(columns=(\"Title\", \"Link\", \"Description\", \"Blogger Name\", \"Blogger Link\", \"Post Date\", \"Post Contents\"))\n",
    "\n",
    "blog_count = get_blog_count(query, display)\n",
    "for start_index in range(start, blog_count + 1, display):  #for 함수는 반복함수 \n",
    "    get_blog_post(query, display, start_index, sort)\n",
    "\n",
    "df.to_csv(\"21F_covid_fashion.csv\", header=True, index=False) #저장할 파일이름 입력"
   ]
  },
  {
   "cell_type": "code",
   "execution_count": null,
   "metadata": {},
   "outputs": [],
   "source": [
    "# csv 파일 불러와서 잘 저장되었는지 테스트\n",
    "\n",
    "data = pd.read_csv('21F_covid_fashion.csv')\n",
    "data.head()"
   ]
  }
 ],
 "metadata": {
  "kernelspec": {
   "display_name": "Python 3",
   "language": "python",
   "name": "python3"
  },
  "language_info": {
   "codemirror_mode": {
    "name": "ipython",
    "version": 3
   },
   "file_extension": ".py",
   "mimetype": "text/x-python",
   "name": "python",
   "nbconvert_exporter": "python",
   "pygments_lexer": "ipython3",
   "version": "3.8.8"
  }
 },
 "nbformat": 4,
 "nbformat_minor": 4
}
