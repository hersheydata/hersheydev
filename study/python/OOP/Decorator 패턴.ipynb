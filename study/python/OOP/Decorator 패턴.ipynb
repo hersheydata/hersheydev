{
 "cells": [
  {
   "cell_type": "markdown",
   "metadata": {},
   "source": [
    "## Decorator 패턴"
   ]
  },
  {
   "cell_type": "code",
   "execution_count": 2,
   "metadata": {},
   "outputs": [],
   "source": [
    "def smile():\n",
    "    print(\"🤣\")\n",
    "\n",
    "def angry():\n",
    "    print(\"🤯\")\n",
    "    \n",
    "def love():\n",
    "    print(\"🥰\")\n",
    "    \n",
    "def fire():\n",
    "    print(\"🔥\")\n",
    "    \n",
    "def check():\n",
    "    print(\"✅\")\n",
    "    \n",
    "def star():\n",
    "    print(\"🤩\")\n",
    "    \n",
    "def sleepy():\n",
    "    print(\"😪\")\n",
    "    \n",
    "def devil():\n",
    "    print(\"😈\")\n",
    "    \n",
    "def hi():\n",
    "    print(\"👋\")"
   ]
  },
  {
   "cell_type": "code",
   "execution_count": 3,
   "metadata": {},
   "outputs": [
    {
     "name": "stdout",
     "output_type": "stream",
     "text": [
      "🤣\n",
      "🤯\n",
      "🥰\n",
      "🔥\n",
      "✅\n",
      "🤩\n",
      "😪\n",
      "😈\n",
      "👋\n"
     ]
    }
   ],
   "source": [
    "smile()\n",
    "angry()\n",
    "love()\n",
    "fire()\n",
    "check()\n",
    "star()\n",
    "sleepy()\n",
    "devil()\n",
    "hi()"
   ]
  },
  {
   "cell_type": "markdown",
   "metadata": {},
   "source": [
    "각 이모티콘마다 저작권 표시를 해주기로 했다...  \n",
    "그럼 각 함수마다 일일히 수기로 \"@copyright\"을 첨가해줘야 한다.\n",
    "\n",
    "이 때, 재사용성을 고려해서 함수를 \"새로 정의\"해서, 개별 이모티콘 생성 함수를 받는 방식으로 처리를 할 수 있다"
   ]
  },
  {
   "cell_type": "code",
   "execution_count": 54,
   "metadata": {},
   "outputs": [],
   "source": [
    "def copyright(func):\n",
    "    \n",
    "    def new_func():\n",
    "        print(\"@copyright\")\n",
    "        func()\n",
    "        \n",
    "    return new_func"
   ]
  },
  {
   "cell_type": "markdown",
   "metadata": {},
   "source": [
    "- copyright(func())로 처리하면 이모티콘이 출력되는데, \n",
    "- copyright(func)으로 함수명만 인자로 받아오면 아무런 값도 출력되지 않는다."
   ]
  },
  {
   "cell_type": "code",
   "execution_count": 18,
   "metadata": {},
   "outputs": [
    {
     "name": "stdout",
     "output_type": "stream",
     "text": [
      "🤣\n",
      "함수명과 ()를 포함한 결과는 <function copyright.<locals>.new_func at 0x105e479d8>입니다.\n",
      "------\n",
      "함수명만 받고, ()를 포함하지 않은 결과는 <function copyright.<locals>.new_func at 0x105e6c048>입니다.\n"
     ]
    }
   ],
   "source": [
    "print(f\"함수명과 ()를 포함한 결과는 {copyright(smile())}입니다.\") \n",
    "print(\"------\")\n",
    "print(f\"함수명만 받고, ()를 포함하지 않은 결과는 {copyright(smile)}입니다.\")"
   ]
  },
  {
   "cell_type": "code",
   "execution_count": 42,
   "metadata": {},
   "outputs": [
    {
     "data": {
      "text/plain": [
       "['smile()',\n",
       " 'angry()',\n",
       " 'love()',\n",
       " 'fire()',\n",
       " 'check()',\n",
       " 'star()',\n",
       " 'sleepy()',\n",
       " 'devil()',\n",
       " 'hi()']"
      ]
     },
     "execution_count": 42,
     "metadata": {},
     "output_type": "execute_result"
    }
   ],
   "source": [
    "emoji_funcs = [\"smile\", \n",
    "          \"angry\", \n",
    "          \"love\", \"fire\", \"check\", \"star\", \"sleepy\", \"devil\", \"hi\"]\n",
    "\n",
    "# 개노가다로 리스트 안 텍스트에 ()를 붙일 생각하지 말고, \n",
    "# 반복되는 과업은 항상 반복문 쓸 생각을 하자. 아래와 같이\n",
    "\n",
    "ls = []\n",
    "\n",
    "for i in emoji_funcs: \n",
    "    i = i+\"()\"\n",
    "    ls.append(i)\n",
    "\n",
    "ls"
   ]
  },
  {
   "cell_type": "code",
   "execution_count": 48,
   "metadata": {},
   "outputs": [
    {
     "data": {
      "text/plain": [
       "<function __main__.copyright.<locals>.new_func()>"
      ]
     },
     "execution_count": 48,
     "metadata": {},
     "output_type": "execute_result"
    }
   ],
   "source": [
    "for i in ls:\n",
    "    copyright(i)\n",
    "    \n",
    "# 위 구조가 함수로서 동작하지 않는 이유는,,, \n",
    "# copyright()의 인자를 함수가 아니라 str으로 받기 때문이야. 아래처럼..\n",
    "copyright(\"smile()\")\n",
    "\n",
    "# 그렇다면 반복문 안에서 특정 함수를 반복하는 방법은 무엇인가\n",
    "# string to function 으로 구글링을 했다 \n",
    "## 특정 String을 함수화시키는 eval()을 알게 되었다"
   ]
  },
  {
   "cell_type": "markdown",
   "metadata": {},
   "source": [
    "cf) iterator 관련 Python post\n",
    "> https://realpython.com/python-iterators-iterables/#understanding-iteration-in-python"
   ]
  },
  {
   "cell_type": "code",
   "execution_count": 56,
   "metadata": {},
   "outputs": [
    {
     "name": "stdout",
     "output_type": "stream",
     "text": [
      "🤣\n",
      "🤯\n",
      "🥰\n",
      "🔥\n",
      "✅\n",
      "🤩\n",
      "😪\n",
      "😈\n",
      "👋\n"
     ]
    }
   ],
   "source": [
    "for i in ls:\n",
    "    copyright(eval(i))\n",
    "\n",
    "# 대박..."
   ]
  },
  {
   "cell_type": "code",
   "execution_count": 55,
   "metadata": {},
   "outputs": [
    {
     "ename": "TypeError",
     "evalue": "copyright() takes 1 positional argument but 9 were given",
     "output_type": "error",
     "traceback": [
      "\u001b[0;31m---------------------------------------------------------------------------\u001b[0m",
      "\u001b[0;31mTypeError\u001b[0m                                 Traceback (most recent call last)",
      "\u001b[0;32m<ipython-input-55-0f3b55cdaff9>\u001b[0m in \u001b[0;36m<module>\u001b[0;34m\u001b[0m\n\u001b[0;32m----> 1\u001b[0;31m \u001b[0mcopyright\u001b[0m\u001b[0;34m(\u001b[0m\u001b[0;34m*\u001b[0m\u001b[0mls\u001b[0m\u001b[0;34m)\u001b[0m\u001b[0;34m\u001b[0m\u001b[0;34m\u001b[0m\u001b[0m\n\u001b[0m",
      "\u001b[0;31mTypeError\u001b[0m: copyright() takes 1 positional argument but 9 were given"
     ]
    }
   ],
   "source": [
    "copyright(*ls)"
   ]
  },
  {
   "cell_type": "markdown",
   "metadata": {},
   "source": [
    "위 오류를 보고 개꿀팁을 하나 알게 되었다. \n",
    "단변수 함수와 다변수 함수의 설계에 있어 \"*\"의 차이이다."
   ]
  },
  {
   "cell_type": "code",
   "execution_count": null,
   "metadata": {},
   "outputs": [],
   "source": [
    "# 1. 단일 인자만 받아올 수 있는 경우 : 단변수 함수\n",
    "def func(val):\n",
    "    \n",
    "#2. 복수 인자를 받게끔 설계한 경우 : 다변수 함수 \n",
    "## 인자 앞에 *만 붙이면 된다\n",
    "def func(*val):"
   ]
  },
  {
   "cell_type": "markdown",
   "metadata": {},
   "source": [
    "위 두 함수의 차이는 func 함수의 인자(argument)로서 단일 인자만 받느냐, \n",
    "복수의 인자를 받을 수 있느냐의 차이다. \n",
    "\n",
    "만약, 2번째처럼 인자 이름 앞에 *을 셋팅해놓게 되면 특정 인자들을 리스트 안에 담아놓고\n",
    "다변수 함수를 만들 수 있게 된다."
   ]
  },
  {
   "cell_type": "markdown",
   "metadata": {},
   "source": [
    "그치만... 이건 그냥 테크니컬한 것들이고 너무 귀찮아"
   ]
  },
  {
   "cell_type": "markdown",
   "metadata": {},
   "source": [
    "아래와 같이 데코레이팅 함수를 우선 정의한 후에, \n",
    "\n",
    "데코레이팅의 타겟이 되는 함수들 **바로 윗 줄에** \"@데코레이터 함수명\"을 써주면 된다\n",
    "\n",
    "## Decorator pattern\n",
    "- 데코레이터 패턴의 구조 \n",
    "\n",
    "1) 상위 계층 : 데코레이팅  \n",
    "    - 하위 계층 1.1) decorator contetns  \n",
    "    - 하위 계층 1.2) functions to apply decorator (Target)"
   ]
  },
  {
   "cell_type": "code",
   "execution_count": 57,
   "metadata": {},
   "outputs": [],
   "source": [
    "#1.상위 함수\n",
    "def copyright(func):\n",
    "    \n",
    "    def new_func():\n",
    "        print(\"@copyright\") # decorator contents\n",
    "        func() # 데코레이팅 패턴 적용의 Target 함수\n",
    "        \n",
    "    return new_func\n",
    "\n",
    "@copyright\n",
    "def smile():\n",
    "    print(\"🤣\")\n",
    "\n",
    "@copyright\n",
    "def angry():\n",
    "    print(\"🤯\")\n",
    "\n",
    "@copyright    \n",
    "def love():\n",
    "    print(\"🥰\")\n",
    "\n",
    "@copyright    \n",
    "def fire():\n",
    "    print(\"🔥\")\n",
    "    \n",
    "@copyright    \n",
    "def check():\n",
    "    print(\"✅\")\n",
    "\n",
    "@copyright    \n",
    "def star():\n",
    "    print(\"🤩\")\n",
    "\n",
    "@copyright    \n",
    "def sleepy():\n",
    "    print(\"😪\")\n",
    "\n",
    "@copyright    \n",
    "def devil():\n",
    "    print(\"😈\")\n",
    "\n",
    "@copyright    \n",
    "def hi():\n",
    "    print(\"👋\")"
   ]
  },
  {
   "cell_type": "code",
   "execution_count": 58,
   "metadata": {},
   "outputs": [
    {
     "name": "stdout",
     "output_type": "stream",
     "text": [
      "@copyright\n",
      "👋\n"
     ]
    }
   ],
   "source": []
  },
  {
   "cell_type": "code",
   "execution_count": null,
   "metadata": {},
   "outputs": [],
   "source": []
  }
 ],
 "metadata": {
  "kernelspec": {
   "display_name": "Python 3",
   "language": "python",
   "name": "python3"
  },
  "language_info": {
   "codemirror_mode": {
    "name": "ipython",
    "version": 3
   },
   "file_extension": ".py",
   "mimetype": "text/x-python",
   "name": "python",
   "nbconvert_exporter": "python",
   "pygments_lexer": "ipython3",
   "version": "3.7.2"
  }
 },
 "nbformat": 4,
 "nbformat_minor": 2
}
