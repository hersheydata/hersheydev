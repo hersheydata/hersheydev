{
 "cells": [
  {
   "cell_type": "markdown",
   "metadata": {},
   "source": [
    "## Python 클래스\n",
    "\n",
    "파이썬 클래스는 타입을 만들어내는 도구입니다. int, float, str과 같이 여러분의 새로운 타입을 만들 수 있습니다."
   ]
  },
  {
   "cell_type": "markdown",
   "metadata": {},
   "source": [
    "### 251. 클래스, 객체, 인스턴스\n",
    "클래스, 객체, 인스턴스에 대해 각각 설명해보자"
   ]
  },
  {
   "cell_type": "markdown",
   "metadata": {},
   "source": [
    "클래스, 객체, 인스턴스는 객체 지향 프로그래밍의 핵심 구성요소로, 재사용 가능한 코드를 만드는 것이 이 요소들의 주된 탄생 목적이다. 다만, 프로그래밍 언어의 시초인 C의 경우 클래스를 지원하지 않는다. 이는 프로그래밍에 있어서 클래스의 존재는 필수적이진 않다는 것이다.\n",
    "\n",
    "클래스, 객체, 인스턴스의 정의는 아래와 같다.\n",
    "\n",
    "* 클래스 : 동일한 역할을 하는 프로그램을 계속해서 만들어낼 수 있는 금형과도 같다.\n",
    "* 객체 : 특정 클래스(금형)를 사용하여 만들어낸 프로그램(제품)이다. 1개의 클래스는 무수히 많은 객체들을 자유롭게 만들 수 있다. \n",
    "* 인스턴스 : 클래스로 만든 객체 하나하나를 인스턴스라고 한다. 객체와 인스턴스의 논리적 차이는 무엇일까? Cookie라는 클래스를 사용하여 a, b라는 객체를 만들었다고 가정하자. 이때, a 자체는 객체라고 부르지만 클래스 Cookie의 인스턴스라고도 부른다. 마찬가지로, b 자체는 객체이지만 클래스 Cookie의 인스턴스다. 합하여, a와 b는 각각 클래스 Cookie의 인스턴스이다."
   ]
  },
  {
   "cell_type": "markdown",
   "metadata": {},
   "source": [
    "### 252. 클래스 정의\n",
    "비어있는 사람(Human) 클래스를 정의해보자"
   ]
  },
  {
   "cell_type": "code",
   "execution_count": 1,
   "metadata": {},
   "outputs": [],
   "source": [
    "class Human():\n",
    "    pass"
   ]
  },
  {
   "cell_type": "markdown",
   "metadata": {},
   "source": [
    "### 253. 인스턴스 생성\n",
    "Human 클래스의 인스턴스를 생성하고 이를 areum 변수로 바인딩해보자"
   ]
  },
  {
   "cell_type": "code",
   "execution_count": 3,
   "metadata": {},
   "outputs": [],
   "source": [
    "areum = Human()"
   ]
  },
  {
   "cell_type": "markdown",
   "metadata": {},
   "source": [
    "### 254. 클래스 생성자 - 1\n",
    "Human 클래스에 \"응애응애\"를 출력하는 생성자를 추가하라"
   ]
  },
  {
   "cell_type": "code",
   "execution_count": 5,
   "metadata": {},
   "outputs": [
    {
     "name": "stdout",
     "output_type": "stream",
     "text": [
      "응애응애\n"
     ]
    }
   ],
   "source": [
    "class Human():\n",
    "    def __init__(self):\n",
    "        print(\"응애응애\")\n",
    "\n",
    "areum = Human()"
   ]
  },
  {
   "cell_type": "markdown",
   "metadata": {},
   "source": [
    "### 255. 클래스 생성자 - 2\n",
    "사람 클래스에 (이름, 나이, 성별)을 받는 생성자를 추가하라"
   ]
  },
  {
   "cell_type": "code",
   "execution_count": 9,
   "metadata": {},
   "outputs": [
    {
     "name": "stdout",
     "output_type": "stream",
     "text": [
      "아름\n",
      "25\n",
      "여자\n"
     ]
    }
   ],
   "source": [
    "class Human():\n",
    "    def __init__(self, name, age, sex):\n",
    "        self.name = name\n",
    "        self.age = age\n",
    "        self.sex = sex\n",
    "\n",
    "areum = Human(\"아름\", 25, \"여자\")\n",
    "\n",
    "print(areum.name)\n",
    "print(areum.age)\n",
    "print(areum.sex)"
   ]
  },
  {
   "cell_type": "markdown",
   "metadata": {},
   "source": [
    "### 256. 인스턴스 속성에 접근\n",
    "255에서 생성한 인스턴스의 이름, 나이, 성별을 출력하라. 인스턴스 변수에 접근하여 값을 출력하면 된다."
   ]
  },
  {
   "cell_type": "code",
   "execution_count": 13,
   "metadata": {
    "scrolled": true
   },
   "outputs": [
    {
     "name": "stdout",
     "output_type": "stream",
     "text": [
      "이름: 아름\n",
      "나이: 25\n",
      "성별: 여자\n"
     ]
    }
   ],
   "source": [
    "print(f\"이름: {areum.name}\")\n",
    "print(f\"나이: {areum.age}\")\n",
    "print(f\"성별: {areum.sex}\")"
   ]
  },
  {
   "cell_type": "markdown",
   "metadata": {},
   "source": [
    "### 257. 클래스 메소드 - 1\n",
    "Human 클래스에서 이름, 나이, 성별을 출력하는 who() 메서드를 추가하세요"
   ]
  },
  {
   "cell_type": "code",
   "execution_count": 21,
   "metadata": {},
   "outputs": [
    {
     "name": "stdout",
     "output_type": "stream",
     "text": [
      "이름: 아름, 나이: 25, 성별: 여자\n"
     ]
    }
   ],
   "source": [
    "class Human():\n",
    "    def __init__(self, name, age, sex):\n",
    "        self.name = name\n",
    "        self.age = age\n",
    "        self.sex = sex\n",
    "    \n",
    "    def who(self): #who 메서드 추가 \n",
    "        print(f\"이름: {self.name}, 나이: {self.age}, 성별: {self.sex}\")\n",
    "        \n",
    "areum = Human(\"아름\", 25, \"여자\")\n",
    "areum.who()"
   ]
  },
  {
   "cell_type": "markdown",
   "metadata": {},
   "source": [
    "### 258. 클래스 메소드 - 2\n",
    "Human 클래스에서 (이름, 나이, 성별)을 받는 setInfo 메소드를 추가하세요"
   ]
  },
  {
   "cell_type": "code",
   "execution_count": 23,
   "metadata": {},
   "outputs": [
    {
     "name": "stdout",
     "output_type": "stream",
     "text": [
      "이름: 모름, 나이: 0, 성별: 모름\n",
      "이름: 아름, 나이: 25, 성별: 여자\n"
     ]
    }
   ],
   "source": [
    "class Human():\n",
    "    def __init__(self, name, age, sex):\n",
    "        self.name = name\n",
    "        self.age = age\n",
    "        self.sex = sex\n",
    "    \n",
    "    def who(self): #who 메서드 추가 \n",
    "        print(f\"이름: {self.name}, 나이: {self.age}, 성별: {self.sex}\")\n",
    "    \n",
    "    def setInfo(self, name, age, sex):\n",
    "        self.name = name\n",
    "        self.age = age\n",
    "        self.sex = sex\n",
    "\n",
    "areum = Human(\"모름\", 0, \"모름\")\n",
    "areum.who()\n",
    "areum.setInfo(\"아름\", 25, \"여자\") #info를 업데이트하는 기능의 메소드가 되는군\n",
    "areum.who()"
   ]
  },
  {
   "cell_type": "markdown",
   "metadata": {},
   "source": [
    "### 259. 클래스 소멸자\n",
    "Human 클래스에 \"나의 죽음을 알리지 말라\"를 출력하는 소멸자를 추가하세요"
   ]
  },
  {
   "cell_type": "code",
   "execution_count": 26,
   "metadata": {},
   "outputs": [
    {
     "name": "stdout",
     "output_type": "stream",
     "text": [
      "나의 죽음을 알리지 말라\n"
     ]
    }
   ],
   "source": [
    "class Human():\n",
    "    def __init__(self, name, age, sex):\n",
    "        self.name = name\n",
    "        self.age = age\n",
    "        self.sex = sex\n",
    "    \n",
    "    def who(self): #who 메서드 추가 \n",
    "        print(f\"이름: {self.name}, 나이: {self.age}, 성별: {self.sex}\")\n",
    "    \n",
    "    def setInfo(self, name, age, sex):\n",
    "        self.name = name\n",
    "        self.age = age\n",
    "        self.sex = sex\n",
    "\n",
    "    def __del__(self):\n",
    "        print(\"나의 죽음을 알리지 말라\")\n",
    "\n",
    "areum = Human(\"모름\", 25, \"모름\")\n",
    "del areum"
   ]
  },
  {
   "cell_type": "markdown",
   "metadata": {},
   "source": [
    "### 260. 에러의 원인\n",
    "아래와 같은 에러가 나오는 이유는?"
   ]
  },
  {
   "cell_type": "code",
   "execution_count": 30,
   "metadata": {},
   "outputs": [
    {
     "ename": "TypeError",
     "evalue": "print() takes 0 positional arguments but 1 was given",
     "output_type": "error",
     "traceback": [
      "\u001b[0;31m---------------------------------------------------------------------------\u001b[0m",
      "\u001b[0;31mTypeError\u001b[0m                                 Traceback (most recent call last)",
      "\u001b[0;32m<ipython-input-30-97eda940f8a1>\u001b[0m in \u001b[0;36m<module>\u001b[0;34m\u001b[0m\n\u001b[1;32m      4\u001b[0m \u001b[0;34m\u001b[0m\u001b[0m\n\u001b[1;32m      5\u001b[0m \u001b[0mmyStock\u001b[0m\u001b[0;34m=\u001b[0m\u001b[0mOMG\u001b[0m\u001b[0;34m(\u001b[0m\u001b[0;34m)\u001b[0m\u001b[0;34m\u001b[0m\u001b[0;34m\u001b[0m\u001b[0m\n\u001b[0;32m----> 6\u001b[0;31m \u001b[0mmyStock\u001b[0m\u001b[0;34m.\u001b[0m\u001b[0mprint\u001b[0m\u001b[0;34m(\u001b[0m\u001b[0;34m)\u001b[0m\u001b[0;34m\u001b[0m\u001b[0;34m\u001b[0m\u001b[0m\n\u001b[0m",
      "\u001b[0;31mTypeError\u001b[0m: print() takes 0 positional arguments but 1 was given"
     ]
    }
   ],
   "source": [
    "class OMG: \n",
    "    def print() :\n",
    "        print(\"Oh my god\")\n",
    "\n",
    "myStock=OMG()\n",
    "myStock.print()"
   ]
  },
  {
   "cell_type": "markdown",
   "metadata": {},
   "source": [
    "\n",
    "https://korbillgates.tistory.com/103"
   ]
  }
 ],
 "metadata": {
  "kernelspec": {
   "display_name": "Python 3",
   "language": "python",
   "name": "python3"
  },
  "language_info": {
   "codemirror_mode": {
    "name": "ipython",
    "version": 3
   },
   "file_extension": ".py",
   "mimetype": "text/x-python",
   "name": "python",
   "nbconvert_exporter": "python",
   "pygments_lexer": "ipython3",
   "version": "3.7.2"
  }
 },
 "nbformat": 4,
 "nbformat_minor": 2
}
