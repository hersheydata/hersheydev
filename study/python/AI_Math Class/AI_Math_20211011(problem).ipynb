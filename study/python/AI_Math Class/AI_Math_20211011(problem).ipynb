{
 "cells": [
  {
   "cell_type": "markdown",
   "metadata": {
    "id": "PE-HrKKWNF-w"
   },
   "source": [
    "이제 Google Drive와 연동하는 법을 진행해보겠습니다."
   ]
  },
  {
   "cell_type": "code",
   "execution_count": null,
   "metadata": {
    "colab": {
     "base_uri": "https://localhost:8080/"
    },
    "executionInfo": {
     "elapsed": 679,
     "status": "ok",
     "timestamp": 1633842257958,
     "user": {
      "displayName": "Song Kyungwoo",
      "photoUrl": "https://lh3.googleusercontent.com/a/default-user=s64",
      "userId": "08023224894669606199"
     },
     "user_tz": -540
    },
    "id": "LB_OnxPTNJnP",
    "outputId": "862b6404-0055-42b1-b51e-cd0b8d0596db"
   },
   "outputs": [
    {
     "name": "stdout",
     "output_type": "stream",
     "text": [
      "Drive already mounted at /content/gdrive/; to attempt to forcibly remount, call drive.mount(\"/content/gdrive/\", force_remount=True).\n"
     ]
    }
   ],
   "source": [
    "from google.colab import drive\n",
    "drive.mount('/content/gdrive/')"
   ]
  },
  {
   "cell_type": "markdown",
   "metadata": {
    "id": "sJhDJo4INe4H"
   },
   "source": [
    "colab에서는 linux 명령어를 사용할 수 있습니다.\n",
    "\n",
    "현재 위치에 존재하는 파일, 폴더를 확인하고싶다: !ls\n",
    "\n",
    "다른 경로로 이동하고 싶다: %cd"
   ]
  },
  {
   "cell_type": "code",
   "execution_count": null,
   "metadata": {
    "id": "Qi0Gbz9GNqkj"
   },
   "outputs": [],
   "source": [
    "!ls"
   ]
  },
  {
   "cell_type": "code",
   "execution_count": null,
   "metadata": {
    "id": "5k4WjzJrNtd1"
   },
   "outputs": [],
   "source": [
    "%cd gdrive/MyDrive/Colab Notebooks/Lecture/AIMath\n",
    "!ls"
   ]
  },
  {
   "cell_type": "code",
   "execution_count": null,
   "metadata": {
    "id": "3hOtZ-e9FnNh"
   },
   "outputs": [],
   "source": [
    "import numpy as np\n",
    "from math import factorial\n",
    "import matplotlib\n",
    "from matplotlib import cm\n",
    "import matplotlib.pyplot as plt\n",
    "from mpl_toolkits.mplot3d import Axes3D\n",
    "np.random.seed(1000)"
   ]
  },
  {
   "cell_type": "markdown",
   "metadata": {
    "id": "ZbCBjLPyhVYi"
   },
   "source": [
    "우선 Variance를 구해보도록 하겠습니다.\n",
    "\n",
    "ddof 등이 궁금할 때는, google 에서 numpy var ddof 등으로 검색해보시는 것을 추천 드립니다.\n",
    "\n",
    "https://numpy.org/doc/stable/reference/generated/numpy.var.html"
   ]
  },
  {
   "cell_type": "code",
   "execution_count": null,
   "metadata": {
    "id": "HwM0u3NwhSct"
   },
   "outputs": [],
   "source": [
    "x = [10,20,30,40,50]\n",
    "biased_sample_variance = np.var(x,ddof=0)\n",
    "unbiased_sample_variance = np.var(x,ddof=1)\n",
    "\n",
    "print(biased_sample_variance,unbiased_sample_variance)"
   ]
  },
  {
   "cell_type": "markdown",
   "metadata": {
    "id": "xO6k8L9UFgsU"
   },
   "source": [
    "1. Variance 및 Covariance를 구해보도록 하겠습니다.\n",
    "\n",
    "var_x 에는 x의 variance가 나오도록 만드세요 (전체 개수를 n이라고 할 때, n-1로 나누는 sample variance로 구하세요)\n",
    "\n",
    "var_y 에는 y의 variance가 나오도록 만드세요 (전체 개수를 n이라고 할 때, n-1로 나누는 sample variance로 구하세요)\n",
    "\n",
    "cov_xy 에는 x와 y의 sample covariance를 나타내는 matrix가 나오도록 만드세요.\n",
    "즉, 2 by 2 행렬이 나오게 됩니다.\n",
    "\n",
    "cov_xy, var_x, var_y를 비교해보세요."
   ]
  },
  {
   "cell_type": "code",
   "execution_count": null,
   "metadata": {
    "id": "yuKK5Rx7FT7O"
   },
   "outputs": [],
   "source": [
    "x = [1,2,3,4,5]\n",
    "y = [2,4,6,8,10]\n",
    "\n",
    "var_x = np.?????\n",
    "var_y = np.?????\n",
    "cov_xy = np.?????\n",
    "\n",
    "print(cov_xy, var_x, var_y)"
   ]
  },
  {
   "cell_type": "markdown",
   "metadata": {
    "id": "a3Sl6_pPh9hY"
   },
   "source": [
    "이번에는 covariance와 correlation을 비교해보겠습니다.\n",
    "\n",
    "주어진 데이터 x,y 숫자의 scale이 커지더라도, correlation은 안정적입니다."
   ]
  },
  {
   "cell_type": "code",
   "execution_count": null,
   "metadata": {
    "id": "WOpFEv32h9LW"
   },
   "outputs": [],
   "source": [
    "x = [1,2,3,4,5]\n",
    "y = [2,4,6,8,10]\n",
    "cov_xy = np.cov(x,y,ddof=1)\n",
    "corr_xy = np.corrcoef(x,y,ddof=1)\n",
    "print(cov_xy,corr_xy)"
   ]
  },
  {
   "cell_type": "code",
   "execution_count": null,
   "metadata": {
    "id": "KQ_iKV-jibeM"
   },
   "outputs": [],
   "source": [
    "x = [10,20,30,40,50]\n",
    "y = [20,40,60,80,100]\n",
    "cov_xy = np.cov(x,y,ddof=1)\n",
    "corr_xy = np.corrcoef(x,y,ddof=1)\n",
    "print(cov_xy,corr_xy)"
   ]
  },
  {
   "cell_type": "markdown",
   "metadata": {
    "id": "q5O0ot4JFxMY"
   },
   "source": [
    "2. 이번에는 Covariance를 직접 한번 구해보도록 하겠습니다.\n",
    "\n",
    "custom_cov의 빈칸을 채워서,\n",
    "직접 x와 y의 sample covariance를 계산해보세요.\n",
    "(필요시 wikipedia 참조, https://en.wikipedia.org/wiki/Covariance)\n",
    "\n",
    "< 정답 >\n",
    "[[ 2.5 5. ]\n",
    "[ 5. 10. ]] 2.5 10.0\n",
    "5.0"
   ]
  },
  {
   "cell_type": "code",
   "execution_count": null,
   "metadata": {
    "id": "eCaJ56weFvWC"
   },
   "outputs": [],
   "source": [
    "def custom_cov(a, b):\n",
    "\n",
    "    a_mean = np.mean(a)\n",
    "    b_mean = np.mean(b)\n",
    "\n",
    "    total_sum = 0\n",
    "    for i in range(0, len(a)):\n",
    "        total_sum += ?????\n",
    "\n",
    "    return total_sum/(len(a)-1)\n",
    "\n",
    "custom_cov_xy = custom_cov(x, y)\n",
    "print(custom_cov_xy)"
   ]
  },
  {
   "cell_type": "markdown",
   "metadata": {
    "id": "AJ3CaKYGGQsH"
   },
   "source": [
    "이번에는 multinomial distribution에 대해서 실습해보겠습니다.\n",
    "\n",
    "3-1. multi 에는 n=6, 그리고 선택지가 3개고 각 선택지가 채택될 확률이 0.1, 0.5, 0.4 인 multinmoial 분포에서 샘플링 해보세요.\n",
    "\n",
    "참고로, normal distribution의 경우에는 다음과 같이 sampling이 가능했습니다.\n",
    "\n",
    "x = np.random.normal(loc=3, scale=1) \n",
    "\n",
    "multinomial 도 비슷하겠죠?! :)"
   ]
  },
  {
   "cell_type": "code",
   "execution_count": null,
   "metadata": {
    "id": "haZBrrboF2t7"
   },
   "outputs": [],
   "source": [
    "probs = [0.1,0.5,0.4]\n",
    "multi = ?????"
   ]
  },
  {
   "cell_type": "markdown",
   "metadata": {
    "id": "F3_60s70GWXd"
   },
   "source": [
    "3-2 max_index 에는, 가장 많이 채택된 선택지의 index를 받아오세요."
   ]
  },
  {
   "cell_type": "code",
   "execution_count": null,
   "metadata": {
    "id": "7il4XvGGGVqx"
   },
   "outputs": [],
   "source": [
    "max_index = ?????(multi)"
   ]
  },
  {
   "cell_type": "markdown",
   "metadata": {
    "id": "JlHlBvT-GcWk"
   },
   "source": [
    "3-3 multinomial_pmf 자리에 빈칸을 채워 multi가 (sampling 된 값) 결과로 나올 확률값을 내뱉도록 만드세요.\n",
    "a에는 p1^y1*p2^y2…. 가 오도록\n",
    "b에는 y1!y2!… 가 오도록\n",
    "c에는 n! 가 오도록 만드세요.\n",
    "\n",
    "indexing을 해서 각각 먼저 계산해보세요.\n",
    "계산이 완료되고 시간이 남으면, prod 를 활용해서, 더 효율적으로 구현해보세요."
   ]
  },
  {
   "cell_type": "code",
   "execution_count": null,
   "metadata": {
    "id": "QrUnY2cfGacq"
   },
   "outputs": [],
   "source": [
    "def multinomial_pmf(counts, probs):\n",
    "    probs = np.asarray(probs) #   [0.1, 0.5, 0.4]\n",
    "    counts = np.asarray(counts) # [1  , 3,   2]\n",
    "    a = ?????\n",
    "    b = ?????\n",
    "    c = ?????\n",
    "    return a * c / b\n",
    "\n",
    "pmf = multinomial_pmf(multi, probs)\n",
    "print(multi, max_index, pmf)"
   ]
  },
  {
   "cell_type": "markdown",
   "metadata": {
    "id": "9Y2eGr2KGzNR"
   },
   "source": [
    "이번에는 3-D plot을 그려봅시다.\n",
    "\n",
    "https://jehyunlee.github.io/2021/07/10/Python-DS-80-mpl3d2/\n",
    "\n",
    "ax.view_init 을 활용하면, 각도를 조절할 수 있습니다.\n",
    "\n",
    "ax.view_init(elev,azim), elev:elevation angle, azim:azimuth angle\n",
    "\n",
    "(http://www.ece.northwestern.edu/local-apps/matlabhelp/techdoc/visualize/chview3.html)\n",
    "\n",
    "![chview2a.gif](data:image/gif;base64,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)\n"
   ]
  },
  {
   "cell_type": "code",
   "execution_count": null,
   "metadata": {
    "id": "ORLE4X3OgTwG"
   },
   "outputs": [],
   "source": [
    "# Create grid and multivariate normal\n",
    "y1 = np.linspace(0, 1, 200) # Create a mesh of 200 y1-points\n",
    "y2 = np.linspace(0, 1, 200) # Create a mesh of 200 y2-points\n",
    "\n",
    "Y1, Y2 = np.meshgrid(y1,y2)\n",
    "Z = np.ones_like(Y1)\n",
    "\n",
    "fig = plt.figure(figsize=(10, 8))\n",
    "ax = fig.gca(projection='3d')\n",
    "ax.plot_surface(Y1, Y2, Z, cmap=cm.coolwarm)\n",
    "ax.view_init(10, 60)\n",
    "plt.show()"
   ]
  },
  {
   "cell_type": "markdown",
   "metadata": {
    "id": "HgfChRk6lSzD"
   },
   "source": [
    "4. $Z=2Y_{1}$ 의 그림을 그려보세요"
   ]
  },
  {
   "cell_type": "code",
   "execution_count": null,
   "metadata": {
    "id": "MNEkTNnTGhfT"
   },
   "outputs": [],
   "source": [
    "# Create grid and multivariate normal\n",
    "y1 = np.linspace(0, 1, 200) # Create a mesh of 200 y1-points\n",
    "y2 = np.linspace(0, 1, 200) # Create a mesh of 200 y2-points\n",
    "\n",
    "Y1, Y2 = np.meshgrid(y1,y2)\n",
    "Z = ?????\n",
    "\n",
    "fig = plt.figure(figsize=(10, 8))\n",
    "ax = fig.gca(projection='3d')\n",
    "ax.plot_surface(Y1, Y2, Z, cmap=cm.coolwarm)\n",
    "ax.view_init(10, 60)\n",
    "plt.show()"
   ]
  }
 ],
 "metadata": {
  "colab": {
   "authorship_tag": "ABX9TyOR+/WlSG5/nm2gbIBsNht5",
   "collapsed_sections": [],
   "name": "AI_Math_2021011(problem).ipynb",
   "provenance": []
  },
  "kernelspec": {
   "display_name": "Python 3",
   "language": "python",
   "name": "python3"
  },
  "language_info": {
   "codemirror_mode": {
    "name": "ipython",
    "version": 3
   },
   "file_extension": ".py",
   "mimetype": "text/x-python",
   "name": "python",
   "nbconvert_exporter": "python",
   "pygments_lexer": "ipython3",
   "version": "3.7.2"
  }
 },
 "nbformat": 4,
 "nbformat_minor": 1
}
