{
 "cells": [
  {
   "cell_type": "markdown",
   "metadata": {
    "id": "BNMCUO19dRLn"
   },
   "source": [
    "MathAI_lecture4_20210927 기준으로 실습을 진행하겠습니다."
   ]
  },
  {
   "cell_type": "code",
   "execution_count": null,
   "metadata": {
    "id": "UufcU-ygd0ne"
   },
   "outputs": [],
   "source": [
    "import math\n",
    "import numpy as np\n",
    "import scipy as sp\n",
    "import sympy\n",
    "import matplotlib.pyplot as plt\n",
    "import itertools\n",
    "from matplotlib_venn import venn2, venn3"
   ]
  },
  {
   "cell_type": "markdown",
   "metadata": {
    "id": "3uY7Kz19ggpa"
   },
   "source": [
    "우선 python으로 집합 표현하는것을 살펴보겠습니다."
   ]
  },
  {
   "cell_type": "code",
   "execution_count": null,
   "metadata": {
    "colab": {
     "base_uri": "https://localhost:8080/"
    },
    "executionInfo": {
     "elapsed": 1052,
     "status": "ok",
     "timestamp": 1632668492144,
     "user": {
      "displayName": "Song Kyungwoo",
      "photoUrl": "https://lh3.googleusercontent.com/a/default-user=s64",
      "userId": "08023224894669606199"
     },
     "user_tz": -540
    },
    "id": "QXSyfjfkggEG",
    "outputId": "b057d116-6466-4f6f-f9e3-b356422ad730"
   },
   "outputs": [
    {
     "name": "stdout",
     "output_type": "stream",
     "text": [
      "{1, 2, 3, 4} {1, 3, 5, 7} {8, 2, 4, 6}\n"
     ]
    }
   ],
   "source": [
    "S = set([1,2,3,4,5,6,7,8,9,10])\n",
    "A = set([1,2,3,4])\n",
    "B = set([1,3,5,7])\n",
    "C = set([2,4,6,8])\n",
    "print(A,B,C)"
   ]
  },
  {
   "cell_type": "markdown",
   "metadata": {
    "id": "AHUpZL6agrGq"
   },
   "source": [
    "각종 집합 연산에 대해서 살펴보겠습니다."
   ]
  },
  {
   "cell_type": "code",
   "execution_count": null,
   "metadata": {
    "colab": {
     "base_uri": "https://localhost:8080/"
    },
    "executionInfo": {
     "elapsed": 394,
     "status": "ok",
     "timestamp": 1632667061255,
     "user": {
      "displayName": "Song Kyungwoo",
      "photoUrl": "https://lh3.googleusercontent.com/a/default-user=s64",
      "userId": "08023224894669606199"
     },
     "user_tz": -540
    },
    "id": "UkOBhOzNgtgM",
    "outputId": "f7e924e2-7515-454d-951f-1175a1e38801"
   },
   "outputs": [
    {
     "name": "stdout",
     "output_type": "stream",
     "text": [
      "{2, 4, 6, 8, 10} {1, 3} {1, 2, 3, 4, 5, 7} {2, 4}\n"
     ]
    }
   ],
   "source": [
    "C.add(10)\n",
    "intersection = A.intersection(B)\n",
    "union = A.union(B)\n",
    "difference = A.difference(B)\n",
    "print(C,intersection,union,difference)"
   ]
  },
  {
   "cell_type": "markdown",
   "metadata": {
    "id": "fKRob3XUnBec"
   },
   "source": [
    "다음과 같이 벤다이어그램도 그려볼 수 있습니다."
   ]
  },
  {
   "cell_type": "code",
   "execution_count": null,
   "metadata": {
    "colab": {
     "base_uri": "https://localhost:8080/",
     "height": 453
    },
    "executionInfo": {
     "elapsed": 536,
     "status": "ok",
     "timestamp": 1632668677522,
     "user": {
      "displayName": "Song Kyungwoo",
      "photoUrl": "https://lh3.googleusercontent.com/a/default-user=s64",
      "userId": "08023224894669606199"
     },
     "user_tz": -540
    },
    "id": "Ak2UdXngnB2V",
    "outputId": "fad28c11-07a9-4286-ecfc-52dd0233fd6b"
   },
   "outputs": [
    {
     "data": {
      "image/png": "[encoded data removed]",
      "text/plain": [
       "<Figure size 432x288 with 1 Axes>"
      ]
     },
     "metadata": {},
     "output_type": "display_data"
    },
    {
     "data": {
      "image/png": "[encoded data removed]",
      "text/plain": [
       "<Figure size 432x288 with 1 Axes>"
      ]
     },
     "metadata": {},
     "output_type": "display_data"
    }
   ],
   "source": [
    "v = venn2(subsets=[A,B], set_labels=('A','B'))\n",
    "plt.show()\n",
    "\n",
    "v = venn3(subsets=[A,B,C], set_labels=('A','B','C'))\n",
    "plt.show()"
   ]
  },
  {
   "cell_type": "markdown",
   "metadata": {
    "id": "HsAgH-ghid_v"
   },
   "source": [
    "1.집합의 원소의 개수는 어떻게 셀 수 있을까요?"
   ]
  },
  {
   "cell_type": "code",
   "execution_count": null,
   "metadata": {
    "colab": {
     "base_uri": "https://localhost:8080/"
    },
    "executionInfo": {
     "elapsed": 2,
     "status": "ok",
     "timestamp": 1632667061686,
     "user": {
      "displayName": "Song Kyungwoo",
      "photoUrl": "https://lh3.googleusercontent.com/a/default-user=s64",
      "userId": "08023224894669606199"
     },
     "user_tz": -540
    },
    "id": "oRTUxKY5idkb",
    "outputId": "57c479c4-c089-4880-e52e-f3131f737ab6"
   },
   "outputs": [
    {
     "name": "stdout",
     "output_type": "stream",
     "text": [
      "4 4 5\n"
     ]
    }
   ],
   "source": [
    "print(?????)"
   ]
  },
  {
   "cell_type": "markdown",
   "metadata": {
    "id": "_xf0nRUphTet"
   },
   "source": [
    "2. 6p에서 Distrivutive laws를 배웠습니다. 위 A,B,C에 대해서, distributive laws가 만족하는지 확인해보세요."
   ]
  },
  {
   "cell_type": "code",
   "execution_count": null,
   "metadata": {
    "colab": {
     "base_uri": "https://localhost:8080/"
    },
    "executionInfo": {
     "elapsed": 3,
     "status": "ok",
     "timestamp": 1632667064564,
     "user": {
      "displayName": "Song Kyungwoo",
      "photoUrl": "https://lh3.googleusercontent.com/a/default-user=s64",
      "userId": "08023224894669606199"
     },
     "user_tz": -540
    },
    "id": "EElBqxBshaR4",
    "outputId": "2cc9fcef-cf73-41d9-a2b1-82712d924260"
   },
   "outputs": [
    {
     "name": "stdout",
     "output_type": "stream",
     "text": [
      "{1, 2, 3, 4} {1, 2, 3, 4}\n"
     ]
    }
   ],
   "source": [
    "lhs = ?????\n",
    "rhs = ?????\n",
    "print(lhs,rhs)"
   ]
  },
  {
   "cell_type": "markdown",
   "metadata": {
    "id": "7wXZ9GtnhnlZ"
   },
   "source": [
    "3. 6p에서 DeMorgan's laws를 배웠습니다.위 A,B,C에 대해서 DeMorgan's laws가 만족하는지 확인해보세요."
   ]
  },
  {
   "cell_type": "code",
   "execution_count": null,
   "metadata": {
    "colab": {
     "base_uri": "https://localhost:8080/"
    },
    "executionInfo": {
     "elapsed": 4,
     "status": "ok",
     "timestamp": 1632667065946,
     "user": {
      "displayName": "Song Kyungwoo",
      "photoUrl": "https://lh3.googleusercontent.com/a/default-user=s64",
      "userId": "08023224894669606199"
     },
     "user_tz": -540
    },
    "id": "ASwOENGehzBf",
    "outputId": "f232c30f-30f3-457a-a016-abfece5a919d"
   },
   "outputs": [
    {
     "name": "stdout",
     "output_type": "stream",
     "text": [
      "{2, 4, 5, 6, 7, 8, 9, 10} {2, 4, 5, 6, 7, 8, 9, 10}\n"
     ]
    }
   ],
   "source": [
    "lhs = ?????\n",
    "rhs = ?????\n",
    "print(lhs,rhs)"
   ]
  },
  {
   "cell_type": "markdown",
   "metadata": {
    "id": "nYcrAa0Ki01U"
   },
   "source": [
    "Permutation 계산하는 방법을 배워보겠습니다. (11p 참조)"
   ]
  },
  {
   "cell_type": "code",
   "execution_count": null,
   "metadata": {
    "colab": {
     "base_uri": "https://localhost:8080/"
    },
    "executionInfo": {
     "elapsed": 444,
     "status": "ok",
     "timestamp": 1632667378009,
     "user": {
      "displayName": "Song Kyungwoo",
      "photoUrl": "https://lh3.googleusercontent.com/a/default-user=s64",
      "userId": "08023224894669606199"
     },
     "user_tz": -540
    },
    "id": "SPHimEwti3dT",
    "outputId": "d9d7e0dd-80a7-43cc-9f30-6779929d8d5f"
   },
   "outputs": [
    {
     "name": "stdout",
     "output_type": "stream",
     "text": [
      "20\n"
     ]
    }
   ],
   "source": [
    "total_group = [\"a\",\"b\",\"c\",\"d\",\"e\"] # n=5\n",
    "num_permu = len(list(itertools.permutations(total_group,2))) # r = 2\n",
    "print(num_permu)"
   ]
  },
  {
   "cell_type": "markdown",
   "metadata": {
    "id": "bwbBMRN7j2oN"
   },
   "source": [
    "4. 또는 우리가 직접 permutation 하는 함수를 만들어 볼 수도 있습니다. 직접 한번 만들어보세요."
   ]
  },
  {
   "cell_type": "code",
   "execution_count": null,
   "metadata": {
    "colab": {
     "base_uri": "https://localhost:8080/"
    },
    "executionInfo": {
     "elapsed": 391,
     "status": "ok",
     "timestamp": 1632667490334,
     "user": {
      "displayName": "Song Kyungwoo",
      "photoUrl": "https://lh3.googleusercontent.com/a/default-user=s64",
      "userId": "08023224894669606199"
     },
     "user_tz": -540
    },
    "id": "LP6E2n6Cj5jv",
    "outputId": "b21bb8a4-f52a-42aa-b76c-5b5071d0649f"
   },
   "outputs": [
    {
     "name": "stdout",
     "output_type": "stream",
     "text": [
      "20.0\n"
     ]
    }
   ],
   "source": [
    "def custom_permutation(n,r):\n",
    "  return ?????\n",
    "print(custom_permutation(5,2))"
   ]
  },
  {
   "cell_type": "markdown",
   "metadata": {
    "id": "g0KCwmjUiwjX"
   },
   "source": [
    "5. 11p의 Example 문제를 python으로 계산해보세요."
   ]
  },
  {
   "cell_type": "code",
   "execution_count": null,
   "metadata": {
    "colab": {
     "base_uri": "https://localhost:8080/"
    },
    "executionInfo": {
     "elapsed": 393,
     "status": "ok",
     "timestamp": 1632667518661,
     "user": {
      "displayName": "Song Kyungwoo",
      "photoUrl": "https://lh3.googleusercontent.com/a/default-user=s64",
      "userId": "08023224894669606199"
     },
     "user_tz": -540
    },
    "id": "yRurM6MPkRN7",
    "outputId": "c6703d47-c0bf-4bb8-9682-613f383804ff"
   },
   "outputs": [
    {
     "name": "stdout",
     "output_type": "stream",
     "text": [
      "24360.0\n"
     ]
    }
   ],
   "source": [
    "print(?????)"
   ]
  },
  {
   "cell_type": "markdown",
   "metadata": {
    "id": "qPUmIvSwkkeu"
   },
   "source": [
    "6. 이번에는 combination을 계산해보겠습니다.\n",
    "어떻게 하면 combination을 계산할 수 있을까요?"
   ]
  },
  {
   "cell_type": "code",
   "execution_count": null,
   "metadata": {
    "colab": {
     "base_uri": "https://localhost:8080/"
    },
    "executionInfo": {
     "elapsed": 380,
     "status": "ok",
     "timestamp": 1632667630671,
     "user": {
      "displayName": "Song Kyungwoo",
      "photoUrl": "https://lh3.googleusercontent.com/a/default-user=s64",
      "userId": "08023224894669606199"
     },
     "user_tz": -540
    },
    "id": "e48XGyiCkneK",
    "outputId": "ec73b53d-ede3-4b7e-8e04-ac059bd51b3f"
   },
   "outputs": [
    {
     "name": "stdout",
     "output_type": "stream",
     "text": [
      "10\n"
     ]
    }
   ],
   "source": [
    "total_group = [\"a\",\"b\",\"c\",\"d\",\"e\"] # n=5\n",
    "num_combi = len(list(?????(total_group,2))) # r = 2\n",
    "print(num_combi)"
   ]
  },
  {
   "cell_type": "markdown",
   "metadata": {
    "id": "bVsByZkrkwRL"
   },
   "source": [
    "7. 이번에는 combination을 계산하는 함수를 직접 만들어보세요."
   ]
  },
  {
   "cell_type": "code",
   "execution_count": null,
   "metadata": {
    "colab": {
     "base_uri": "https://localhost:8080/"
    },
    "executionInfo": {
     "elapsed": 390,
     "status": "ok",
     "timestamp": 1632667683696,
     "user": {
      "displayName": "Song Kyungwoo",
      "photoUrl": "https://lh3.googleusercontent.com/a/default-user=s64",
      "userId": "08023224894669606199"
     },
     "user_tz": -540
    },
    "id": "YX3QaykzkzdG",
    "outputId": "e29b9858-d53c-4aab-d5b9-11404dbd59df"
   },
   "outputs": [
    {
     "name": "stdout",
     "output_type": "stream",
     "text": [
      "10.0\n"
     ]
    }
   ],
   "source": [
    "def custom_combination(n,r):\n",
    "  return ?????\n",
    "print(custom_combination(5,2))"
   ]
  },
  {
   "cell_type": "markdown",
   "metadata": {
    "id": "6V0swS6GmJXQ"
   },
   "source": [
    "8. 다시 A,B,C 집합으로 돌아가봅시다. <br>\n",
    "A집합과 B집합에 대한 cartesian product는 어떻게 할 수 있을까요? <br>\n",
    "A = set([1,2,3,4]) <br>\n",
    "B = set([1,3,5,7]) <br>\n",
    "output: [(1, 1), (1, 3), (1, 5), (1, 7), (2, 1), (2, 3), (2, 5), (2, 7), (3, 1), (3, 3), (3, 5), (3, 7), (4, 1), (4, 3), (4, 5), (4, 7)]"
   ]
  },
  {
   "cell_type": "code",
   "execution_count": null,
   "metadata": {
    "colab": {
     "base_uri": "https://localhost:8080/"
    },
    "executionInfo": {
     "elapsed": 381,
     "status": "ok",
     "timestamp": 1632668034766,
     "user": {
      "displayName": "Song Kyungwoo",
      "photoUrl": "https://lh3.googleusercontent.com/a/default-user=s64",
      "userId": "08023224894669606199"
     },
     "user_tz": -540
    },
    "id": "cki9fwmvl1pV",
    "outputId": "28562179-3984-4f4b-f075-2b5e8f662daa"
   },
   "outputs": [
    {
     "name": "stdout",
     "output_type": "stream",
     "text": [
      "[(1, 1), (1, 3), (1, 5), (1, 7), (2, 1), (2, 3), (2, 5), (2, 7), (3, 1), (3, 3), (3, 5), (3, 7), (4, 1), (4, 3), (4, 5), (4, 7)]\n"
     ]
    }
   ],
   "source": [
    "print(list(?????(A,B)))"
   ]
  },
  {
   "cell_type": "markdown",
   "metadata": {
    "id": "KPlSkkRimnFx"
   },
   "source": [
    "주사위를 10번 던져보겠습니다. 10번 던진 결과를 다음과 같이 그래프로 나타낼 수 있습니다."
   ]
  },
  {
   "cell_type": "code",
   "execution_count": null,
   "metadata": {
    "colab": {
     "base_uri": "https://localhost:8080/",
     "height": 301
    },
    "executionInfo": {
     "elapsed": 422,
     "status": "ok",
     "timestamp": 1632668882409,
     "user": {
      "displayName": "Song Kyungwoo",
      "photoUrl": "https://lh3.googleusercontent.com/a/default-user=s64",
      "userId": "08023224894669606199"
     },
     "user_tz": -540
    },
    "id": "m3srY3R1mnXk",
    "outputId": "c6decee6-e787-4ac1-e9a9-f1b6a15f9b2a"
   },
   "outputs": [
    {
     "name": "stdout",
     "output_type": "stream",
     "text": [
      "주사위를 10회 던집니다.\n"
     ]
    },
    {
     "data": {
      "image/png": "[encoded data removed]",
      "text/plain": [
       "<Figure size 432x288 with 1 Axes>"
      ]
     },
     "metadata": {
      "needs_background": "light"
     },
     "output_type": "display_data"
    }
   ],
   "source": [
    "import random \n",
    "import matplotlib.pyplot as plt \n",
    "n = 10\n",
    "print(f'주사위를 {n}회 던집니다.') \n",
    "\n",
    "result=[0]*6\n",
    "for i in range(n): \n",
    "  dice=random.randint(1,6) \n",
    "  result[dice-1] += 1 \n",
    "  \n",
    "for i in range(6): \n",
    "  result[i]/=n \n",
    "\n",
    "plt.bar(range(1,7),result) #바타입의 그래프로 나태낼 것입니다 \n",
    "plt.ylim(0,1.0) #y축의 나타내는 수치의 limit을 이야기 합니다. \n",
    "plt.ylabel('prob') #y축에 이름을 나타 냅니다. \n",
    "plt.xlabel('dice number') #x축의 이름을 나타냅니다.\n",
    "plt.show() #결과를 보여줍니다. "
   ]
  },
  {
   "cell_type": "markdown",
   "metadata": {
    "id": "KMP7-o3npqq0"
   },
   "source": [
    "9. 주사위를 1000번 던진 결과를 그래프로 그려보세요."
   ]
  },
  {
   "cell_type": "code",
   "execution_count": null,
   "metadata": {
    "colab": {
     "base_uri": "https://localhost:8080/",
     "height": 301
    },
    "executionInfo": {
     "elapsed": 445,
     "status": "ok",
     "timestamp": 1632668939705,
     "user": {
      "displayName": "Song Kyungwoo",
      "photoUrl": "https://lh3.googleusercontent.com/a/default-user=s64",
      "userId": "08023224894669606199"
     },
     "user_tz": -540
    },
    "id": "ljVXteprpHpH",
    "outputId": "4e531ca7-b9af-4ba2-bec0-d3bb887eba93"
   },
   "outputs": [
    {
     "name": "stdout",
     "output_type": "stream",
     "text": [
      "주사위를 1000회 던집니다.\n"
     ]
    },
    {
     "data": {
      "image/png": "[encoded data removed]",
      "text/plain": [
       "<Figure size 432x288 with 1 Axes>"
      ]
     },
     "metadata": {
      "needs_background": "light"
     },
     "output_type": "display_data"
    }
   ],
   "source": [
    "import random \n",
    "import matplotlib.pyplot as plt \n",
    "n = ?????\n",
    "print(f'주사위를 {n}회 던집니다.') \n",
    "\n",
    "result=[0]*6\n",
    "for i in range(n): \n",
    "  dice=random.randint(1,6) \n",
    "  result[dice-1] += 1 \n",
    "  \n",
    "for i in range(6): \n",
    "  result[i]/=n \n",
    "\n",
    "plt.bar(range(1,7),result) #바타입의 그래프로 나태낼 것입니다 \n",
    "plt.ylim(0,1.0) #y축의 나타내는 수치의 limit을 이야기 합니다. \n",
    "plt.ylabel('prob') #y축에 이름을 나타 냅니다. \n",
    "plt.xlabel('dice number') #x축의 이름을 나타냅니다.\n",
    "plt.show() #결과를 보여줍니다. "
   ]
  },
  {
   "cell_type": "markdown",
   "metadata": {
    "id": "27kEE0kMqBZ2"
   },
   "source": [
    "10. 21p에 있는 example $P(A_1|B)$의 풀이를 python 코드로 작성해보세요."
   ]
  },
  {
   "cell_type": "code",
   "execution_count": null,
   "metadata": {
    "colab": {
     "base_uri": "https://localhost:8080/"
    },
    "executionInfo": {
     "elapsed": 426,
     "status": "ok",
     "timestamp": 1632669290003,
     "user": {
      "displayName": "Song Kyungwoo",
      "photoUrl": "https://lh3.googleusercontent.com/a/default-user=s64",
      "userId": "08023224894669606199"
     },
     "user_tz": -540
    },
    "id": "6BBQKi_HqFEe",
    "outputId": "ff6fa281-5a33-4fc3-9e29-4cd33c639468"
   },
   "outputs": [
    {
     "name": "stdout",
     "output_type": "stream",
     "text": [
      "0.15789473684210525\n"
     ]
    }
   ],
   "source": [
    "?????"
   ]
  },
  {
   "cell_type": "code",
   "execution_count": null,
   "metadata": {
    "id": "BGklOj5zqcg2"
   },
   "outputs": [],
   "source": []
  }
 ],
 "metadata": {
  "colab": {
   "collapsed_sections": [],
   "name": "AI_Math_20210927(problem).ipynb",
   "provenance": []
  },
  "kernelspec": {
   "display_name": "Python 3",
   "language": "python",
   "name": "python3"
  },
  "language_info": {
   "codemirror_mode": {
    "name": "ipython",
    "version": 3
   },
   "file_extension": ".py",
   "mimetype": "text/x-python",
   "name": "python",
   "nbconvert_exporter": "python",
   "pygments_lexer": "ipython3",
   "version": "3.7.2"
  }
 },
 "nbformat": 4,
 "nbformat_minor": 1
}
