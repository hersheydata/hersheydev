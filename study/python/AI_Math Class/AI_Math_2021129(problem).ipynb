{
 "cells": [
  {
   "cell_type": "code",
   "execution_count": 1,
   "metadata": {
    "id": "2plrf0XlcrF4"
   },
   "outputs": [],
   "source": [
    "import numpy as np\n",
    "import math\n",
    "import pandas as pd"
   ]
  },
  {
   "cell_type": "markdown",
   "metadata": {
    "id": "g6DRw28AAmCK"
   },
   "source": [
    "각종 행렬을 한번 만들어 보겠습니다.\n",
    "\n",
    "먼저 첫번째는 identity matrix 입니다."
   ]
  },
  {
   "cell_type": "code",
   "execution_count": 2,
   "metadata": {
    "colab": {
     "base_uri": "https://localhost:8080/"
    },
    "executionInfo": {
     "elapsed": 296,
     "status": "ok",
     "timestamp": 1638094034517,
     "user": {
      "displayName": "Song Kyungwoo",
      "photoUrl": "https://lh3.googleusercontent.com/a/default-user=s64",
      "userId": "08023224894669606199"
     },
     "user_tz": -540
    },
    "id": "256Z4yd5AllR",
    "outputId": "f483122e-dbd4-49df-ec3d-8bfe2d549af4"
   },
   "outputs": [
    {
     "name": "stdout",
     "output_type": "stream",
     "text": [
      "[[1. 0.]\n",
      " [0. 1.]]\n"
     ]
    }
   ],
   "source": [
    "A = np.eye(2)\n",
    "print(A)"
   ]
  },
  {
   "cell_type": "markdown",
   "metadata": {
    "id": "CZCgVf4xA2ul"
   },
   "source": [
    "두번째로는, zero matrix 입니다."
   ]
  },
  {
   "cell_type": "code",
   "execution_count": 5,
   "metadata": {
    "colab": {
     "base_uri": "https://localhost:8080/"
    },
    "executionInfo": {
     "elapsed": 277,
     "status": "ok",
     "timestamp": 1638094086755,
     "user": {
      "displayName": "Song Kyungwoo",
      "photoUrl": "https://lh3.googleusercontent.com/a/default-user=s64",
      "userId": "08023224894669606199"
     },
     "user_tz": -540
    },
    "id": "q6GXV7vbAufR",
    "outputId": "cf9678f8-7448-4f11-95cd-26dfbca88d0a"
   },
   "outputs": [
    {
     "name": "stdout",
     "output_type": "stream",
     "text": [
      "[[0. 0.]\n",
      " [0. 0.]]\n"
     ]
    }
   ],
   "source": [
    "A = np.zeros((2,2))\n",
    "print(A)"
   ]
  },
  {
   "cell_type": "markdown",
   "metadata": {
    "id": "SqctyxhdBDO8"
   },
   "source": [
    "그 다음으로는, 모두 다 1로만 채워진 matrix 입니다.\n",
    "\n",
    "Q1. 직접 한번 만들어 보세요."
   ]
  },
  {
   "cell_type": "code",
   "execution_count": 6,
   "metadata": {
    "colab": {
     "base_uri": "https://localhost:8080/"
    },
    "executionInfo": {
     "elapsed": 290,
     "status": "ok",
     "timestamp": 1638094117467,
     "user": {
      "displayName": "Song Kyungwoo",
      "photoUrl": "https://lh3.googleusercontent.com/a/default-user=s64",
      "userId": "08023224894669606199"
     },
     "user_tz": -540
    },
    "id": "XwnEJ7w4A6Hn",
    "outputId": "ccfb6a89-84a7-474d-eb59-6952901b5cee"
   },
   "outputs": [
    {
     "name": "stdout",
     "output_type": "stream",
     "text": [
      "[[1. 1.]\n",
      " [1. 1.]]\n"
     ]
    }
   ],
   "source": [
    "A = np.ones(shape=(2,2))\n",
    "print(A)"
   ]
  },
  {
   "cell_type": "markdown",
   "metadata": {
    "id": "AH96gCIABkwg"
   },
   "source": [
    "이번에는 다양한 원소를 가지는 행렬을 만들어보겠습니다."
   ]
  },
  {
   "cell_type": "code",
   "execution_count": 8,
   "metadata": {
    "colab": {
     "base_uri": "https://localhost:8080/"
    },
    "executionInfo": {
     "elapsed": 291,
     "status": "ok",
     "timestamp": 1638094483361,
     "user": {
      "displayName": "Song Kyungwoo",
      "photoUrl": "https://lh3.googleusercontent.com/a/default-user=s64",
      "userId": "08023224894669606199"
     },
     "user_tz": -540
    },
    "id": "xxakTpuTBWYP",
    "outputId": "54719e41-b1de-4140-9c00-81766fd4dc60"
   },
   "outputs": [
    {
     "name": "stdout",
     "output_type": "stream",
     "text": [
      "[[1 2 3]\n",
      " [4 5 6]]\n"
     ]
    },
    {
     "data": {
      "text/plain": [
       "(2, 3)"
      ]
     },
     "execution_count": 8,
     "metadata": {},
     "output_type": "execute_result"
    }
   ],
   "source": [
    "A = [[1,2,3], [4,5,6]]\n",
    "A = np.array(A)\n",
    "print(A)\n",
    "A.shape"
   ]
  },
  {
   "cell_type": "markdown",
   "metadata": {
    "id": "FD_Rs9StCgLj"
   },
   "source": [
    "행렬의 크기는 어떻게 알 수 있을까요?"
   ]
  },
  {
   "cell_type": "code",
   "execution_count": null,
   "metadata": {
    "colab": {
     "base_uri": "https://localhost:8080/"
    },
    "executionInfo": {
     "elapsed": 331,
     "status": "ok",
     "timestamp": 1638094490873,
     "user": {
      "displayName": "Song Kyungwoo",
      "photoUrl": "https://lh3.googleusercontent.com/a/default-user=s64",
      "userId": "08023224894669606199"
     },
     "user_tz": -540
    },
    "id": "hFdtlU9OCji-",
    "outputId": "8acbb42d-c6df-41d2-c87e-47effbf032be"
   },
   "outputs": [
    {
     "name": "stdout",
     "output_type": "stream",
     "text": [
      "(2, 3)\n"
     ]
    }
   ],
   "source": [
    "print(A.shape)"
   ]
  },
  {
   "cell_type": "markdown",
   "metadata": {
    "id": "TegUB-BHCmCn"
   },
   "source": [
    "이번에는, A의 원소들에 접근을 해보겠습니다.\n",
    "\n",
    "$A = [a_{ij}]$ $\\in$ $\\mathbb{R}^{2*3}$에서, 각각의 $a_{ij}$를 찾아보자"
   ]
  },
  {
   "cell_type": "code",
   "execution_count": null,
   "metadata": {
    "colab": {
     "base_uri": "https://localhost:8080/"
    },
    "executionInfo": {
     "elapsed": 396,
     "status": "ok",
     "timestamp": 1638094543301,
     "user": {
      "displayName": "Song Kyungwoo",
      "photoUrl": "https://lh3.googleusercontent.com/a/default-user=s64",
      "userId": "08023224894669606199"
     },
     "user_tz": -540
    },
    "id": "9jx52gIaCph1",
    "outputId": "6f1564dc-4eeb-43ea-e06c-f1296bd7a6c8"
   },
   "outputs": [
    {
     "name": "stdout",
     "output_type": "stream",
     "text": [
      "1 2 3\n",
      "4 5 6\n"
     ]
    }
   ],
   "source": [
    "print(A[0,0],A[0,1],A[0,2])\n",
    "print(A[1,0],A[1,1],A[1,2])\n",
    "\n",
    "# index는 항상 1씩 빠져야 한다는거 항상 숙지"
   ]
  },
  {
   "cell_type": "markdown",
   "metadata": {
    "id": "_W4QgJhXC0X8"
   },
   "source": [
    "만약에, 원소 하나씩이 아니라, 하나의 행, 또는 하나의 열을 가져오고 싶으면"
   ]
  },
  {
   "cell_type": "code",
   "execution_count": null,
   "metadata": {
    "colab": {
     "base_uri": "https://localhost:8080/"
    },
    "executionInfo": {
     "elapsed": 440,
     "status": "ok",
     "timestamp": 1638094588091,
     "user": {
      "displayName": "Song Kyungwoo",
      "photoUrl": "https://lh3.googleusercontent.com/a/default-user=s64",
      "userId": "08023224894669606199"
     },
     "user_tz": -540
    },
    "id": "43BMEUkjCsKn",
    "outputId": "7b4a2dc1-8009-4d5c-eeda-bdf2c2f61231"
   },
   "outputs": [
    {
     "name": "stdout",
     "output_type": "stream",
     "text": [
      "[1 2 3]\n"
     ]
    }
   ],
   "source": [
    "print(A[0,:]) #첫번째 행, 열 전체"
   ]
  },
  {
   "cell_type": "code",
   "execution_count": 13,
   "metadata": {
    "colab": {
     "base_uri": "https://localhost:8080/"
    },
    "executionInfo": {
     "elapsed": 282,
     "status": "ok",
     "timestamp": 1638094593057,
     "user": {
      "displayName": "Song Kyungwoo",
      "photoUrl": "https://lh3.googleusercontent.com/a/default-user=s64",
      "userId": "08023224894669606199"
     },
     "user_tz": -540
    },
    "id": "o95fcgQSC8VW",
    "outputId": "8f1ee44e-19b7-4535-b8ee-6eb235ab6ad0"
   },
   "outputs": [
    {
     "name": "stdout",
     "output_type": "stream",
     "text": [
      "[2 5]\n"
     ]
    }
   ],
   "source": [
    "print(A[:,1])"
   ]
  },
  {
   "cell_type": "markdown",
   "metadata": {
    "id": "KcVRsEXbC-bE"
   },
   "source": [
    "Q2. 만약, 두번째 열과 세번째 열을 가져오고 싶으면 어떻게 할까요?"
   ]
  },
  {
   "cell_type": "code",
   "execution_count": 15,
   "metadata": {
    "colab": {
     "base_uri": "https://localhost:8080/"
    },
    "executionInfo": {
     "elapsed": 400,
     "status": "ok",
     "timestamp": 1638094615166,
     "user": {
      "displayName": "Song Kyungwoo",
      "photoUrl": "https://lh3.googleusercontent.com/a/default-user=s64",
      "userId": "08023224894669606199"
     },
     "user_tz": -540
    },
    "id": "M3AlwQ5YC9lm",
    "outputId": "c04596e1-cc42-4ffe-9551-f2e75829cd31"
   },
   "outputs": [
    {
     "name": "stdout",
     "output_type": "stream",
     "text": [
      "[[2 3]\n",
      " [5 6]]\n"
     ]
    }
   ],
   "source": [
    "print(A[:,1:3]) #list 인덱싱 문법 그대로"
   ]
  },
  {
   "cell_type": "markdown",
   "metadata": {
    "id": "oilWjE-lEHHZ"
   },
   "source": [
    "이제 다시 오랜만에 행렬의 곱으로 돌아오겠습니다."
   ]
  },
  {
   "cell_type": "code",
   "execution_count": 16,
   "metadata": {
    "colab": {
     "base_uri": "https://localhost:8080/"
    },
    "executionInfo": {
     "elapsed": 449,
     "status": "ok",
     "timestamp": 1638095038921,
     "user": {
      "displayName": "Song Kyungwoo",
      "photoUrl": "https://lh3.googleusercontent.com/a/default-user=s64",
      "userId": "08023224894669606199"
     },
     "user_tz": -540
    },
    "id": "GMnPkXPYDC4H",
    "outputId": "8efeed08-f384-4fb4-e9d9-2006d055f94a"
   },
   "outputs": [
    {
     "name": "stdout",
     "output_type": "stream",
     "text": [
      "[[ 5  7]\n",
      " [11 15]]\n"
     ]
    }
   ],
   "source": [
    "B = np.array([[1,2], [3,4]])\n",
    "C = np.array([[1,1], [2,3]])\n",
    "D = np.dot(B,C)\n",
    "print(D)"
   ]
  },
  {
   "cell_type": "markdown",
   "metadata": {
    "id": "IR0luEXhErjA"
   },
   "source": [
    "Q3. D 행렬은 역행렬이 존재하나요? 역행렬이 존재한다면, 역행렬을 한번 구해보세요."
   ]
  },
  {
   "cell_type": "code",
   "execution_count": 19,
   "metadata": {
    "colab": {
     "base_uri": "https://localhost:8080/"
    },
    "executionInfo": {
     "elapsed": 317,
     "status": "ok",
     "timestamp": 1638095084893,
     "user": {
      "displayName": "Song Kyungwoo",
      "photoUrl": "https://lh3.googleusercontent.com/a/default-user=s64",
      "userId": "08023224894669606199"
     },
     "user_tz": -540
    },
    "id": "C4E7v0sYEOxs",
    "outputId": "9f494942-326e-40cc-9abc-ffb287e6747e"
   },
   "outputs": [
    {
     "name": "stdout",
     "output_type": "stream",
     "text": [
      "[[-7.5  3.5]\n",
      " [ 5.5 -2.5]]\n"
     ]
    }
   ],
   "source": [
    "print(np.linalg.inv(D))"
   ]
  },
  {
   "cell_type": "markdown",
   "metadata": {
    "id": "uxkrybDME32T"
   },
   "source": [
    "이제부터는, 슬라이드에 있는 내용을 실습하겠습니다.\n",
    "\n",
    "Q4. 40p에 있는 행렬을 구현해보세요.\n",
    "\n",
    "![image.png](data:image/png;base64,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)\n"
   ]
  },
  {
   "cell_type": "code",
   "execution_count": 20,
   "metadata": {},
   "outputs": [
    {
     "name": "stdout",
     "output_type": "stream",
     "text": [
      "[[1 2 3]\n",
      " [2 5 3]\n",
      " [1 0 8]]\n"
     ]
    }
   ],
   "source": [
    "matrix = np.array([[1,2,3],\n",
    "                  [2,5,3],\n",
    "                  [1,0,8]])\n",
    "\n",
    "print(matrix)"
   ]
  },
  {
   "cell_type": "markdown",
   "metadata": {
    "id": "2RjJB11vFfIs"
   },
   "source": [
    "이번에는 elementary transformation을 해보도록 하겠습니다.\n",
    "\n",
    "Q5-1. 먼저, B라는 identity matrix를 만들어주세요.\n",
    "\n",
    "B는 40p에서, | 로 표시된 오른쪽 부분을 의미합니다.\n",
    "\n",
    "Q5-2. 그리고, 첫번째 elemntary transformation을 행렬의 곱으로 구현해보세요. \n",
    "\n",
    "(첫번째 행에 -2 곱하고 두번째 행에 더해주고, 첫번째 행에 -1 곱하고, 세번째 행에 더해주고)"
   ]
  },
  {
   "cell_type": "code",
   "execution_count": null,
   "metadata": {
    "colab": {
     "base_uri": "https://localhost:8080/"
    },
    "executionInfo": {
     "elapsed": 303,
     "status": "ok",
     "timestamp": 1638095495999,
     "user": {
      "displayName": "Song Kyungwoo",
      "photoUrl": "https://lh3.googleusercontent.com/a/default-user=s64",
      "userId": "08023224894669606199"
     },
     "user_tz": -540
    },
    "id": "wGa7tgstFegP",
    "outputId": "61f15360-1a6f-4211-ecad-e56b55473b26"
   },
   "outputs": [
    {
     "name": "stdout",
     "output_type": "stream",
     "text": [
      "[[ 1.  2.  3.]\n",
      " [-2. -3. -9.]\n",
      " [-1. -4.  2.]]\n",
      "[[ 1.  2.  3.]\n",
      " [-2. -3. -9.]\n",
      " [-2. -6. -1.]]\n"
     ]
    }
   ],
   "source": [
    "# 기본행렬 연산을 통한 ERO (행렬곱) \n",
    "# => 내가 못하는거 : 기본행렬과의 행렬곱을 통한 ERO 구조 이해 필요\n",
    "B = np.eye(3)\n",
    "E1 = np.eye(3)\n",
    "E2 = np.eye(3)\n",
    "E1[?????] = ?????\n",
    "E2[?????] = ?????\n",
    "\n",
    "A = np.dot(E1,A)\n",
    "A = np.dot(?????,A)\n",
    "print(A)\n",
    "\n",
    "B = np.dot(E1,A)\n",
    "B = np.dot(?????,A)\n",
    "print(B)"
   ]
  },
  {
   "cell_type": "markdown",
   "metadata": {
    "id": "CtwK72GPL-SS"
   },
   "source": [
    "이번에는, 행렬곱이 아니라, row 간의 연산으로 똑같은 과정을 표현해보겠습니다.\n",
    "\n",
    "### Q6. 위에서 했던 것을, row 간의 연산으로 표현해보세요. (가장 기본적인 ERO 과정의 구현)"
   ]
  },
  {
   "cell_type": "code",
   "execution_count": 22,
   "metadata": {
    "colab": {
     "base_uri": "https://localhost:8080/"
    },
    "executionInfo": {
     "elapsed": 310,
     "status": "ok",
     "timestamp": 1638097081437,
     "user": {
      "displayName": "Song Kyungwoo",
      "photoUrl": "https://lh3.googleusercontent.com/a/default-user=s64",
      "userId": "08023224894669606199"
     },
     "user_tz": -540
    },
    "id": "ECpxALKhE0g1",
    "outputId": "ef69f2bb-ee98-476b-9e53-b714eae263be"
   },
   "outputs": [
    {
     "name": "stdout",
     "output_type": "stream",
     "text": [
      "[[ 1  2  3]\n",
      " [ 0  1 -3]\n",
      " [ 0 -2  5]]\n",
      "[[ 1.  0.  0.]\n",
      " [-2.  1.  0.]\n",
      " [-1.  0.  1.]]\n"
     ]
    }
   ],
   "source": [
    "A = [[1,2,3],[2,5,3],[1,0,8]]\n",
    "A = np.array(A)\n",
    "B = np.eye(3)\n",
    "\n",
    "A[1,:] = A[1,:] + -2*A[0,:]\n",
    "A[2,:] = A[2,:] + -1*A[0,:]\n",
    "\n",
    "B[1,:] = B[1,:] + -2*B[0,:]\n",
    "B[2,:] = B[2,:] + -1*B[0,:]\n",
    "print(A)\n",
    "print(B)"
   ]
  },
  {
   "cell_type": "markdown",
   "metadata": {
    "id": "CD3i51jOMzAZ"
   },
   "source": [
    "Q7. 두번째 행에 2 곱해서 세번째 행에 더하고, \n",
    "\n",
    "세번째 행에 -1을 곱하는 것을 구현해보세요."
   ]
  },
  {
   "cell_type": "code",
   "execution_count": 23,
   "metadata": {
    "colab": {
     "base_uri": "https://localhost:8080/"
    },
    "executionInfo": {
     "elapsed": 299,
     "status": "ok",
     "timestamp": 1638097162290,
     "user": {
      "displayName": "Song Kyungwoo",
      "photoUrl": "https://lh3.googleusercontent.com/a/default-user=s64",
      "userId": "08023224894669606199"
     },
     "user_tz": -540
    },
    "id": "6Ib7vInRMl1h",
    "outputId": "662b0174-5d93-4417-fa9e-53f92ac1e946"
   },
   "outputs": [
    {
     "name": "stdout",
     "output_type": "stream",
     "text": [
      "[[ 1  2  3]\n",
      " [ 0  1 -3]\n",
      " [ 0  0  1]]\n",
      "[[ 1.  0.  0.]\n",
      " [-2.  1.  0.]\n",
      " [ 5. -2. -1.]]\n"
     ]
    }
   ],
   "source": [
    "A[2,:] = A[2,:] + 2*A[1,:]\n",
    "A[2,:] = -1*A[2,:]\n",
    "\n",
    "B[2,:] = B[2,:] + 2*B[1,:]\n",
    "B[2,:] = -1*B[2,:]\n",
    "print(A)\n",
    "print(B)"
   ]
  },
  {
   "cell_type": "markdown",
   "metadata": {
    "id": "RUeB96HVM4xH"
   },
   "source": [
    "Q8. 세번째 행에 3 곱하고, 두번째 행에 덧셈을,\n",
    "\n",
    "세번째 행에 -3 곱하고, 첫번째 행에 덧셈을 구현해보세요."
   ]
  },
  {
   "cell_type": "code",
   "execution_count": 24,
   "metadata": {
    "colab": {
     "base_uri": "https://localhost:8080/"
    },
    "executionInfo": {
     "elapsed": 295,
     "status": "ok",
     "timestamp": 1638097254383,
     "user": {
      "displayName": "Song Kyungwoo",
      "photoUrl": "https://lh3.googleusercontent.com/a/default-user=s64",
      "userId": "08023224894669606199"
     },
     "user_tz": -540
    },
    "id": "Etp2uf20Mwy8",
    "outputId": "02792145-ea70-4f0b-aafd-59b521fbf8b4"
   },
   "outputs": [
    {
     "name": "stdout",
     "output_type": "stream",
     "text": [
      "[[1 2 0]\n",
      " [0 1 0]\n",
      " [0 0 1]]\n",
      "[[-14.   6.   3.]\n",
      " [ 13.  -5.  -3.]\n",
      " [  5.  -2.  -1.]]\n"
     ]
    }
   ],
   "source": [
    "A[1,:] = A[1,:]+3*A[2,:]\n",
    "A[0,:] = A[0,:]+-3*A[2,:]\n",
    "\n",
    "B[1,:] = B[1,:]+3*B[2,:]\n",
    "B[0,:] = B[0,:]+-3*B[2,:]\n",
    "print(A)\n",
    "print(B)"
   ]
  },
  {
   "cell_type": "markdown",
   "metadata": {
    "id": "DnWflCNJNLkH"
   },
   "source": [
    "Q9. 두번째 행에 -2 곱해서, 첫번째 행에 더해보세요."
   ]
  },
  {
   "cell_type": "code",
   "execution_count": 27,
   "metadata": {
    "colab": {
     "base_uri": "https://localhost:8080/"
    },
    "executionInfo": {
     "elapsed": 341,
     "status": "ok",
     "timestamp": 1638097307343,
     "user": {
      "displayName": "Song Kyungwoo",
      "photoUrl": "https://lh3.googleusercontent.com/a/default-user=s64",
      "userId": "08023224894669606199"
     },
     "user_tz": -540
    },
    "id": "wzJVArYoNHNM",
    "outputId": "dcf30f1f-553b-4c57-a234-854ab3604077"
   },
   "outputs": [
    {
     "name": "stdout",
     "output_type": "stream",
     "text": [
      "[[1 0 0]\n",
      " [0 1 0]\n",
      " [0 0 1]]\n",
      "[[-40.  16.   9.]\n",
      " [ 13.  -5.  -3.]\n",
      " [  5.  -2.  -1.]]\n"
     ]
    }
   ],
   "source": [
    "A[0,:] = A[0,:] + -2*A[1,:]\n",
    "B[0,:] = B[0,:] + -2*B[1,:]\n",
    "\n",
    "print(A)\n",
    "print(B)"
   ]
  },
  {
   "cell_type": "code",
   "execution_count": 46,
   "metadata": {},
   "outputs": [
    {
     "data": {
      "text/plain": [
       "array([[-40.,  16.,   9.],\n",
       "       [ 13.,  -5.,  -3.],\n",
       "       [  5.,  -2.,  -1.]])"
      ]
     },
     "execution_count": 46,
     "metadata": {},
     "output_type": "execute_result"
    }
   ],
   "source": [
    "B = np.array(B)\n",
    "B"
   ]
  },
  {
   "cell_type": "code",
   "execution_count": 45,
   "metadata": {},
   "outputs": [
    {
     "data": {
      "text/plain": [
       "array([[-40.,  16.,   9.],\n",
       "       [ 13.,  -5.,  -3.],\n",
       "       [  5.,  -2.,  -1.]])"
      ]
     },
     "execution_count": 45,
     "metadata": {},
     "output_type": "execute_result"
    }
   ],
   "source": [
    "np.linalg.inv(matrix)"
   ]
  },
  {
   "cell_type": "code",
   "execution_count": null,
   "metadata": {},
   "outputs": [],
   "source": []
  }
 ],
 "metadata": {
  "colab": {
   "authorship_tag": "ABX9TyMUD3k3bAM5vETnk53sA6+V",
   "collapsed_sections": [],
   "name": "AI_Math_2021129(problem).ipynb",
   "provenance": []
  },
  "kernelspec": {
   "display_name": "Python 3",
   "language": "python",
   "name": "python3"
  },
  "language_info": {
   "codemirror_mode": {
    "name": "ipython",
    "version": 3
   },
   "file_extension": ".py",
   "mimetype": "text/x-python",
   "name": "python",
   "nbconvert_exporter": "python",
   "pygments_lexer": "ipython3",
   "version": "3.7.2"
  }
 },
 "nbformat": 4,
 "nbformat_minor": 1
}
