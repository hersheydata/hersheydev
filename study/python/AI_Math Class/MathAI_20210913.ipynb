{
 "cells": [
  {
   "cell_type": "markdown",
   "metadata": {
    "id": "PTb0fPV9HEno"
   },
   "source": [
    "## 1. 출력 \n",
    "- print() 함수 : 괄호안에 출력하고 싶은 것을 나열한다.\n"
   ]
  },
  {
   "cell_type": "code",
   "execution_count": null,
   "metadata": {
    "colab": {
     "base_uri": "https://localhost:8080/"
    },
    "id": "eAWJbGbiHE4T",
    "outputId": "866aafd6-56ba-450e-f0b9-a6e9e594ef7f"
   },
   "outputs": [
    {
     "name": "stdout",
     "output_type": "stream",
     "text": [
      "Hello world\n"
     ]
    }
   ],
   "source": [
    "print(\"Hello world\")"
   ]
  },
  {
   "cell_type": "markdown",
   "metadata": {
    "id": "ai43hkoiigeE"
   },
   "source": [
    "<font color='red'>Q1 한번 출력해보세요 </font>"
   ]
  },
  {
   "cell_type": "code",
   "execution_count": null,
   "metadata": {
    "id": "hBmnuMvsHbpR"
   },
   "outputs": [],
   "source": [
    "?????"
   ]
  },
  {
   "cell_type": "markdown",
   "metadata": {
    "id": "3SfsMisPH4v3"
   },
   "source": [
    "## 2. 자료형과 문자열 \n",
    "- 문자열(string) : 메일제목 , 메세지 내용 등 -> 예 ) \"안녕하세요\", \"Hello World!\"\n",
    "- 숫자(number) : 물건의 가격, 학생의 성적 등 -> 예) 52, 235, 13.25\n",
    "- 불(boolean) : 친구의 로그인 상태 등 -> 예 )True, False \n",
    "\n",
    "참조: 혼자 공부하는 파이썬"
   ]
  },
  {
   "cell_type": "markdown",
   "metadata": {
    "id": "vqtN9T4LH4sm"
   },
   "source": [
    "### 2.1 자료형 확인하기\n",
    "- type()함수 사용"
   ]
  },
  {
   "cell_type": "code",
   "execution_count": null,
   "metadata": {
    "colab": {
     "base_uri": "https://localhost:8080/"
    },
    "id": "n-_B82pfH4iZ",
    "outputId": "76485c98-0546-473d-f403-a916dc12f46f"
   },
   "outputs": [
    {
     "name": "stdout",
     "output_type": "stream",
     "text": [
      "<class 'int'>\n",
      "<class 'float'>\n",
      "<class 'str'>\n",
      "<class 'bool'>\n"
     ]
    }
   ],
   "source": [
    "print(type(23))\n",
    "print(type(45.2))\n",
    "print(type('가나다'))\n",
    "print(type(False))"
   ]
  },
  {
   "cell_type": "markdown",
   "metadata": {
    "id": "B2GaiRoIeDwo"
   },
   "source": [
    "<font color='red'>Q2 다양한 값들의 자료형을 확인해 봅니다. </font>"
   ]
  },
  {
   "cell_type": "code",
   "execution_count": null,
   "metadata": {
    "id": "juDKG-faH4W-"
   },
   "outputs": [],
   "source": [
    "?????"
   ]
  },
  {
   "cell_type": "markdown",
   "metadata": {
    "id": "1_rtuYTPnFjb"
   },
   "source": [
    "## 3. 산술연산자에 대하여 알아보겠습니다. \n",
    "\n",
    "- 더하기 기호는  + 입니다. \n",
    "- 빼기는 - 입니다. \n",
    "- 곱하기는 * 입니다. \n",
    "- 나누기를 하는 기호는 / 입니다.\n",
    "- 거듭제곱은 **입니다.\n",
    "- 나머지는 % 입니다.\n",
    "- 몫은 // 입니다.  \n",
    "\n",
    "아래에 여러분들이 수식을 사용해서 연산을 해보세요!<br>\n",
    "간단한 예제를 아래와 같이 보여 드리겠습니다. <br>\n",
    "셀을 생성 할 때는 위에 +코드를 눌러주세요<br>\n"
   ]
  },
  {
   "cell_type": "code",
   "execution_count": null,
   "metadata": {
    "colab": {
     "base_uri": "https://localhost:8080/"
    },
    "id": "whTi2H-10Vj2",
    "outputId": "2d9953e7-3560-482f-de6d-b6cac518c76e"
   },
   "outputs": [
    {
     "data": {
      "text/plain": [
       "3"
      ]
     },
     "execution_count": 23,
     "metadata": {},
     "output_type": "execute_result"
    }
   ],
   "source": [
    "1+2 "
   ]
  },
  {
   "cell_type": "code",
   "execution_count": null,
   "metadata": {
    "colab": {
     "base_uri": "https://localhost:8080/"
    },
    "id": "GE1DSW1A0qGb",
    "outputId": "8a37097c-3a00-445a-b8b2-25cf6754e43d"
   },
   "outputs": [
    {
     "data": {
      "text/plain": [
       "21"
      ]
     },
     "execution_count": 24,
     "metadata": {},
     "output_type": "execute_result"
    }
   ],
   "source": [
    "3 * 7"
   ]
  },
  {
   "cell_type": "markdown",
   "metadata": {
    "id": "LEEG6QSBevvq"
   },
   "source": [
    "<font color='red'>Q3 사칙연산을 한번 해봅시다. </font>"
   ]
  },
  {
   "cell_type": "code",
   "execution_count": null,
   "metadata": {
    "id": "EXSbLelvKYgN"
   },
   "outputs": [],
   "source": [
    "?????"
   ]
  },
  {
   "cell_type": "markdown",
   "metadata": {
    "id": "V23WdcqG39yp"
   },
   "source": [
    "## 4. 비교연산자 \n",
    "- 같다 :  ==\n",
    "- 같지않다 : !=\n",
    "- 작다 : <\n",
    "- 크다 : >\n",
    "- 작거나 같다 : <=\n",
    "- 크거나 같다 : >="
   ]
  },
  {
   "cell_type": "code",
   "execution_count": null,
   "metadata": {
    "id": "F384WYrb39TD"
   },
   "outputs": [],
   "source": [
    "print( 7 == 9 ) \n",
    "print (7 != 9 ) \n",
    "print (7 < 9 )\n",
    "print (7 > 9)\n",
    "print (7 <= 9)\n",
    "print (7 >= 9)"
   ]
  },
  {
   "cell_type": "markdown",
   "metadata": {
    "id": "DXU_icokiotf"
   },
   "source": [
    "<font color='red'>Q4 100과 -100의 대소를 비교해보세요 </font>"
   ]
  },
  {
   "cell_type": "code",
   "execution_count": null,
   "metadata": {
    "id": "gUdIwXjZin4d"
   },
   "outputs": [],
   "source": [
    "?????"
   ]
  },
  {
   "cell_type": "markdown",
   "metadata": {
    "id": "LwUInaHiJ50F"
   },
   "source": [
    "## 5. 문자연산자\n",
    "### 5.1 문자연결연산자 \n",
    "- 두 만자열을 연결해서 새로운 문자를 만들어 낸다. \n",
    "- 문자열은 무조건 문자열끼리 + 기호를 사용해서 연결한다. \n",
    "- 숫자라고 하더락도 문자열과 연산하려면 큰따옴표를 붙여 문자열로 인식시킨다.\n",
    "  - 참조: 혼자서공부하는 파이썬"
   ]
  },
  {
   "cell_type": "code",
   "execution_count": null,
   "metadata": {
    "id": "vdZ_aVLHKafw"
   },
   "outputs": [],
   "source": [
    "print(\"안녕하세요\"+ \"반갑습니다.\")"
   ]
  },
  {
   "cell_type": "code",
   "execution_count": null,
   "metadata": {
    "colab": {
     "base_uri": "https://localhost:8080/",
     "height": 172
    },
    "id": "3m3n-khoKZ7_",
    "outputId": "f585cb1d-6d65-4707-edc1-1debb16deca4"
   },
   "outputs": [
    {
     "ename": "TypeError",
     "evalue": "ignored",
     "output_type": "error",
     "traceback": [
      "\u001b[0;31m---------------------------------------------------------------------------\u001b[0m",
      "\u001b[0;31mTypeError\u001b[0m                                 Traceback (most recent call last)",
      "\u001b[0;32m<ipython-input-46-272ed8594ca8>\u001b[0m in \u001b[0;36m<module>\u001b[0;34m()\u001b[0m\n\u001b[0;32m----> 1\u001b[0;31m \u001b[0mprint\u001b[0m\u001b[0;34m(\u001b[0m\u001b[0;34m\"안녕하세요\"\u001b[0m \u001b[0;34m+\u001b[0m \u001b[0;36m1\u001b[0m\u001b[0;34m)\u001b[0m\u001b[0;34m\u001b[0m\u001b[0;34m\u001b[0m\u001b[0m\n\u001b[0m",
      "\u001b[0;31mTypeError\u001b[0m: can only concatenate str (not \"int\") to str"
     ]
    }
   ],
   "source": [
    "print(\"안녕하세요\" + 1)"
   ]
  },
  {
   "cell_type": "code",
   "execution_count": null,
   "metadata": {
    "colab": {
     "base_uri": "https://localhost:8080/"
    },
    "id": "gdVsUipCK7iG",
    "outputId": "d6e1ee36-4a93-4b71-8912-c1988da124ea"
   },
   "outputs": [
    {
     "name": "stdout",
     "output_type": "stream",
     "text": [
      "안녕하세요123\n"
     ]
    }
   ],
   "source": [
    "print(\"안녕하세요\" + \"123\")"
   ]
  },
  {
   "cell_type": "markdown",
   "metadata": {
    "id": "n5cB3__E1bo1"
   },
   "source": [
    "### 5.2 문자열을 반복연산\n",
    "- 문자열 *의로 반복이 가능하다. "
   ]
  },
  {
   "cell_type": "code",
   "execution_count": null,
   "metadata": {
    "colab": {
     "base_uri": "https://localhost:8080/"
    },
    "id": "3jzxckfRK4fZ",
    "outputId": "71db488e-900d-4b31-cd42-0c282c343c36"
   },
   "outputs": [
    {
     "name": "stdout",
     "output_type": "stream",
     "text": [
      "안녕 안녕 안녕 \n"
     ]
    }
   ],
   "source": [
    "print(\"안녕 \" * 3)"
   ]
  },
  {
   "cell_type": "markdown",
   "metadata": {
    "id": "gp7zh2ddL7RI"
   },
   "source": [
    "### 5.3 문자 선택 연산자(인덱싱): [ ]\n",
    "- 내부의 문자하나를 선택하는 연산자\n",
    "- 대괄호 [ ]안에 선택할 문자의 위치 지정 , 이 숫자를 인덱스(index)라고 부른다. \n"
   ]
  },
  {
   "cell_type": "code",
   "execution_count": null,
   "metadata": {
    "colab": {
     "base_uri": "https://localhost:8080/"
    },
    "id": "8v_4aRPtL7MZ",
    "outputId": "d8c2cc91-3651-463c-c125-2c49c820f5a9"
   },
   "outputs": [
    {
     "name": "stdout",
     "output_type": "stream",
     "text": [
      "감\n",
      "사\n",
      "합\n",
      "니\n",
      "다\n",
      ".\n"
     ]
    }
   ],
   "source": [
    "print(\"감사합니다.\"[0])\n",
    "print(\"감사합니다.\"[1])\n",
    "print(\"감사합니다.\"[2])\n",
    "print(\"감사합니다.\"[3])\n",
    "print(\"감사합니다.\"[4])\n",
    "print(\"감사합니다.\"[5])"
   ]
  },
  {
   "cell_type": "markdown",
   "metadata": {
    "id": "1mdFO0TEL7Jc"
   },
   "source": [
    "### 5.4 거꾸로 문자를 출력해 봅시다. \n"
   ]
  },
  {
   "cell_type": "code",
   "execution_count": null,
   "metadata": {
    "colab": {
     "base_uri": "https://localhost:8080/"
    },
    "id": "vFohciuvL7Ga",
    "outputId": "21a76cc5-08cc-407e-abcc-45f798b2ce7b"
   },
   "outputs": [
    {
     "name": "stdout",
     "output_type": "stream",
     "text": [
      ".\n",
      "다\n",
      "니\n",
      "합\n",
      "사\n",
      "감\n"
     ]
    }
   ],
   "source": [
    "print(\"감사합니다.\"[-1])\n",
    "print(\"감사합니다.\"[-2])\n",
    "print(\"감사합니다.\"[-3])\n",
    "print(\"감사합니다.\"[-4])\n",
    "print(\"감사합니다.\"[-5])\n",
    "print(\"감사합니다.\"[-6])"
   ]
  },
  {
   "cell_type": "markdown",
   "metadata": {
    "id": "URcpL4qPL6_i"
   },
   "source": [
    "### 5.5 문자열 범위 섵택 연산자(슬라이싱): [ : ]\n",
    "- 문자열의 특정 범위를 선택 할 때 사용하는 연산자"
   ]
  },
  {
   "cell_type": "code",
   "execution_count": null,
   "metadata": {
    "colab": {
     "base_uri": "https://localhost:8080/"
    },
    "id": "RxUY6umBL5wM",
    "outputId": "30c89e78-e02f-4fbd-ee88-29abcee776c2"
   },
   "outputs": [
    {
     "name": "stdout",
     "output_type": "stream",
     "text": [
      "대학교\n"
     ]
    }
   ],
   "source": [
    "print(\"서울시립대학교\"[4:7])"
   ]
  },
  {
   "cell_type": "code",
   "execution_count": null,
   "metadata": {
    "id": "9wEc1EJhN5KW"
   },
   "outputs": [],
   "source": [
    "# 서울 시립대학교 에서 시립만 출력해 봅니다.(공백불포함) \n",
    "# 서울 이후의 모든 단어를(공백포함) 출력합니니다.\n",
    "# 대학교 앞의 단어들을 모두 출력합니다. "
   ]
  },
  {
   "cell_type": "code",
   "execution_count": null,
   "metadata": {
    "colab": {
     "base_uri": "https://localhost:8080/"
    },
    "id": "O4pHXNNPN5Ax",
    "outputId": "5e23a33f-17f3-406d-e6c4-402d8229e939"
   },
   "outputs": [
    {
     "name": "stdout",
     "output_type": "stream",
     "text": [
      "시립\n",
      " 시립대학교\n",
      "서울 시립\n"
     ]
    }
   ],
   "source": [
    "print(\"서울 시립대학교\"[3:5])\n",
    "print(\"서울 시립대학교\"[2:])\n",
    "print(\"서울 시립대학교\"[:-3])"
   ]
  },
  {
   "cell_type": "markdown",
   "metadata": {
    "id": "Bq2NLs8hPnkK"
   },
   "source": [
    "### 5.6 문자열의 길이 구하기\n",
    "- len()함수를 이용하여 구한다."
   ]
  },
  {
   "cell_type": "code",
   "execution_count": null,
   "metadata": {
    "colab": {
     "base_uri": "https://localhost:8080/"
    },
    "id": "8opgUqcfPo3K",
    "outputId": "97b8b30a-400b-4615-f25f-f1c284bf81c4"
   },
   "outputs": [
    {
     "name": "stdout",
     "output_type": "stream",
     "text": [
      "6\n"
     ]
    }
   ],
   "source": [
    "print(len(\"인공지능학과\"))"
   ]
  },
  {
   "cell_type": "markdown",
   "metadata": {
    "id": "ex6fhGehUYz1"
   },
   "source": [
    "### 5.7 리스트(list)"
   ]
  },
  {
   "cell_type": "markdown",
   "metadata": {
    "id": "ekvrB7ohUYyG"
   },
   "source": [
    "지금까지 숫자, 문자열, 불 데이터 타입을 알아봤습니다. \n",
    "하나씩만 처리할 수 있었던 데이커를 묶어서 관리하면 편리한데 이렇게 하느것이 리스트(List) 타입입니다. \n",
    "- 리스트는 대괄호를 이용해서 만듭니다. ([ ])\n",
    "- 대괄호 안에 올 수 있는 항목의 데이터 타입은 다양합니다. \n",
    "- 데이터는 입력한 순서대로 지정되며, 항목은 콤마(,)로 구분합니다. \n",
    "- 대괄호 내부에 넣는 자료를 요소라고 하고 영어로 element 라고 부릅니다. \n"
   ]
  },
  {
   "cell_type": "code",
   "execution_count": null,
   "metadata": {
    "colab": {
     "base_uri": "https://localhost:8080/"
    },
    "id": "SYinf18uUYte",
    "outputId": "3716d719-5e77-41e3-e441-c576b37c4925"
   },
   "outputs": [
    {
     "data": {
      "text/plain": [
       "[1, 2, 3, 4]"
      ]
     },
     "execution_count": 2,
     "metadata": {},
     "output_type": "execute_result"
    }
   ],
   "source": [
    "# 리스트를 만들어 봅시다. \n",
    "a = [1,2,3,4]\n",
    "a"
   ]
  },
  {
   "cell_type": "code",
   "execution_count": null,
   "metadata": {
    "colab": {
     "base_uri": "https://localhost:8080/"
    },
    "id": "UcGtN0VkUYqa",
    "outputId": "82c954b8-675c-4951-a9b0-dead2bcb7743"
   },
   "outputs": [
    {
     "name": "stdout",
     "output_type": "stream",
     "text": [
      "<class 'list'>\n"
     ]
    }
   ],
   "source": [
    "lst = [234,56,\"안녕하세요\", True, False]\n",
    "lst\n",
    "print(type(lst))"
   ]
  },
  {
   "cell_type": "markdown",
   "metadata": {
    "id": "YAM0sE5HREHv"
   },
   "source": [
    "lst 리스트는 순서대로 0,1,2,3의 위치 정보를 갖고 있습니다. \n",
    "- lst[0]: 234\n",
    "- lst[1]: 56\n",
    "- lst[2]: \"안녕하세요\" \n",
    "- lst[3]: True\n",
    "- lst[4]: False\n",
    "\n",
    "[ ] 괄호안에 숫자를 인덱스라고 합니다.\n",
    "문자열에서 배웠던 방법과 마찬가지로 대괄호 안에 음수를 넣어 뒤어서 부터 요소를 선택할 수 있습니다.\n"
   ]
  },
  {
   "cell_type": "code",
   "execution_count": null,
   "metadata": {
    "colab": {
     "base_uri": "https://localhost:8080/"
    },
    "id": "jcUqaw-wREDs",
    "outputId": "c52def51-2f76-44d9-bdb1-19d819cb051a"
   },
   "outputs": [
    {
     "data": {
      "text/plain": [
       "False"
      ]
     },
     "execution_count": 6,
     "metadata": {},
     "output_type": "execute_result"
    }
   ],
   "source": [
    "#다양한 방법으로 문자들을 출력해 보세요.\n",
    "lst[-1]"
   ]
  },
  {
   "cell_type": "code",
   "execution_count": null,
   "metadata": {
    "colab": {
     "base_uri": "https://localhost:8080/",
     "height": 35
    },
    "id": "JyqHRpdGXMfU",
    "outputId": "ee2d239a-d7aa-4610-ad67-bbd616407039"
   },
   "outputs": [
    {
     "data": {
      "application/vnd.google.colaboratory.intrinsic+json": {
       "type": "string"
      },
      "text/plain": [
       "'안녕하세요'"
      ]
     },
     "execution_count": 8,
     "metadata": {},
     "output_type": "execute_result"
    }
   ],
   "source": [
    "lst[2]"
   ]
  },
  {
   "cell_type": "markdown",
   "metadata": {
    "id": "0YWtuTpFRD7n"
   },
   "source": [
    "- 리스트 연산자 : 연결 (+), 반복(*), len()\n",
    "- 리스트에 요소 추가하기 : append(뒤로 element를 추가), insert(중간에 element추가), extend(한꺼번에 여러 요소를 추가)\n",
    "- 인덱스로 제거 하기: del, pop\n",
    "- 값으로 제거하기 : remove()\n",
    "- 모두제거 : clear()\n",
    "- 리스트 내부에 있는지 확인하기 : in, notin"
   ]
  },
  {
   "cell_type": "code",
   "execution_count": null,
   "metadata": {
    "colab": {
     "base_uri": "https://localhost:8080/"
    },
    "id": "cGnuOeF6XanC",
    "outputId": "a0e9b89d-73a4-45f1-9229-22e08ebfc911"
   },
   "outputs": [
    {
     "name": "stdout",
     "output_type": "stream",
     "text": [
      "[1, 2, 3, 4, 5, 6, 7]\n",
      "[1, 2, 3, 4, 1, 2, 3, 4, 1, 2, 3, 4, 1, 2, 3, 4]\n",
      "3\n"
     ]
    }
   ],
   "source": [
    "#리스트 연산자 사용\n",
    "lst_a =[1,2,3,4]\n",
    "lst_b =[5,6,7,8]\n",
    "# + 연산자\n",
    "print(lst_a+lst_b)\n",
    " # * 연산자\n",
    "print(lst_a * 4)\n",
    "# len\n",
    "print(len(lst_b))\n"
   ]
  },
  {
   "cell_type": "code",
   "execution_count": null,
   "metadata": {
    "id": "xVmzabVRXako"
   },
   "outputs": [],
   "source": [
    "#append() -> 리스트 명.append(element)\n",
    "lst_a.append(8)\n",
    "\n",
    "#insert() -> 리스트명.insert(위치, 요소)\n",
    "lst_b.insert(3,10) # 이때 해당위치는 밀리게 됩니다. \n",
    "\n",
    "#extend()\n",
    "lst_a.extend([7,8,9])"
   ]
  },
  {
   "cell_type": "code",
   "execution_count": null,
   "metadata": {
    "id": "dc_0GN57Xahk"
   },
   "outputs": [],
   "source": [
    "lst_c =[1,2,3,4,5]\n",
    "#del -> del 리스트명[index]\n",
    "del lst_c[1]\n",
    "print(lst_c)\n",
    "#pop -> 리스트명.pop(인덱스)\n",
    "lst_c.pop(2)\n",
    "print(lst_c)"
   ]
  },
  {
   "cell_type": "code",
   "execution_count": null,
   "metadata": {
    "id": "0A5NNbW2XafI"
   },
   "outputs": [],
   "source": [
    "lst_d = [1,2,3,4,5,6]\n",
    "#remove -> 리스트.remove(값)\n",
    "lst_d.remove(4)\n",
    "\n",
    "#clear -> 리스트.clear()\n",
    "lst_d.clear()"
   ]
  },
  {
   "cell_type": "code",
   "execution_count": null,
   "metadata": {
    "colab": {
     "base_uri": "https://localhost:8080/"
    },
    "id": "J87E4nc8XacR",
    "outputId": "1d8eba20-acc5-400d-90f1-68bdf681285b"
   },
   "outputs": [
    {
     "data": {
      "text/plain": [
       "True"
      ]
     },
     "execution_count": 12,
     "metadata": {},
     "output_type": "execute_result"
    }
   ],
   "source": [
    "#in\n",
    "lst_e = [234,56,42,345,67]\n",
    "234 in lst_e\n",
    "\n",
    "#notin\n",
    "\n",
    "56 not in lst_e\n",
    "44 not in lst_e"
   ]
  },
  {
   "cell_type": "markdown",
   "metadata": {
    "id": "Fjqbvg5MizEW"
   },
   "source": [
    "<font color='red'>Q5 x=[100,200,300,400,500] 로 선언하고, indexing을 통해 300만 가져와봅시다!  </font>"
   ]
  },
  {
   "cell_type": "code",
   "execution_count": null,
   "metadata": {
    "id": "FmpKhEbti8h2"
   },
   "outputs": [],
   "source": [
    "?????"
   ]
  },
  {
   "cell_type": "markdown",
   "metadata": {
    "id": "7hOdxp-lBkJH"
   },
   "source": [
    "### 6. 변수"
   ]
  },
  {
   "cell_type": "markdown",
   "metadata": {
    "id": "sMAfoIQQBlay"
   },
   "source": [
    "- 변수(variable) : 숫자와 같은 자료(data)를 넣을 수 있는 상자\n",
    "- 실제로 변수는 컴퓨터의 임시 저장공간(메모리)에 저장 된다. \n",
    "- 변수명과 등호, 등호와 data 사이의 공백은 무시된다. \n",
    "- 변수명으로 할 당 한 값을 출력가능 하다.\n",
    "  - 참조: 데이터분석을 위한 파이썬 철저입문\n"
   ]
  },
  {
   "cell_type": "code",
   "execution_count": null,
   "metadata": {
    "colab": {
     "base_uri": "https://localhost:8080/"
    },
    "id": "ZWRJfNfdBlvS",
    "outputId": "ad34d550-c3da-44ea-9748-877bbf1dcb2d"
   },
   "outputs": [
    {
     "name": "stdout",
     "output_type": "stream",
     "text": [
      "12340\n"
     ]
    }
   ],
   "source": [
    "abc = 12340\n",
    "print(abc)"
   ]
  },
  {
   "cell_type": "code",
   "execution_count": null,
   "metadata": {
    "colab": {
     "base_uri": "https://localhost:8080/"
    },
    "id": "rFCueGEfBng_",
    "outputId": "9d4510e9-2d5c-4b4c-e57f-23011dc9a4a4"
   },
   "outputs": [
    {
     "data": {
      "text/plain": [
       "6170.0"
      ]
     },
     "execution_count": 38,
     "metadata": {},
     "output_type": "execute_result"
    }
   ],
   "source": [
    "# 변수를 가지고 연산을 해봅니다.\n",
    "abc * 1/2"
   ]
  },
  {
   "cell_type": "markdown",
   "metadata": {
    "id": "ETZEck4mBnj3"
   },
   "source": [
    "### 6.1 변수를 만들 때 규칙\n",
    "- 변수명은 문자, 숫자, 밑줄 기호(_)를 이용해 만든다. \n",
    "- 숫자로 시작하는 변수명을 만들 수 없다. \n",
    "- 대소문자를 구분한다. \n",
    "- 공백을 포함 할 수 없다. \n",
    "- 밑줄 이외의 기호는 변수에 사용할 수 없다. \n",
    "- 예약어(Reserved word)는 변수명으로 이용할 수 없다.\n",
    "- 아래의 코드에서 예약어를 확인 할 수 있다.\n",
    "  - 참조: 혼자공부하는 파이썬"
   ]
  },
  {
   "cell_type": "code",
   "execution_count": null,
   "metadata": {
    "colab": {
     "base_uri": "https://localhost:8080/"
    },
    "id": "oGFucCDJBnnV",
    "outputId": "29045878-c86a-478f-c264-dcee4ea83fe6"
   },
   "outputs": [
    {
     "name": "stdout",
     "output_type": "stream",
     "text": [
      "['False', 'None', 'True', 'and', 'as', 'assert', 'async', 'await', 'break', 'class', 'continue', 'def', 'del', 'elif', 'else', 'except', 'finally', 'for', 'from', 'global', 'if', 'import', 'in', 'is', 'lambda', 'nonlocal', 'not', 'or', 'pass', 'raise', 'return', 'try', 'while', 'with', 'yield']\n"
     ]
    }
   ],
   "source": [
    "import keyword\n",
    "print(keyword.kwlist)"
   ]
  },
  {
   "cell_type": "markdown",
   "metadata": {
    "id": "HRIhVhmQBnqK"
   },
   "source": [
    "### 6.2 사용자 입력 input()\n",
    "- 프롬프트에 글자를 입력하고 그 입력을 읽어 활용하는 경우에 활용가능"
   ]
  },
  {
   "cell_type": "code",
   "execution_count": null,
   "metadata": {
    "id": "6FBsAL0LBntQ"
   },
   "outputs": [],
   "source": [
    "input(\"이름을 입력하세요\")"
   ]
  },
  {
   "cell_type": "markdown",
   "metadata": {
    "id": "398i8QS-RhtF"
   },
   "source": [
    "input 함수의 입력 자료를 출력해 보세요."
   ]
  },
  {
   "cell_type": "code",
   "execution_count": null,
   "metadata": {
    "id": "rx6A4yyABnv7"
   },
   "outputs": [],
   "source": [
    "birth = input(\"생일을 입력하세요.\")\n",
    "print(type(birth))"
   ]
  },
  {
   "cell_type": "markdown",
   "metadata": {
    "id": "uTuzSbegjEXy"
   },
   "source": [
    "<font color='red'>Q6 본인 이름의 이니셜로 변수명을 만들고, 거기에 숫자 100을 선언해보세요.</font>"
   ]
  },
  {
   "cell_type": "code",
   "execution_count": null,
   "metadata": {
    "id": "h0jUE710jD1Q"
   },
   "outputs": [],
   "source": [
    "?????"
   ]
  },
  {
   "cell_type": "markdown",
   "metadata": {
    "id": "prJ8hzBiAwnk"
   },
   "source": [
    "## 7. 모듈(Module)\n",
    "- 파이썬에서는 코드가 저장된 파일을 모듈(Module)이라고 합니다. \n",
    "- 상수, 변수, 함수, 클래스를 포함하는 코드가 저장된 파일입니다. \n",
    "- \n",
    "- 다른모듈에서도 불러서 실행 할 수도 있고 파이썬 콘솔이나 주피터 노트북에서 불러서 실행할 수 도 있습니다.\n",
    "- 일단 우리는 모듈을 생성하기 보다 미리 생성된 모듈을 많이 사용하게 되는데, 그 방법에 대하여 알아봅시다. \n"
   ]
  },
  {
   "cell_type": "markdown",
   "metadata": {
    "id": "0hx6aSVPAxyU"
   },
   "source": [
    "#### 7.1 모듈 불러오기\n",
    "- import 모듈명\n",
    "    무언가를 계속 입력하는 것이 귀찮다고 느껴질 때 사용하는 from을 사용합니다. \n",
    "- from 모듈명 import 변수명\n",
    "- from 모듈명 import 함수명\n",
    "- from 모듈명 import 클래스명\n",
    "- from 모듈명 import *  : 모듈내 모든 변수, 함수, 클래스를 불러올 떄\n",
    "- import 모듈명 as 별칭 : 모듈명이 길어서 입력하기 번거러울 떄 사용\n"
   ]
  },
  {
   "cell_type": "code",
   "execution_count": null,
   "metadata": {
    "id": "3iRwPa9IAxwL"
   },
   "outputs": [],
   "source": [
    "# math 모듈 불러오기\n",
    "import math"
   ]
  },
  {
   "cell_type": "markdown",
   "metadata": {
    "id": "tzoWL84lAxro"
   },
   "source": [
    "#### 7.2 math 모듈\n",
    "- sin(x) : 사인값을 구합니다.\n",
    "- cos(x) : 코사인값을 구합니다. \n",
    "- tan(x) : 탄젠트 값을 구합니다. \n",
    "- log(x[,base]) fhrmrkqtdmf rngkqslek. \n",
    "- ceil(x) : 올림합니다. \n",
    "- floor(x): 내림합니다. "
   ]
  },
  {
   "cell_type": "code",
   "execution_count": null,
   "metadata": {
    "colab": {
     "base_uri": "https://localhost:8080/"
    },
    "id": "1hnj6FKeAxns",
    "outputId": "dabc85b2-4d9f-4ea0-dd21-9aeb4fdbc58f"
   },
   "outputs": [
    {
     "data": {
      "text/plain": [
       "0.8414709848078965"
      ]
     },
     "execution_count": 4,
     "metadata": {},
     "output_type": "execute_result"
    }
   ],
   "source": [
    "# 사용해 봅시다.\n",
    "math.sin(1)\n",
    "# import 실행을 반드시 해야 사용이 가능합니다!\n",
    "# math를 계속 쓰는게 귀찮으면 \n",
    "from math import sin, cos, tan, floor, ceil\n",
    "# 형식으로 부를 수 있습니다. \n",
    "# 그러면 math.sin() 이아니라.\n",
    "\n",
    "sin(1) #으로 사용이 가능합니다. \n"
   ]
  },
  {
   "cell_type": "markdown",
   "metadata": {
    "id": "LIUhHgzyAxAV"
   },
   "source": [
    "모듈에 대하여 궁금하다면 python 공식 doc을 읽어보는 것을 추천합니다. <br>\n",
    "https:// docs.python.org/3/library/index.html"
   ]
  },
  {
   "cell_type": "markdown",
   "metadata": {
    "id": "aPCUuNBrKuw4"
   },
   "source": [
    "#### 7.3 자주 사용하는 표준 모듈\n",
    "- random : 랜덤한 값을 생성 할 때 사용\n",
    "- os  : 운영체제와 관련된 기능 가진 모듈 \n",
    "- sys : 시스템과 관련된 정보를 가지고 있는 모듈\n",
    "- datetime : 날짜와 시간 관련된 모듈,  "
   ]
  },
  {
   "cell_type": "markdown",
   "metadata": {
    "id": "u-sIQocejU2l"
   },
   "source": [
    "<font color='red'>Q7 pandas를 한번 import 해보세요 </font>"
   ]
  },
  {
   "cell_type": "code",
   "execution_count": 15,
   "metadata": {
    "executionInfo": {
     "elapsed": 249,
     "status": "ok",
     "timestamp": 1631425762914,
     "user": {
      "displayName": "Song Kyungwoo",
      "photoUrl": "https://lh3.googleusercontent.com/a/default-user=s64",
      "userId": "08023224894669606199"
     },
     "user_tz": -540
    },
    "id": "hfcwhwVrjYf2"
   },
   "outputs": [],
   "source": [
    "?????"
   ]
  },
  {
   "cell_type": "markdown",
   "metadata": {
    "id": "XwiK5bFkNyfg"
   },
   "source": [
    "### 8. 배열을 효과적으로 다루는 NumPy\n",
    "- NumPy는 파이썬의 내장 모듈이 아님으로 별로로 설치 해야 합니다. \n",
    "- colab에서 는 기본적으로 설치가 되어 있습니다. "
   ]
  },
  {
   "cell_type": "markdown",
   "metadata": {
    "id": "fr7HR6UcYxBX"
   },
   "source": [
    "#### 8.1 배열생성하기"
   ]
  },
  {
   "cell_type": "code",
   "execution_count": 4,
   "metadata": {
    "executionInfo": {
     "elapsed": 260,
     "status": "ok",
     "timestamp": 1631425108334,
     "user": {
      "displayName": "Song Kyungwoo",
      "photoUrl": "https://lh3.googleusercontent.com/a/default-user=s64",
      "userId": "08023224894669606199"
     },
     "user_tz": -540
    },
    "id": "efal0tu9Yw-s"
   },
   "outputs": [],
   "source": [
    "# 모듈 호출\n",
    "import numpy as np"
   ]
  },
  {
   "cell_type": "markdown",
   "metadata": {
    "id": "1OT7UgZ4Yw6a"
   },
   "source": [
    "#### 8.1.1- 시퀀스 테이터로 부터 배열 생성 하는 방법\n",
    "  - array_obj=np.array(seq_data)\n",
    "데이터 들의 타입을 잘 확인해 보자!"
   ]
  },
  {
   "cell_type": "code",
   "execution_count": null,
   "metadata": {
    "colab": {
     "base_uri": "https://localhost:8080/"
    },
    "id": "w2PsLFUHYw3u",
    "outputId": "8f02afc0-0bcc-4d49-c1e1-f09c5d89286e"
   },
   "outputs": [
    {
     "data": {
      "text/plain": [
       "dtype('int64')"
      ]
     },
     "execution_count": 5,
     "metadata": {},
     "output_type": "execute_result"
    }
   ],
   "source": [
    "data1 = [1, 2, 3, 4, 5]\n",
    "a = np.array(data1)\n",
    "a"
   ]
  },
  {
   "cell_type": "code",
   "execution_count": null,
   "metadata": {
    "colab": {
     "base_uri": "https://localhost:8080/"
    },
    "id": "EPaeS8LJYw0E",
    "outputId": "02267823-8818-4aca-aa08-ee07fa295364"
   },
   "outputs": [
    {
     "data": {
      "text/plain": [
       "array([ 0.1,  3. ,  7. , 15. ,  0.7])"
      ]
     },
     "execution_count": 4,
     "metadata": {},
     "output_type": "execute_result"
    }
   ],
   "source": [
    "data2=[0.1, 3, 7, 15, 0.7]\n",
    "a2=np.array(data2)\n",
    "a2"
   ]
  },
  {
   "cell_type": "code",
   "execution_count": null,
   "metadata": {
    "colab": {
     "base_uri": "https://localhost:8080/"
    },
    "id": "ifh06xrSYws0",
    "outputId": "fd38f5e0-2b20-4d68-8b01-bfbf911b23f8"
   },
   "outputs": [
    {
     "data": {
      "text/plain": [
       "array([2. , 4. , 0.7, 2.5])"
      ]
     },
     "execution_count": 5,
     "metadata": {},
     "output_type": "execute_result"
    }
   ],
   "source": [
    "np.array([2,4,0.7,2.5])"
   ]
  },
  {
   "cell_type": "code",
   "execution_count": null,
   "metadata": {
    "colab": {
     "base_uri": "https://localhost:8080/"
    },
    "id": "ON2kq2ZfYwPv",
    "outputId": "bea102d7-c44a-46b6-cab7-7500b1a174e9"
   },
   "outputs": [
    {
     "data": {
      "text/plain": [
       "array([[2, 3, 4],\n",
       "       [4, 5, 6],\n",
       "       [6, 7, 8]])"
      ]
     },
     "execution_count": 6,
     "metadata": {},
     "output_type": "execute_result"
    }
   ],
   "source": [
    "np.array([[2,3,4],[4,5,6],[6,7,8]])"
   ]
  },
  {
   "cell_type": "code",
   "execution_count": null,
   "metadata": {
    "colab": {
     "base_uri": "https://localhost:8080/"
    },
    "id": "wCceO5PibPPf",
    "outputId": "852005f1-b436-4457-eadd-c4db1f06ecaa"
   },
   "outputs": [
    {
     "name": "stdout",
     "output_type": "stream",
     "text": [
      "<class 'numpy.ndarray'>\n",
      "<class 'numpy.ndarray'>\n"
     ]
    }
   ],
   "source": [
    "# 위의  배열(a와 12의)의 타입을 확인해 보세요!\n",
    "print(type(a))\n",
    "print(type(a2))"
   ]
  },
  {
   "cell_type": "code",
   "execution_count": null,
   "metadata": {
    "colab": {
     "base_uri": "https://localhost:8080/"
    },
    "id": "79VD1FYRbPDZ",
    "outputId": "0f9c1e39-e3b2-4054-fa58-49ee033be13f"
   },
   "outputs": [
    {
     "name": "stdout",
     "output_type": "stream",
     "text": [
      "int64\n",
      "float64\n"
     ]
    }
   ],
   "source": [
    "#위의 배열의 속성을 확인 하세요!\n",
    "print(a.dtype)\n",
    "print(a2.dtype)"
   ]
  },
  {
   "cell_type": "markdown",
   "metadata": {
    "id": "Fpp7OApyazBy"
   },
   "source": [
    "#### 8.1.2- 범위를 지정해서 배열생성\n",
    "  - array_obj = np.arrange([start],stop[ , step])\n",
    "  - start 부터 시작해서 stip전까지 step만큼 계속 더해 NumPy의 배열을 생성.\n",
    "  - step 1인경우에는 start도 생략하고 numpy.arange(stop)처럼 사용가능\n",
    "  - arange 를 쓸 때 어디 까지 출력이 되는지 잘 살펴보자.\n",
    "  - arange()를 이용해 생성한 1차원 배열에  reshape(m,n)을 추가하면 m x n 형태의 2차원 **배열(행렬)**로 변경이 가능   \n",
    "  - zeros(n) : zero값으로 n개\n",
    "  - zeros((n,m)) : 2차원 배열을 n 행 m열 로 생성"
   ]
  },
  {
   "cell_type": "code",
   "execution_count": null,
   "metadata": {
    "colab": {
     "base_uri": "https://localhost:8080/"
    },
    "id": "d9NWEzMibN5V",
    "outputId": "a87949d3-9352-48aa-9236-407ee8fc6c34"
   },
   "outputs": [
    {
     "data": {
      "text/plain": [
       "array([0, 2, 4, 6, 8])"
      ]
     },
     "execution_count": 6,
     "metadata": {},
     "output_type": "execute_result"
    }
   ],
   "source": [
    "np.arange(0,10,2)"
   ]
  },
  {
   "cell_type": "code",
   "execution_count": null,
   "metadata": {
    "colab": {
     "base_uri": "https://localhost:8080/"
    },
    "id": "NBKtt7LcbN2J",
    "outputId": "82f2c84f-523e-4f34-dc85-9a3899f71c42"
   },
   "outputs": [
    {
     "data": {
      "text/plain": [
       "array([1, 2, 3, 4, 5, 6, 7, 8, 9])"
      ]
     },
     "execution_count": 7,
     "metadata": {},
     "output_type": "execute_result"
    }
   ],
   "source": [
    "np.arange(1,10)"
   ]
  },
  {
   "cell_type": "code",
   "execution_count": null,
   "metadata": {
    "colab": {
     "base_uri": "https://localhost:8080/"
    },
    "id": "0P5eS2QWbNzj",
    "outputId": "8578a1e4-a6f4-4f30-d241-65707f640c49"
   },
   "outputs": [
    {
     "data": {
      "text/plain": [
       "array([0, 1, 2, 3, 4])"
      ]
     },
     "execution_count": 8,
     "metadata": {},
     "output_type": "execute_result"
    }
   ],
   "source": [
    "np.arange(5)"
   ]
  },
  {
   "cell_type": "code",
   "execution_count": null,
   "metadata": {
    "colab": {
     "base_uri": "https://localhost:8080/"
    },
    "id": "JVbv-hrcbNwI",
    "outputId": "044bb57e-57e9-4181-de28-5b957b1b575c"
   },
   "outputs": [
    {
     "data": {
      "text/plain": [
       "array([[ 0,  1,  2,  3],\n",
       "       [ 4,  5,  6,  7],\n",
       "       [ 8,  9, 10, 11],\n",
       "       [12, 13, 14, 15]])"
      ]
     },
     "execution_count": 9,
     "metadata": {},
     "output_type": "execute_result"
    }
   ],
   "source": [
    "np.arange(16).reshape(4,4)"
   ]
  },
  {
   "cell_type": "markdown",
   "metadata": {
    "id": "UUeZBNMQbNtR"
   },
   "source": [
    "- 주의 할 점은 arange() 로 생성되는 배열의 원소 개수와 reshape(m,n) 의 개수는 같아야 한다!!!\n",
    "\n",
    "- NumPy 배열의 형태를 알기 위해서는 ndarrqy.shape를 실행한다. "
   ]
  },
  {
   "cell_type": "code",
   "execution_count": null,
   "metadata": {
    "colab": {
     "base_uri": "https://localhost:8080/"
    },
    "id": "oKHsQnEGbNo9",
    "outputId": "5a6e066e-e57e-4aee-e5b1-4310c4a9da62"
   },
   "outputs": [
    {
     "data": {
      "text/plain": [
       "(3, 5)"
      ]
     },
     "execution_count": 13,
     "metadata": {},
     "output_type": "execute_result"
    }
   ],
   "source": [
    "s = np.arange(15).reshape(3,5)\n",
    "s.shape"
   ]
  },
  {
   "cell_type": "code",
   "execution_count": null,
   "metadata": {
    "colab": {
     "base_uri": "https://localhost:8080/"
    },
    "id": "gF6rurfzbNV8",
    "outputId": "dbe01138-1ff5-42a1-afc7-2d5316bd6510"
   },
   "outputs": [
    {
     "data": {
      "text/plain": [
       "array([0.        , 0.16534698, 0.33069396, 0.49604095, 0.66138793,\n",
       "       0.82673491, 0.99208189, 1.15742887, 1.32277585, 1.48812284,\n",
       "       1.65346982, 1.8188168 , 1.98416378, 2.14951076, 2.31485774,\n",
       "       2.48020473, 2.64555171, 2.81089869, 2.97624567, 3.14159265])"
      ]
     },
     "execution_count": 14,
     "metadata": {},
     "output_type": "execute_result"
    }
   ],
   "source": [
    "np.linspace(0, np.pi,20)"
   ]
  },
  {
   "cell_type": "code",
   "execution_count": null,
   "metadata": {
    "colab": {
     "base_uri": "https://localhost:8080/"
    },
    "id": "4wgp6sCCiuk_",
    "outputId": "a6b42a26-11e8-4ee2-e209-435da6399db0"
   },
   "outputs": [
    {
     "data": {
      "text/plain": [
       "array([0., 0., 0., 0., 0., 0., 0., 0.])"
      ]
     },
     "execution_count": 15,
     "metadata": {},
     "output_type": "execute_result"
    }
   ],
   "source": [
    "np.zeros(8)"
   ]
  },
  {
   "cell_type": "code",
   "execution_count": null,
   "metadata": {
    "colab": {
     "base_uri": "https://localhost:8080/"
    },
    "id": "0NWbWbIwiuhS",
    "outputId": "153dd553-4b7d-4aec-88cd-3a83bd72e348"
   },
   "outputs": [
    {
     "data": {
      "text/plain": [
       "array([[0., 0., 0., 0.],\n",
       "       [0., 0., 0., 0.],\n",
       "       [0., 0., 0., 0.]])"
      ]
     },
     "execution_count": 17,
     "metadata": {},
     "output_type": "execute_result"
    }
   ],
   "source": [
    "np.zeros((3,4))"
   ]
  },
  {
   "cell_type": "markdown",
   "metadata": {
    "id": "Uf2y3oyWbNTv"
   },
   "source": [
    "#### 8.2 난수 배열 생성\n",
    "- rand() 0~1 까지의 값\n",
    "- randint() int값만\n"
   ]
  },
  {
   "cell_type": "code",
   "execution_count": null,
   "metadata": {
    "colab": {
     "base_uri": "https://localhost:8080/"
    },
    "id": "_wXhO1lbbNQt",
    "outputId": "359abf22-5218-4333-f7ee-b98df36f7068"
   },
   "outputs": [
    {
     "data": {
      "text/plain": [
       "array([[0.69575489, 0.01237098, 0.46385756, 0.44028007],\n",
       "       [0.59489922, 0.96822509, 0.23846117, 0.59989225],\n",
       "       [0.56883222, 0.29068118, 0.12753432, 0.27207479]])"
      ]
     },
     "execution_count": 18,
     "metadata": {},
     "output_type": "execute_result"
    }
   ],
   "source": [
    "np.random.rand(3,4)"
   ]
  },
  {
   "cell_type": "code",
   "execution_count": null,
   "metadata": {
    "colab": {
     "base_uri": "https://localhost:8080/"
    },
    "id": "GOhbvc-obNOb",
    "outputId": "d761a329-f502-4868-c2a1-439a0d76f1bb"
   },
   "outputs": [
    {
     "data": {
      "text/plain": [
       "0.8497134089256334"
      ]
     },
     "execution_count": 19,
     "metadata": {},
     "output_type": "execute_result"
    }
   ],
   "source": [
    "np.random.rand()"
   ]
  },
  {
   "cell_type": "code",
   "execution_count": null,
   "metadata": {
    "colab": {
     "base_uri": "https://localhost:8080/"
    },
    "id": "4QVVqREPbNMN",
    "outputId": "81595be1-8684-4b90-ca81-e1b22c804620"
   },
   "outputs": [
    {
     "data": {
      "text/plain": [
       "array([[[0.67145471, 0.55223401, 0.14699538, 0.41505207],\n",
       "        [0.04240118, 0.38494175, 0.95119745, 0.65034109],\n",
       "        [0.49953339, 0.42406843, 0.8368027 , 0.87887591]],\n",
       "\n",
       "       [[0.7133873 , 0.31743237, 0.99773034, 0.05913768],\n",
       "        [0.96720836, 0.69437487, 0.99063445, 0.59538718],\n",
       "        [0.80157037, 0.70625866, 0.24562482, 0.93603805]]])"
      ]
     },
     "execution_count": 20,
     "metadata": {},
     "output_type": "execute_result"
    }
   ],
   "source": [
    "np.random.rand(2,3,4)"
   ]
  },
  {
   "cell_type": "code",
   "execution_count": null,
   "metadata": {
    "colab": {
     "base_uri": "https://localhost:8080/"
    },
    "id": "pxhZ_wx0bNIy",
    "outputId": "5ea261e3-4146-45eb-fa87-7c8f9f4270ac"
   },
   "outputs": [
    {
     "data": {
      "text/plain": [
       "array([[9, 6, 1, 3],\n",
       "       [4, 5, 9, 7],\n",
       "       [1, 2, 3, 5]])"
      ]
     },
     "execution_count": 21,
     "metadata": {},
     "output_type": "execute_result"
    }
   ],
   "source": [
    "np.random.randint(10, size=(3,4))"
   ]
  },
  {
   "cell_type": "code",
   "execution_count": null,
   "metadata": {
    "colab": {
     "base_uri": "https://localhost:8080/"
    },
    "id": "MyhovKPSbNFx",
    "outputId": "57f4412f-2115-4c24-961a-7425b0e74165"
   },
   "outputs": [
    {
     "data": {
      "text/plain": [
       "16"
      ]
     },
     "execution_count": 22,
     "metadata": {},
     "output_type": "execute_result"
    }
   ],
   "source": [
    "np.random.randint(1,30)"
   ]
  },
  {
   "cell_type": "markdown",
   "metadata": {
    "id": "qbLFbxLYkJVw"
   },
   "source": [
    "#### 8.3 배열의 연산"
   ]
  },
  {
   "cell_type": "markdown",
   "metadata": {
    "id": "cNCiH2O1lJGY"
   },
   "source": [
    "1. arr1과 arr2를 선언하세요. array안에 요소는 각각 4개로 선언합니다. \n",
    "2. 배열의 더하기를 해보세요\n",
    "3. 배열간의 빼기를 해보세요.\n",
    "4. arr2에 3을 곱한 값을 구하세요.\n",
    "5. arr2의 제곱을 구하세요.\n",
    "6. arr1과 arr2의 곱을 구하세요. \n",
    "7. arr1을 arr2로 나누어 지나요? 그렇다면 그 값은 어떻게 될까요?\n",
    "8. arr1은 12보다 큰 값이 몇 개 있습니까?"
   ]
  },
  {
   "cell_type": "code",
   "execution_count": null,
   "metadata": {
    "id": "F2IuA9RUkM9V"
   },
   "outputs": [],
   "source": [
    "arr1= np.array([12,13,14,15])\n",
    "arr2= np.array([2,3,4,5])"
   ]
  },
  {
   "cell_type": "code",
   "execution_count": null,
   "metadata": {
    "colab": {
     "base_uri": "https://localhost:8080/"
    },
    "id": "zK-YoNrnkNBf",
    "outputId": "7cfd960e-add9-4e63-d570-a7de2e83c53b"
   },
   "outputs": [
    {
     "data": {
      "text/plain": [
       "array([14, 16, 18, 20])"
      ]
     },
     "execution_count": 24,
     "metadata": {},
     "output_type": "execute_result"
    }
   ],
   "source": [
    "arr1 + arr2"
   ]
  },
  {
   "cell_type": "code",
   "execution_count": null,
   "metadata": {
    "colab": {
     "base_uri": "https://localhost:8080/"
    },
    "id": "UD--mvxXkNE7",
    "outputId": "5cd4da4d-85ab-4bd7-9fe1-f18a2f109279"
   },
   "outputs": [
    {
     "data": {
      "text/plain": [
       "array([10, 10, 10, 10])"
      ]
     },
     "execution_count": 25,
     "metadata": {},
     "output_type": "execute_result"
    }
   ],
   "source": [
    "arr1-arr2"
   ]
  },
  {
   "cell_type": "code",
   "execution_count": null,
   "metadata": {
    "colab": {
     "base_uri": "https://localhost:8080/"
    },
    "id": "-Dw9ZRfdkNHc",
    "outputId": "6687bfbe-749e-4fea-d669-d935aa61c17c"
   },
   "outputs": [
    {
     "data": {
      "text/plain": [
       "array([ 6,  9, 12, 15])"
      ]
     },
     "execution_count": 26,
     "metadata": {},
     "output_type": "execute_result"
    }
   ],
   "source": [
    "arr2 *3"
   ]
  },
  {
   "cell_type": "code",
   "execution_count": null,
   "metadata": {
    "colab": {
     "base_uri": "https://localhost:8080/"
    },
    "id": "F4b47_gLkNJw",
    "outputId": "d14a5b22-42e4-412b-846c-8d458b455b9c"
   },
   "outputs": [
    {
     "data": {
      "text/plain": [
       "array([ 4,  9, 16, 25])"
      ]
     },
     "execution_count": 28,
     "metadata": {},
     "output_type": "execute_result"
    }
   ],
   "source": [
    "arr2**2"
   ]
  },
  {
   "cell_type": "code",
   "execution_count": null,
   "metadata": {
    "colab": {
     "base_uri": "https://localhost:8080/"
    },
    "id": "5iIqRCcqkNNI",
    "outputId": "e76b2c77-9fb5-4427-ca6a-5a5786772305"
   },
   "outputs": [
    {
     "data": {
      "text/plain": [
       "array([24, 39, 56, 75])"
      ]
     },
     "execution_count": 29,
     "metadata": {},
     "output_type": "execute_result"
    }
   ],
   "source": [
    "arr1 *arr2"
   ]
  },
  {
   "cell_type": "code",
   "execution_count": null,
   "metadata": {
    "colab": {
     "base_uri": "https://localhost:8080/"
    },
    "id": "HjuIrlK8kNtU",
    "outputId": "58e434f3-be1b-4589-d646-7b2538d9fd19"
   },
   "outputs": [
    {
     "data": {
      "text/plain": [
       "array([6.        , 4.33333333, 3.5       , 3.        ])"
      ]
     },
     "execution_count": 30,
     "metadata": {},
     "output_type": "execute_result"
    }
   ],
   "source": [
    "arr1/arr2"
   ]
  },
  {
   "cell_type": "code",
   "execution_count": null,
   "metadata": {
    "colab": {
     "base_uri": "https://localhost:8080/"
    },
    "id": "ZQlqMI8kkNxC",
    "outputId": "b3268239-70ab-48e0-9847-ba049a378c2e"
   },
   "outputs": [
    {
     "data": {
      "text/plain": [
       "array([False,  True,  True,  True])"
      ]
     },
     "execution_count": 32,
     "metadata": {},
     "output_type": "execute_result"
    }
   ],
   "source": [
    "arr1>12"
   ]
  },
  {
   "cell_type": "markdown",
   "metadata": {
    "id": "d97okrVXk8W2"
   },
   "source": [
    "#### 8.4 통계를 위한 연산\n",
    "- Numpy에서는  통계 에 활용되는 메소드들이 있다. \n",
    "- 배열의 합: sum()\n",
    "- 평균 : mean()\n",
    "- 표준편차 : std()\n",
    "- 분산 : var()\n",
    "- 최솟값 : min()\n",
    "- 최대값 : max()\n",
    "- 누적합 : cumsum()\n",
    "- 누적 곱 : cumprod()"
   ]
  },
  {
   "cell_type": "code",
   "execution_count": null,
   "metadata": {
    "colab": {
     "base_uri": "https://localhost:8080/"
    },
    "id": "h_RW9bT8l7U9",
    "outputId": "4904f4dc-26b0-4145-f872-a30c9d8be0ac"
   },
   "outputs": [
    {
     "data": {
      "text/plain": [
       "array([0, 1, 2, 3, 4, 5])"
      ]
     },
     "execution_count": 34,
     "metadata": {},
     "output_type": "execute_result"
    }
   ],
   "source": [
    "arr3 = np.arange(6)\n",
    "arr3"
   ]
  },
  {
   "cell_type": "code",
   "execution_count": null,
   "metadata": {
    "colab": {
     "base_uri": "https://localhost:8080/"
    },
    "id": "p7d5UuuIl7RD",
    "outputId": "9e2e19ae-4086-4293-e3e5-25c53e1c5275"
   },
   "outputs": [
    {
     "data": {
      "text/plain": [
       "[15, 2.5]"
      ]
     },
     "execution_count": 36,
     "metadata": {},
     "output_type": "execute_result"
    }
   ],
   "source": [
    "[arr3.sum(), arr3.mean()]"
   ]
  },
  {
   "cell_type": "code",
   "execution_count": null,
   "metadata": {
    "colab": {
     "base_uri": "https://localhost:8080/"
    },
    "id": "SpqZsKZQl7Ob",
    "outputId": "c602c3e4-c378-45e4-f528-dfff2b383a90"
   },
   "outputs": [
    {
     "data": {
      "text/plain": [
       "[1.707825127659933, 2.9166666666666665]"
      ]
     },
     "execution_count": 37,
     "metadata": {},
     "output_type": "execute_result"
    }
   ],
   "source": [
    "[arr3.std(), arr3.var()]"
   ]
  },
  {
   "cell_type": "code",
   "execution_count": null,
   "metadata": {
    "colab": {
     "base_uri": "https://localhost:8080/"
    },
    "id": "NSNyDj8Pl7Ki",
    "outputId": "47e2b047-deff-4674-fa0d-c62ef9289371"
   },
   "outputs": [
    {
     "data": {
      "text/plain": [
       "[0, 5]"
      ]
     },
     "execution_count": 38,
     "metadata": {},
     "output_type": "execute_result"
    }
   ],
   "source": [
    "[arr3.min(), arr3.max()]"
   ]
  },
  {
   "cell_type": "code",
   "execution_count": null,
   "metadata": {
    "colab": {
     "base_uri": "https://localhost:8080/"
    },
    "id": "dK5XD63zl7H7",
    "outputId": "4c8353ee-078c-42f3-deaf-23442186c853"
   },
   "outputs": [
    {
     "data": {
      "text/plain": [
       "[array([ 0,  1,  3,  6, 10, 15]), array([0, 0, 0, 0, 0, 0])]"
      ]
     },
     "execution_count": 40,
     "metadata": {},
     "output_type": "execute_result"
    }
   ],
   "source": [
    "[arr3.cumsum(), arr3.cumprod()]"
   ]
  },
  {
   "cell_type": "markdown",
   "metadata": {
    "id": "az9zvxxyl7Fg"
   },
   "source": [
    "#### 8.5 행렬 연산\n",
    "- 행렬곱(matrix droduct) : A.dot(B) 혹은 np.dot(A,B)\n",
    "- 전치행렬(transpose matrix) : A.transpose() 혹은 np.transpose(A)\n",
    "- 역행렬(invers matrix) : np.linalg.inv(A)\n",
    "- 행렬식(determinant) : np.linalg.det(A)\n",
    "- Norm : np.linalg.norm(v)"
   ]
  },
  {
   "cell_type": "code",
   "execution_count": 5,
   "metadata": {
    "colab": {
     "base_uri": "https://localhost:8080/"
    },
    "executionInfo": {
     "elapsed": 261,
     "status": "ok",
     "timestamp": 1631425299724,
     "user": {
      "displayName": "Song Kyungwoo",
      "photoUrl": "https://lh3.googleusercontent.com/a/default-user=s64",
      "userId": "08023224894669606199"
     },
     "user_tz": -540
    },
    "id": "_OUrKmPJl7B0",
    "outputId": "f88eaef7-0da3-469c-afd4-8154b4998e27"
   },
   "outputs": [
    {
     "data": {
      "text/plain": [
       "array([[0, 1],\n",
       "       [2, 3]])"
      ]
     },
     "execution_count": 5,
     "metadata": {},
     "output_type": "execute_result"
    }
   ],
   "source": [
    "#A = np.array([0,1,2,3]).reshape(2,2)\n",
    "A = np.array([[0,1],[2,3]])\n",
    "A"
   ]
  },
  {
   "cell_type": "code",
   "execution_count": null,
   "metadata": {
    "colab": {
     "base_uri": "https://localhost:8080/"
    },
    "id": "1qsNFtKTl686",
    "outputId": "77b6ee0e-d400-4b09-dabb-8df7e304bada"
   },
   "outputs": [
    {
     "data": {
      "text/plain": [
       "array([[3, 2],\n",
       "       [1, 0]])"
      ]
     },
     "execution_count": 42,
     "metadata": {},
     "output_type": "execute_result"
    }
   ],
   "source": [
    "B = np.array([3,2,1,0]).reshape(2,2)\n",
    "B"
   ]
  },
  {
   "cell_type": "code",
   "execution_count": null,
   "metadata": {
    "colab": {
     "base_uri": "https://localhost:8080/"
    },
    "id": "NXzRY8Yfl64X",
    "outputId": "74fd84c4-ec09-410a-aabd-ab870711519a"
   },
   "outputs": [
    {
     "data": {
      "text/plain": [
       "array([[1, 0],\n",
       "       [9, 4]])"
      ]
     },
     "execution_count": 44,
     "metadata": {},
     "output_type": "execute_result"
    }
   ],
   "source": [
    "A.dot(B)"
   ]
  },
  {
   "cell_type": "code",
   "execution_count": null,
   "metadata": {
    "colab": {
     "base_uri": "https://localhost:8080/"
    },
    "id": "Qcg68I6esvOH",
    "outputId": "f3483bdb-aafa-4d51-c2e7-684656a85aae"
   },
   "outputs": [
    {
     "data": {
      "text/plain": [
       "array([[1, 0],\n",
       "       [9, 4]])"
      ]
     },
     "execution_count": 45,
     "metadata": {},
     "output_type": "execute_result"
    }
   ],
   "source": [
    "np.dot(A,B)"
   ]
  },
  {
   "cell_type": "code",
   "execution_count": null,
   "metadata": {
    "colab": {
     "base_uri": "https://localhost:8080/"
    },
    "id": "s6skZFl7s9AI",
    "outputId": "0e015722-15dc-44bc-cde2-a28224874fdc"
   },
   "outputs": [
    {
     "data": {
      "text/plain": [
       "array([[0, 2],\n",
       "       [1, 3]])"
      ]
     },
     "execution_count": 46,
     "metadata": {},
     "output_type": "execute_result"
    }
   ],
   "source": [
    "np.transpose(A)"
   ]
  },
  {
   "cell_type": "code",
   "execution_count": null,
   "metadata": {
    "colab": {
     "base_uri": "https://localhost:8080/"
    },
    "id": "FnUA-L0ws_rX",
    "outputId": "d9beeb13-6408-4543-c9b2-f14297e30ada"
   },
   "outputs": [
    {
     "data": {
      "text/plain": [
       "array([[0, 2],\n",
       "       [1, 3]])"
      ]
     },
     "execution_count": 47,
     "metadata": {},
     "output_type": "execute_result"
    }
   ],
   "source": [
    "A.transpose()"
   ]
  },
  {
   "cell_type": "code",
   "execution_count": null,
   "metadata": {
    "colab": {
     "base_uri": "https://localhost:8080/"
    },
    "id": "y2MPC0SVtC06",
    "outputId": "ea7691a8-d97f-4704-ceff-6ff8f3e6a39a"
   },
   "outputs": [
    {
     "data": {
      "text/plain": [
       "array([[-1.5,  0.5],\n",
       "       [ 1. ,  0. ]])"
      ]
     },
     "execution_count": 48,
     "metadata": {},
     "output_type": "execute_result"
    }
   ],
   "source": [
    "np.linalg.inv(A)"
   ]
  },
  {
   "cell_type": "code",
   "execution_count": null,
   "metadata": {
    "colab": {
     "base_uri": "https://localhost:8080/"
    },
    "id": "3vo6rgDwtF-w",
    "outputId": "2ac9f8c6-38ed-43df-9fd4-4ab84a992216"
   },
   "outputs": [
    {
     "data": {
      "text/plain": [
       "array([[ 0. ,  1. ],\n",
       "       [ 0.5, -1.5]])"
      ]
     },
     "execution_count": 49,
     "metadata": {},
     "output_type": "execute_result"
    }
   ],
   "source": [
    "np.linalg.inv(B)"
   ]
  },
  {
   "cell_type": "code",
   "execution_count": null,
   "metadata": {
    "colab": {
     "base_uri": "https://localhost:8080/"
    },
    "id": "2cFcIVp6tJHY",
    "outputId": "353bf83d-6c5e-41cf-f5fd-b43b7e86d0a1"
   },
   "outputs": [
    {
     "data": {
      "text/plain": [
       "-2.0"
      ]
     },
     "execution_count": 50,
     "metadata": {},
     "output_type": "execute_result"
    }
   ],
   "source": [
    "np.linalg.det(A)"
   ]
  },
  {
   "cell_type": "code",
   "execution_count": null,
   "metadata": {
    "colab": {
     "base_uri": "https://localhost:8080/"
    },
    "id": "NLiG7R2EtNVL",
    "outputId": "276aaed0-8d1f-4a6f-9c6a-4b00bb45978b"
   },
   "outputs": [
    {
     "data": {
      "text/plain": [
       "array([[1, 2],\n",
       "       [3, 4],\n",
       "       [5, 6]])"
      ]
     },
     "execution_count": 52,
     "metadata": {},
     "output_type": "execute_result"
    }
   ],
   "source": [
    "C = np.array([1,2,3,4,5,6]).reshape(3,2)\n",
    "C"
   ]
  },
  {
   "cell_type": "code",
   "execution_count": null,
   "metadata": {
    "colab": {
     "base_uri": "https://localhost:8080/",
     "height": 172
    },
    "id": "AJcbe59EteLR",
    "outputId": "4f869e37-5a54-4de7-f9a8-7ff6416df5fa"
   },
   "outputs": [
    {
     "ename": "ValueError",
     "evalue": "ignored",
     "output_type": "error",
     "traceback": [
      "\u001b[0;31m---------------------------------------------------------------------------\u001b[0m",
      "\u001b[0;31mValueError\u001b[0m                                Traceback (most recent call last)",
      "\u001b[0;32m<ipython-input-54-36f3f9c6ed4d>\u001b[0m in \u001b[0;36m<module>\u001b[0;34m()\u001b[0m\n\u001b[0;32m----> 1\u001b[0;31m \u001b[0mA\u001b[0m\u001b[0;34m.\u001b[0m\u001b[0mdot\u001b[0m\u001b[0;34m(\u001b[0m\u001b[0mC\u001b[0m\u001b[0;34m)\u001b[0m\u001b[0;34m\u001b[0m\u001b[0;34m\u001b[0m\u001b[0m\n\u001b[0m",
      "\u001b[0;31mValueError\u001b[0m: shapes (2,2) and (3,2) not aligned: 2 (dim 1) != 3 (dim 0)"
     ]
    }
   ],
   "source": [
    "A.dot(C) # 행 열이 일치 하지 않으면 행렬의 곱을 진행 할 수 없습니다. "
   ]
  },
  {
   "cell_type": "code",
   "execution_count": 12,
   "metadata": {
    "colab": {
     "base_uri": "https://localhost:8080/"
    },
    "executionInfo": {
     "elapsed": 248,
     "status": "ok",
     "timestamp": 1631425481180,
     "user": {
      "displayName": "Song Kyungwoo",
      "photoUrl": "https://lh3.googleusercontent.com/a/default-user=s64",
      "userId": "08023224894669606199"
     },
     "user_tz": -540
    },
    "id": "ws0x8kghtnZZ",
    "outputId": "3cefc1f3-7d57-4779-ad19-26d984e11e50"
   },
   "outputs": [
    {
     "name": "stdout",
     "output_type": "stream",
     "text": [
      "7.0 5.0 4.0\n"
     ]
    }
   ],
   "source": [
    "v = [3,4]\n",
    "l1_norm = np.linalg.norm(v,ord=1)\n",
    "l2_norm = np.linalg.norm(v,ord=2)\n",
    "linf_norm = np.linalg.norm(v,ord=np.inf)\n",
    "\n",
    "print(l1_norm,l2_norm,linf_norm)"
   ]
  },
  {
   "cell_type": "markdown",
   "metadata": {
    "id": "2JsrmJ_gjl_L"
   },
   "source": [
    "<font color='red'>Q8 x = [$1/\\sqrt{2}$,$1/\\sqrt{2}$]로 선언하고, x의 L2norm을 구하세요. </font>"
   ]
  },
  {
   "cell_type": "code",
   "execution_count": null,
   "metadata": {
    "id": "cU33U2hkiC2J"
   },
   "outputs": [],
   "source": [
    "?????"
   ]
  }
 ],
 "metadata": {
  "accelerator": "GPU",
  "colab": {
   "collapsed_sections": [
    "n5cB3__E1bo1",
    "gp7zh2ddL7RI",
    "1mdFO0TEL7Jc",
    "URcpL4qPL6_i",
    "Bq2NLs8hPnkK",
    "ex6fhGehUYz1",
    "7hOdxp-lBkJH",
    "ETZEck4mBnj3",
    "HRIhVhmQBnqK",
    "0hx6aSVPAxyU",
    "tzoWL84lAxro"
   ],
   "name": "AI_Math_20210913.ipynb",
   "provenance": [
    {
     "file_id": "1a2d_gZaqeyBUrdRjKeOVgoSW6tDZWTYG",
     "timestamp": 1631424279894
    }
   ],
   "toc_visible": true
  },
  "kernelspec": {
   "display_name": "Python 3",
   "name": "python3"
  },
  "language_info": {
   "name": "python"
  }
 },
 "nbformat": 4,
 "nbformat_minor": 0
}
