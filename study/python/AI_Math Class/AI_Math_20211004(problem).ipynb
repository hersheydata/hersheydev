{
 "cells": [
  {
   "cell_type": "code",
   "execution_count": 2,
   "metadata": {
    "executionInfo": {
     "elapsed": 647,
     "status": "ok",
     "timestamp": 1633309023945,
     "user": {
      "displayName": "Song Kyungwoo",
      "photoUrl": "https://lh3.googleusercontent.com/a/default-user=s64",
      "userId": "08023224894669606199"
     },
     "user_tz": -540
    },
    "id": "cvEhAjYEpYk-"
   },
   "outputs": [],
   "source": [
    "import itertools\n",
    "import matplotlib.pyplot as plt\n",
    "import numpy as np\n",
    "from numpy import arange, exp, power\n",
    "import scipy.stats as stats\n",
    "from scipy.special import factorial\n",
    "import math\n",
    "import pandas as pd"
   ]
  },
  {
   "cell_type": "code",
   "execution_count": null,
   "metadata": {
    "id": "pRUJELFcxsSm"
   },
   "outputs": [],
   "source": [
    "np.random.seed(1000)"
   ]
  },
  {
   "cell_type": "markdown",
   "metadata": {
    "id": "BEgRBQ11vG09"
   },
   "source": [
    "Mean and Variance"
   ]
  },
  {
   "cell_type": "code",
   "execution_count": null,
   "metadata": {
    "colab": {
     "base_uri": "https://localhost:8080/"
    },
    "executionInfo": {
     "elapsed": 21,
     "status": "ok",
     "timestamp": 1633308779530,
     "user": {
      "displayName": "Song Kyungwoo",
      "photoUrl": "https://lh3.googleusercontent.com/a/default-user=s64",
      "userId": "08023224894669606199"
     },
     "user_tz": -540
    },
    "id": "MAq0AGTVvIkp",
    "outputId": "bdcaa54a-9e88-4e8f-e371-079d25ac0978"
   },
   "outputs": [
    {
     "name": "stdout",
     "output_type": "stream",
     "text": [
      "3.0 2.0 2.5 1.4142135623730951 1.5811388300841898\n"
     ]
    }
   ],
   "source": [
    "x = [1,2,3,4,5]\n",
    "mean = np.mean(x)\n",
    "biased_var = np.var(x)\n",
    "unbaised_var = np.var(x,ddof=1)\n",
    "biased_std = np.std(x)\n",
    "unbaised_std = np.std(x,ddof=1)\n",
    "\n",
    "print(mean, biased_var, unbaised_var, biased_std, unbaised_std)"
   ]
  },
  {
   "cell_type": "markdown",
   "metadata": {
    "id": "toUbQy0PAdD8"
   },
   "source": [
    "주사위 2개를 던졌을 때 나올 수 있는 주사위 합의 경우의 수를 모두 구해 봅시다. "
   ]
  },
  {
   "cell_type": "code",
   "execution_count": null,
   "metadata": {
    "colab": {
     "base_uri": "https://localhost:8080/"
    },
    "executionInfo": {
     "elapsed": 13,
     "status": "ok",
     "timestamp": 1633308779530,
     "user": {
      "displayName": "Song Kyungwoo",
      "photoUrl": "https://lh3.googleusercontent.com/a/default-user=s64",
      "userId": "08023224894669606199"
     },
     "user_tz": -540
    },
    "id": "GcVFsf8EumpQ",
    "outputId": "b206d5c4-37f8-477a-ecfd-a8f37f1bdb6e"
   },
   "outputs": [
    {
     "name": "stdout",
     "output_type": "stream",
     "text": [
      "{2, 3, 4, 5, 6, 7, 8, 9, 10, 11, 12}\n"
     ]
    }
   ],
   "source": [
    "dice1 = [1,2,3,4,5,6]\n",
    "dice2 = [1,2,3,4,5,6]\n",
    "\n",
    "sum_of_the_two_dice = set()\n",
    "\n",
    "for x in dice1:\n",
    "  for y in dice2 :\n",
    "    sum_of_the_two_dice.add(x +y)\n",
    "\n",
    "print(sum_of_the_two_dice)"
   ]
  },
  {
   "cell_type": "markdown",
   "metadata": {
    "id": "tPJicfU5ydC_"
   },
   "source": [
    "1. 동전 2개를 던졌을 때 나올 수 있는 앞 뒤면의 경우의 수를 모두 구해 봅시다. "
   ]
  },
  {
   "cell_type": "code",
   "execution_count": null,
   "metadata": {
    "colab": {
     "base_uri": "https://localhost:8080/"
    },
    "executionInfo": {
     "elapsed": 11,
     "status": "ok",
     "timestamp": 1633308779530,
     "user": {
      "displayName": "Song Kyungwoo",
      "photoUrl": "https://lh3.googleusercontent.com/a/default-user=s64",
      "userId": "08023224894669606199"
     },
     "user_tz": -540
    },
    "id": "A2xi_F53x1s7",
    "outputId": "deb5ae41-f1da-4063-c9ee-60c470f47414"
   },
   "outputs": [
    {
     "name": "stdout",
     "output_type": "stream",
     "text": [
      "{'Ht', 'Hh', 'Th', 'Tt'}\n"
     ]
    }
   ],
   "source": [
    "coin1 = [\"H\",\"T\"]\n",
    "coin2 = [\"h\",\"t\"]\n",
    "\n",
    "sum_of_the_two_coin = set()\n",
    "\n",
    "for x in coin1:\n",
    "  for y in coin2:\n",
    "    sum_of_the_two_coin.?????\n",
    "\n",
    "print(sum_of_the_two_coin)"
   ]
  },
  {
   "cell_type": "markdown",
   "metadata": {
    "id": "SsMU0XFspSgk"
   },
   "source": [
    "2. 또는, 우리가 지난시간에 배웠던, itertools를 활용해서도 가능합니다."
   ]
  },
  {
   "cell_type": "code",
   "execution_count": null,
   "metadata": {
    "colab": {
     "base_uri": "https://localhost:8080/"
    },
    "executionInfo": {
     "elapsed": 10,
     "status": "ok",
     "timestamp": 1633308779530,
     "user": {
      "displayName": "Song Kyungwoo",
      "photoUrl": "https://lh3.googleusercontent.com/a/default-user=s64",
      "userId": "08023224894669606199"
     },
     "user_tz": -540
    },
    "id": "p9czEKwQpSxB",
    "outputId": "b998c7f1-6363-493e-a3ff-b37648e745be"
   },
   "outputs": [
    {
     "name": "stdout",
     "output_type": "stream",
     "text": [
      "[('H', 'h'), ('H', 't'), ('T', 'h'), ('T', 't')]\n"
     ]
    }
   ],
   "source": [
    "print(list(?????.?????(coin1,coin2)))"
   ]
  },
  {
   "cell_type": "markdown",
   "metadata": {
    "id": "g7RiHPBkpunU"
   },
   "source": [
    "이제는 그림을 그려보는 법을 배워보겠습니다."
   ]
  },
  {
   "cell_type": "code",
   "execution_count": null,
   "metadata": {
    "colab": {
     "base_uri": "https://localhost:8080/",
     "height": 279
    },
    "executionInfo": {
     "elapsed": 10,
     "status": "ok",
     "timestamp": 1633308779531,
     "user": {
      "displayName": "Song Kyungwoo",
      "photoUrl": "https://lh3.googleusercontent.com/a/default-user=s64",
      "userId": "08023224894669606199"
     },
     "user_tz": -540
    },
    "id": "-cH05MI1qQGl",
    "outputId": "4a351594-e0a0-49f6-b9a9-7aa443916259"
   },
   "outputs": [
    {
     "data": {
      "image/png": "[encoded data removed]",
      "text/plain": [
       "<Figure size 432x288 with 1 Axes>"
      ]
     },
     "metadata": {
      "needs_background": "light"
     },
     "output_type": "display_data"
    }
   ],
   "source": [
    "plt.plot([1, 2, 3, 4])\n",
    "plt.ylabel('y')\n",
    "plt.xlabel('x')\n",
    "plt.show()"
   ]
  },
  {
   "cell_type": "code",
   "execution_count": null,
   "metadata": {
    "colab": {
     "base_uri": "https://localhost:8080/",
     "height": 279
    },
    "executionInfo": {
     "elapsed": 9,
     "status": "ok",
     "timestamp": 1633308779531,
     "user": {
      "displayName": "Song Kyungwoo",
      "photoUrl": "https://lh3.googleusercontent.com/a/default-user=s64",
      "userId": "08023224894669606199"
     },
     "user_tz": -540
    },
    "id": "8DWBRcWXqR7L",
    "outputId": "ee46cb6e-41ea-4991-d933-42dba3035a9e"
   },
   "outputs": [
    {
     "data": {
      "image/png": "[encoded data removed]",
      "text/plain": [
       "<Figure size 432x288 with 1 Axes>"
      ]
     },
     "metadata": {
      "needs_background": "light"
     },
     "output_type": "display_data"
    }
   ],
   "source": [
    "plt.plot([1, 2, 5, 10], [1, 4, 25, 100])\n",
    "plt.ylabel('y')\n",
    "plt.xlabel('x')\n",
    "plt.show()"
   ]
  },
  {
   "cell_type": "markdown",
   "metadata": {
    "id": "1Ie7JXkeqVJn"
   },
   "source": [
    "3. 아래 그림이 나오도록, 빈칸을 채워보세요."
   ]
  },
  {
   "cell_type": "code",
   "execution_count": null,
   "metadata": {
    "colab": {
     "base_uri": "https://localhost:8080/",
     "height": 304
    },
    "executionInfo": {
     "elapsed": 8,
     "status": "ok",
     "timestamp": 1633308779531,
     "user": {
      "displayName": "Song Kyungwoo",
      "photoUrl": "https://lh3.googleusercontent.com/a/default-user=s64",
      "userId": "08023224894669606199"
     },
     "user_tz": -540
    },
    "id": "wRPJL2zHqX5U",
    "outputId": "a7049c6b-49f6-483c-d179-7d0ed5f73a5e"
   },
   "outputs": [
    {
     "data": {
      "image/png": "[encoded data removed]",
      "text/plain": [
       "<Figure size 432x288 with 1 Axes>"
      ]
     },
     "metadata": {
      "needs_background": "light"
     },
     "output_type": "display_data"
    }
   ],
   "source": [
    "# plot color\n",
    "# x-axis, y-axis font size 20\n",
    "# label the figure (legend)\n",
    "# y-axis range 0~150, not 0~100\n",
    "plt.plot([1, 2, 5, 10], [1, 4, 25, 100], c='r',?????)\n",
    "plt.plot([1, 2, 5, 10], [1, 3, 10, 20], ?????,label='y is x')\n",
    "plt.legend(fontsize=10)\n",
    "plt.ylabel('y', ?????=20)\n",
    "plt.xlabel('x', ?????=20)\n",
    "plt.ylim(0,?????)\n",
    "plt.title('Matplotlib UOS AI ')\n",
    "plt.show()"
   ]
  },
  {
   "cell_type": "markdown",
   "metadata": {
    "id": "iKhdpzWTsIiS"
   },
   "source": [
    "이번에는 가우시안 분포를 한번 그려보겠습니다."
   ]
  },
  {
   "cell_type": "code",
   "execution_count": null,
   "metadata": {
    "colab": {
     "base_uri": "https://localhost:8080/",
     "height": 265
    },
    "executionInfo": {
     "elapsed": 466,
     "status": "ok",
     "timestamp": 1633308779990,
     "user": {
      "displayName": "Song Kyungwoo",
      "photoUrl": "https://lh3.googleusercontent.com/a/default-user=s64",
      "userId": "08023224894669606199"
     },
     "user_tz": -540
    },
    "id": "avO2eMcJr5QV",
    "outputId": "3a572551-1a1a-4bb0-c6af-189cfb289d5c"
   },
   "outputs": [
    {
     "data": {
      "image/png": "[encoded data removed]",
      "text/plain": [
       "<Figure size 432x288 with 1 Axes>"
      ]
     },
     "metadata": {
      "needs_background": "light"
     },
     "output_type": "display_data"
    }
   ],
   "source": [
    "# plot N(0,1)\n",
    "# x-axis: (mu-3*sigma,mu+3*sigma)\n",
    "mu = 0\n",
    "variance = 1\n",
    "sigma = math.sqrt(variance)\n",
    "x = np.linspace(mu - 3*sigma, mu + 3*sigma, 100)\n",
    "plt.plot(x, stats.norm.pdf(x, mu, sigma))\n",
    "plt.show()"
   ]
  },
  {
   "cell_type": "markdown",
   "metadata": {
    "id": "7F-20J-wsT1A"
   },
   "source": [
    "4. 이번에는 평균이 3이고, 분산이 10인 가우시안 분포를 빨간색으로 한번 그려보세요."
   ]
  },
  {
   "cell_type": "code",
   "execution_count": null,
   "metadata": {
    "colab": {
     "base_uri": "https://localhost:8080/",
     "height": 265
    },
    "executionInfo": {
     "elapsed": 14,
     "status": "ok",
     "timestamp": 1633308779990,
     "user": {
      "displayName": "Song Kyungwoo",
      "photoUrl": "https://lh3.googleusercontent.com/a/default-user=s64",
      "userId": "08023224894669606199"
     },
     "user_tz": -540
    },
    "id": "MfCEsexPsPAb",
    "outputId": "c3a2e11f-a509-4375-9eae-303051209b8e"
   },
   "outputs": [
    {
     "data": {
      "image/png": "[encoded data removed]",
      "text/plain": [
       "<Figure size 432x288 with 1 Axes>"
      ]
     },
     "metadata": {
      "needs_background": "light"
     },
     "output_type": "display_data"
    }
   ],
   "source": [
    "# plot N(0,1)\n",
    "# x-axis: (mu-3*sigma,mu+3*sigma)\n",
    "mu = ?????\n",
    "variance = ?????\n",
    "sigma = math.sqrt(variance)\n",
    "x = np.linspace(mu - 3*sigma, mu + 3*sigma, 100)\n",
    "plt.plot(x, stats.norm.pdf(x, mu, sigma),c='r')\n",
    "plt.show()"
   ]
  },
  {
   "cell_type": "markdown",
   "metadata": {
    "id": "-dJ3Z7rFs8mR"
   },
   "source": [
    "이번에는 Gaussian 분포의 CDF를 한번 구해보겠습니다."
   ]
  },
  {
   "cell_type": "code",
   "execution_count": null,
   "metadata": {
    "colab": {
     "base_uri": "https://localhost:8080/"
    },
    "executionInfo": {
     "elapsed": 14,
     "status": "ok",
     "timestamp": 1633308779991,
     "user": {
      "displayName": "Song Kyungwoo",
      "photoUrl": "https://lh3.googleusercontent.com/a/default-user=s64",
      "userId": "08023224894669606199"
     },
     "user_tz": -540
    },
    "id": "1YP-wdP2tPsZ",
    "outputId": "eee36c7b-877b-413e-a658-f3ceaef85e18"
   },
   "outputs": [
    {
     "name": "stdout",
     "output_type": "stream",
     "text": [
      "0.5\n",
      "0.3085375387259869\n",
      "0.6914624612740131\n"
     ]
    }
   ],
   "source": [
    "print(stats.norm.cdf(0.0, 0.0, 1.0))\n",
    "print(stats.norm.cdf(-0.5, 0.0, 1.0))\n",
    "print(stats.norm.cdf(+0.5, 0.0, 1.0))"
   ]
  },
  {
   "cell_type": "code",
   "execution_count": null,
   "metadata": {
    "colab": {
     "base_uri": "https://localhost:8080/",
     "height": 265
    },
    "executionInfo": {
     "elapsed": 12,
     "status": "ok",
     "timestamp": 1633308779991,
     "user": {
      "displayName": "Song Kyungwoo",
      "photoUrl": "https://lh3.googleusercontent.com/a/default-user=s64",
      "userId": "08023224894669606199"
     },
     "user_tz": -540
    },
    "id": "zxkMdbP9tBUu",
    "outputId": "01ecd018-beed-42c5-e82f-ea5bf08ccf14"
   },
   "outputs": [
    {
     "data": {
      "image/png": "[encoded data removed]",
      "text/plain": [
       "<Figure size 432x288 with 1 Axes>"
      ]
     },
     "metadata": {
      "needs_background": "light"
     },
     "output_type": "display_data"
    }
   ],
   "source": [
    "# plot N(0,1)\n",
    "# x-axis: (mu-3*sigma,mu+3*sigma)\n",
    "mu = 3\n",
    "variance = 10\n",
    "sigma = math.sqrt(variance)\n",
    "x = np.linspace(mu - 3*sigma, mu + 3*sigma, 100)\n",
    "plt.plot(x, stats.norm.cdf(x, mu, sigma),c='r')\n",
    "plt.show()"
   ]
  },
  {
   "cell_type": "markdown",
   "metadata": {
    "id": "cwzfzD80lrMP"
   },
   "source": [
    "5. Gaussian 분포의 Interval을 아래 순서대로 구해보세요.<br>\n",
    "5-a. x1에는 standard gaussian 확률 분포에서 값 1개를 random하게 샘플링 하세요. <br>\n",
    "5-b. norm_cdf1에는, standard gaussian 확률분포에서, x1구간까지의 영역의 넓이의 합을 구하시오. <br>\n",
    "5-c. x2에는 평균이 3, 분산이 4인 gaussian 확률 분포에서 값 1개를 random하게 샘플링 하세요. <br>\n",
    "5-d. norm_cdf2에는, 평균이3, 분산이 4인 gaussian 확률분포에서, x2구간까지의 영역의 넓이의 합을 구하시오. <br>\n",
    "\n",
    "<답안> <br>\n",
    "[0.07175642] [0.52860212] [-0.69629471] [0.03229051]\n",
    "\n",
    "<힌트> <br>\n",
    "scale이 variance인지, standard deviation인지 확인"
   ]
  },
  {
   "cell_type": "code",
   "execution_count": null,
   "metadata": {
    "colab": {
     "base_uri": "https://localhost:8080/"
    },
    "executionInfo": {
     "elapsed": 11,
     "status": "ok",
     "timestamp": 1633308779991,
     "user": {
      "displayName": "Song Kyungwoo",
      "photoUrl": "https://lh3.googleusercontent.com/a/default-user=s64",
      "userId": "08023224894669606199"
     },
     "user_tz": -540
    },
    "id": "061u5CTH1DUX",
    "outputId": "3bf974da-aee3-4185-b3c4-d2ab7fb3ea45"
   },
   "outputs": [
    {
     "name": "stdout",
     "output_type": "stream",
     "text": [
      "[-0.8044583] [0.21056617] [3.64186309] [0.62586887]\n"
     ]
    }
   ],
   "source": [
    "import numpy as np\n",
    "from scipy import stats\n",
    "\n",
    "x1 = np.random.randn(?????)\n",
    "norm_cdf1 = stats.norm.?????(x1)\n",
    "\n",
    "x2 = np.random.normal(loc=3, scale=?????, size=1) \n",
    "norm_cdf2 = stats.norm.cdf(x2, loc=?????, scale=2)\n",
    "\n",
    "print(x1, norm_cdf1, x2, norm_cdf2)"
   ]
  },
  {
   "cell_type": "markdown",
   "metadata": {
    "id": "CHf6PQS3treI"
   },
   "source": [
    "6. 이번에는 Poission 분포를 그려보겠습니다. 다음 빈칸에 poisson 분포의 pmf를 작성해보세요."
   ]
  },
  {
   "cell_type": "code",
   "execution_count": 3,
   "metadata": {
    "colab": {
     "base_uri": "https://localhost:8080/"
    },
    "executionInfo": {
     "elapsed": 274,
     "status": "ok",
     "timestamp": 1633309032144,
     "user": {
      "displayName": "Song Kyungwoo",
      "photoUrl": "https://lh3.googleusercontent.com/a/default-user=s64",
      "userId": "08023224894669606199"
     },
     "user_tz": -540
    },
    "id": "tNtucwIN1DIT",
    "outputId": "8d559eca-3ceb-4f5e-f183-e1f40b5f7f6d"
   },
   "outputs": [
    {
     "name": "stdout",
     "output_type": "stream",
     "text": [
      "[ 0.  1.  2.  3.  4.  5.  6.  7.  8.  9. 10. 11. 12. 13. 14. 15. 16. 17.\n",
      " 18. 19. 20. 21. 22. 23. 24. 25. 26. 27. 28. 29. 30.]\n"
     ]
    }
   ],
   "source": [
    "x = arange(31, dtype='f8')\n",
    "print(x)\n",
    "lambda_ = 10\n",
    "y = ?????"
   ]
  },
  {
   "cell_type": "code",
   "execution_count": null,
   "metadata": {
    "colab": {
     "base_uri": "https://localhost:8080/",
     "height": 515
    },
    "executionInfo": {
     "elapsed": 558,
     "status": "ok",
     "timestamp": 1633308780543,
     "user": {
      "displayName": "Song Kyungwoo",
      "photoUrl": "https://lh3.googleusercontent.com/a/default-user=s64",
      "userId": "08023224894669606199"
     },
     "user_tz": -540
    },
    "id": "4XdxlV-rup9j",
    "outputId": "aa6d35bb-2a11-4454-8bae-8eada2f36d20"
   },
   "outputs": [
    {
     "data": {
      "image/png": "[encoded data removed]",
      "text/plain": [
       "<Figure size 864x576 with 1 Axes>"
      ]
     },
     "metadata": {
      "needs_background": "light"
     },
     "output_type": "display_data"
    }
   ],
   "source": [
    "# 다  하시면, lambda_ 를 변경해가면서 다음의 wikipedia 그림과 비교해보세요.\n",
    "# https://en.wikipedia.org/wiki/Poisson_distribution\n",
    "plt.figure(figsize=(12, 8))\n",
    "plt.bar(x, y)\n",
    "plt.xlabel('X')\n",
    "plt.ylabel('P(X)')\n",
    "plt.title('$Poisson Distribution(\\lambda = 20)$')\n",
    "plt.grid()\n",
    "plt.show()"
   ]
  },
  {
   "cell_type": "markdown",
   "metadata": {
    "id": "BRHtCaQkwQPO"
   },
   "source": [
    "본 수업에서는 향후헤 Pandas를 중간중간 활용할 예정이며, 그 까닭에 Pandas에 대해서 미리 공부해보도록 하겠습니다."
   ]
  },
  {
   "cell_type": "markdown",
   "metadata": {
    "id": "Q9eK5b4GwcVC"
   },
   "source": [
    "Series 생성 (default integer index도 함께 생성 됨)"
   ]
  },
  {
   "cell_type": "code",
   "execution_count": null,
   "metadata": {
    "colab": {
     "base_uri": "https://localhost:8080/"
    },
    "executionInfo": {
     "elapsed": 30,
     "status": "ok",
     "timestamp": 1633308780544,
     "user": {
      "displayName": "Song Kyungwoo",
      "photoUrl": "https://lh3.googleusercontent.com/a/default-user=s64",
      "userId": "08023224894669606199"
     },
     "user_tz": -540
    },
    "id": "GWLZeB03wVhN",
    "outputId": "79d168ce-ed13-4cc7-bfa6-dd721cf6dc8d"
   },
   "outputs": [
    {
     "data": {
      "text/plain": [
       "0    1.0\n",
       "1    3.0\n",
       "2    3.0\n",
       "3    5.0\n",
       "4    NaN\n",
       "5    6.0\n",
       "6    8.0\n",
       "dtype: float64"
      ]
     },
     "execution_count": 94,
     "metadata": {},
     "output_type": "execute_result"
    }
   ],
   "source": [
    "s = pd.Series([1, 3, 3, 5, np.nan, 6, 8])\n",
    "s"
   ]
  },
  {
   "cell_type": "markdown",
   "metadata": {
    "id": "d2d_FlazwiIy"
   },
   "source": [
    "전체 개수를 알고 싶다면?"
   ]
  },
  {
   "cell_type": "code",
   "execution_count": null,
   "metadata": {
    "colab": {
     "base_uri": "https://localhost:8080/"
    },
    "executionInfo": {
     "elapsed": 28,
     "status": "ok",
     "timestamp": 1633308780544,
     "user": {
      "displayName": "Song Kyungwoo",
      "photoUrl": "https://lh3.googleusercontent.com/a/default-user=s64",
      "userId": "08023224894669606199"
     },
     "user_tz": -540
    },
    "id": "vmPCTWTEwbIn",
    "outputId": "8a60fdc2-0a4a-4785-ad3f-e620a301b72b"
   },
   "outputs": [
    {
     "data": {
      "text/plain": [
       "7"
      ]
     },
     "execution_count": 95,
     "metadata": {},
     "output_type": "execute_result"
    }
   ],
   "source": [
    "len(s)"
   ]
  },
  {
   "cell_type": "markdown",
   "metadata": {
    "id": "grr_0ti5wkLe"
   },
   "source": [
    "Nan이 아닌 값의 개수를 알고싶다면? "
   ]
  },
  {
   "cell_type": "code",
   "execution_count": null,
   "metadata": {
    "colab": {
     "base_uri": "https://localhost:8080/"
    },
    "executionInfo": {
     "elapsed": 25,
     "status": "ok",
     "timestamp": 1633308780544,
     "user": {
      "displayName": "Song Kyungwoo",
      "photoUrl": "https://lh3.googleusercontent.com/a/default-user=s64",
      "userId": "08023224894669606199"
     },
     "user_tz": -540
    },
    "id": "Ylf-pfADwll_",
    "outputId": "8d0abba1-c0f7-436f-fbdf-65f2f25e01cc"
   },
   "outputs": [
    {
     "data": {
      "text/plain": [
       "6"
      ]
     },
     "execution_count": 96,
     "metadata": {},
     "output_type": "execute_result"
    }
   ],
   "source": [
    "s.count()"
   ]
  },
  {
   "cell_type": "markdown",
   "metadata": {
    "id": "-g_u0MslwnL3"
   },
   "source": [
    "값별로 개수를 세고 싶을 경우"
   ]
  },
  {
   "cell_type": "code",
   "execution_count": null,
   "metadata": {
    "colab": {
     "base_uri": "https://localhost:8080/"
    },
    "executionInfo": {
     "elapsed": 24,
     "status": "ok",
     "timestamp": 1633308780545,
     "user": {
      "displayName": "Song Kyungwoo",
      "photoUrl": "https://lh3.googleusercontent.com/a/default-user=s64",
      "userId": "08023224894669606199"
     },
     "user_tz": -540
    },
    "id": "1d2DkOSCwofB",
    "outputId": "ae5879e3-1832-41bf-f181-519882313a53"
   },
   "outputs": [
    {
     "data": {
      "text/plain": [
       "3.0    2\n",
       "8.0    1\n",
       "6.0    1\n",
       "5.0    1\n",
       "1.0    1\n",
       "dtype: int64"
      ]
     },
     "execution_count": 97,
     "metadata": {},
     "output_type": "execute_result"
    }
   ],
   "source": [
    "s.value_counts()"
   ]
  },
  {
   "cell_type": "markdown",
   "metadata": {
    "id": "XLqPTkC7wqCA"
   },
   "source": [
    "Nan 값을 제거하고 싶다면?"
   ]
  },
  {
   "cell_type": "code",
   "execution_count": null,
   "metadata": {
    "colab": {
     "base_uri": "https://localhost:8080/"
    },
    "executionInfo": {
     "elapsed": 22,
     "status": "ok",
     "timestamp": 1633308780545,
     "user": {
      "displayName": "Song Kyungwoo",
      "photoUrl": "https://lh3.googleusercontent.com/a/default-user=s64",
      "userId": "08023224894669606199"
     },
     "user_tz": -540
    },
    "id": "U2JwLtDiwq8p",
    "outputId": "3e01d3e5-25ee-4643-ba3f-096e1d37d7af"
   },
   "outputs": [
    {
     "data": {
      "text/plain": [
       "0    1.0\n",
       "1    3.0\n",
       "2    3.0\n",
       "3    5.0\n",
       "5    6.0\n",
       "6    8.0\n",
       "dtype: float64"
      ]
     },
     "execution_count": 98,
     "metadata": {},
     "output_type": "execute_result"
    }
   ],
   "source": [
    "s.dropna( )"
   ]
  },
  {
   "cell_type": "markdown",
   "metadata": {
    "id": "BmmAsWxTwthC"
   },
   "source": [
    "중복을 제거하고 싶다면?"
   ]
  },
  {
   "cell_type": "code",
   "execution_count": null,
   "metadata": {
    "colab": {
     "base_uri": "https://localhost:8080/"
    },
    "executionInfo": {
     "elapsed": 21,
     "status": "ok",
     "timestamp": 1633308780545,
     "user": {
      "displayName": "Song Kyungwoo",
      "photoUrl": "https://lh3.googleusercontent.com/a/default-user=s64",
      "userId": "08023224894669606199"
     },
     "user_tz": -540
    },
    "id": "6KSCsCY1wrlg",
    "outputId": "a3df87f7-57ee-43c4-9d16-9676a7ae3f9b"
   },
   "outputs": [
    {
     "data": {
      "text/plain": [
       "array([ 1.,  3.,  5., nan,  6.,  8.])"
      ]
     },
     "execution_count": 99,
     "metadata": {},
     "output_type": "execute_result"
    }
   ],
   "source": [
    "s.unique()"
   ]
  },
  {
   "cell_type": "markdown",
   "metadata": {
    "id": "pTScLEZuwwdA"
   },
   "source": [
    "만약 여러개의 series를 만들고 싶다면? <br>\n",
    "dataframe! <br>\n",
    "(Series is the data structure for a single column of a DataFrame)"
   ]
  },
  {
   "cell_type": "code",
   "execution_count": null,
   "metadata": {
    "colab": {
     "base_uri": "https://localhost:8080/",
     "height": 237
    },
    "executionInfo": {
     "elapsed": 19,
     "status": "ok",
     "timestamp": 1633308780545,
     "user": {
      "displayName": "Song Kyungwoo",
      "photoUrl": "https://lh3.googleusercontent.com/a/default-user=s64",
      "userId": "08023224894669606199"
     },
     "user_tz": -540
    },
    "id": "fjWIbEKYwuVA",
    "outputId": "22261bb2-5aeb-4d38-c2c0-b343d4818031"
   },
   "outputs": [
    {
     "data": {
      "text/html": [
       "<div>\n",
       "<style scoped>\n",
       "    .dataframe tbody tr th:only-of-type {\n",
       "        vertical-align: middle;\n",
       "    }\n",
       "\n",
       "    .dataframe tbody tr th {\n",
       "        vertical-align: top;\n",
       "    }\n",
       "\n",
       "    .dataframe thead th {\n",
       "        text-align: right;\n",
       "    }\n",
       "</style>\n",
       "<table border=\"1\" class=\"dataframe\">\n",
       "  <thead>\n",
       "    <tr style=\"text-align: right;\">\n",
       "      <th></th>\n",
       "      <th>0</th>\n",
       "      <th>1</th>\n",
       "      <th>2</th>\n",
       "      <th>3</th>\n",
       "    </tr>\n",
       "  </thead>\n",
       "  <tbody>\n",
       "    <tr>\n",
       "      <th>0</th>\n",
       "      <td>-0.025483</td>\n",
       "      <td>0.644324</td>\n",
       "      <td>-0.300797</td>\n",
       "      <td>0.389475</td>\n",
       "    </tr>\n",
       "    <tr>\n",
       "      <th>1</th>\n",
       "      <td>-0.107437</td>\n",
       "      <td>-0.479983</td>\n",
       "      <td>0.595036</td>\n",
       "      <td>-0.464668</td>\n",
       "    </tr>\n",
       "    <tr>\n",
       "      <th>2</th>\n",
       "      <td>0.667281</td>\n",
       "      <td>-0.806116</td>\n",
       "      <td>-1.196070</td>\n",
       "      <td>-0.405960</td>\n",
       "    </tr>\n",
       "    <tr>\n",
       "      <th>3</th>\n",
       "      <td>-0.182377</td>\n",
       "      <td>0.103193</td>\n",
       "      <td>-0.138422</td>\n",
       "      <td>0.705692</td>\n",
       "    </tr>\n",
       "    <tr>\n",
       "      <th>4</th>\n",
       "      <td>1.271795</td>\n",
       "      <td>-0.986747</td>\n",
       "      <td>-0.334835</td>\n",
       "      <td>-0.099482</td>\n",
       "    </tr>\n",
       "    <tr>\n",
       "      <th>5</th>\n",
       "      <td>0.407192</td>\n",
       "      <td>0.919388</td>\n",
       "      <td>0.312118</td>\n",
       "      <td>1.533161</td>\n",
       "    </tr>\n",
       "  </tbody>\n",
       "</table>\n",
       "</div>"
      ],
      "text/plain": [
       "          0         1         2         3\n",
       "0 -0.025483  0.644324 -0.300797  0.389475\n",
       "1 -0.107437 -0.479983  0.595036 -0.464668\n",
       "2  0.667281 -0.806116 -1.196070 -0.405960\n",
       "3 -0.182377  0.103193 -0.138422  0.705692\n",
       "4  1.271795 -0.986747 -0.334835 -0.099482\n",
       "5  0.407192  0.919388  0.312118  1.533161"
      ]
     },
     "execution_count": 100,
     "metadata": {},
     "output_type": "execute_result"
    }
   ],
   "source": [
    "df = pd.DataFrame(np.random.randn(6, 4))\n",
    "df"
   ]
  },
  {
   "cell_type": "markdown",
   "metadata": {
    "id": "g3C8I4xjwzhv"
   },
   "source": [
    "만약 column 과 row의 이름을 변경하고 싶다면?"
   ]
  },
  {
   "cell_type": "code",
   "execution_count": null,
   "metadata": {
    "colab": {
     "base_uri": "https://localhost:8080/",
     "height": 237
    },
    "executionInfo": {
     "elapsed": 20,
     "status": "ok",
     "timestamp": 1633308780546,
     "user": {
      "displayName": "Song Kyungwoo",
      "photoUrl": "https://lh3.googleusercontent.com/a/default-user=s64",
      "userId": "08023224894669606199"
     },
     "user_tz": -540
    },
    "id": "Q11T7lFMwx8x",
    "outputId": "92435cff-565b-4dba-a2cf-d2f0269d7dbb"
   },
   "outputs": [
    {
     "data": {
      "text/html": [
       "<div>\n",
       "<style scoped>\n",
       "    .dataframe tbody tr th:only-of-type {\n",
       "        vertical-align: middle;\n",
       "    }\n",
       "\n",
       "    .dataframe tbody tr th {\n",
       "        vertical-align: top;\n",
       "    }\n",
       "\n",
       "    .dataframe thead th {\n",
       "        text-align: right;\n",
       "    }\n",
       "</style>\n",
       "<table border=\"1\" class=\"dataframe\">\n",
       "  <thead>\n",
       "    <tr style=\"text-align: right;\">\n",
       "      <th></th>\n",
       "      <th>A</th>\n",
       "      <th>B</th>\n",
       "      <th>C</th>\n",
       "      <th>D</th>\n",
       "    </tr>\n",
       "  </thead>\n",
       "  <tbody>\n",
       "    <tr>\n",
       "      <th>2021-10-04</th>\n",
       "      <td>-0.550174</td>\n",
       "      <td>-0.383147</td>\n",
       "      <td>-0.822941</td>\n",
       "      <td>1.600083</td>\n",
       "    </tr>\n",
       "    <tr>\n",
       "      <th>2021-10-05</th>\n",
       "      <td>-0.069281</td>\n",
       "      <td>0.083209</td>\n",
       "      <td>-0.326925</td>\n",
       "      <td>-0.045797</td>\n",
       "    </tr>\n",
       "    <tr>\n",
       "      <th>2021-10-06</th>\n",
       "      <td>-0.304460</td>\n",
       "      <td>1.923010</td>\n",
       "      <td>-0.078659</td>\n",
       "      <td>-0.582066</td>\n",
       "    </tr>\n",
       "    <tr>\n",
       "      <th>2021-10-07</th>\n",
       "      <td>-1.617982</td>\n",
       "      <td>0.867261</td>\n",
       "      <td>-1.040437</td>\n",
       "      <td>0.650421</td>\n",
       "    </tr>\n",
       "    <tr>\n",
       "      <th>2021-10-08</th>\n",
       "      <td>2.699646</td>\n",
       "      <td>0.802025</td>\n",
       "      <td>-1.096921</td>\n",
       "      <td>-0.178054</td>\n",
       "    </tr>\n",
       "    <tr>\n",
       "      <th>2021-10-09</th>\n",
       "      <td>-0.422870</td>\n",
       "      <td>-0.330401</td>\n",
       "      <td>-1.111163</td>\n",
       "      <td>-0.742006</td>\n",
       "    </tr>\n",
       "  </tbody>\n",
       "</table>\n",
       "</div>"
      ],
      "text/plain": [
       "                   A         B         C         D\n",
       "2021-10-04 -0.550174 -0.383147 -0.822941  1.600083\n",
       "2021-10-05 -0.069281  0.083209 -0.326925 -0.045797\n",
       "2021-10-06 -0.304460  1.923010 -0.078659 -0.582066\n",
       "2021-10-07 -1.617982  0.867261 -1.040437  0.650421\n",
       "2021-10-08  2.699646  0.802025 -1.096921 -0.178054\n",
       "2021-10-09 -0.422870 -0.330401 -1.111163 -0.742006"
      ]
     },
     "execution_count": 101,
     "metadata": {},
     "output_type": "execute_result"
    }
   ],
   "source": [
    "dates = pd.date_range(\"20211004\", periods=6)\n",
    "df = pd.DataFrame(np.random.randn(6, 4), index=dates, columns=[\"A\",\"B\",\"C\",\"D\"])\n",
    "df"
   ]
  },
  {
   "cell_type": "markdown",
   "metadata": {
    "id": "1tCJRsDVw4fa"
   },
   "source": [
    "만약 dataframe의 상위 일부만 보고 싶다면?"
   ]
  },
  {
   "cell_type": "code",
   "execution_count": null,
   "metadata": {
    "colab": {
     "base_uri": "https://localhost:8080/",
     "height": 112
    },
    "executionInfo": {
     "elapsed": 19,
     "status": "ok",
     "timestamp": 1633308780546,
     "user": {
      "displayName": "Song Kyungwoo",
      "photoUrl": "https://lh3.googleusercontent.com/a/default-user=s64",
      "userId": "08023224894669606199"
     },
     "user_tz": -540
    },
    "id": "vm2dmzcnw0gJ",
    "outputId": "4d610316-58ce-4634-e653-5579ed810b0e"
   },
   "outputs": [
    {
     "data": {
      "text/html": [
       "<div>\n",
       "<style scoped>\n",
       "    .dataframe tbody tr th:only-of-type {\n",
       "        vertical-align: middle;\n",
       "    }\n",
       "\n",
       "    .dataframe tbody tr th {\n",
       "        vertical-align: top;\n",
       "    }\n",
       "\n",
       "    .dataframe thead th {\n",
       "        text-align: right;\n",
       "    }\n",
       "</style>\n",
       "<table border=\"1\" class=\"dataframe\">\n",
       "  <thead>\n",
       "    <tr style=\"text-align: right;\">\n",
       "      <th></th>\n",
       "      <th>A</th>\n",
       "      <th>B</th>\n",
       "      <th>C</th>\n",
       "      <th>D</th>\n",
       "    </tr>\n",
       "  </thead>\n",
       "  <tbody>\n",
       "    <tr>\n",
       "      <th>2021-10-04</th>\n",
       "      <td>-0.550174</td>\n",
       "      <td>-0.383147</td>\n",
       "      <td>-0.822941</td>\n",
       "      <td>1.600083</td>\n",
       "    </tr>\n",
       "    <tr>\n",
       "      <th>2021-10-05</th>\n",
       "      <td>-0.069281</td>\n",
       "      <td>0.083209</td>\n",
       "      <td>-0.326925</td>\n",
       "      <td>-0.045797</td>\n",
       "    </tr>\n",
       "  </tbody>\n",
       "</table>\n",
       "</div>"
      ],
      "text/plain": [
       "                   A         B         C         D\n",
       "2021-10-04 -0.550174 -0.383147 -0.822941  1.600083\n",
       "2021-10-05 -0.069281  0.083209 -0.326925 -0.045797"
      ]
     },
     "execution_count": 102,
     "metadata": {},
     "output_type": "execute_result"
    }
   ],
   "source": [
    "df.head(n=2)"
   ]
  },
  {
   "cell_type": "markdown",
   "metadata": {
    "id": "NMnwBvgrw6pg"
   },
   "source": [
    "dataframe 값을 numpy array로 변경하고 싶다면?"
   ]
  },
  {
   "cell_type": "code",
   "execution_count": null,
   "metadata": {
    "colab": {
     "base_uri": "https://localhost:8080/"
    },
    "executionInfo": {
     "elapsed": 19,
     "status": "ok",
     "timestamp": 1633308780546,
     "user": {
      "displayName": "Song Kyungwoo",
      "photoUrl": "https://lh3.googleusercontent.com/a/default-user=s64",
      "userId": "08023224894669606199"
     },
     "user_tz": -540
    },
    "id": "L5HA_Y0Kw5ah",
    "outputId": "e2c6af2c-0c02-4505-e5d4-7e6b25dc348c"
   },
   "outputs": [
    {
     "data": {
      "text/plain": [
       "array([[-0.55017387, -0.38314741, -0.82294096,  1.60008337],\n",
       "       [-0.0692813 ,  0.08320949, -0.32692468, -0.04579719],\n",
       "       [-0.30446006,  1.92301013, -0.078659  , -0.58206572],\n",
       "       [-1.61798224,  0.86726082, -1.04043709,  0.65042142],\n",
       "       [ 2.69964586,  0.80202451, -1.09692126, -0.17805445],\n",
       "       [-0.42287048, -0.33040055, -1.11116278, -0.74200575]])"
      ]
     },
     "execution_count": 103,
     "metadata": {},
     "output_type": "execute_result"
    }
   ],
   "source": [
    "df.to_numpy()"
   ]
  },
  {
   "cell_type": "markdown",
   "metadata": {
    "id": "01wGYdNNw8cw"
   },
   "source": [
    "data에 대한 전반적인 정보를 확인하고 싶다면? <br>\n",
    "dataframe에 대한 정보를 알고 싶은 경우: info( ) <br>\n",
    "평균 등을 알고 싶을 경우: describe() <br>\n",
    "Nan이 아닌 값의 개수를 알고 싶을 경우: count()"
   ]
  },
  {
   "cell_type": "code",
   "execution_count": null,
   "metadata": {
    "colab": {
     "base_uri": "https://localhost:8080/"
    },
    "executionInfo": {
     "elapsed": 17,
     "status": "ok",
     "timestamp": 1633308780546,
     "user": {
      "displayName": "Song Kyungwoo",
      "photoUrl": "https://lh3.googleusercontent.com/a/default-user=s64",
      "userId": "08023224894669606199"
     },
     "user_tz": -540
    },
    "id": "8uCTxmfSw7b5",
    "outputId": "37725e75-7440-4101-ebbc-796b89812c94"
   },
   "outputs": [
    {
     "name": "stdout",
     "output_type": "stream",
     "text": [
      "<class 'pandas.core.frame.DataFrame'>\n",
      "DatetimeIndex: 6 entries, 2021-10-04 to 2021-10-09\n",
      "Freq: D\n",
      "Data columns (total 4 columns):\n",
      " #   Column  Non-Null Count  Dtype  \n",
      "---  ------  --------------  -----  \n",
      " 0   A       6 non-null      float64\n",
      " 1   B       6 non-null      float64\n",
      " 2   C       6 non-null      float64\n",
      " 3   D       6 non-null      float64\n",
      "dtypes: float64(4)\n",
      "memory usage: 240.0 bytes\n"
     ]
    }
   ],
   "source": [
    "df.info()"
   ]
  },
  {
   "cell_type": "code",
   "execution_count": null,
   "metadata": {
    "colab": {
     "base_uri": "https://localhost:8080/",
     "height": 300
    },
    "executionInfo": {
     "elapsed": 17,
     "status": "ok",
     "timestamp": 1633308780547,
     "user": {
      "displayName": "Song Kyungwoo",
      "photoUrl": "https://lh3.googleusercontent.com/a/default-user=s64",
      "userId": "08023224894669606199"
     },
     "user_tz": -540
    },
    "id": "hNqCn3oBw_nX",
    "outputId": "b337ef8a-7527-42c6-c832-f8c5742ff08c"
   },
   "outputs": [
    {
     "data": {
      "text/html": [
       "<div>\n",
       "<style scoped>\n",
       "    .dataframe tbody tr th:only-of-type {\n",
       "        vertical-align: middle;\n",
       "    }\n",
       "\n",
       "    .dataframe tbody tr th {\n",
       "        vertical-align: top;\n",
       "    }\n",
       "\n",
       "    .dataframe thead th {\n",
       "        text-align: right;\n",
       "    }\n",
       "</style>\n",
       "<table border=\"1\" class=\"dataframe\">\n",
       "  <thead>\n",
       "    <tr style=\"text-align: right;\">\n",
       "      <th></th>\n",
       "      <th>A</th>\n",
       "      <th>B</th>\n",
       "      <th>C</th>\n",
       "      <th>D</th>\n",
       "    </tr>\n",
       "  </thead>\n",
       "  <tbody>\n",
       "    <tr>\n",
       "      <th>count</th>\n",
       "      <td>6.000000</td>\n",
       "      <td>6.000000</td>\n",
       "      <td>6.000000</td>\n",
       "      <td>6.000000</td>\n",
       "    </tr>\n",
       "    <tr>\n",
       "      <th>mean</th>\n",
       "      <td>-0.044187</td>\n",
       "      <td>0.493659</td>\n",
       "      <td>-0.746174</td>\n",
       "      <td>0.117097</td>\n",
       "    </tr>\n",
       "    <tr>\n",
       "      <th>std</th>\n",
       "      <td>1.447290</td>\n",
       "      <td>0.882502</td>\n",
       "      <td>0.440470</td>\n",
       "      <td>0.874553</td>\n",
       "    </tr>\n",
       "    <tr>\n",
       "      <th>min</th>\n",
       "      <td>-1.617982</td>\n",
       "      <td>-0.383147</td>\n",
       "      <td>-1.111163</td>\n",
       "      <td>-0.742006</td>\n",
       "    </tr>\n",
       "    <tr>\n",
       "      <th>25%</th>\n",
       "      <td>-0.518348</td>\n",
       "      <td>-0.226998</td>\n",
       "      <td>-1.082800</td>\n",
       "      <td>-0.481063</td>\n",
       "    </tr>\n",
       "    <tr>\n",
       "      <th>50%</th>\n",
       "      <td>-0.363665</td>\n",
       "      <td>0.442617</td>\n",
       "      <td>-0.931689</td>\n",
       "      <td>-0.111926</td>\n",
       "    </tr>\n",
       "    <tr>\n",
       "      <th>75%</th>\n",
       "      <td>-0.128076</td>\n",
       "      <td>0.850952</td>\n",
       "      <td>-0.450929</td>\n",
       "      <td>0.476367</td>\n",
       "    </tr>\n",
       "    <tr>\n",
       "      <th>max</th>\n",
       "      <td>2.699646</td>\n",
       "      <td>1.923010</td>\n",
       "      <td>-0.078659</td>\n",
       "      <td>1.600083</td>\n",
       "    </tr>\n",
       "  </tbody>\n",
       "</table>\n",
       "</div>"
      ],
      "text/plain": [
       "              A         B         C         D\n",
       "count  6.000000  6.000000  6.000000  6.000000\n",
       "mean  -0.044187  0.493659 -0.746174  0.117097\n",
       "std    1.447290  0.882502  0.440470  0.874553\n",
       "min   -1.617982 -0.383147 -1.111163 -0.742006\n",
       "25%   -0.518348 -0.226998 -1.082800 -0.481063\n",
       "50%   -0.363665  0.442617 -0.931689 -0.111926\n",
       "75%   -0.128076  0.850952 -0.450929  0.476367\n",
       "max    2.699646  1.923010 -0.078659  1.600083"
      ]
     },
     "execution_count": 105,
     "metadata": {},
     "output_type": "execute_result"
    }
   ],
   "source": [
    "df.describe()"
   ]
  },
  {
   "cell_type": "code",
   "execution_count": null,
   "metadata": {
    "colab": {
     "base_uri": "https://localhost:8080/"
    },
    "executionInfo": {
     "elapsed": 16,
     "status": "ok",
     "timestamp": 1633308780547,
     "user": {
      "displayName": "Song Kyungwoo",
      "photoUrl": "https://lh3.googleusercontent.com/a/default-user=s64",
      "userId": "08023224894669606199"
     },
     "user_tz": -540
    },
    "id": "WNBmDOG2w9TC",
    "outputId": "95148560-6dc9-431d-e6c1-42aad0dac8ed"
   },
   "outputs": [
    {
     "data": {
      "text/plain": [
       "A    6\n",
       "B    6\n",
       "C    6\n",
       "D    6\n",
       "dtype: int64"
      ]
     },
     "execution_count": 106,
     "metadata": {},
     "output_type": "execute_result"
    }
   ],
   "source": [
    "df.count()"
   ]
  },
  {
   "cell_type": "markdown",
   "metadata": {
    "id": "Sgw02xxpxCg7"
   },
   "source": [
    "df 정렬하기 <br>\n",
    "index를 기준으로 정렬: sort_index(axis=?,ascending=?) <br>\n",
    "예를들어, axis=0이라고 한다면 2013-01-01,2013-01-02,... 이름을 기준으로 정렬 <br>\n",
    "예를들어, axis=1이라고 한다면 A,B,C,D 이름을 기준으로 정렬 <br>\n",
    "value를 기준으로 정렬: sort_values(by=?,ascending=?)"
   ]
  },
  {
   "cell_type": "code",
   "execution_count": null,
   "metadata": {
    "colab": {
     "base_uri": "https://localhost:8080/",
     "height": 237
    },
    "executionInfo": {
     "elapsed": 14,
     "status": "ok",
     "timestamp": 1633308780547,
     "user": {
      "displayName": "Song Kyungwoo",
      "photoUrl": "https://lh3.googleusercontent.com/a/default-user=s64",
      "userId": "08023224894669606199"
     },
     "user_tz": -540
    },
    "id": "cbgC0hwOxBcq",
    "outputId": "72037a43-42ca-43f6-af44-8c909f8b17e5"
   },
   "outputs": [
    {
     "data": {
      "text/html": [
       "<div>\n",
       "<style scoped>\n",
       "    .dataframe tbody tr th:only-of-type {\n",
       "        vertical-align: middle;\n",
       "    }\n",
       "\n",
       "    .dataframe tbody tr th {\n",
       "        vertical-align: top;\n",
       "    }\n",
       "\n",
       "    .dataframe thead th {\n",
       "        text-align: right;\n",
       "    }\n",
       "</style>\n",
       "<table border=\"1\" class=\"dataframe\">\n",
       "  <thead>\n",
       "    <tr style=\"text-align: right;\">\n",
       "      <th></th>\n",
       "      <th>A</th>\n",
       "      <th>B</th>\n",
       "      <th>C</th>\n",
       "      <th>D</th>\n",
       "    </tr>\n",
       "  </thead>\n",
       "  <tbody>\n",
       "    <tr>\n",
       "      <th>2021-10-04</th>\n",
       "      <td>-0.550174</td>\n",
       "      <td>-0.383147</td>\n",
       "      <td>-0.822941</td>\n",
       "      <td>1.600083</td>\n",
       "    </tr>\n",
       "    <tr>\n",
       "      <th>2021-10-05</th>\n",
       "      <td>-0.069281</td>\n",
       "      <td>0.083209</td>\n",
       "      <td>-0.326925</td>\n",
       "      <td>-0.045797</td>\n",
       "    </tr>\n",
       "    <tr>\n",
       "      <th>2021-10-06</th>\n",
       "      <td>-0.304460</td>\n",
       "      <td>1.923010</td>\n",
       "      <td>-0.078659</td>\n",
       "      <td>-0.582066</td>\n",
       "    </tr>\n",
       "    <tr>\n",
       "      <th>2021-10-07</th>\n",
       "      <td>-1.617982</td>\n",
       "      <td>0.867261</td>\n",
       "      <td>-1.040437</td>\n",
       "      <td>0.650421</td>\n",
       "    </tr>\n",
       "    <tr>\n",
       "      <th>2021-10-08</th>\n",
       "      <td>2.699646</td>\n",
       "      <td>0.802025</td>\n",
       "      <td>-1.096921</td>\n",
       "      <td>-0.178054</td>\n",
       "    </tr>\n",
       "    <tr>\n",
       "      <th>2021-10-09</th>\n",
       "      <td>-0.422870</td>\n",
       "      <td>-0.330401</td>\n",
       "      <td>-1.111163</td>\n",
       "      <td>-0.742006</td>\n",
       "    </tr>\n",
       "  </tbody>\n",
       "</table>\n",
       "</div>"
      ],
      "text/plain": [
       "                   A         B         C         D\n",
       "2021-10-04 -0.550174 -0.383147 -0.822941  1.600083\n",
       "2021-10-05 -0.069281  0.083209 -0.326925 -0.045797\n",
       "2021-10-06 -0.304460  1.923010 -0.078659 -0.582066\n",
       "2021-10-07 -1.617982  0.867261 -1.040437  0.650421\n",
       "2021-10-08  2.699646  0.802025 -1.096921 -0.178054\n",
       "2021-10-09 -0.422870 -0.330401 -1.111163 -0.742006"
      ]
     },
     "execution_count": 107,
     "metadata": {},
     "output_type": "execute_result"
    }
   ],
   "source": [
    "df"
   ]
  },
  {
   "cell_type": "code",
   "execution_count": null,
   "metadata": {
    "colab": {
     "base_uri": "https://localhost:8080/",
     "height": 237
    },
    "executionInfo": {
     "elapsed": 14,
     "status": "ok",
     "timestamp": 1633308780547,
     "user": {
      "displayName": "Song Kyungwoo",
      "photoUrl": "https://lh3.googleusercontent.com/a/default-user=s64",
      "userId": "08023224894669606199"
     },
     "user_tz": -540
    },
    "id": "J52YUHytxD0K",
    "outputId": "150f500a-0cc1-449a-8b1b-43cd764672b1"
   },
   "outputs": [
    {
     "data": {
      "text/html": [
       "<div>\n",
       "<style scoped>\n",
       "    .dataframe tbody tr th:only-of-type {\n",
       "        vertical-align: middle;\n",
       "    }\n",
       "\n",
       "    .dataframe tbody tr th {\n",
       "        vertical-align: top;\n",
       "    }\n",
       "\n",
       "    .dataframe thead th {\n",
       "        text-align: right;\n",
       "    }\n",
       "</style>\n",
       "<table border=\"1\" class=\"dataframe\">\n",
       "  <thead>\n",
       "    <tr style=\"text-align: right;\">\n",
       "      <th></th>\n",
       "      <th>A</th>\n",
       "      <th>B</th>\n",
       "      <th>C</th>\n",
       "      <th>D</th>\n",
       "    </tr>\n",
       "  </thead>\n",
       "  <tbody>\n",
       "    <tr>\n",
       "      <th>2021-10-04</th>\n",
       "      <td>-0.550174</td>\n",
       "      <td>-0.383147</td>\n",
       "      <td>-0.822941</td>\n",
       "      <td>1.600083</td>\n",
       "    </tr>\n",
       "    <tr>\n",
       "      <th>2021-10-05</th>\n",
       "      <td>-0.069281</td>\n",
       "      <td>0.083209</td>\n",
       "      <td>-0.326925</td>\n",
       "      <td>-0.045797</td>\n",
       "    </tr>\n",
       "    <tr>\n",
       "      <th>2021-10-06</th>\n",
       "      <td>-0.304460</td>\n",
       "      <td>1.923010</td>\n",
       "      <td>-0.078659</td>\n",
       "      <td>-0.582066</td>\n",
       "    </tr>\n",
       "    <tr>\n",
       "      <th>2021-10-07</th>\n",
       "      <td>-1.617982</td>\n",
       "      <td>0.867261</td>\n",
       "      <td>-1.040437</td>\n",
       "      <td>0.650421</td>\n",
       "    </tr>\n",
       "    <tr>\n",
       "      <th>2021-10-08</th>\n",
       "      <td>2.699646</td>\n",
       "      <td>0.802025</td>\n",
       "      <td>-1.096921</td>\n",
       "      <td>-0.178054</td>\n",
       "    </tr>\n",
       "    <tr>\n",
       "      <th>2021-10-09</th>\n",
       "      <td>-0.422870</td>\n",
       "      <td>-0.330401</td>\n",
       "      <td>-1.111163</td>\n",
       "      <td>-0.742006</td>\n",
       "    </tr>\n",
       "  </tbody>\n",
       "</table>\n",
       "</div>"
      ],
      "text/plain": [
       "                   A         B         C         D\n",
       "2021-10-04 -0.550174 -0.383147 -0.822941  1.600083\n",
       "2021-10-05 -0.069281  0.083209 -0.326925 -0.045797\n",
       "2021-10-06 -0.304460  1.923010 -0.078659 -0.582066\n",
       "2021-10-07 -1.617982  0.867261 -1.040437  0.650421\n",
       "2021-10-08  2.699646  0.802025 -1.096921 -0.178054\n",
       "2021-10-09 -0.422870 -0.330401 -1.111163 -0.742006"
      ]
     },
     "execution_count": 108,
     "metadata": {},
     "output_type": "execute_result"
    }
   ],
   "source": [
    "# df.sort_index(axis=1,ascending=False)\n",
    "df.sort_index(axis=0,ascending=True)"
   ]
  },
  {
   "cell_type": "code",
   "execution_count": null,
   "metadata": {
    "colab": {
     "base_uri": "https://localhost:8080/",
     "height": 237
    },
    "executionInfo": {
     "elapsed": 13,
     "status": "ok",
     "timestamp": 1633308780547,
     "user": {
      "displayName": "Song Kyungwoo",
      "photoUrl": "https://lh3.googleusercontent.com/a/default-user=s64",
      "userId": "08023224894669606199"
     },
     "user_tz": -540
    },
    "id": "yHOre7U_xExy",
    "outputId": "7864e438-9091-468d-ff5f-b5bc61e4c425"
   },
   "outputs": [
    {
     "data": {
      "text/html": [
       "<div>\n",
       "<style scoped>\n",
       "    .dataframe tbody tr th:only-of-type {\n",
       "        vertical-align: middle;\n",
       "    }\n",
       "\n",
       "    .dataframe tbody tr th {\n",
       "        vertical-align: top;\n",
       "    }\n",
       "\n",
       "    .dataframe thead th {\n",
       "        text-align: right;\n",
       "    }\n",
       "</style>\n",
       "<table border=\"1\" class=\"dataframe\">\n",
       "  <thead>\n",
       "    <tr style=\"text-align: right;\">\n",
       "      <th></th>\n",
       "      <th>A</th>\n",
       "      <th>B</th>\n",
       "      <th>C</th>\n",
       "      <th>D</th>\n",
       "    </tr>\n",
       "  </thead>\n",
       "  <tbody>\n",
       "    <tr>\n",
       "      <th>2021-10-04</th>\n",
       "      <td>-0.550174</td>\n",
       "      <td>-0.383147</td>\n",
       "      <td>-0.822941</td>\n",
       "      <td>1.600083</td>\n",
       "    </tr>\n",
       "    <tr>\n",
       "      <th>2021-10-09</th>\n",
       "      <td>-0.422870</td>\n",
       "      <td>-0.330401</td>\n",
       "      <td>-1.111163</td>\n",
       "      <td>-0.742006</td>\n",
       "    </tr>\n",
       "    <tr>\n",
       "      <th>2021-10-05</th>\n",
       "      <td>-0.069281</td>\n",
       "      <td>0.083209</td>\n",
       "      <td>-0.326925</td>\n",
       "      <td>-0.045797</td>\n",
       "    </tr>\n",
       "    <tr>\n",
       "      <th>2021-10-08</th>\n",
       "      <td>2.699646</td>\n",
       "      <td>0.802025</td>\n",
       "      <td>-1.096921</td>\n",
       "      <td>-0.178054</td>\n",
       "    </tr>\n",
       "    <tr>\n",
       "      <th>2021-10-07</th>\n",
       "      <td>-1.617982</td>\n",
       "      <td>0.867261</td>\n",
       "      <td>-1.040437</td>\n",
       "      <td>0.650421</td>\n",
       "    </tr>\n",
       "    <tr>\n",
       "      <th>2021-10-06</th>\n",
       "      <td>-0.304460</td>\n",
       "      <td>1.923010</td>\n",
       "      <td>-0.078659</td>\n",
       "      <td>-0.582066</td>\n",
       "    </tr>\n",
       "  </tbody>\n",
       "</table>\n",
       "</div>"
      ],
      "text/plain": [
       "                   A         B         C         D\n",
       "2021-10-04 -0.550174 -0.383147 -0.822941  1.600083\n",
       "2021-10-09 -0.422870 -0.330401 -1.111163 -0.742006\n",
       "2021-10-05 -0.069281  0.083209 -0.326925 -0.045797\n",
       "2021-10-08  2.699646  0.802025 -1.096921 -0.178054\n",
       "2021-10-07 -1.617982  0.867261 -1.040437  0.650421\n",
       "2021-10-06 -0.304460  1.923010 -0.078659 -0.582066"
      ]
     },
     "execution_count": 109,
     "metadata": {},
     "output_type": "execute_result"
    }
   ],
   "source": [
    "df.sort_values(by=\"B\",axis=0,ascending=True)"
   ]
  },
  {
   "cell_type": "markdown",
   "metadata": {
    "id": "D54g_kJVxN9R"
   },
   "source": [
    "dataframe에서 특정한 부분만 가져오고 싶다면? <br>\n",
    "특정한 column만을 가져오고 싶을 경우: df[?] <br>\n",
    "특정한 row만을 가져오고 싶을 경우: df[?:?] <br>\n",
    "특정한 값을 가져오고 싶을 경우: df.loc[?] <br>\n",
    "특정한 위치를 가져오고 싶을 경우: df.iloc[?]"
   ]
  },
  {
   "cell_type": "code",
   "execution_count": null,
   "metadata": {
    "colab": {
     "base_uri": "https://localhost:8080/",
     "height": 237
    },
    "executionInfo": {
     "elapsed": 14,
     "status": "ok",
     "timestamp": 1633308780548,
     "user": {
      "displayName": "Song Kyungwoo",
      "photoUrl": "https://lh3.googleusercontent.com/a/default-user=s64",
      "userId": "08023224894669606199"
     },
     "user_tz": -540
    },
    "id": "8687cYRFxJac",
    "outputId": "27f90a19-146e-476f-dce0-86046f6da5a9"
   },
   "outputs": [
    {
     "data": {
      "text/html": [
       "<div>\n",
       "<style scoped>\n",
       "    .dataframe tbody tr th:only-of-type {\n",
       "        vertical-align: middle;\n",
       "    }\n",
       "\n",
       "    .dataframe tbody tr th {\n",
       "        vertical-align: top;\n",
       "    }\n",
       "\n",
       "    .dataframe thead th {\n",
       "        text-align: right;\n",
       "    }\n",
       "</style>\n",
       "<table border=\"1\" class=\"dataframe\">\n",
       "  <thead>\n",
       "    <tr style=\"text-align: right;\">\n",
       "      <th></th>\n",
       "      <th>A</th>\n",
       "      <th>B</th>\n",
       "    </tr>\n",
       "  </thead>\n",
       "  <tbody>\n",
       "    <tr>\n",
       "      <th>2021-10-04</th>\n",
       "      <td>-0.550174</td>\n",
       "      <td>-0.383147</td>\n",
       "    </tr>\n",
       "    <tr>\n",
       "      <th>2021-10-05</th>\n",
       "      <td>-0.069281</td>\n",
       "      <td>0.083209</td>\n",
       "    </tr>\n",
       "    <tr>\n",
       "      <th>2021-10-06</th>\n",
       "      <td>-0.304460</td>\n",
       "      <td>1.923010</td>\n",
       "    </tr>\n",
       "    <tr>\n",
       "      <th>2021-10-07</th>\n",
       "      <td>-1.617982</td>\n",
       "      <td>0.867261</td>\n",
       "    </tr>\n",
       "    <tr>\n",
       "      <th>2021-10-08</th>\n",
       "      <td>2.699646</td>\n",
       "      <td>0.802025</td>\n",
       "    </tr>\n",
       "    <tr>\n",
       "      <th>2021-10-09</th>\n",
       "      <td>-0.422870</td>\n",
       "      <td>-0.330401</td>\n",
       "    </tr>\n",
       "  </tbody>\n",
       "</table>\n",
       "</div>"
      ],
      "text/plain": [
       "                   A         B\n",
       "2021-10-04 -0.550174 -0.383147\n",
       "2021-10-05 -0.069281  0.083209\n",
       "2021-10-06 -0.304460  1.923010\n",
       "2021-10-07 -1.617982  0.867261\n",
       "2021-10-08  2.699646  0.802025\n",
       "2021-10-09 -0.422870 -0.330401"
      ]
     },
     "execution_count": 110,
     "metadata": {},
     "output_type": "execute_result"
    }
   ],
   "source": [
    "df[[\"A\"]]\n",
    "df[[\"A\",\"B\"]]"
   ]
  },
  {
   "cell_type": "code",
   "execution_count": null,
   "metadata": {
    "colab": {
     "base_uri": "https://localhost:8080/",
     "height": 112
    },
    "executionInfo": {
     "elapsed": 856,
     "status": "ok",
     "timestamp": 1633308781391,
     "user": {
      "displayName": "Song Kyungwoo",
      "photoUrl": "https://lh3.googleusercontent.com/a/default-user=s64",
      "userId": "08023224894669606199"
     },
     "user_tz": -540
    },
    "id": "a1TIaZYIxO-U",
    "outputId": "37552cf2-beba-4e53-a042-ce525972878c"
   },
   "outputs": [
    {
     "data": {
      "text/html": [
       "<div>\n",
       "<style scoped>\n",
       "    .dataframe tbody tr th:only-of-type {\n",
       "        vertical-align: middle;\n",
       "    }\n",
       "\n",
       "    .dataframe tbody tr th {\n",
       "        vertical-align: top;\n",
       "    }\n",
       "\n",
       "    .dataframe thead th {\n",
       "        text-align: right;\n",
       "    }\n",
       "</style>\n",
       "<table border=\"1\" class=\"dataframe\">\n",
       "  <thead>\n",
       "    <tr style=\"text-align: right;\">\n",
       "      <th></th>\n",
       "      <th>A</th>\n",
       "      <th>B</th>\n",
       "      <th>C</th>\n",
       "      <th>D</th>\n",
       "    </tr>\n",
       "  </thead>\n",
       "  <tbody>\n",
       "    <tr>\n",
       "      <th>2021-10-06</th>\n",
       "      <td>-0.304460</td>\n",
       "      <td>1.923010</td>\n",
       "      <td>-0.078659</td>\n",
       "      <td>-0.582066</td>\n",
       "    </tr>\n",
       "    <tr>\n",
       "      <th>2021-10-07</th>\n",
       "      <td>-1.617982</td>\n",
       "      <td>0.867261</td>\n",
       "      <td>-1.040437</td>\n",
       "      <td>0.650421</td>\n",
       "    </tr>\n",
       "  </tbody>\n",
       "</table>\n",
       "</div>"
      ],
      "text/plain": [
       "                   A         B         C         D\n",
       "2021-10-06 -0.304460  1.923010 -0.078659 -0.582066\n",
       "2021-10-07 -1.617982  0.867261 -1.040437  0.650421"
      ]
     },
     "execution_count": 111,
     "metadata": {},
     "output_type": "execute_result"
    }
   ],
   "source": [
    "df[2:4]"
   ]
  },
  {
   "cell_type": "code",
   "execution_count": null,
   "metadata": {
    "colab": {
     "base_uri": "https://localhost:8080/",
     "height": 112
    },
    "executionInfo": {
     "elapsed": 15,
     "status": "ok",
     "timestamp": 1633308781392,
     "user": {
      "displayName": "Song Kyungwoo",
      "photoUrl": "https://lh3.googleusercontent.com/a/default-user=s64",
      "userId": "08023224894669606199"
     },
     "user_tz": -540
    },
    "id": "j3rsnXPwxPxT",
    "outputId": "63e6f29b-37d8-49d1-9651-74a781ec916c"
   },
   "outputs": [
    {
     "data": {
      "text/html": [
       "<div>\n",
       "<style scoped>\n",
       "    .dataframe tbody tr th:only-of-type {\n",
       "        vertical-align: middle;\n",
       "    }\n",
       "\n",
       "    .dataframe tbody tr th {\n",
       "        vertical-align: top;\n",
       "    }\n",
       "\n",
       "    .dataframe thead th {\n",
       "        text-align: right;\n",
       "    }\n",
       "</style>\n",
       "<table border=\"1\" class=\"dataframe\">\n",
       "  <thead>\n",
       "    <tr style=\"text-align: right;\">\n",
       "      <th></th>\n",
       "      <th>A</th>\n",
       "      <th>B</th>\n",
       "      <th>C</th>\n",
       "      <th>D</th>\n",
       "    </tr>\n",
       "  </thead>\n",
       "  <tbody>\n",
       "    <tr>\n",
       "      <th>2021-10-06</th>\n",
       "      <td>-0.30446</td>\n",
       "      <td>1.923010</td>\n",
       "      <td>-0.078659</td>\n",
       "      <td>-0.582066</td>\n",
       "    </tr>\n",
       "    <tr>\n",
       "      <th>2021-10-09</th>\n",
       "      <td>-0.42287</td>\n",
       "      <td>-0.330401</td>\n",
       "      <td>-1.111163</td>\n",
       "      <td>-0.742006</td>\n",
       "    </tr>\n",
       "  </tbody>\n",
       "</table>\n",
       "</div>"
      ],
      "text/plain": [
       "                  A         B         C         D\n",
       "2021-10-06 -0.30446  1.923010 -0.078659 -0.582066\n",
       "2021-10-09 -0.42287 -0.330401 -1.111163 -0.742006"
      ]
     },
     "execution_count": 112,
     "metadata": {},
     "output_type": "execute_result"
    }
   ],
   "source": [
    "df.loc[[\"2021-10-06\",\"2021-10-09\"]] # row"
   ]
  },
  {
   "cell_type": "code",
   "execution_count": null,
   "metadata": {
    "colab": {
     "base_uri": "https://localhost:8080/",
     "height": 237
    },
    "executionInfo": {
     "elapsed": 15,
     "status": "ok",
     "timestamp": 1633308781392,
     "user": {
      "displayName": "Song Kyungwoo",
      "photoUrl": "https://lh3.googleusercontent.com/a/default-user=s64",
      "userId": "08023224894669606199"
     },
     "user_tz": -540
    },
    "id": "QGXAq9PIxU_F",
    "outputId": "015e5740-9a1d-430f-f17e-fa8dae88848d"
   },
   "outputs": [
    {
     "data": {
      "text/html": [
       "<div>\n",
       "<style scoped>\n",
       "    .dataframe tbody tr th:only-of-type {\n",
       "        vertical-align: middle;\n",
       "    }\n",
       "\n",
       "    .dataframe tbody tr th {\n",
       "        vertical-align: top;\n",
       "    }\n",
       "\n",
       "    .dataframe thead th {\n",
       "        text-align: right;\n",
       "    }\n",
       "</style>\n",
       "<table border=\"1\" class=\"dataframe\">\n",
       "  <thead>\n",
       "    <tr style=\"text-align: right;\">\n",
       "      <th></th>\n",
       "      <th>A</th>\n",
       "      <th>B</th>\n",
       "    </tr>\n",
       "  </thead>\n",
       "  <tbody>\n",
       "    <tr>\n",
       "      <th>2021-10-04</th>\n",
       "      <td>-0.550174</td>\n",
       "      <td>-0.383147</td>\n",
       "    </tr>\n",
       "    <tr>\n",
       "      <th>2021-10-05</th>\n",
       "      <td>-0.069281</td>\n",
       "      <td>0.083209</td>\n",
       "    </tr>\n",
       "    <tr>\n",
       "      <th>2021-10-06</th>\n",
       "      <td>-0.304460</td>\n",
       "      <td>1.923010</td>\n",
       "    </tr>\n",
       "    <tr>\n",
       "      <th>2021-10-07</th>\n",
       "      <td>-1.617982</td>\n",
       "      <td>0.867261</td>\n",
       "    </tr>\n",
       "    <tr>\n",
       "      <th>2021-10-08</th>\n",
       "      <td>2.699646</td>\n",
       "      <td>0.802025</td>\n",
       "    </tr>\n",
       "    <tr>\n",
       "      <th>2021-10-09</th>\n",
       "      <td>-0.422870</td>\n",
       "      <td>-0.330401</td>\n",
       "    </tr>\n",
       "  </tbody>\n",
       "</table>\n",
       "</div>"
      ],
      "text/plain": [
       "                   A         B\n",
       "2021-10-04 -0.550174 -0.383147\n",
       "2021-10-05 -0.069281  0.083209\n",
       "2021-10-06 -0.304460  1.923010\n",
       "2021-10-07 -1.617982  0.867261\n",
       "2021-10-08  2.699646  0.802025\n",
       "2021-10-09 -0.422870 -0.330401"
      ]
     },
     "execution_count": 113,
     "metadata": {},
     "output_type": "execute_result"
    }
   ],
   "source": [
    "df.loc[:,[\"A\",\"B\"]] # column"
   ]
  },
  {
   "cell_type": "code",
   "execution_count": null,
   "metadata": {
    "colab": {
     "base_uri": "https://localhost:8080/",
     "height": 112
    },
    "executionInfo": {
     "elapsed": 14,
     "status": "ok",
     "timestamp": 1633308781392,
     "user": {
      "displayName": "Song Kyungwoo",
      "photoUrl": "https://lh3.googleusercontent.com/a/default-user=s64",
      "userId": "08023224894669606199"
     },
     "user_tz": -540
    },
    "id": "9G0af27HxV1t",
    "outputId": "c406d322-212d-48a3-e2ca-f4f3a5fafa1c"
   },
   "outputs": [
    {
     "data": {
      "text/html": [
       "<div>\n",
       "<style scoped>\n",
       "    .dataframe tbody tr th:only-of-type {\n",
       "        vertical-align: middle;\n",
       "    }\n",
       "\n",
       "    .dataframe tbody tr th {\n",
       "        vertical-align: top;\n",
       "    }\n",
       "\n",
       "    .dataframe thead th {\n",
       "        text-align: right;\n",
       "    }\n",
       "</style>\n",
       "<table border=\"1\" class=\"dataframe\">\n",
       "  <thead>\n",
       "    <tr style=\"text-align: right;\">\n",
       "      <th></th>\n",
       "      <th>A</th>\n",
       "      <th>B</th>\n",
       "    </tr>\n",
       "  </thead>\n",
       "  <tbody>\n",
       "    <tr>\n",
       "      <th>2021-10-07</th>\n",
       "      <td>-1.617982</td>\n",
       "      <td>0.867261</td>\n",
       "    </tr>\n",
       "    <tr>\n",
       "      <th>2021-10-08</th>\n",
       "      <td>2.699646</td>\n",
       "      <td>0.802025</td>\n",
       "    </tr>\n",
       "  </tbody>\n",
       "</table>\n",
       "</div>"
      ],
      "text/plain": [
       "                   A         B\n",
       "2021-10-07 -1.617982  0.867261\n",
       "2021-10-08  2.699646  0.802025"
      ]
     },
     "execution_count": 114,
     "metadata": {},
     "output_type": "execute_result"
    }
   ],
   "source": [
    "df.iloc[3:5,0:2]"
   ]
  },
  {
   "cell_type": "markdown",
   "metadata": {
    "id": "RSkoinPbxZkl"
   },
   "source": [
    "이번에는 특정 조건을 만족하는 부분만 가져오고 싶다. <br>\n",
    "만약 A column의 값이 0보다 큰 부분만 가져오고 싶다면? <br>"
   ]
  },
  {
   "cell_type": "code",
   "execution_count": null,
   "metadata": {
    "colab": {
     "base_uri": "https://localhost:8080/",
     "height": 237
    },
    "executionInfo": {
     "elapsed": 15,
     "status": "ok",
     "timestamp": 1633308781393,
     "user": {
      "displayName": "Song Kyungwoo",
      "photoUrl": "https://lh3.googleusercontent.com/a/default-user=s64",
      "userId": "08023224894669606199"
     },
     "user_tz": -540
    },
    "id": "hpnnTA9RxX2d",
    "outputId": "a42c1157-0427-4c02-e719-df57cc2943ed"
   },
   "outputs": [
    {
     "data": {
      "text/html": [
       "<div>\n",
       "<style scoped>\n",
       "    .dataframe tbody tr th:only-of-type {\n",
       "        vertical-align: middle;\n",
       "    }\n",
       "\n",
       "    .dataframe tbody tr th {\n",
       "        vertical-align: top;\n",
       "    }\n",
       "\n",
       "    .dataframe thead th {\n",
       "        text-align: right;\n",
       "    }\n",
       "</style>\n",
       "<table border=\"1\" class=\"dataframe\">\n",
       "  <thead>\n",
       "    <tr style=\"text-align: right;\">\n",
       "      <th></th>\n",
       "      <th>A</th>\n",
       "      <th>B</th>\n",
       "      <th>C</th>\n",
       "      <th>D</th>\n",
       "    </tr>\n",
       "  </thead>\n",
       "  <tbody>\n",
       "    <tr>\n",
       "      <th>2021-10-04</th>\n",
       "      <td>-0.550174</td>\n",
       "      <td>-0.383147</td>\n",
       "      <td>-0.822941</td>\n",
       "      <td>1.600083</td>\n",
       "    </tr>\n",
       "    <tr>\n",
       "      <th>2021-10-05</th>\n",
       "      <td>-0.069281</td>\n",
       "      <td>0.083209</td>\n",
       "      <td>-0.326925</td>\n",
       "      <td>-0.045797</td>\n",
       "    </tr>\n",
       "    <tr>\n",
       "      <th>2021-10-06</th>\n",
       "      <td>-0.304460</td>\n",
       "      <td>1.923010</td>\n",
       "      <td>-0.078659</td>\n",
       "      <td>-0.582066</td>\n",
       "    </tr>\n",
       "    <tr>\n",
       "      <th>2021-10-07</th>\n",
       "      <td>-1.617982</td>\n",
       "      <td>0.867261</td>\n",
       "      <td>-1.040437</td>\n",
       "      <td>0.650421</td>\n",
       "    </tr>\n",
       "    <tr>\n",
       "      <th>2021-10-08</th>\n",
       "      <td>2.699646</td>\n",
       "      <td>0.802025</td>\n",
       "      <td>-1.096921</td>\n",
       "      <td>-0.178054</td>\n",
       "    </tr>\n",
       "    <tr>\n",
       "      <th>2021-10-09</th>\n",
       "      <td>-0.422870</td>\n",
       "      <td>-0.330401</td>\n",
       "      <td>-1.111163</td>\n",
       "      <td>-0.742006</td>\n",
       "    </tr>\n",
       "  </tbody>\n",
       "</table>\n",
       "</div>"
      ],
      "text/plain": [
       "                   A         B         C         D\n",
       "2021-10-04 -0.550174 -0.383147 -0.822941  1.600083\n",
       "2021-10-05 -0.069281  0.083209 -0.326925 -0.045797\n",
       "2021-10-06 -0.304460  1.923010 -0.078659 -0.582066\n",
       "2021-10-07 -1.617982  0.867261 -1.040437  0.650421\n",
       "2021-10-08  2.699646  0.802025 -1.096921 -0.178054\n",
       "2021-10-09 -0.422870 -0.330401 -1.111163 -0.742006"
      ]
     },
     "execution_count": 115,
     "metadata": {},
     "output_type": "execute_result"
    }
   ],
   "source": [
    "df"
   ]
  },
  {
   "cell_type": "code",
   "execution_count": null,
   "metadata": {
    "colab": {
     "base_uri": "https://localhost:8080/",
     "height": 81
    },
    "executionInfo": {
     "elapsed": 14,
     "status": "ok",
     "timestamp": 1633308781393,
     "user": {
      "displayName": "Song Kyungwoo",
      "photoUrl": "https://lh3.googleusercontent.com/a/default-user=s64",
      "userId": "08023224894669606199"
     },
     "user_tz": -540
    },
    "id": "V3Vg90Rmxan1",
    "outputId": "2480f9da-ef85-4345-be98-74148258d9a2"
   },
   "outputs": [
    {
     "data": {
      "text/html": [
       "<div>\n",
       "<style scoped>\n",
       "    .dataframe tbody tr th:only-of-type {\n",
       "        vertical-align: middle;\n",
       "    }\n",
       "\n",
       "    .dataframe tbody tr th {\n",
       "        vertical-align: top;\n",
       "    }\n",
       "\n",
       "    .dataframe thead th {\n",
       "        text-align: right;\n",
       "    }\n",
       "</style>\n",
       "<table border=\"1\" class=\"dataframe\">\n",
       "  <thead>\n",
       "    <tr style=\"text-align: right;\">\n",
       "      <th></th>\n",
       "      <th>A</th>\n",
       "      <th>B</th>\n",
       "      <th>C</th>\n",
       "      <th>D</th>\n",
       "    </tr>\n",
       "  </thead>\n",
       "  <tbody>\n",
       "    <tr>\n",
       "      <th>2021-10-08</th>\n",
       "      <td>2.699646</td>\n",
       "      <td>0.802025</td>\n",
       "      <td>-1.096921</td>\n",
       "      <td>-0.178054</td>\n",
       "    </tr>\n",
       "  </tbody>\n",
       "</table>\n",
       "</div>"
      ],
      "text/plain": [
       "                   A         B         C         D\n",
       "2021-10-08  2.699646  0.802025 -1.096921 -0.178054"
      ]
     },
     "execution_count": 116,
     "metadata": {},
     "output_type": "execute_result"
    }
   ],
   "source": [
    "df[df[\"A\"] > 0]"
   ]
  },
  {
   "cell_type": "code",
   "execution_count": null,
   "metadata": {
    "colab": {
     "base_uri": "https://localhost:8080/",
     "height": 81
    },
    "executionInfo": {
     "elapsed": 14,
     "status": "ok",
     "timestamp": 1633308781393,
     "user": {
      "displayName": "Song Kyungwoo",
      "photoUrl": "https://lh3.googleusercontent.com/a/default-user=s64",
      "userId": "08023224894669606199"
     },
     "user_tz": -540
    },
    "id": "kQwNHSMkxbeF",
    "outputId": "f2bbce12-bca6-47ce-f2d4-aa7f97c49e8c"
   },
   "outputs": [
    {
     "data": {
      "text/html": [
       "<div>\n",
       "<style scoped>\n",
       "    .dataframe tbody tr th:only-of-type {\n",
       "        vertical-align: middle;\n",
       "    }\n",
       "\n",
       "    .dataframe tbody tr th {\n",
       "        vertical-align: top;\n",
       "    }\n",
       "\n",
       "    .dataframe thead th {\n",
       "        text-align: right;\n",
       "    }\n",
       "</style>\n",
       "<table border=\"1\" class=\"dataframe\">\n",
       "  <thead>\n",
       "    <tr style=\"text-align: right;\">\n",
       "      <th></th>\n",
       "      <th>A</th>\n",
       "      <th>B</th>\n",
       "      <th>C</th>\n",
       "      <th>D</th>\n",
       "    </tr>\n",
       "  </thead>\n",
       "  <tbody>\n",
       "    <tr>\n",
       "      <th>2021-10-08</th>\n",
       "      <td>2.699646</td>\n",
       "      <td>0.802025</td>\n",
       "      <td>-1.096921</td>\n",
       "      <td>-0.178054</td>\n",
       "    </tr>\n",
       "  </tbody>\n",
       "</table>\n",
       "</div>"
      ],
      "text/plain": [
       "                   A         B         C         D\n",
       "2021-10-08  2.699646  0.802025 -1.096921 -0.178054"
      ]
     },
     "execution_count": 117,
     "metadata": {},
     "output_type": "execute_result"
    }
   ],
   "source": [
    "df[(df[\"A\"]>0) & (df[\"B\"]>0)]"
   ]
  },
  {
   "cell_type": "code",
   "execution_count": null,
   "metadata": {
    "id": "eF30Ni0pxcc1"
   },
   "outputs": [],
   "source": [
    "new_df = pd.DataFrame({'Animal': ['Falcon', 'Falcon','Parrot', 'Parrot'],'Max Speed': [380., 370., 24., 26.]})"
   ]
  },
  {
   "cell_type": "code",
   "execution_count": null,
   "metadata": {
    "colab": {
     "base_uri": "https://localhost:8080/",
     "height": 175
    },
    "executionInfo": {
     "elapsed": 14,
     "status": "ok",
     "timestamp": 1633308781394,
     "user": {
      "displayName": "Song Kyungwoo",
      "photoUrl": "https://lh3.googleusercontent.com/a/default-user=s64",
      "userId": "08023224894669606199"
     },
     "user_tz": -540
    },
    "id": "lSDt23oaxgn9",
    "outputId": "db0d2283-1365-40b2-b69f-dc808f2df5af"
   },
   "outputs": [
    {
     "data": {
      "text/html": [
       "<div>\n",
       "<style scoped>\n",
       "    .dataframe tbody tr th:only-of-type {\n",
       "        vertical-align: middle;\n",
       "    }\n",
       "\n",
       "    .dataframe tbody tr th {\n",
       "        vertical-align: top;\n",
       "    }\n",
       "\n",
       "    .dataframe thead th {\n",
       "        text-align: right;\n",
       "    }\n",
       "</style>\n",
       "<table border=\"1\" class=\"dataframe\">\n",
       "  <thead>\n",
       "    <tr style=\"text-align: right;\">\n",
       "      <th></th>\n",
       "      <th>Animal</th>\n",
       "      <th>Max Speed</th>\n",
       "    </tr>\n",
       "  </thead>\n",
       "  <tbody>\n",
       "    <tr>\n",
       "      <th>0</th>\n",
       "      <td>Falcon</td>\n",
       "      <td>380.0</td>\n",
       "    </tr>\n",
       "    <tr>\n",
       "      <th>1</th>\n",
       "      <td>Falcon</td>\n",
       "      <td>370.0</td>\n",
       "    </tr>\n",
       "    <tr>\n",
       "      <th>2</th>\n",
       "      <td>Parrot</td>\n",
       "      <td>24.0</td>\n",
       "    </tr>\n",
       "    <tr>\n",
       "      <th>3</th>\n",
       "      <td>Parrot</td>\n",
       "      <td>26.0</td>\n",
       "    </tr>\n",
       "  </tbody>\n",
       "</table>\n",
       "</div>"
      ],
      "text/plain": [
       "   Animal  Max Speed\n",
       "0  Falcon      380.0\n",
       "1  Falcon      370.0\n",
       "2  Parrot       24.0\n",
       "3  Parrot       26.0"
      ]
     },
     "execution_count": 119,
     "metadata": {},
     "output_type": "execute_result"
    }
   ],
   "source": [
    "new_df"
   ]
  },
  {
   "cell_type": "code",
   "execution_count": null,
   "metadata": {
    "colab": {
     "base_uri": "https://localhost:8080/",
     "height": 143
    },
    "executionInfo": {
     "elapsed": 14,
     "status": "ok",
     "timestamp": 1633308781394,
     "user": {
      "displayName": "Song Kyungwoo",
      "photoUrl": "https://lh3.googleusercontent.com/a/default-user=s64",
      "userId": "08023224894669606199"
     },
     "user_tz": -540
    },
    "id": "Lq1fWC3uxi9P",
    "outputId": "b56452c1-5a8d-4bd6-e572-37a54a328db6"
   },
   "outputs": [
    {
     "data": {
      "text/html": [
       "<div>\n",
       "<style scoped>\n",
       "    .dataframe tbody tr th:only-of-type {\n",
       "        vertical-align: middle;\n",
       "    }\n",
       "\n",
       "    .dataframe tbody tr th {\n",
       "        vertical-align: top;\n",
       "    }\n",
       "\n",
       "    .dataframe thead th {\n",
       "        text-align: right;\n",
       "    }\n",
       "</style>\n",
       "<table border=\"1\" class=\"dataframe\">\n",
       "  <thead>\n",
       "    <tr style=\"text-align: right;\">\n",
       "      <th></th>\n",
       "      <th>Max Speed</th>\n",
       "    </tr>\n",
       "    <tr>\n",
       "      <th>Animal</th>\n",
       "      <th></th>\n",
       "    </tr>\n",
       "  </thead>\n",
       "  <tbody>\n",
       "    <tr>\n",
       "      <th>Falcon</th>\n",
       "      <td>375.0</td>\n",
       "    </tr>\n",
       "    <tr>\n",
       "      <th>Parrot</th>\n",
       "      <td>25.0</td>\n",
       "    </tr>\n",
       "  </tbody>\n",
       "</table>\n",
       "</div>"
      ],
      "text/plain": [
       "        Max Speed\n",
       "Animal           \n",
       "Falcon      375.0\n",
       "Parrot       25.0"
      ]
     },
     "execution_count": 120,
     "metadata": {},
     "output_type": "execute_result"
    }
   ],
   "source": [
    "new_df.groupby(['Animal']).mean()"
   ]
  },
  {
   "cell_type": "markdown",
   "metadata": {
    "id": "-ygXWs_WxoMc"
   },
   "source": [
    "우리가 생성한 data를 csv확장자로 내보내고 싶다면? <br>\n",
    "그리고 다시 불러오고 싶다면? <br>"
   ]
  },
  {
   "cell_type": "code",
   "execution_count": null,
   "metadata": {
    "id": "xwjYTHDkxnrH"
   },
   "outputs": [],
   "source": [
    "new_df.to_csv(\"foo.csv\") # save\n",
    "new_df = pd.read_csv(\"foo.csv\") # read"
   ]
  },
  {
   "cell_type": "code",
   "execution_count": null,
   "metadata": {
    "colab": {
     "base_uri": "https://localhost:8080/",
     "height": 175
    },
    "executionInfo": {
     "elapsed": 13,
     "status": "ok",
     "timestamp": 1633308781394,
     "user": {
      "displayName": "Song Kyungwoo",
      "photoUrl": "https://lh3.googleusercontent.com/a/default-user=s64",
      "userId": "08023224894669606199"
     },
     "user_tz": -540
    },
    "id": "icqAOoJ2xpjX",
    "outputId": "b9701500-bb2c-4f0c-f8ed-2ee62c1fd2d2"
   },
   "outputs": [
    {
     "data": {
      "text/html": [
       "<div>\n",
       "<style scoped>\n",
       "    .dataframe tbody tr th:only-of-type {\n",
       "        vertical-align: middle;\n",
       "    }\n",
       "\n",
       "    .dataframe tbody tr th {\n",
       "        vertical-align: top;\n",
       "    }\n",
       "\n",
       "    .dataframe thead th {\n",
       "        text-align: right;\n",
       "    }\n",
       "</style>\n",
       "<table border=\"1\" class=\"dataframe\">\n",
       "  <thead>\n",
       "    <tr style=\"text-align: right;\">\n",
       "      <th></th>\n",
       "      <th>Unnamed: 0</th>\n",
       "      <th>Animal</th>\n",
       "      <th>Max Speed</th>\n",
       "    </tr>\n",
       "  </thead>\n",
       "  <tbody>\n",
       "    <tr>\n",
       "      <th>0</th>\n",
       "      <td>0</td>\n",
       "      <td>Falcon</td>\n",
       "      <td>380.0</td>\n",
       "    </tr>\n",
       "    <tr>\n",
       "      <th>1</th>\n",
       "      <td>1</td>\n",
       "      <td>Falcon</td>\n",
       "      <td>370.0</td>\n",
       "    </tr>\n",
       "    <tr>\n",
       "      <th>2</th>\n",
       "      <td>2</td>\n",
       "      <td>Parrot</td>\n",
       "      <td>24.0</td>\n",
       "    </tr>\n",
       "    <tr>\n",
       "      <th>3</th>\n",
       "      <td>3</td>\n",
       "      <td>Parrot</td>\n",
       "      <td>26.0</td>\n",
       "    </tr>\n",
       "  </tbody>\n",
       "</table>\n",
       "</div>"
      ],
      "text/plain": [
       "   Unnamed: 0  Animal  Max Speed\n",
       "0           0  Falcon      380.0\n",
       "1           1  Falcon      370.0\n",
       "2           2  Parrot       24.0\n",
       "3           3  Parrot       26.0"
      ]
     },
     "execution_count": 122,
     "metadata": {},
     "output_type": "execute_result"
    }
   ],
   "source": [
    "new_df"
   ]
  },
  {
   "cell_type": "markdown",
   "metadata": {
    "id": "4gsSY7I6x8tl"
   },
   "source": [
    "7. purchase_data.csv 데이터를 불러와서, 상위 3개의 값을 출력하세요 <br>\n",
    "각 row는 유저 (SN)이 아이템을 구매한 기록을 나타냅니다."
   ]
  },
  {
   "cell_type": "code",
   "execution_count": null,
   "metadata": {
    "colab": {
     "base_uri": "https://localhost:8080/",
     "height": 143
    },
    "executionInfo": {
     "elapsed": 246,
     "status": "ok",
     "timestamp": 1633308829638,
     "user": {
      "displayName": "Song Kyungwoo",
      "photoUrl": "https://lh3.googleusercontent.com/a/default-user=s64",
      "userId": "08023224894669606199"
     },
     "user_tz": -540
    },
    "id": "zvic0-_9xqPf",
    "outputId": "5ca1eb77-dda8-46aa-e8de-91a4c12336f0"
   },
   "outputs": [
    {
     "data": {
      "text/html": [
       "<div>\n",
       "<style scoped>\n",
       "    .dataframe tbody tr th:only-of-type {\n",
       "        vertical-align: middle;\n",
       "    }\n",
       "\n",
       "    .dataframe tbody tr th {\n",
       "        vertical-align: top;\n",
       "    }\n",
       "\n",
       "    .dataframe thead th {\n",
       "        text-align: right;\n",
       "    }\n",
       "</style>\n",
       "<table border=\"1\" class=\"dataframe\">\n",
       "  <thead>\n",
       "    <tr style=\"text-align: right;\">\n",
       "      <th></th>\n",
       "      <th>Purchase ID</th>\n",
       "      <th>SN</th>\n",
       "      <th>Age</th>\n",
       "      <th>Gender</th>\n",
       "      <th>Item ID</th>\n",
       "      <th>Item Name</th>\n",
       "      <th>Price</th>\n",
       "    </tr>\n",
       "  </thead>\n",
       "  <tbody>\n",
       "    <tr>\n",
       "      <th>0</th>\n",
       "      <td>0</td>\n",
       "      <td>Lisim78</td>\n",
       "      <td>20</td>\n",
       "      <td>Male</td>\n",
       "      <td>108</td>\n",
       "      <td>Extraction, Quickblade Of Trembling Hands</td>\n",
       "      <td>3.53</td>\n",
       "    </tr>\n",
       "    <tr>\n",
       "      <th>1</th>\n",
       "      <td>1</td>\n",
       "      <td>Lisovynya38</td>\n",
       "      <td>40</td>\n",
       "      <td>Male</td>\n",
       "      <td>143</td>\n",
       "      <td>Frenzied Scimitar</td>\n",
       "      <td>1.56</td>\n",
       "    </tr>\n",
       "    <tr>\n",
       "      <th>2</th>\n",
       "      <td>2</td>\n",
       "      <td>Ithergue48</td>\n",
       "      <td>24</td>\n",
       "      <td>Male</td>\n",
       "      <td>92</td>\n",
       "      <td>Final Critic</td>\n",
       "      <td>4.88</td>\n",
       "    </tr>\n",
       "  </tbody>\n",
       "</table>\n",
       "</div>"
      ],
      "text/plain": [
       "   Purchase ID           SN  ...                                  Item Name Price\n",
       "0            0      Lisim78  ...  Extraction, Quickblade Of Trembling Hands  3.53\n",
       "1            1  Lisovynya38  ...                          Frenzied Scimitar  1.56\n",
       "2            2   Ithergue48  ...                               Final Critic  4.88\n",
       "\n",
       "[3 rows x 7 columns]"
      ]
     },
     "execution_count": 124,
     "metadata": {},
     "output_type": "execute_result"
    }
   ],
   "source": [
    "file_to_load = \"purchase_data.csv\"\n",
    "purchase_data = pd.?????(file_to_load)\n",
    "purchase_data.?????"
   ]
  },
  {
   "cell_type": "markdown",
   "metadata": {
    "id": "Llq7mP0kyDgm"
   },
   "source": [
    "8. missing data (Nan 값)이 있는지 확인해보세요."
   ]
  },
  {
   "cell_type": "code",
   "execution_count": null,
   "metadata": {
    "colab": {
     "base_uri": "https://localhost:8080/"
    },
    "executionInfo": {
     "elapsed": 296,
     "status": "ok",
     "timestamp": 1633308832517,
     "user": {
      "displayName": "Song Kyungwoo",
      "photoUrl": "https://lh3.googleusercontent.com/a/default-user=s64",
      "userId": "08023224894669606199"
     },
     "user_tz": -540
    },
    "id": "pVpmVfQSyC5a",
    "outputId": "d758bdce-b6ce-4b03-dfe7-591c7559472c"
   },
   "outputs": [
    {
     "data": {
      "text/plain": [
       "Purchase ID    780\n",
       "SN             780\n",
       "Age            780\n",
       "Gender         780\n",
       "Item ID        780\n",
       "Item Name      780\n",
       "Price          780\n",
       "dtype: int64"
      ]
     },
     "execution_count": 125,
     "metadata": {},
     "output_type": "execute_result"
    }
   ],
   "source": [
    "purchase_data.?????"
   ]
  },
  {
   "cell_type": "markdown",
   "metadata": {
    "id": "H9cN12zmyG1s"
   },
   "source": [
    "9. 전체 log의 개수와 (row 개수), unique 사용자의 명수를 구하세요. <br>\n",
    "unqiue 사용자의 명수를 구할 때, SN column을 활용하세요."
   ]
  },
  {
   "cell_type": "code",
   "execution_count": null,
   "metadata": {
    "colab": {
     "base_uri": "https://localhost:8080/"
    },
    "executionInfo": {
     "elapsed": 258,
     "status": "ok",
     "timestamp": 1633308833919,
     "user": {
      "displayName": "Song Kyungwoo",
      "photoUrl": "https://lh3.googleusercontent.com/a/default-user=s64",
      "userId": "08023224894669606199"
     },
     "user_tz": -540
    },
    "id": "yHkB7ui2yGP6",
    "outputId": "b1148993-732c-41c8-c7e9-747e00d26b7e"
   },
   "outputs": [
    {
     "name": "stdout",
     "output_type": "stream",
     "text": [
      "# of logs:  780\n",
      "# of Unique person:  576\n"
     ]
    }
   ],
   "source": [
    "total_rows = len(purchase_data)\n",
    "unique_person = ?????(purchase_data['SN']?????)\n",
    "print(\"# of logs: \", total_rows)\n",
    "print(\"# of Unique person: \", unique_person)"
   ]
  },
  {
   "cell_type": "markdown",
   "metadata": {
    "id": "DUZJkqAoySWT"
   },
   "source": [
    "10. 다음 3개를 출력하세요. <br>\n",
    "unique 아이템 개수 <br>\n",
    "총 구매 금액 <br>\n",
    "평균 구매 금액"
   ]
  },
  {
   "cell_type": "code",
   "execution_count": null,
   "metadata": {
    "colab": {
     "base_uri": "https://localhost:8080/"
    },
    "executionInfo": {
     "elapsed": 2,
     "status": "ok",
     "timestamp": 1633308836085,
     "user": {
      "displayName": "Song Kyungwoo",
      "photoUrl": "https://lh3.googleusercontent.com/a/default-user=s64",
      "userId": "08023224894669606199"
     },
     "user_tz": -540
    },
    "id": "mKqlrvH6yRWD",
    "outputId": "8a74e3b8-a643-44a0-8f6e-05a95498fda0"
   },
   "outputs": [
    {
     "name": "stdout",
     "output_type": "stream",
     "text": [
      "# of unique_item:  183\n",
      "total_price:  2379.77\n",
      "mean_price:  3.050987179487176\n"
     ]
    }
   ],
   "source": [
    "unique_item = len(purchase_data[?????].unique())\n",
    "total_price = purchase_data['Price']?????\n",
    "mean_price = purchase_data['Price']?????\n",
    "print(\"# of unique_item: \", unique_item)\n",
    "print(\"total_price: \", total_price)\n",
    "print(\"mean_price: \", mean_price)"
   ]
  },
  {
   "cell_type": "code",
   "execution_count": null,
   "metadata": {
    "id": "ZxG1c_jKyv5x"
   },
   "outputs": [],
   "source": []
  }
 ],
 "metadata": {
  "colab": {
   "collapsed_sections": [],
   "name": "AI_Math_20211004(problem).ipynb",
   "provenance": []
  },
  "kernelspec": {
   "display_name": "Python 3",
   "language": "python",
   "name": "python3"
  },
  "language_info": {
   "codemirror_mode": {
    "name": "ipython",
    "version": 3
   },
   "file_extension": ".py",
   "mimetype": "text/x-python",
   "name": "python",
   "nbconvert_exporter": "python",
   "pygments_lexer": "ipython3",
   "version": "3.7.2"
  }
 },
 "nbformat": 4,
 "nbformat_minor": 1
}
