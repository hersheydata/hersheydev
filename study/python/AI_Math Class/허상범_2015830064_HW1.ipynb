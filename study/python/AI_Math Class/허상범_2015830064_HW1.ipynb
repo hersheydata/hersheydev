{
 "cells": [
  {
   "cell_type": "markdown",
   "metadata": {},
   "source": [
    "## AI Math - Homework 1\n",
    "-----"
   ]
  },
  {
   "cell_type": "markdown",
   "metadata": {
    "id": "LvT4EZiOMd0N"
   },
   "source": [
    "행렬 기반의 linear regression을 수행해볼 계획입니다.\n",
    "\n",
    "Lecture11 6,7p"
   ]
  },
  {
   "cell_type": "code",
   "execution_count": 2,
   "metadata": {
    "executionInfo": {
     "elapsed": 7,
     "status": "ok",
     "timestamp": 1635647795815,
     "user": {
      "displayName": "Song Kyungwoo",
      "photoUrl": "https://lh3.googleusercontent.com/a/default-user=s64",
      "userId": "08023224894669606199"
     },
     "user_tz": -540
    },
    "id": "fyCYzfw3MR6P"
   },
   "outputs": [],
   "source": [
    "import numpy as np"
   ]
  },
  {
   "cell_type": "markdown",
   "metadata": {
    "id": "eL9sSabEMbko"
   },
   "source": [
    "우리에게 주어진 데이터"
   ]
  },
  {
   "cell_type": "code",
   "execution_count": 3,
   "metadata": {
    "executionInfo": {
     "elapsed": 6,
     "status": "ok",
     "timestamp": 1635647795815,
     "user": {
      "displayName": "Song Kyungwoo",
      "photoUrl": "https://lh3.googleusercontent.com/a/default-user=s64",
      "userId": "08023224894669606199"
     },
     "user_tz": -540
    },
    "id": "QXfWi19lMUr9"
   },
   "outputs": [],
   "source": [
    "x = [-2,-1,0,1,2]\n",
    "y = [0,0,1,1,3]"
   ]
  },
  {
   "cell_type": "markdown",
   "metadata": {
    "id": "XCSOrqqaMWqI"
   },
   "source": [
    "1로만 이뤄진 array를 만든 다음, 해당 array와 x를 활용해서,\n",
    "\n",
    "matrix X를 만들어보세요"
   ]
  },
  {
   "cell_type": "code",
   "execution_count": 9,
   "metadata": {
    "executionInfo": {
     "elapsed": 6,
     "status": "ok",
     "timestamp": 1635647795815,
     "user": {
      "displayName": "Song Kyungwoo",
      "photoUrl": "https://lh3.googleusercontent.com/a/default-user=s64",
      "userId": "08023224894669606199"
     },
     "user_tz": -540
    },
    "id": "5VPZWO5NMVSz"
   },
   "outputs": [],
   "source": [
    "one = np.ones(5)\n",
    "X = np.stack((one,x),axis=1) #열방향 vector stacking => 5*2 행렬 생성"
   ]
  },
  {
   "cell_type": "markdown",
   "metadata": {
    "id": "s8xGLICiMof8"
   },
   "source": [
    "### Q1. X'X를 구해보세요."
   ]
  },
  {
   "cell_type": "code",
   "execution_count": 28,
   "metadata": {
    "colab": {
     "base_uri": "https://localhost:8080/"
    },
    "executionInfo": {
     "elapsed": 401,
     "status": "ok",
     "timestamp": 1635647803782,
     "user": {
      "displayName": "Song Kyungwoo",
      "photoUrl": "https://lh3.googleusercontent.com/a/default-user=s64",
      "userId": "08023224894669606199"
     },
     "user_tz": -540
    },
    "id": "ZRwcs03KMWC8",
    "outputId": "190d5eab-1aaa-44f5-d81b-8eedf64ab20b"
   },
   "outputs": [],
   "source": [
    "dot1 = np.dot(X.T, X)"
   ]
  },
  {
   "cell_type": "markdown",
   "metadata": {
    "id": "cwOpjpL0MvIF"
   },
   "source": [
    "### Q2. X'Y를 구해보세요."
   ]
  },
  {
   "cell_type": "code",
   "execution_count": 22,
   "metadata": {
    "colab": {
     "base_uri": "https://localhost:8080/"
    },
    "executionInfo": {
     "elapsed": 5,
     "status": "ok",
     "timestamp": 1635647795816,
     "user": {
      "displayName": "Song Kyungwoo",
      "photoUrl": "https://lh3.googleusercontent.com/a/default-user=s64",
      "userId": "08023224894669606199"
     },
     "user_tz": -540
    },
    "id": "zDpfiqX9Mr7U",
    "outputId": "5b14a9a2-a979-4b8c-cf19-43202aaa72b1"
   },
   "outputs": [
    {
     "data": {
      "text/plain": [
       "array([5., 7.])"
      ]
     },
     "execution_count": 22,
     "metadata": {},
     "output_type": "execute_result"
    }
   ],
   "source": [
    "dot2 = np.dot(X.T, y) #(2*5) * (5*1) = (2*1)\n",
    "dot2"
   ]
  },
  {
   "cell_type": "markdown",
   "metadata": {
    "id": "4cPajGEqMxjL"
   },
   "source": [
    "### Q3. $(X'X)^{-1}$ 을 구해보세요."
   ]
  },
  {
   "cell_type": "code",
   "execution_count": 29,
   "metadata": {
    "colab": {
     "base_uri": "https://localhost:8080/"
    },
    "executionInfo": {
     "elapsed": 5,
     "status": "ok",
     "timestamp": 1635647795817,
     "user": {
      "displayName": "Song Kyungwoo",
      "photoUrl": "https://lh3.googleusercontent.com/a/default-user=s64",
      "userId": "08023224894669606199"
     },
     "user_tz": -540
    },
    "id": "ggZ3qfejMwrM",
    "outputId": "677f4fb3-694c-42fd-fde1-8b21414de612"
   },
   "outputs": [
    {
     "data": {
      "text/plain": [
       "array([[0.2, 0. ],\n",
       "       [0. , 0.1]])"
      ]
     },
     "execution_count": 29,
     "metadata": {},
     "output_type": "execute_result"
    }
   ],
   "source": [
    "inverse=np.linalg.inv(dot1)\n",
    "inverse"
   ]
  },
  {
   "cell_type": "markdown",
   "metadata": {
    "id": "zVo-Pof2M1Sn"
   },
   "source": [
    "### Q4. beta hat을 구해보세요."
   ]
  },
  {
   "cell_type": "markdown",
   "metadata": {},
   "source": [
    "$\\hat \\beta$ = $(X'X)^{-1}$$X'Y$"
   ]
  },
  {
   "cell_type": "code",
   "execution_count": 7,
   "metadata": {
    "colab": {
     "base_uri": "https://localhost:8080/"
    },
    "executionInfo": {
     "elapsed": 5,
     "status": "ok",
     "timestamp": 1635647795817,
     "user": {
      "displayName": "Song Kyungwoo",
      "photoUrl": "https://lh3.googleusercontent.com/a/default-user=s64",
      "userId": "08023224894669606199"
     },
     "user_tz": -540
    },
    "id": "xiFQO6MtM0aD",
    "outputId": "55148faa-ebd3-4c14-80cc-19a516a345c5"
   },
   "outputs": [
    {
     "name": "stdout",
     "output_type": "stream",
     "text": [
      "[1.  0.7]\n"
     ]
    }
   ],
   "source": [
    "xx_inv = np.linalg.inv(np.dot(X.T,X))\n",
    "xy = np.dot(X.T,y)          \n",
    "beta_hat = np.dot(xx_inv,xy)\n",
    "print(beta_hat)"
   ]
  }
 ],
 "metadata": {
  "colab": {
   "authorship_tag": "ABX9TyNAM3jeIJuJuBIxlkkgO4T5",
   "collapsed_sections": [],
   "name": "Homework1(problem).ipynb",
   "provenance": []
  },
  "kernelspec": {
   "display_name": "Python 3",
   "language": "python",
   "name": "python3"
  },
  "language_info": {
   "codemirror_mode": {
    "name": "ipython",
    "version": 3
   },
   "file_extension": ".py",
   "mimetype": "text/x-python",
   "name": "python",
   "nbconvert_exporter": "python",
   "pygments_lexer": "ipython3",
   "version": "3.7.2"
  }
 },
 "nbformat": 4,
 "nbformat_minor": 1
}
