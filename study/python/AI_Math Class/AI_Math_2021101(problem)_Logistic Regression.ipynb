{
 "cells": [
  {
   "cell_type": "code",
   "execution_count": null,
   "metadata": {
    "id": "-tgEaZpOco9E"
   },
   "outputs": [],
   "source": [
    "import math\n",
    "import numpy as np\n",
    "import matplotlib.pyplot as plt\n",
    "from scipy import stats\n",
    "from sklearn.datasets import load_digits\n",
    "from sklearn.linear_model import LogisticRegression\n",
    "from sklearn.model_selection import train_test_split"
   ]
  },
  {
   "cell_type": "markdown",
   "metadata": {
    "id": "E68qrW54eVHL"
   },
   "source": [
    "숫자 이미지를 분류하는 문제를 풀고자 합니다. \n",
    "(0 이미지는 0으로, 1 이미지는 1로 분류 등)\n",
    "\n",
    "우리가 지금까지 배운 분류기 (classifier)는 logistic regression이 있죠?\n",
    "\n",
    "이번시간에는 logistic regression에 대해서 살펴보겠습니다.\n",
    "\n",
    "우선, scikit-learn을 활용해서 logistic regression을 수행해보겠습니다.\n",
    "\n",
    "해당 코드의 일부는 아래 링크를 참조하여 제작하였습니다.\n",
    "\n",
    "https://towardsdatascience.com/logistic-regression-using-python-sklearn-numpy-mnist-handwriting-recognition-matplotlib-a6b31e2b166a"
   ]
  },
  {
   "cell_type": "markdown",
   "metadata": {
    "id": "5i9awliFoHpu"
   },
   "source": [
    "우선, 데이터를 불러오겠습니다. "
   ]
  },
  {
   "cell_type": "code",
   "execution_count": null,
   "metadata": {
    "colab": {
     "base_uri": "https://localhost:8080/"
    },
    "id": "oLjLMNWRneRX",
    "outputId": "cfb8536c-a4c2-4e55-9dcd-d1b352b2e279"
   },
   "outputs": [
    {
     "name": "stdout",
     "output_type": "stream",
     "text": [
      "Image Data Shape (360, 64)\n",
      "Label Data Shape (360,)\n"
     ]
    }
   ],
   "source": [
    "digits = load_digits(n_class=2) # digits data load\n",
    "print(\"Image Data Shape\", digits.data.shape) # 350: the number of images, 64: shape (8 by 8 image)\n",
    "print(\"Label Data Shape\", digits.target.shape)"
   ]
  },
  {
   "cell_type": "markdown",
   "metadata": {
    "id": "qEKNjsLoEuUn"
   },
   "source": [
    "targets이 어떻게 생겼는지 확인해보겠습니다."
   ]
  },
  {
   "cell_type": "code",
   "execution_count": null,
   "metadata": {
    "colab": {
     "base_uri": "https://localhost:8080/"
    },
    "id": "hv4SHKp9wwTO",
    "outputId": "49ac8b71-b25b-4105-cdfa-658f90f50d45"
   },
   "outputs": [
    {
     "name": "stdout",
     "output_type": "stream",
     "text": [
      "[0 1 0 1 0 1 0 0 1 1 0 0 0 1 1 0 0 0 1 1 1 1 1 0 1 0 0 1 0 1 0 1 0 0 1 1 0\n",
      " 0 0 1 1 0 0 0 1 1 1 1 1 0 1 0 0 1 0 1 0 1 0 0 1 1 0 0 0 1 1 0 0 0 1 1 1 1\n",
      " 1 0 1 0 0 1 0 1 0 1 0 0 1 1 0 0 0 1 1 0 0 0 1 1 1 1 1 0 1 0 0 1 0 1 0 1 0\n",
      " 0 1 1 0 0 0 1 1 0 0 0 1 1 1 1 1 0 1 0 0 1 0 1 0 1 0 0 1 1 0 0 0 1 1 0 0 0\n",
      " 1 1 1 1 1 0 1 0 0 1 0 1 0 1 0 0 1 1 0 0 0 1 1 0 0 0 1 1 1 1 1 0 1 0 1 0 1\n",
      " 0 1 0 0 1 1 0 1 1 0 0 0 1 1 1 1 1 0 1 0 0 1 0 1 0 1 0 0 1 1 0 0 0 1 1 0 0\n",
      " 0 1 1 1 1 1 0 1 0 0 1 0 1 0 1 0 0 1 1 0 0 0 1 1 0 0 0 1 1 1 1 1 0 1 0 0 1\n",
      " 0 1 0 1 0 0 1 1 0 0 0 1 1 0 0 0 1 1 1 1 1 0 1 0 0 1 0 1 0 1 0 0 1 1 0 0 0\n",
      " 1 1 0 0 0 1 1 1 1 1 0 1 0 0 1 0 1 0 1 0 0 1 1 0 0 0 1 1 0 0 1 1 1 1 1 0 1\n",
      " 0 0 1 0 1 0 1 0 0 1 1 0 0 0 1 1 0 0 0 1 1 1 1 1 0 1 0]\n"
     ]
    }
   ],
   "source": [
    "print(digits.target)"
   ]
  },
  {
   "cell_type": "markdown",
   "metadata": {
    "id": "USMPbHEFojEs"
   },
   "source": [
    "우리에게 주어진 데이터가 어떠한 데이터인지 확인해보는 과정이 필요합니다.\n",
    "\n",
    "백문이불여일견 이라는 말이 있죠? 직접 눈으로 보는것이 가장 좋습니다.\n",
    "\n",
    "이번에는 image를 그려보겠습니다."
   ]
  },
  {
   "cell_type": "code",
   "execution_count": null,
   "metadata": {
    "colab": {
     "base_uri": "https://localhost:8080/",
     "height": 283
    },
    "id": "Il2_UEg4oFkW",
    "outputId": "abeb5781-e525-4394-d92b-3697944dadad"
   },
   "outputs": [
    {
     "data": {
      "image/png": "[encoded data removed]",
      "text/plain": [
       "<Figure size 1440x288 with 5 Axes>"
      ]
     },
     "metadata": {
      "needs_background": "light"
     },
     "output_type": "display_data"
    }
   ],
   "source": [
    "plt.figure(figsize=(20,4))\n",
    "for index, (image, label) in enumerate(zip(digits.data[0:5], digits.target[0:5])):\n",
    "  plt.subplot(1, 5, index + 1)\n",
    "  plt.imshow(np.reshape(image, (8,8)), cmap=plt.cm.gray)\n",
    "  plt.title('Training: %i\\n' % label, fontsize = 20)"
   ]
  },
  {
   "cell_type": "markdown",
   "metadata": {
    "id": "wEiw_wZbqoIK"
   },
   "source": [
    "이번에는 데이터를 0과 1사이의 숫자로 변환 시켜주겠습니다."
   ]
  },
  {
   "cell_type": "code",
   "execution_count": null,
   "metadata": {
    "id": "2o4RPB0oqt4p"
   },
   "outputs": [],
   "source": [
    "digits.data = digits.data/np.max(digits.data)"
   ]
  },
  {
   "cell_type": "markdown",
   "metadata": {
    "id": "N5XKAqNopvei"
   },
   "source": [
    "이번에는 Training Data와 Test Data로 나눠보겠습니다."
   ]
  },
  {
   "cell_type": "code",
   "execution_count": null,
   "metadata": {
    "id": "y1aZomDBoFv-"
   },
   "outputs": [],
   "source": [
    "x_train, x_test, y_train, y_test = train_test_split(digits.data, digits.target, test_size=0.25, random_state=0)\n",
    "y_train = y_train[:,np.newaxis] # (270,) => (270,1)\n",
    "y_test = y_test[:,np.newaxis] # (90,) => (90,1)"
   ]
  },
  {
   "cell_type": "markdown",
   "metadata": {
    "id": "Y1-iIKiZp4M4"
   },
   "source": [
    "Q1 이제 데이터는 준비가 완료되었습니다. Training data를 기반으로, Logistic regression의 parameter를 학습해보겠습니다."
   ]
  },
  {
   "cell_type": "code",
   "execution_count": null,
   "metadata": {
    "colab": {
     "base_uri": "https://localhost:8080/"
    },
    "id": "BtDpXNBvoF2b",
    "outputId": "8edbad35-259f-4db7-c0fc-b1cf787391f3"
   },
   "outputs": [
    {
     "name": "stderr",
     "output_type": "stream",
     "text": [
      "/usr/local/lib/python3.7/dist-packages/sklearn/utils/validation.py:760: DataConversionWarning: A column-vector y was passed when a 1d array was expected. Please change the shape of y to (n_samples, ), for example using ravel().\n",
      "  y = column_or_1d(y, warn=True)\n"
     ]
    },
    {
     "data": {
      "text/plain": [
       "LogisticRegression(C=1.0, class_weight=None, dual=False, fit_intercept=True,\n",
       "                   intercept_scaling=1, l1_ratio=None, max_iter=100,\n",
       "                   multi_class='auto', n_jobs=None, penalty='l2',\n",
       "                   random_state=None, solver='lbfgs', tol=0.0001, verbose=0,\n",
       "                   warm_start=False)"
      ]
     },
     "execution_count": 7,
     "metadata": {},
     "output_type": "execute_result"
    }
   ],
   "source": [
    "model = LogisticRegression()\n",
    "model.?????(x_train, y_train)"
   ]
  },
  {
   "cell_type": "markdown",
   "metadata": {
    "id": "Q7X43sjzsURq"
   },
   "source": [
    "Q2 이제는 학습완료된 Logistic Regression 모델을 가지고, Test 해보겠습니다."
   ]
  },
  {
   "cell_type": "code",
   "execution_count": null,
   "metadata": {
    "id": "cBEF3dfQeXrr"
   },
   "outputs": [],
   "source": [
    "predictions = model.?????(x_test)\n",
    "score = model.score(x_test, y_test) # accuracy"
   ]
  },
  {
   "cell_type": "markdown",
   "metadata": {
    "id": "CzyQ581jwSpO"
   },
   "source": [
    "이제는, 우리가 직접 logistic regression을 구현해보겠습니다.\n",
    "\n",
    "logistic regression의 gradient 부분은 제외하고 구현해보겠습니다."
   ]
  },
  {
   "cell_type": "markdown",
   "metadata": {
    "id": "da7mF8O5FfrL"
   },
   "source": [
    "먼저, 우리에게 필요한 sigmoid 함수를 직접 만들어보겠습니다."
   ]
  },
  {
   "cell_type": "code",
   "execution_count": null,
   "metadata": {
    "id": "s1PhCsv4FirM"
   },
   "outputs": [],
   "source": [
    "def sigmoid(x):\n",
    "    return 1 / (1 + np.exp(-x))"
   ]
  },
  {
   "cell_type": "markdown",
   "metadata": {
    "id": "bdARCio4J01M"
   },
   "source": [
    "Q3 이번에는 cost를 계산하는 함수를 만들어보겠습니다.\n",
    "\n",
    "데이터가 m개 있습니다.\n",
    "\n",
    "우리는 데이터 각각의 cost를 구해준 다음에, 그것들의 평균을 내보내줄 것입니다."
   ]
  },
  {
   "cell_type": "code",
   "execution_count": null,
   "metadata": {
    "id": "6Y_ylSh2wZEt"
   },
   "outputs": [],
   "source": [
    "def compute_cost(x_train,y_train,beta_hat):\n",
    "  # Lecture11 20p\n",
    "  m = len(y_train)\n",
    "  epsilon = 1e-5\n",
    "  cost = 0\n",
    "  for i in range(m):\n",
    "    x_beta = np.dot(x_train[i],beta_hat)\n",
    "    y_hat = ?????(x_beta)\n",
    "    cost = cost + -(y_train[i]*????? +(1-y_train[i])*?????)\n",
    "  cost = cost/m\n",
    "  return cost "
   ]
  },
  {
   "cell_type": "code",
   "execution_count": null,
   "metadata": {
    "id": "XmeE4brtHJTV"
   },
   "outputs": [],
   "source": [
    "def gradient_descent(x_train, y_train, params, learning_rate, iterations):\n",
    "  # Lecture11 22p\n",
    "    m = len(y_train)\n",
    "    cost_history = np.zeros((iterations,1))\n",
    "    for i in range(iterations):\n",
    "        params = params - (learning_rate/m) * (np.dot(x_train.T, (sigmoid(np.dot(x_train, params)) - y_train))) \n",
    "        cost_history[i] = compute_cost(x_train, y_train, params)\n",
    "\n",
    "    return (cost_history, params)"
   ]
  },
  {
   "cell_type": "markdown",
   "metadata": {
    "id": "oCzse6JGLayO"
   },
   "source": [
    "Q4. 추후에 test data에 대한 y 예측 (predict)에 활용됩니다."
   ]
  },
  {
   "cell_type": "code",
   "execution_count": null,
   "metadata": {
    "id": "OrIef_yfHPIj"
   },
   "outputs": [],
   "source": [
    "def predict(x_test, params):\n",
    "    # Lecture11 23p\n",
    "    return np.?????(sigmoid(np.dot(x_test,params)))"
   ]
  },
  {
   "cell_type": "code",
   "execution_count": null,
   "metadata": {
    "colab": {
     "base_uri": "https://localhost:8080/"
    },
    "id": "GUO0i98VHbXb",
    "outputId": "10adb24e-7641-48f0-d718-ab8069c86bac"
   },
   "outputs": [
    {
     "name": "stdout",
     "output_type": "stream",
     "text": [
      "Initial Cost is: [0.69312718] \n",
      "\n"
     ]
    }
   ],
   "source": [
    "iterations = 100\n",
    "learning_rate = 0.03\n",
    "n = np.size(x_train,1)\n",
    "beta_hat = np.zeros((n,1))\n",
    "initial_cost = compute_cost(x_train, y_train, beta_hat)\n",
    "print(\"Initial Cost is: {} \\n\".format(initial_cost))"
   ]
  },
  {
   "cell_type": "markdown",
   "metadata": {
    "id": "WMTXKuwlKiio"
   },
   "source": [
    "각각의 크기를 확인하는 것은, 코드를 이해하는데에 큰 도움이 됩니다."
   ]
  },
  {
   "cell_type": "code",
   "execution_count": null,
   "metadata": {
    "colab": {
     "base_uri": "https://localhost:8080/"
    },
    "id": "cxRKOZsBIUg3",
    "outputId": "c7c5a48a-a578-448d-d22c-f829122ffa32"
   },
   "outputs": [
    {
     "name": "stdout",
     "output_type": "stream",
     "text": [
      "(270, 64) (64, 1) (270, 1)\n"
     ]
    }
   ],
   "source": [
    "print(x_train.shape,beta_hat.shape,y_train.shape)"
   ]
  },
  {
   "cell_type": "code",
   "execution_count": null,
   "metadata": {
    "id": "uAyX7iTUHiKb"
   },
   "outputs": [],
   "source": [
    "(cost_history, beta_hat) = gradient_descent(x_train, y_train, beta_hat, learning_rate, iterations)"
   ]
  },
  {
   "cell_type": "markdown",
   "metadata": {
    "id": "2Y6DtNU2KuNT"
   },
   "source": [
    "Q5 이제 cost에 대한 그림을 그려보겠습니다.\n",
    "\n",
    "iteration이 지날수록 점점 cost가 줄어드는것이 보이시죠?"
   ]
  },
  {
   "cell_type": "code",
   "execution_count": null,
   "metadata": {
    "colab": {
     "base_uri": "https://localhost:8080/",
     "height": 287
    },
    "id": "0BzYb7eYIBtb",
    "outputId": "ebcf34c2-d1de-425f-b8cc-55b9ca85afec"
   },
   "outputs": [
    {
     "data": {
      "text/plain": [
       "[<matplotlib.lines.Line2D at 0x7fb3404c5d90>]"
      ]
     },
     "execution_count": 22,
     "metadata": {},
     "output_type": "execute_result"
    },
    {
     "data": {
      "image/png": "[encoded data removed]",
      "text/plain": [
       "<Figure size 432x288 with 1 Axes>"
      ]
     },
     "metadata": {
      "needs_background": "light"
     },
     "output_type": "display_data"
    }
   ],
   "source": [
    "?????"
   ]
  },
  {
   "cell_type": "markdown",
   "metadata": {
    "id": "eNluHdwmK3ds"
   },
   "source": [
    "이제 최적화된 parameter를 가지고, test 데이터에 대한 예측을 진행하겠습니다."
   ]
  },
  {
   "cell_type": "code",
   "execution_count": null,
   "metadata": {
    "colab": {
     "base_uri": "https://localhost:8080/"
    },
    "id": "5qHs6lVVJGYI",
    "outputId": "6126a7b2-a241-4133-bf02-95ad93140b2e"
   },
   "outputs": [
    {
     "name": "stdout",
     "output_type": "stream",
     "text": [
      "1.0\n"
     ]
    }
   ],
   "source": [
    "# Lecture11 23p\n",
    "y_pred = predict(x_test, beta_hat)\n",
    "score = float(sum(y_pred == y_test))/ float(len(y_test))\n",
    "print(score)"
   ]
  },
  {
   "cell_type": "markdown",
   "metadata": {
    "id": "imWL79DcJXrz"
   },
   "source": [
    "* 선형회귀에서는 에러를 minimize해주는 beta hat을 최적화 => 목적식인 $e'e$\n",
    "\n",
    "* 반면, 로지스틱 회귀에서는 역시 마찬가지로 Beta hat을 최적화하는게 목적인데 목적식이 $L_{CE}$ (loss는 cost임)\n",
    "\n",
    "어쨌든 학습할때 최적화의 대상은 모두 beta hat이고, 최적화의 목적함수라는게 따로 있는 것. (로지스틱 회귀에서 시험문제 3개 ; 강의 Or 코드)"
   ]
  },
  {
   "cell_type": "code",
   "execution_count": null,
   "metadata": {},
   "outputs": [],
   "source": []
  }
 ],
 "metadata": {
  "colab": {
   "collapsed_sections": [],
   "name": "AI_Math_2021101(problem).ipynb",
   "provenance": []
  },
  "kernelspec": {
   "display_name": "Python 3",
   "language": "python",
   "name": "python3"
  },
  "language_info": {
   "codemirror_mode": {
    "name": "ipython",
    "version": 3
   },
   "file_extension": ".py",
   "mimetype": "text/x-python",
   "name": "python",
   "nbconvert_exporter": "python",
   "pygments_lexer": "ipython3",
   "version": "3.7.2"
  }
 },
 "nbformat": 4,
 "nbformat_minor": 1
}
