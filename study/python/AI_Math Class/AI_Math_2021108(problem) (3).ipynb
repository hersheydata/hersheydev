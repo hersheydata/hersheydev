{
 "cells": [
  {
   "cell_type": "code",
   "execution_count": 9,
   "metadata": {
    "colab": {
     "base_uri": "https://localhost:8080/"
    },
    "executionInfo": {
     "elapsed": 445,
     "status": "ok",
     "timestamp": 1636257083450,
     "user": {
      "displayName": "Song Kyungwoo",
      "photoUrl": "https://lh3.googleusercontent.com/a/default-user=s64",
      "userId": "08023224894669606199"
     },
     "user_tz": -540
    },
    "id": "78nmjogachVj",
    "outputId": "18f52d76-f9a5-47c9-a6dc-5cfa4cb7f99d"
   },
   "outputs": [
    {
     "name": "stdout",
     "output_type": "stream",
     "text": [
      "/Users/heosangbeom/Desktop/4-2(!)/AI수학/math_ai_실습\n",
      "AI_Math_2021011(problem).ipynb      AI_Math_20211004(solution).ipynb\r\n",
      "AI_Math_2021011(solution).ipynb     AI_Math_2021101(problem).ipynb\r\n",
      "AI_Math_2021018(problem) (1).ipynb  AI_Math_2021101(solution).ipynb\r\n",
      "AI_Math_2021018(solution).ipynb     AI_Math_2021108(problem).ipynb\r\n",
      "AI_Math_20210913.ipynb              AI_Math_2021108(solution).ipynb\r\n",
      "AI_Math_20210927(problem) (1).ipynb Untitled.ipynb\r\n",
      "AI_Math_20210927(solution).ipynb    naive_baeys_data.csv\r\n",
      "AI_Math_20211004(problem).ipynb     purchase_data.csv\r\n"
     ]
    }
   ],
   "source": [
    "%cd /Users/heosangbeom/Desktop/4-2(!)/AI수학/math_ai_실습/\n",
    "!ls"
   ]
  },
  {
   "cell_type": "markdown",
   "metadata": {
    "id": "E68qrW54eVHL"
   },
   "source": [
    "이번시간에는 Naive Bayes 실습을 진행해보겠습니다."
   ]
  },
  {
   "cell_type": "code",
   "execution_count": 10,
   "metadata": {
    "id": "2plrf0XlcrF4"
   },
   "outputs": [],
   "source": [
    "import numpy as np\n",
    "import math\n",
    "import pandas as pd"
   ]
  },
  {
   "cell_type": "markdown",
   "metadata": {
    "id": "5i9awliFoHpu"
   },
   "source": [
    "1. 우선, 데이터를 불러와야 합니다.\n",
    "\n",
    "naive_baeys_data.csv 파일을 불러와보세요."
   ]
  },
  {
   "cell_type": "code",
   "execution_count": 11,
   "metadata": {
    "id": "oLjLMNWRneRX"
   },
   "outputs": [],
   "source": [
    "df = pd.read_csv('naive_baeys_data.csv')"
   ]
  },
  {
   "cell_type": "markdown",
   "metadata": {
    "id": "k5lRoJ84dVPO"
   },
   "source": [
    "2. 데이터가 어떻게 생겼는지 확인해보세요. (head 기능 있었죠?!)"
   ]
  },
  {
   "cell_type": "code",
   "execution_count": 12,
   "metadata": {
    "colab": {
     "base_uri": "https://localhost:8080/",
     "height": 143
    },
    "executionInfo": {
     "elapsed": 13,
     "status": "ok",
     "timestamp": 1636257083451,
     "user": {
      "displayName": "Song Kyungwoo",
      "photoUrl": "https://lh3.googleusercontent.com/a/default-user=s64",
      "userId": "08023224894669606199"
     },
     "user_tz": -540
    },
    "id": "hAveSrZxdYE0",
    "outputId": "94781b31-e200-4bdb-f74f-482ab9823669"
   },
   "outputs": [
    {
     "data": {
      "text/html": [
       "<div>\n",
       "<style scoped>\n",
       "    .dataframe tbody tr th:only-of-type {\n",
       "        vertical-align: middle;\n",
       "    }\n",
       "\n",
       "    .dataframe tbody tr th {\n",
       "        vertical-align: top;\n",
       "    }\n",
       "\n",
       "    .dataframe thead th {\n",
       "        text-align: right;\n",
       "    }\n",
       "</style>\n",
       "<table border=\"1\" class=\"dataframe\">\n",
       "  <thead>\n",
       "    <tr style=\"text-align: right;\">\n",
       "      <th></th>\n",
       "      <th>Outlook</th>\n",
       "      <th>Temp</th>\n",
       "      <th>Humidity</th>\n",
       "      <th>Windy</th>\n",
       "      <th>Play Golf</th>\n",
       "    </tr>\n",
       "  </thead>\n",
       "  <tbody>\n",
       "    <tr>\n",
       "      <th>0</th>\n",
       "      <td>Rainy</td>\n",
       "      <td>Hot</td>\n",
       "      <td>High</td>\n",
       "      <td>False</td>\n",
       "      <td>No</td>\n",
       "    </tr>\n",
       "    <tr>\n",
       "      <th>1</th>\n",
       "      <td>Rainy</td>\n",
       "      <td>Hot</td>\n",
       "      <td>High</td>\n",
       "      <td>True</td>\n",
       "      <td>No</td>\n",
       "    </tr>\n",
       "    <tr>\n",
       "      <th>2</th>\n",
       "      <td>Overcast</td>\n",
       "      <td>Hot</td>\n",
       "      <td>High</td>\n",
       "      <td>False</td>\n",
       "      <td>Yes</td>\n",
       "    </tr>\n",
       "  </tbody>\n",
       "</table>\n",
       "</div>"
      ],
      "text/plain": [
       "    Outlook Temp Humidity  Windy Play Golf\n",
       "0     Rainy  Hot     High  False        No\n",
       "1     Rainy  Hot     High   True        No\n",
       "2  Overcast  Hot     High  False       Yes"
      ]
     },
     "execution_count": 12,
     "metadata": {},
     "output_type": "execute_result"
    }
   ],
   "source": [
    "df.head(3)"
   ]
  },
  {
   "cell_type": "code",
   "execution_count": null,
   "metadata": {
    "colab": {
     "base_uri": "https://localhost:8080/"
    },
    "executionInfo": {
     "elapsed": 12,
     "status": "ok",
     "timestamp": 1636257083451,
     "user": {
      "displayName": "Song Kyungwoo",
      "photoUrl": "https://lh3.googleusercontent.com/a/default-user=s64",
      "userId": "08023224894669606199"
     },
     "user_tz": -540
    },
    "id": "YzYZM4JxehTo",
    "outputId": "a1680463-8fdd-4544-94f0-35e49abbee98"
   },
   "outputs": [
    {
     "name": "stdout",
     "output_type": "stream",
     "text": [
      "<class 'pandas.core.frame.DataFrame'>\n",
      "RangeIndex: 14 entries, 0 to 13\n",
      "Data columns (total 5 columns):\n",
      " #   Column     Non-Null Count  Dtype \n",
      "---  ------     --------------  ----- \n",
      " 0   Outlook    14 non-null     object\n",
      " 1   Temp       14 non-null     object\n",
      " 2   Humidity   14 non-null     object\n",
      " 3   Windy      14 non-null     bool  \n",
      " 4   Play Golf  14 non-null     object\n",
      "dtypes: bool(1), object(4)\n",
      "memory usage: 590.0+ bytes\n"
     ]
    }
   ],
   "source": [
    "df.info()"
   ]
  },
  {
   "cell_type": "code",
   "execution_count": 14,
   "metadata": {
    "id": "ABcVthX-e97X"
   },
   "outputs": [
    {
     "data": {
      "text/plain": [
       "Outlook      0\n",
       "Temp         0\n",
       "Humidity     0\n",
       "Windy        0\n",
       "Play Golf    0\n",
       "dtype: int64"
      ]
     },
     "execution_count": 14,
     "metadata": {},
     "output_type": "execute_result"
    }
   ],
   "source": [
    "df.isna().sum() #컬럼별 결측치 체크"
   ]
  },
  {
   "cell_type": "code",
   "execution_count": 15,
   "metadata": {},
   "outputs": [],
   "source": [
    "df = df.dropna() #결측치 있다면 제거"
   ]
  },
  {
   "cell_type": "markdown",
   "metadata": {
    "id": "psZ5KMW5dfG6"
   },
   "source": [
    "우리가 구하고 싶은 것은, (Rainy, Cool, High, True)일 때, Play Golf가 True일 확률을 구하는 것입니다. (MathAI_lecture13_20211108 17p)\n",
    "\n",
    "3. 우선, p(yes)를 구해보세요."
   ]
  },
  {
   "cell_type": "code",
   "execution_count": 17,
   "metadata": {
    "colab": {
     "base_uri": "https://localhost:8080/"
    },
    "executionInfo": {
     "elapsed": 11,
     "status": "ok",
     "timestamp": 1636257083451,
     "user": {
      "displayName": "Song Kyungwoo",
      "photoUrl": "https://lh3.googleusercontent.com/a/default-user=s64",
      "userId": "08023224894669606199"
     },
     "user_tz": -540
    },
    "id": "7kPoySQYddId",
    "outputId": "16f845ea-db25-4c0d-bcb1-a7f8d2a6d9b5"
   },
   "outputs": [
    {
     "name": "stdout",
     "output_type": "stream",
     "text": [
      "0.6428571428571429\n"
     ]
    }
   ],
   "source": [
    "num_data = len(df)\n",
    "num_yes = len(df[df[\"Play Golf\"] == \"Yes\"])\n",
    "p_yes = num_yes/num_data\n",
    "print(p_yes)"
   ]
  },
  {
   "cell_type": "markdown",
   "metadata": {
    "id": "4pQJ5MFHfHOL"
   },
   "source": [
    "## 베이즈 룰 시작\n",
    "4. 이번에는 p(Rainy|Yes)를 구해보겠습니다."
   ]
  },
  {
   "cell_type": "code",
   "execution_count": 28,
   "metadata": {
    "colab": {
     "base_uri": "https://localhost:8080/"
    },
    "executionInfo": {
     "elapsed": 12,
     "status": "ok",
     "timestamp": 1636257083452,
     "user": {
      "displayName": "Song Kyungwoo",
      "photoUrl": "https://lh3.googleusercontent.com/a/default-user=s64",
      "userId": "08023224894669606199"
     },
     "user_tz": -540
    },
    "id": "nkP6yZG9fG4P",
    "outputId": "53ed871d-914f-4147-b642-c6180de02ee6"
   },
   "outputs": [
    {
     "name": "stdout",
     "output_type": "stream",
     "text": [
      "0.2222222222222222\n"
     ]
    }
   ],
   "source": [
    "num_rainy_yes = len(df[(df[\"Outlook\"]==\"Rainy\") & (df[\"Play Golf\"]==\"Yes\")]) #df 복합 Filtering 문법 유의 df[() & ()] 형태로 소괄호 인자로 하나씩 필터 조건 받는다는 것\n",
    "p_rainy_yes = num_rainy_yes / num_yes\n",
    "print(p_rainy_yes)"
   ]
  },
  {
   "cell_type": "markdown",
   "metadata": {
    "id": "Mss00oqrf4E-"
   },
   "source": [
    "5. 이번에는 마찬가지로, p(cool|yes), p(high|yes), p(true|yes) 를 구해보세요."
   ]
  },
  {
   "cell_type": "code",
   "execution_count": 29,
   "metadata": {},
   "outputs": [
    {
     "data": {
      "text/html": [
       "<div>\n",
       "<style scoped>\n",
       "    .dataframe tbody tr th:only-of-type {\n",
       "        vertical-align: middle;\n",
       "    }\n",
       "\n",
       "    .dataframe tbody tr th {\n",
       "        vertical-align: top;\n",
       "    }\n",
       "\n",
       "    .dataframe thead th {\n",
       "        text-align: right;\n",
       "    }\n",
       "</style>\n",
       "<table border=\"1\" class=\"dataframe\">\n",
       "  <thead>\n",
       "    <tr style=\"text-align: right;\">\n",
       "      <th></th>\n",
       "      <th>Outlook</th>\n",
       "      <th>Temp</th>\n",
       "      <th>Humidity</th>\n",
       "      <th>Windy</th>\n",
       "      <th>Play Golf</th>\n",
       "    </tr>\n",
       "  </thead>\n",
       "  <tbody>\n",
       "    <tr>\n",
       "      <th>0</th>\n",
       "      <td>Rainy</td>\n",
       "      <td>Hot</td>\n",
       "      <td>High</td>\n",
       "      <td>False</td>\n",
       "      <td>No</td>\n",
       "    </tr>\n",
       "    <tr>\n",
       "      <th>1</th>\n",
       "      <td>Rainy</td>\n",
       "      <td>Hot</td>\n",
       "      <td>High</td>\n",
       "      <td>True</td>\n",
       "      <td>No</td>\n",
       "    </tr>\n",
       "    <tr>\n",
       "      <th>2</th>\n",
       "      <td>Overcast</td>\n",
       "      <td>Hot</td>\n",
       "      <td>High</td>\n",
       "      <td>False</td>\n",
       "      <td>Yes</td>\n",
       "    </tr>\n",
       "    <tr>\n",
       "      <th>3</th>\n",
       "      <td>Sunny</td>\n",
       "      <td>Mild</td>\n",
       "      <td>High</td>\n",
       "      <td>False</td>\n",
       "      <td>Yes</td>\n",
       "    </tr>\n",
       "    <tr>\n",
       "      <th>4</th>\n",
       "      <td>Sunny</td>\n",
       "      <td>Cool</td>\n",
       "      <td>Normal</td>\n",
       "      <td>False</td>\n",
       "      <td>Yes</td>\n",
       "    </tr>\n",
       "  </tbody>\n",
       "</table>\n",
       "</div>"
      ],
      "text/plain": [
       "    Outlook  Temp Humidity  Windy Play Golf\n",
       "0     Rainy   Hot     High  False        No\n",
       "1     Rainy   Hot     High   True        No\n",
       "2  Overcast   Hot     High  False       Yes\n",
       "3     Sunny  Mild     High  False       Yes\n",
       "4     Sunny  Cool   Normal  False       Yes"
      ]
     },
     "execution_count": 29,
     "metadata": {},
     "output_type": "execute_result"
    }
   ],
   "source": [
    "df.head()"
   ]
  },
  {
   "cell_type": "code",
   "execution_count": 34,
   "metadata": {
    "colab": {
     "base_uri": "https://localhost:8080/"
    },
    "executionInfo": {
     "elapsed": 11,
     "status": "ok",
     "timestamp": 1636257083452,
     "user": {
      "displayName": "Song Kyungwoo",
      "photoUrl": "https://lh3.googleusercontent.com/a/default-user=s64",
      "userId": "08023224894669606199"
     },
     "user_tz": -540
    },
    "id": "68SjvY8qfjs5",
    "outputId": "c1fd03bc-959f-4b5e-888f-4adc37c790ba"
   },
   "outputs": [
    {
     "name": "stdout",
     "output_type": "stream",
     "text": [
      "0.3333333333333333 0.3333333333333333 0.3333333333333333\n"
     ]
    }
   ],
   "source": [
    "num_cool_yes = len(df[(df[\"Temp\"]==\"Cool\") & (df[\"Play Golf\"]==\"Yes\")])\n",
    "p_cool_yes = num_cool_yes / num_yes\n",
    "\n",
    "num_high_yes = len(df[(df[\"Humidity\"]==\"High\") & (df[\"Play Golf\"]==\"Yes\")])\n",
    "p_high_yes = num_high_yes / num_yes \n",
    "\n",
    "num_true_yes = len(df[(df[\"Windy\"]==True) & (df[\"Play Golf\"]==\"Yes\")]) # bool type인데 내가 \"True\"라고 써줘서 자꾸 에러났었음 (!!)\n",
    "p_true_yes = num_true_yes / num_yes\n",
    "                      \n",
    "print(p_cool_yes, p_high_yes, p_true_yes)"
   ]
  },
  {
   "cell_type": "markdown",
   "metadata": {
    "id": "FT0mUMmIgwKC"
   },
   "source": [
    "6. 마지막으로, p(Yes|Rainy, Cool, High, True)를 구해보세요."
   ]
  },
  {
   "cell_type": "code",
   "execution_count": 35,
   "metadata": {
    "colab": {
     "base_uri": "https://localhost:8080/"
    },
    "executionInfo": {
     "elapsed": 10,
     "status": "ok",
     "timestamp": 1636257083452,
     "user": {
      "displayName": "Song Kyungwoo",
      "photoUrl": "https://lh3.googleusercontent.com/a/default-user=s64",
      "userId": "08023224894669606199"
     },
     "user_tz": -540
    },
    "id": "JgihhcxUgKbA",
    "outputId": "3d6f47b2-0984-4191-d56f-00e20ffe8a77"
   },
   "outputs": [
    {
     "name": "stdout",
     "output_type": "stream",
     "text": [
      "0.005291005291005291\n"
     ]
    }
   ],
   "source": [
    "prob = p_rainy_yes*p_cool_yes*p_high_yes*p_true_yes*p_yes\n",
    "print(prob)\n",
    "# lecture note p.17 !!\n",
    "# 분모에 feature x를 쓰는게 아니라 근사하는 값을 구해보자는 것 with Naive Bayes"
   ]
  },
  {
   "cell_type": "code",
   "execution_count": null,
   "metadata": {
    "id": "LIRtLgnPg9Jy"
   },
   "outputs": [],
   "source": []
  }
 ],
 "metadata": {
  "colab": {
   "authorship_tag": "ABX9TyMySvxpPWPSVlq/9Y6tu7Fi",
   "collapsed_sections": [],
   "name": "AI_Math_2021108(problem).ipynb",
   "provenance": []
  },
  "kernelspec": {
   "display_name": "Python 3",
   "language": "python",
   "name": "python3"
  },
  "language_info": {
   "codemirror_mode": {
    "name": "ipython",
    "version": 3
   },
   "file_extension": ".py",
   "mimetype": "text/x-python",
   "name": "python",
   "nbconvert_exporter": "python",
   "pygments_lexer": "ipython3",
   "version": "3.7.2"
  }
 },
 "nbformat": 4,
 "nbformat_minor": 1
}
