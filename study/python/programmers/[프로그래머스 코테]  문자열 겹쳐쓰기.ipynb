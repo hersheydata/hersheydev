{
 "cells": [
  {
   "cell_type": "markdown",
   "metadata": {},
   "source": [
    "## 문제 설명\n",
    "\n",
    "문자열 my_string, overwrite_string과 정수 s가 주어집니다. 문자열 my_string의 인덱스 s부터 overwrite_string의 길이만큼을 문자열 overwrite_string으로 바꾼 문자열을 return 하는 solution 함수를 작성해 주세요.\n",
    "\n",
    "### 제한사항\n",
    "my_string와 overwrite_string은 숫자와 알파벳으로 이루어져 있습니다.\n",
    "1 ≤ overwrite_string의 길이 ≤ my_string의 길이 ≤ 1,000\n",
    "0 ≤ s ≤ my_string의 길이 - overwrite_string의 길이\n",
    "\n",
    "## 입출력 예 설명\n",
    "### 입출력 예 #1\n",
    "\n",
    "예제 1번의 my_string에서 인덱스 2부터 overwrite_string의 길이만큼에 해당하는 부분은 \"11oWor1\"이고 이를 \"lloWorl\"로 바꾼 \"HelloWorld\"를 return 합니다.\n",
    "### 입출력 예 #2\n",
    "\n",
    "예제 2번의 my_string에서 인덱스 7부터 overwrite_string의 길이만큼에 해당하는 부분은 \"29b8UYP\"이고 이를 \"merS123\"로 바꾼 \"ProgrammerS123\"를 return 합니다."
   ]
  },
  {
   "cell_type": "markdown",
   "metadata": {},
   "source": [
    "## 정답"
   ]
  },
  {
   "cell_type": "code",
   "execution_count": null,
   "metadata": {},
   "outputs": [],
   "source": [
    "def solution(my_string, overwrite_string, s):\n",
    "\n",
    "    str_target = my_string[s:s+len(overwrite_string)]\n",
    "\n",
    "# string replace python\n",
    "# https://www.w3schools.com/python/ref_string_replace.asp \n",
    "\n",
    "    my_string = my_string.replace(str_target, overwrite_string)\n",
    "    \n",
    "    return my_string"
   ]
  },
  {
   "cell_type": "markdown",
   "metadata": {},
   "source": [
    "## 풀이 및 브레인스토밍\n",
    "\n",
    "문자열 인덱싱 및 넘버링 측면에서 헷갈리는게 항상 많다..\n",
    "\n",
    "인덱스 s번부터 s+len(overwrite_string)까지인지,\n",
    "\n",
    "인덱스 s번부터 s+len(overwrite_string)+1 까지인지, 헷갈려서..\n",
    "\n",
    "예시 텍스트를 가지고 분석한 뒤 논리를 일반화시키는 과정이 필요해보인다."
   ]
  },
  {
   "cell_type": "code",
   "execution_count": 2,
   "metadata": {},
   "outputs": [
    {
     "data": {
      "text/plain": [
       "'a'"
      ]
     },
     "execution_count": 2,
     "metadata": {},
     "output_type": "execute_result"
    }
   ],
   "source": [
    "mystr = \"asbd\"\n",
    "mystr[0]"
   ]
  },
  {
   "cell_type": "code",
   "execution_count": 6,
   "metadata": {},
   "outputs": [
    {
     "data": {
      "text/plain": [
       "'He'"
      ]
     },
     "execution_count": 6,
     "metadata": {},
     "output_type": "execute_result"
    }
   ],
   "source": [
    "my_string = \"He11o\"\n",
    "\n",
    "s = 2\n",
    "\n",
    "my_string[:2]"
   ]
  },
  {
   "cell_type": "code",
   "execution_count": 7,
   "metadata": {},
   "outputs": [
    {
     "ename": "TypeError",
     "evalue": "unsupported operand type(s) for -: 'str' and 'str'",
     "output_type": "error",
     "traceback": [
      "\u001b[0;31m---------------------------------------------------------------------------\u001b[0m",
      "\u001b[0;31mTypeError\u001b[0m                                 Traceback (most recent call last)",
      "\u001b[0;32m<ipython-input-7-a07a3680b544>\u001b[0m in \u001b[0;36m<module>\u001b[0;34m\u001b[0m\n\u001b[0;32m----> 1\u001b[0;31m \u001b[0;34m\"abc\"\u001b[0m \u001b[0;34m-\u001b[0m \u001b[0;34m\"c\"\u001b[0m\u001b[0;34m\u001b[0m\u001b[0;34m\u001b[0m\u001b[0m\n\u001b[0m",
      "\u001b[0;31mTypeError\u001b[0m: unsupported operand type(s) for -: 'str' and 'str'"
     ]
    }
   ],
   "source": [
    "\"abc\" - \"c\"\n",
    "\n",
    "# string 간의 연산은 불가능하다"
   ]
  },
  {
   "cell_type": "code",
   "execution_count": 16,
   "metadata": {},
   "outputs": [
    {
     "data": {
      "text/plain": [
       "'11oWor1'"
      ]
     },
     "execution_count": 16,
     "metadata": {},
     "output_type": "execute_result"
    }
   ],
   "source": [
    "my_string = \"He11oWor1d\"\n",
    "\n",
    "s = 2\n",
    "\n",
    "overwrite_string = \"lloWorl\"\n",
    "\n",
    "str_target = my_string[s:s+len(overwrite_string)]\n",
    "\n",
    "str_target\n",
    "\n",
    "# ctrl & / : 전체 주석처리 \n",
    "\n",
    "# # string replace python\n",
    "# # https://www.w3schools.com/python/ref_string_replace.asp \n",
    "\n",
    "# my_string.replace(str_target, overwrite_string)\n",
    "\n",
    "# return my_string"
   ]
  },
  {
   "cell_type": "code",
   "execution_count": 19,
   "metadata": {},
   "outputs": [
    {
     "data": {
      "text/plain": [
       "'bbcd'"
      ]
     },
     "execution_count": 19,
     "metadata": {},
     "output_type": "execute_result"
    }
   ],
   "source": [
    "# replace() 메서드를 사용하면 객체가 바로 변경되는줄 알았는데 그건 아니구나\n",
    "\n",
    "a = \"abcd\"\n",
    "\n",
    "a.replace(\"a\", \"b\")"
   ]
  },
  {
   "cell_type": "code",
   "execution_count": 20,
   "metadata": {},
   "outputs": [
    {
     "data": {
      "text/plain": [
       "'abcd'"
      ]
     },
     "execution_count": 20,
     "metadata": {},
     "output_type": "execute_result"
    }
   ],
   "source": [
    "a"
   ]
  }
 ],
 "metadata": {
  "kernelspec": {
   "display_name": "Python 3",
   "language": "python",
   "name": "python3"
  },
  "language_info": {
   "codemirror_mode": {
    "name": "ipython",
    "version": 3
   },
   "file_extension": ".py",
   "mimetype": "text/x-python",
   "name": "python",
   "nbconvert_exporter": "python",
   "pygments_lexer": "ipython3",
   "version": "3.7.2"
  }
 },
 "nbformat": 4,
 "nbformat_minor": 2
}
