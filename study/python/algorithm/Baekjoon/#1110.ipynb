{
 "cells": [
  {
   "cell_type": "markdown",
   "metadata": {},
   "source": [
    "## 1110.\n",
    "0보다 크거나 같고, 99보다 작거나 같은 정수가 주어질 때 다음과 같은 연산을 할 수 있다. 먼저 주어진 수가 10보다 작다면 앞에 0을 붙여 두 자리 수로 만들고, 각 자리의 숫자를 더한다. 그 다음, 주어진 수의 가장 오른쪽 자리 수와 앞에서 구한 합의 가장 오른쪽 자리 수를 이어 붙이면 새로운 수를 만들 수 있다. 다음 예를 보자.\n",
    "\n",
    "26부터 시작한다. 2+6 = 8이다. 새로운 수는 68이다. 6+8 = 14이다. 새로운 수는 84이다. 8+4 = 12이다. 새로운 수는 42이다. 4+2 = 6이다. 새로운 수는 26이다.\n",
    "\n",
    "위의 예는 4번만에 원래 수로 돌아올 수 있다. 따라서 26의 사이클의 길이는 4이다.\n",
    "\n",
    "N이 주어졌을 때, N의 사이클의 길이를 구하는 프로그램을 작성하시오."
   ]
  },
  {
   "cell_type": "code",
   "execution_count": 49,
   "metadata": {},
   "outputs": [],
   "source": [
    "import pandas as pd\n",
    "\n",
    "def return_cycle(n):\n",
    "    ls = []\n",
    "    \n",
    "    if n >= 10:\n",
    "        ls.append(n)\n",
    "        \n",
    "        for i in (0, 10**10):\n",
    "            ls[i] = ls[i-1][:1] + str(int(ls[n-1])[0]+ls[i-1][1])\n",
    "            ls.append(ls[i])\n",
    "    else: \n",
    "        \n",
    "    \n",
    "    print(count)\n",
    "    \n",
    "# https://www.freecodecamp.org/news/how-to-parse-a-string-in-python/\n",
    "# https://erikrood.com/Python_References/substring_python.html"
   ]
  },
  {
   "cell_type": "markdown",
   "metadata": {},
   "source": [
    "받아온 정수를 문자열 변환 및 파싱으로 처리하려고 했던 프로세스 & sequential 방정식으로 모델을 만들었는데... 인덱싱 오류로 인해 계속 실패 그래서 답을 봐버렸다\n",
    "\n",
    "\n",
    "=> 단, 문자열 파싱으로 풀이하려고 했던 방식은 아주 좋았음."
   ]
  },
  {
   "cell_type": "markdown",
   "metadata": {},
   "source": [
    "파이썬 풀이 답안 (대수 풀이가 진짜 깔끔하다...)\n",
    "https://wook-2124.tistory.com/222"
   ]
  },
  {
   "cell_type": "code",
   "execution_count": 80,
   "metadata": {},
   "outputs": [
    {
     "name": "stdout",
     "output_type": "stream",
     "text": [
      "10\n"
     ]
    }
   ],
   "source": [
    "# 산수(대수) 기준으로 풀이하는 방법\n",
    "n = int(input())\n",
    "num = n\n",
    "cnt = 0 #카운터 초기화\n",
    "\n",
    "while True:\n",
    "    a = num // 10 # 소숫점 버리고 몫만 가져오기 ex. 68을 10으로 나누면 6.8이므로 6만 가져오게 됨\n",
    "    b = num % 10 # 몫 버리고 나머지만 가져오기 ex. 68을 10으로 나누면 8이 남으므로 8 반환 \n",
    "    c = (a+b) % 10\n",
    "    num = (b*10) + c\n",
    "    \n",
    "    cnt = cnt+1\n",
    "    \n",
    "    if (num == n):\n",
    "        break"
   ]
  },
  {
   "cell_type": "code",
   "execution_count": null,
   "metadata": {},
   "outputs": [],
   "source": [
    "# 문자열(str) 기준으로 풀이하는 방법\n",
    "n = input()\n",
    "num = n \n",
    "cnt = 0\n",
    "\n",
    "while 1:\n",
    "    "
   ]
  },
  {
   "cell_type": "code",
   "execution_count": null,
   "metadata": {},
   "outputs": [],
   "source": [
    "min()"
   ]
  }
 ],
 "metadata": {
  "kernelspec": {
   "display_name": "Python 3",
   "language": "python",
   "name": "python3"
  },
  "language_info": {
   "codemirror_mode": {
    "name": "ipython",
    "version": 3
   },
   "file_extension": ".py",
   "mimetype": "text/x-python",
   "name": "python",
   "nbconvert_exporter": "python",
   "pygments_lexer": "ipython3",
   "version": "3.7.2"
  }
 },
 "nbformat": 4,
 "nbformat_minor": 2
}
