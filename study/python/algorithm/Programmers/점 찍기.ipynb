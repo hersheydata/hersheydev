{
 "cells": [
  {
   "cell_type": "code",
   "execution_count": 75,
   "metadata": {},
   "outputs": [],
   "source": [
    "import numpy as np\n",
    "a = 0\n",
    "b = 0\n",
    "dot = []\n",
    "\n",
    "while (a*k**2+b*k**2)**(1/2) <= d:#유클리디안 거리로 원점과의 거리 조건 설정\n",
    "    dot.append((a*k, b*k)) # (x,y) 좌표 둘다 찍을 때\n",
    "    dot.append((a*k, 0)) # x값만 좌표 찍을 때\n",
    "    dot.append((0, b*k)) # y값만 좌표 찍을 때\n",
    "\n",
    "    a += 1\n",
    "    b += 1  \n",
    "\n",
    "answer = len(np.unique(dot))"
   ]
  },
  {
   "cell_type": "code",
   "execution_count": 79,
   "metadata": {},
   "outputs": [
    {
     "data": {
      "text/plain": [
       "[(0, 0), (0, 0), (0, 0), (2, 2), (2, 0), (0, 2), (4, 4), (4, 0), (0, 4)]"
      ]
     },
     "execution_count": 79,
     "metadata": {},
     "output_type": "execute_result"
    }
   ],
   "source": [
    "dot"
   ]
  },
  {
   "cell_type": "code",
   "execution_count": null,
   "metadata": {},
   "outputs": [],
   "source": [
    "# np.unique()는 unique한 \"실수값\"만 찾아냄 (not 튜플, 리스트)"
   ]
  }
 ],
 "metadata": {
  "kernelspec": {
   "display_name": "Python 3",
   "language": "python",
   "name": "python3"
  },
  "language_info": {
   "codemirror_mode": {
    "name": "ipython",
    "version": 3
   },
   "file_extension": ".py",
   "mimetype": "text/x-python",
   "name": "python",
   "nbconvert_exporter": "python",
   "pygments_lexer": "ipython3",
   "version": "3.7.2"
  }
 },
 "nbformat": 4,
 "nbformat_minor": 2
}
